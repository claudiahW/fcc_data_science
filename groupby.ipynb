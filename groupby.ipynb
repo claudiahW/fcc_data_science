{
 "cells": [
  {
   "cell_type": "code",
   "execution_count": 1,
   "id": "4c9fd221",
   "metadata": {},
   "outputs": [],
   "source": [
    "# load necessary imports and packages\n",
    "\n",
    "import pandas as pd, numpy as np, matplotlib.pyplot as plt, seaborn as sns, statsmodels.api as sm, scipy.stats as stats, math, random, time, datetime, warnings, os, sys, re"
   ]
  },
  {
   "cell_type": "code",
   "execution_count": 2,
   "id": "d5a5f9f2",
   "metadata": {},
   "outputs": [
    {
     "data": {
      "application/vnd.microsoft.datawrangler.viewer.v0+json": {
       "columns": [
        {
         "name": "index",
         "rawType": "int64",
         "type": "integer"
        },
        {
         "name": "Manufacturer",
         "rawType": "object",
         "type": "string"
        },
        {
         "name": "Model",
         "rawType": "object",
         "type": "string"
        },
        {
         "name": "Sales_in_thousands",
         "rawType": "float64",
         "type": "float"
        },
        {
         "name": "__year_resale_value",
         "rawType": "float64",
         "type": "float"
        },
        {
         "name": "Vehicle_type",
         "rawType": "object",
         "type": "string"
        },
        {
         "name": "Price_in_thousands",
         "rawType": "float64",
         "type": "float"
        },
        {
         "name": "Engine_size",
         "rawType": "float64",
         "type": "float"
        },
        {
         "name": "Horsepower",
         "rawType": "float64",
         "type": "float"
        },
        {
         "name": "Wheelbase",
         "rawType": "float64",
         "type": "float"
        },
        {
         "name": "Width",
         "rawType": "float64",
         "type": "float"
        },
        {
         "name": "Length",
         "rawType": "float64",
         "type": "float"
        },
        {
         "name": "Curb_weight",
         "rawType": "float64",
         "type": "float"
        },
        {
         "name": "Fuel_capacity",
         "rawType": "float64",
         "type": "float"
        },
        {
         "name": "Fuel_efficiency",
         "rawType": "float64",
         "type": "float"
        },
        {
         "name": "Latest_Launch",
         "rawType": "object",
         "type": "string"
        },
        {
         "name": "Power_perf_factor",
         "rawType": "float64",
         "type": "float"
        }
       ],
       "ref": "92e49a8e-ee71-4ec3-9020-f69bb8c370cc",
       "rows": [
        [
         "0",
         "Acura",
         "Integra",
         "16.919",
         "16.36",
         "Passenger",
         "21.5",
         "1.8",
         "140.0",
         "101.2",
         "67.3",
         "172.4",
         "2.639",
         "13.2",
         "28.0",
         "2/2/2012",
         "58.28014952"
        ],
        [
         "1",
         "Acura",
         "TL",
         "39.384",
         "19.875",
         "Passenger",
         "28.4",
         "3.2",
         "225.0",
         "108.1",
         "70.3",
         "192.9",
         "3.517",
         "17.2",
         "25.0",
         "6/3/2011",
         "91.37077766"
        ],
        [
         "2",
         "Acura",
         "CL",
         "14.114",
         "18.225",
         "Passenger",
         null,
         "3.2",
         "225.0",
         "106.9",
         "70.6",
         "192.0",
         "3.47",
         "17.2",
         "26.0",
         "1/4/2012",
         null
        ],
        [
         "3",
         "Acura",
         "RL",
         "8.588",
         "29.725",
         "Passenger",
         "42.0",
         "3.5",
         "210.0",
         "114.6",
         "71.4",
         "196.6",
         "3.85",
         "18.0",
         "22.0",
         "3/10/2011",
         "91.38977933"
        ],
        [
         "4",
         "Audi",
         "A4",
         "20.397",
         "22.255",
         "Passenger",
         "23.99",
         "1.8",
         "150.0",
         "102.6",
         "68.2",
         "178.0",
         "2.998",
         "16.4",
         "27.0",
         "10/8/2011",
         "62.7776392"
        ],
        [
         "5",
         "Audi",
         "A6",
         "18.78",
         "23.555",
         "Passenger",
         "33.95",
         "2.8",
         "200.0",
         "108.7",
         "76.1",
         "192.0",
         "3.561",
         "18.5",
         "22.0",
         "8/9/2011",
         "84.56510502"
        ],
        [
         "6",
         "Audi",
         "A8",
         "1.38",
         "39.0",
         "Passenger",
         "62.0",
         "4.2",
         "310.0",
         "113.0",
         "74.0",
         "198.2",
         "3.902",
         "23.7",
         "21.0",
         "2/27/2012",
         "134.6568582"
        ],
        [
         "7",
         "BMW",
         "323i",
         "19.747",
         null,
         "Passenger",
         "26.99",
         "2.5",
         "170.0",
         "107.3",
         "68.4",
         "176.0",
         "3.179",
         "16.6",
         "26.0",
         "6/28/2011",
         "71.19120671"
        ],
        [
         "8",
         "BMW",
         "328i",
         "9.231",
         "28.675",
         "Passenger",
         "33.4",
         "2.8",
         "193.0",
         "107.3",
         "68.5",
         "176.0",
         "3.197",
         "16.6",
         "24.0",
         "1/29/2012",
         "81.87706856"
        ],
        [
         "9",
         "BMW",
         "528i",
         "17.527",
         "36.125",
         "Passenger",
         "38.9",
         "2.8",
         "193.0",
         "111.4",
         "70.9",
         "188.0",
         "3.472",
         "18.5",
         "25.0",
         "4/4/2011",
         "83.9987238"
        ],
        [
         "10",
         "Buick",
         "Century",
         "91.561",
         "12.475",
         "Passenger",
         "21.975",
         "3.1",
         "175.0",
         "109.0",
         "72.7",
         "194.6",
         "3.368",
         "17.5",
         "25.0",
         "11/2/2011",
         "71.18145132"
        ],
        [
         "11",
         "Buick",
         "Regal",
         "39.35",
         "13.74",
         "Passenger",
         "25.3",
         "3.8",
         "240.0",
         "109.0",
         "72.7",
         "196.2",
         "3.543",
         "17.5",
         "23.0",
         "9/3/2011",
         "95.63670253"
        ],
        [
         "12",
         "Buick",
         "Park Avenue",
         "27.851",
         "20.19",
         "Passenger",
         "31.965",
         "3.8",
         "205.0",
         "113.8",
         "74.7",
         "206.8",
         "3.778",
         "18.5",
         "24.0",
         "3/23/2012",
         "85.82840825"
        ],
        [
         "13",
         "Buick",
         "LeSabre",
         "83.257",
         "13.36",
         "Passenger",
         "27.885",
         "3.8",
         "205.0",
         "112.2",
         "73.5",
         "200.0",
         "3.591",
         "17.5",
         "25.0",
         "7/23/2011",
         "84.25452581"
        ],
        [
         "14",
         "Cadillac",
         "DeVille",
         "63.729",
         "22.525",
         "Passenger",
         "39.895",
         "4.6",
         "275.0",
         "115.3",
         "74.5",
         "207.2",
         "3.978",
         "18.5",
         "22.0",
         "2/23/2012",
         "113.8545976"
        ],
        [
         "15",
         "Cadillac",
         "Seville",
         "15.943",
         "27.1",
         "Passenger",
         "44.475",
         "4.6",
         "275.0",
         "112.2",
         "75.0",
         "201.0",
         null,
         "18.5",
         "22.0",
         "4/29/2011",
         "115.6213578"
        ],
        [
         "16",
         "Cadillac",
         "Eldorado",
         "6.536",
         "25.725",
         "Passenger",
         "39.665",
         "4.6",
         "275.0",
         "108.0",
         "75.5",
         "200.6",
         "3.843",
         "19.0",
         "22.0",
         "11/27/2011",
         "113.7658739"
        ],
        [
         "17",
         "Cadillac",
         "Catera",
         "11.185",
         "18.225",
         "Passenger",
         "31.01",
         "3.0",
         "200.0",
         "107.4",
         "70.3",
         "194.8",
         "3.77",
         "18.0",
         "22.0",
         "9/28/2011",
         "83.48309358"
        ],
        [
         "18",
         "Cadillac",
         "Escalade",
         "14.785",
         null,
         "Car",
         "46.225",
         "5.7",
         "255.0",
         "117.5",
         "77.0",
         "201.2",
         "5.572",
         "30.0",
         "15.0",
         "4/17/2012",
         "109.5091165"
        ],
        [
         "19",
         "Chevrolet",
         "Cavalier",
         "145.519",
         "9.25",
         "Passenger",
         "13.26",
         "2.2",
         "115.0",
         "104.1",
         "67.9",
         "180.9",
         "2.676",
         "14.3",
         "27.0",
         "8/17/2011",
         "46.36334747"
        ],
        [
         "20",
         "Chevrolet",
         "Malibu",
         "135.126",
         "11.225",
         "Passenger",
         "16.535",
         "3.1",
         "170.0",
         "107.0",
         "69.4",
         "190.4",
         "3.051",
         "15.0",
         "25.0",
         "3/19/2012",
         "67.31446216"
        ],
        [
         "21",
         "Chevrolet",
         "Lumina",
         "24.629",
         "10.31",
         "Passenger",
         "18.89",
         "3.1",
         "175.0",
         "107.5",
         "72.5",
         "200.9",
         "3.33",
         "16.6",
         "25.0",
         "5/24/2011",
         "69.9913956"
        ],
        [
         "22",
         "Chevrolet",
         "Monte Carlo",
         "42.593",
         "11.525",
         "Passenger",
         "19.39",
         "3.4",
         "180.0",
         "110.5",
         "72.7",
         "197.9",
         "3.34",
         "17.0",
         "27.0",
         "12/22/2011",
         "72.03091719"
        ],
        [
         "23",
         "Chevrolet",
         "Camaro",
         "26.402",
         "13.025",
         "Passenger",
         "24.34",
         "3.8",
         "200.0",
         "101.1",
         "74.1",
         "193.2",
         "3.5",
         "16.8",
         "25.0",
         "10/23/2011",
         "81.11854333"
        ],
        [
         "24",
         "Chevrolet",
         "Corvette",
         "17.947",
         "36.225",
         "Passenger",
         "45.705",
         "5.7",
         "345.0",
         "104.5",
         "73.6",
         "179.7",
         "3.21",
         "19.1",
         "22.0",
         "5/12/2012",
         "141.14115"
        ],
        [
         "25",
         "Chevrolet",
         "Prizm",
         "32.299",
         "9.125",
         "Passenger",
         "13.96",
         "1.8",
         "120.0",
         "97.1",
         "66.7",
         "174.3",
         "2.398",
         "13.2",
         "33.0",
         "9/11/2011",
         "48.2976361"
        ],
        [
         "26",
         "Chevrolet",
         "Metro",
         "21.855",
         "5.16",
         "Passenger",
         "9.235",
         "1.0",
         "55.0",
         "93.1",
         "62.6",
         "149.4",
         "1.895",
         "10.3",
         "45.0",
         "4/13/2012",
         "23.27627233"
        ],
        [
         "27",
         "Chevrolet",
         "Impala",
         "107.995",
         null,
         "Passenger",
         "18.89",
         "3.4",
         "180.0",
         "110.5",
         "73.0",
         "200.0",
         "3.389",
         "17.0",
         "27.0",
         "6/18/2011",
         "71.83803944"
        ],
        [
         "28",
         "Chrysler",
         "Sebring Coupe",
         "7.854",
         "12.36",
         "Passenger",
         "19.84",
         "2.5",
         "163.0",
         "103.7",
         "69.7",
         "190.9",
         "2.967",
         "15.9",
         "24.0",
         "1/16/2012",
         "65.95718396"
        ],
        [
         "29",
         "Chrysler",
         "Sebring Conv.",
         "32.775",
         "14.18",
         "Passenger",
         "24.495",
         "2.5",
         "168.0",
         "106.0",
         "69.2",
         "193.0",
         "3.332",
         "16.0",
         "24.0",
         "11/17/2011",
         "69.52135505"
        ],
        [
         "30",
         "Chrysler",
         "Concorde",
         "31.148",
         "13.725",
         "Passenger",
         "22.245",
         "2.7",
         "200.0",
         "113.0",
         "74.4",
         "209.1",
         "3.452",
         "17.0",
         "26.0",
         "6/6/2012",
         "80.02378204"
        ],
        [
         "31",
         "Chrysler",
         "Cirrus",
         "32.306",
         "12.64",
         "Passenger",
         "16.48",
         "2.0",
         "132.0",
         "108.0",
         "71.0",
         "186.0",
         "2.911",
         "16.0",
         "27.0",
         "10/6/2011",
         "53.56619987"
        ],
        [
         "32",
         "Chrysler",
         "LHS",
         "13.462",
         "17.325",
         "Passenger",
         "28.34",
         "3.5",
         "253.0",
         "113.0",
         "74.4",
         "207.7",
         "3.564",
         "17.0",
         "23.0",
         "5/8/2012",
         "101.3292807"
        ],
        [
         "33",
         "Chrysler",
         "Town & Country",
         "53.48",
         "19.54",
         "Car",
         null,
         null,
         null,
         null,
         null,
         null,
         null,
         null,
         null,
         "7/13/2011",
         null
        ],
        [
         "34",
         "Chrysler",
         "300M",
         "30.696",
         null,
         "Passenger",
         "29.185",
         "3.5",
         "253.0",
         "113.0",
         "74.4",
         "197.8",
         "3.567",
         "17.0",
         "23.0",
         "2/10/2012",
         "101.6552441"
        ],
        [
         "35",
         "Dodge",
         "Neon",
         "76.034",
         "7.75",
         "Passenger",
         "12.64",
         "2.0",
         "132.0",
         "105.0",
         "74.4",
         "174.4",
         "2.567",
         "12.5",
         "29.0",
         "12/12/2011",
         "52.08489875"
        ],
        [
         "36",
         "Dodge",
         "Avenger",
         "4.734",
         "12.545",
         "Passenger",
         "19.045",
         "2.5",
         "163.0",
         "103.7",
         "69.1",
         "190.2",
         "2.879",
         "15.9",
         "24.0",
         "7/1/2012",
         "65.65050834"
        ],
        [
         "37",
         "Dodge",
         "Stratus",
         "71.186",
         "10.185",
         "Passenger",
         "20.23",
         "2.5",
         "168.0",
         "108.0",
         "71.0",
         "186.0",
         "3.058",
         "16.0",
         "24.0",
         "10/31/2011",
         "67.87610784"
        ],
        [
         "38",
         "Dodge",
         "Intrepid",
         "88.028",
         "12.275",
         "Passenger",
         "22.505",
         "2.7",
         "202.0",
         "113.0",
         "74.7",
         "203.7",
         "3.489",
         "17.0",
         null,
         "6/2/2012",
         "80.83147017"
        ],
        [
         "39",
         "Dodge",
         "Viper",
         "0.916",
         "58.47",
         "Passenger",
         "69.725",
         "8.0",
         "450.0",
         "96.2",
         "75.7",
         "176.7",
         "3.375",
         "19.0",
         "16.0",
         "8/7/2011",
         "188.144323"
        ],
        [
         "40",
         "Dodge",
         "Ram Pickup",
         "227.061",
         "15.06",
         "Car",
         "19.46",
         "5.2",
         "230.0",
         "138.7",
         "79.3",
         "224.2",
         "4.47",
         "26.0",
         "17.0",
         "3/6/2012",
         "90.21170005"
        ],
        [
         "41",
         "Dodge",
         "Ram Wagon",
         "16.767",
         "15.51",
         "Car",
         "21.315",
         "3.9",
         "175.0",
         "109.6",
         "78.8",
         "192.6",
         "4.245",
         "32.0",
         "15.0",
         "1/6/2012",
         "71.13529161"
        ],
        [
         "42",
         "Dodge",
         "Ram Van",
         "31.038",
         "13.425",
         "Car",
         "18.575",
         "3.9",
         "175.0",
         "127.2",
         "78.8",
         "208.5",
         "4.298",
         "32.0",
         "16.0",
         "7/26/2012",
         "70.07832154"
        ],
        [
         "43",
         "Dodge",
         "Dakota",
         "111.313",
         "11.26",
         "Car",
         "16.98",
         "2.5",
         "120.0",
         "131.0",
         "71.5",
         "215.0",
         "3.557",
         "22.0",
         "19.0",
         "11/25/2011",
         "49.64500177"
        ],
        [
         "44",
         "Dodge",
         "Durango",
         "101.323",
         null,
         "Car",
         "26.31",
         "5.2",
         "230.0",
         "115.7",
         "71.7",
         "193.5",
         "4.394",
         "25.0",
         "17.0",
         "6/27/2012",
         "92.85412522"
        ],
        [
         "45",
         "Dodge",
         "Caravan",
         "181.749",
         "12.025",
         "Car",
         "19.565",
         "2.4",
         "150.0",
         "113.3",
         "76.8",
         "186.3",
         "3.533",
         "20.0",
         "24.0",
         "9/1/2011",
         "61.22700031"
        ],
        [
         "46",
         "Ford",
         "Escort",
         "70.227",
         "7.425",
         "Passenger",
         "12.07",
         "2.0",
         "110.0",
         "98.4",
         "67.0",
         "174.7",
         "2.468",
         "12.7",
         "30.0",
         "3/31/2012",
         "44.08370946"
        ],
        [
         "47",
         "Ford",
         "Mustang",
         "113.369",
         "12.76",
         "Passenger",
         "21.56",
         "3.8",
         "190.0",
         "101.3",
         "73.1",
         "183.2",
         "3.203",
         "15.7",
         "24.0",
         "1/31/2012",
         "76.50918456"
        ],
        [
         "48",
         "Ford",
         "Contour",
         "35.068",
         "8.835",
         "Passenger",
         "17.035",
         "2.5",
         "170.0",
         "106.5",
         "69.1",
         "184.6",
         "2.769",
         "15.0",
         "25.0",
         "8/20/2012",
         "67.35101072"
        ],
        [
         "49",
         "Ford",
         "Taurus",
         "245.815",
         "10.055",
         "Passenger",
         "17.885",
         "3.0",
         "155.0",
         "108.5",
         "73.0",
         "197.6",
         "3.368",
         "16.0",
         "24.0",
         "12/20/2011",
         "62.5037395"
        ]
       ],
       "shape": {
        "columns": 16,
        "rows": 157
       }
      },
      "text/html": [
       "<div>\n",
       "<style scoped>\n",
       "    .dataframe tbody tr th:only-of-type {\n",
       "        vertical-align: middle;\n",
       "    }\n",
       "\n",
       "    .dataframe tbody tr th {\n",
       "        vertical-align: top;\n",
       "    }\n",
       "\n",
       "    .dataframe thead th {\n",
       "        text-align: right;\n",
       "    }\n",
       "</style>\n",
       "<table border=\"1\" class=\"dataframe\">\n",
       "  <thead>\n",
       "    <tr style=\"text-align: right;\">\n",
       "      <th></th>\n",
       "      <th>Manufacturer</th>\n",
       "      <th>Model</th>\n",
       "      <th>Sales_in_thousands</th>\n",
       "      <th>__year_resale_value</th>\n",
       "      <th>Vehicle_type</th>\n",
       "      <th>Price_in_thousands</th>\n",
       "      <th>Engine_size</th>\n",
       "      <th>Horsepower</th>\n",
       "      <th>Wheelbase</th>\n",
       "      <th>Width</th>\n",
       "      <th>Length</th>\n",
       "      <th>Curb_weight</th>\n",
       "      <th>Fuel_capacity</th>\n",
       "      <th>Fuel_efficiency</th>\n",
       "      <th>Latest_Launch</th>\n",
       "      <th>Power_perf_factor</th>\n",
       "    </tr>\n",
       "  </thead>\n",
       "  <tbody>\n",
       "    <tr>\n",
       "      <th>0</th>\n",
       "      <td>Acura</td>\n",
       "      <td>Integra</td>\n",
       "      <td>16.919</td>\n",
       "      <td>16.360</td>\n",
       "      <td>Passenger</td>\n",
       "      <td>21.50</td>\n",
       "      <td>1.8</td>\n",
       "      <td>140.0</td>\n",
       "      <td>101.2</td>\n",
       "      <td>67.3</td>\n",
       "      <td>172.4</td>\n",
       "      <td>2.639</td>\n",
       "      <td>13.2</td>\n",
       "      <td>28.0</td>\n",
       "      <td>2/2/2012</td>\n",
       "      <td>58.280150</td>\n",
       "    </tr>\n",
       "    <tr>\n",
       "      <th>1</th>\n",
       "      <td>Acura</td>\n",
       "      <td>TL</td>\n",
       "      <td>39.384</td>\n",
       "      <td>19.875</td>\n",
       "      <td>Passenger</td>\n",
       "      <td>28.40</td>\n",
       "      <td>3.2</td>\n",
       "      <td>225.0</td>\n",
       "      <td>108.1</td>\n",
       "      <td>70.3</td>\n",
       "      <td>192.9</td>\n",
       "      <td>3.517</td>\n",
       "      <td>17.2</td>\n",
       "      <td>25.0</td>\n",
       "      <td>6/3/2011</td>\n",
       "      <td>91.370778</td>\n",
       "    </tr>\n",
       "    <tr>\n",
       "      <th>2</th>\n",
       "      <td>Acura</td>\n",
       "      <td>CL</td>\n",
       "      <td>14.114</td>\n",
       "      <td>18.225</td>\n",
       "      <td>Passenger</td>\n",
       "      <td>NaN</td>\n",
       "      <td>3.2</td>\n",
       "      <td>225.0</td>\n",
       "      <td>106.9</td>\n",
       "      <td>70.6</td>\n",
       "      <td>192.0</td>\n",
       "      <td>3.470</td>\n",
       "      <td>17.2</td>\n",
       "      <td>26.0</td>\n",
       "      <td>1/4/2012</td>\n",
       "      <td>NaN</td>\n",
       "    </tr>\n",
       "    <tr>\n",
       "      <th>3</th>\n",
       "      <td>Acura</td>\n",
       "      <td>RL</td>\n",
       "      <td>8.588</td>\n",
       "      <td>29.725</td>\n",
       "      <td>Passenger</td>\n",
       "      <td>42.00</td>\n",
       "      <td>3.5</td>\n",
       "      <td>210.0</td>\n",
       "      <td>114.6</td>\n",
       "      <td>71.4</td>\n",
       "      <td>196.6</td>\n",
       "      <td>3.850</td>\n",
       "      <td>18.0</td>\n",
       "      <td>22.0</td>\n",
       "      <td>3/10/2011</td>\n",
       "      <td>91.389779</td>\n",
       "    </tr>\n",
       "    <tr>\n",
       "      <th>4</th>\n",
       "      <td>Audi</td>\n",
       "      <td>A4</td>\n",
       "      <td>20.397</td>\n",
       "      <td>22.255</td>\n",
       "      <td>Passenger</td>\n",
       "      <td>23.99</td>\n",
       "      <td>1.8</td>\n",
       "      <td>150.0</td>\n",
       "      <td>102.6</td>\n",
       "      <td>68.2</td>\n",
       "      <td>178.0</td>\n",
       "      <td>2.998</td>\n",
       "      <td>16.4</td>\n",
       "      <td>27.0</td>\n",
       "      <td>10/8/2011</td>\n",
       "      <td>62.777639</td>\n",
       "    </tr>\n",
       "    <tr>\n",
       "      <th>...</th>\n",
       "      <td>...</td>\n",
       "      <td>...</td>\n",
       "      <td>...</td>\n",
       "      <td>...</td>\n",
       "      <td>...</td>\n",
       "      <td>...</td>\n",
       "      <td>...</td>\n",
       "      <td>...</td>\n",
       "      <td>...</td>\n",
       "      <td>...</td>\n",
       "      <td>...</td>\n",
       "      <td>...</td>\n",
       "      <td>...</td>\n",
       "      <td>...</td>\n",
       "      <td>...</td>\n",
       "      <td>...</td>\n",
       "    </tr>\n",
       "    <tr>\n",
       "      <th>152</th>\n",
       "      <td>Volvo</td>\n",
       "      <td>V40</td>\n",
       "      <td>3.545</td>\n",
       "      <td>NaN</td>\n",
       "      <td>Passenger</td>\n",
       "      <td>24.40</td>\n",
       "      <td>1.9</td>\n",
       "      <td>160.0</td>\n",
       "      <td>100.5</td>\n",
       "      <td>67.6</td>\n",
       "      <td>176.6</td>\n",
       "      <td>3.042</td>\n",
       "      <td>15.8</td>\n",
       "      <td>25.0</td>\n",
       "      <td>9/21/2011</td>\n",
       "      <td>66.498812</td>\n",
       "    </tr>\n",
       "    <tr>\n",
       "      <th>153</th>\n",
       "      <td>Volvo</td>\n",
       "      <td>S70</td>\n",
       "      <td>15.245</td>\n",
       "      <td>NaN</td>\n",
       "      <td>Passenger</td>\n",
       "      <td>27.50</td>\n",
       "      <td>2.4</td>\n",
       "      <td>168.0</td>\n",
       "      <td>104.9</td>\n",
       "      <td>69.3</td>\n",
       "      <td>185.9</td>\n",
       "      <td>3.208</td>\n",
       "      <td>17.9</td>\n",
       "      <td>25.0</td>\n",
       "      <td>11/24/2012</td>\n",
       "      <td>70.654495</td>\n",
       "    </tr>\n",
       "    <tr>\n",
       "      <th>154</th>\n",
       "      <td>Volvo</td>\n",
       "      <td>V70</td>\n",
       "      <td>17.531</td>\n",
       "      <td>NaN</td>\n",
       "      <td>Passenger</td>\n",
       "      <td>28.80</td>\n",
       "      <td>2.4</td>\n",
       "      <td>168.0</td>\n",
       "      <td>104.9</td>\n",
       "      <td>69.3</td>\n",
       "      <td>186.2</td>\n",
       "      <td>3.259</td>\n",
       "      <td>17.9</td>\n",
       "      <td>25.0</td>\n",
       "      <td>6/25/2011</td>\n",
       "      <td>71.155978</td>\n",
       "    </tr>\n",
       "    <tr>\n",
       "      <th>155</th>\n",
       "      <td>Volvo</td>\n",
       "      <td>C70</td>\n",
       "      <td>3.493</td>\n",
       "      <td>NaN</td>\n",
       "      <td>Passenger</td>\n",
       "      <td>45.50</td>\n",
       "      <td>2.3</td>\n",
       "      <td>236.0</td>\n",
       "      <td>104.9</td>\n",
       "      <td>71.5</td>\n",
       "      <td>185.7</td>\n",
       "      <td>3.601</td>\n",
       "      <td>18.5</td>\n",
       "      <td>23.0</td>\n",
       "      <td>4/26/2011</td>\n",
       "      <td>101.623357</td>\n",
       "    </tr>\n",
       "    <tr>\n",
       "      <th>156</th>\n",
       "      <td>Volvo</td>\n",
       "      <td>S80</td>\n",
       "      <td>18.969</td>\n",
       "      <td>NaN</td>\n",
       "      <td>Passenger</td>\n",
       "      <td>36.00</td>\n",
       "      <td>2.9</td>\n",
       "      <td>201.0</td>\n",
       "      <td>109.9</td>\n",
       "      <td>72.1</td>\n",
       "      <td>189.8</td>\n",
       "      <td>3.600</td>\n",
       "      <td>21.1</td>\n",
       "      <td>24.0</td>\n",
       "      <td>11/14/2011</td>\n",
       "      <td>85.735655</td>\n",
       "    </tr>\n",
       "  </tbody>\n",
       "</table>\n",
       "<p>157 rows × 16 columns</p>\n",
       "</div>"
      ],
      "text/plain": [
       "    Manufacturer    Model  Sales_in_thousands  __year_resale_value  \\\n",
       "0          Acura  Integra              16.919               16.360   \n",
       "1          Acura       TL              39.384               19.875   \n",
       "2          Acura       CL              14.114               18.225   \n",
       "3          Acura       RL               8.588               29.725   \n",
       "4           Audi       A4              20.397               22.255   \n",
       "..           ...      ...                 ...                  ...   \n",
       "152        Volvo      V40               3.545                  NaN   \n",
       "153        Volvo      S70              15.245                  NaN   \n",
       "154        Volvo      V70              17.531                  NaN   \n",
       "155        Volvo      C70               3.493                  NaN   \n",
       "156        Volvo      S80              18.969                  NaN   \n",
       "\n",
       "    Vehicle_type  Price_in_thousands  Engine_size  Horsepower  Wheelbase  \\\n",
       "0      Passenger               21.50          1.8       140.0      101.2   \n",
       "1      Passenger               28.40          3.2       225.0      108.1   \n",
       "2      Passenger                 NaN          3.2       225.0      106.9   \n",
       "3      Passenger               42.00          3.5       210.0      114.6   \n",
       "4      Passenger               23.99          1.8       150.0      102.6   \n",
       "..           ...                 ...          ...         ...        ...   \n",
       "152    Passenger               24.40          1.9       160.0      100.5   \n",
       "153    Passenger               27.50          2.4       168.0      104.9   \n",
       "154    Passenger               28.80          2.4       168.0      104.9   \n",
       "155    Passenger               45.50          2.3       236.0      104.9   \n",
       "156    Passenger               36.00          2.9       201.0      109.9   \n",
       "\n",
       "     Width  Length  Curb_weight  Fuel_capacity  Fuel_efficiency Latest_Launch  \\\n",
       "0     67.3   172.4        2.639           13.2             28.0      2/2/2012   \n",
       "1     70.3   192.9        3.517           17.2             25.0      6/3/2011   \n",
       "2     70.6   192.0        3.470           17.2             26.0      1/4/2012   \n",
       "3     71.4   196.6        3.850           18.0             22.0     3/10/2011   \n",
       "4     68.2   178.0        2.998           16.4             27.0     10/8/2011   \n",
       "..     ...     ...          ...            ...              ...           ...   \n",
       "152   67.6   176.6        3.042           15.8             25.0     9/21/2011   \n",
       "153   69.3   185.9        3.208           17.9             25.0    11/24/2012   \n",
       "154   69.3   186.2        3.259           17.9             25.0     6/25/2011   \n",
       "155   71.5   185.7        3.601           18.5             23.0     4/26/2011   \n",
       "156   72.1   189.8        3.600           21.1             24.0    11/14/2011   \n",
       "\n",
       "     Power_perf_factor  \n",
       "0            58.280150  \n",
       "1            91.370778  \n",
       "2                  NaN  \n",
       "3            91.389779  \n",
       "4            62.777639  \n",
       "..                 ...  \n",
       "152          66.498812  \n",
       "153          70.654495  \n",
       "154          71.155978  \n",
       "155         101.623357  \n",
       "156          85.735655  \n",
       "\n",
       "[157 rows x 16 columns]"
      ]
     },
     "execution_count": 2,
     "metadata": {},
     "output_type": "execute_result"
    }
   ],
   "source": [
    "pd.read_csv(r'C:\\Users\\user\\Downloads\\Car_sales.csv')"
   ]
  },
  {
   "cell_type": "code",
   "execution_count": 4,
   "id": "f79c2cef",
   "metadata": {},
   "outputs": [],
   "source": [
    "# selecting columns\n",
    "\n",
    "df_cars =pd.read_csv(r'C:\\Users\\user\\Downloads\\Car_sales.csv')"
   ]
  },
  {
   "cell_type": "code",
   "execution_count": 6,
   "id": "2da92665",
   "metadata": {},
   "outputs": [
    {
     "data": {
      "application/vnd.microsoft.datawrangler.viewer.v0+json": {
       "columns": [
        {
         "name": "Vehicle_type",
         "rawType": "object",
         "type": "string"
        },
        {
         "name": "count",
         "rawType": "int64",
         "type": "integer"
        }
       ],
       "ref": "20660db8-169a-4455-a3f6-42d0123c6497",
       "rows": [
        [
         "Passenger",
         "116"
        ],
        [
         "Car",
         "41"
        ]
       ],
       "shape": {
        "columns": 1,
        "rows": 2
       }
      },
      "text/plain": [
       "Vehicle_type\n",
       "Passenger    116\n",
       "Car           41\n",
       "Name: count, dtype: int64"
      ]
     },
     "execution_count": 6,
     "metadata": {},
     "output_type": "execute_result"
    }
   ],
   "source": [
    "df_cars['Vehicle_type'].value_counts()"
   ]
  },
  {
   "cell_type": "code",
   "execution_count": 5,
   "id": "d3c6da99",
   "metadata": {},
   "outputs": [
    {
     "data": {
      "text/plain": [
       "Index(['Manufacturer', 'Model', 'Sales_in_thousands', '__year_resale_value',\n",
       "       'Vehicle_type', 'Price_in_thousands', 'Engine_size', 'Horsepower',\n",
       "       'Wheelbase', 'Width', 'Length', 'Curb_weight', 'Fuel_capacity',\n",
       "       'Fuel_efficiency', 'Latest_Launch', 'Power_perf_factor'],\n",
       "      dtype='object')"
      ]
     },
     "execution_count": 5,
     "metadata": {},
     "output_type": "execute_result"
    }
   ],
   "source": [
    "df_cars.columns"
   ]
  },
  {
   "cell_type": "code",
   "execution_count": null,
   "id": "93bac233",
   "metadata": {},
   "outputs": [],
   "source": [
    "# selecting columns\n",
    "df_cars = df_cars[['Manufacturer','Sales_in_thousands', 'Vehicle_type','Price_in_thousands','Engine_size', 'Horsepower','Fuel_capacity' ]]"
   ]
  },
  {
   "cell_type": "code",
   "execution_count": 11,
   "id": "b337efdc",
   "metadata": {},
   "outputs": [
    {
     "data": {
      "application/vnd.microsoft.datawrangler.viewer.v0+json": {
       "columns": [
        {
         "name": "index",
         "rawType": "int64",
         "type": "integer"
        },
        {
         "name": "Manufacturer",
         "rawType": "object",
         "type": "string"
        },
        {
         "name": "Sales_in_thousands",
         "rawType": "float64",
         "type": "float"
        },
        {
         "name": "Vehicle_type",
         "rawType": "object",
         "type": "string"
        },
        {
         "name": "Price_in_thousands",
         "rawType": "float64",
         "type": "float"
        },
        {
         "name": "Engine_size",
         "rawType": "float64",
         "type": "float"
        },
        {
         "name": "Horsepower",
         "rawType": "float64",
         "type": "float"
        },
        {
         "name": "Fuel_capacity",
         "rawType": "float64",
         "type": "float"
        }
       ],
       "ref": "73d41d9d-9042-41b5-a34e-cbb558743da1",
       "rows": [
        [
         "0",
         "Acura",
         "16.919",
         "Passenger",
         "21.5",
         "1.8",
         "140.0",
         "13.2"
        ],
        [
         "1",
         "Acura",
         "39.384",
         "Passenger",
         "28.4",
         "3.2",
         "225.0",
         "17.2"
        ],
        [
         "2",
         "Acura",
         "14.114",
         "Passenger",
         null,
         "3.2",
         "225.0",
         "17.2"
        ],
        [
         "3",
         "Acura",
         "8.588",
         "Passenger",
         "42.0",
         "3.5",
         "210.0",
         "18.0"
        ],
        [
         "4",
         "Audi",
         "20.397",
         "Passenger",
         "23.99",
         "1.8",
         "150.0",
         "16.4"
        ],
        [
         "5",
         "Audi",
         "18.78",
         "Passenger",
         "33.95",
         "2.8",
         "200.0",
         "18.5"
        ],
        [
         "6",
         "Audi",
         "1.38",
         "Passenger",
         "62.0",
         "4.2",
         "310.0",
         "23.7"
        ],
        [
         "7",
         "BMW",
         "19.747",
         "Passenger",
         "26.99",
         "2.5",
         "170.0",
         "16.6"
        ],
        [
         "8",
         "BMW",
         "9.231",
         "Passenger",
         "33.4",
         "2.8",
         "193.0",
         "16.6"
        ],
        [
         "9",
         "BMW",
         "17.527",
         "Passenger",
         "38.9",
         "2.8",
         "193.0",
         "18.5"
        ],
        [
         "10",
         "Buick",
         "91.561",
         "Passenger",
         "21.975",
         "3.1",
         "175.0",
         "17.5"
        ],
        [
         "11",
         "Buick",
         "39.35",
         "Passenger",
         "25.3",
         "3.8",
         "240.0",
         "17.5"
        ],
        [
         "12",
         "Buick",
         "27.851",
         "Passenger",
         "31.965",
         "3.8",
         "205.0",
         "18.5"
        ],
        [
         "13",
         "Buick",
         "83.257",
         "Passenger",
         "27.885",
         "3.8",
         "205.0",
         "17.5"
        ],
        [
         "14",
         "Cadillac",
         "63.729",
         "Passenger",
         "39.895",
         "4.6",
         "275.0",
         "18.5"
        ],
        [
         "15",
         "Cadillac",
         "15.943",
         "Passenger",
         "44.475",
         "4.6",
         "275.0",
         "18.5"
        ],
        [
         "16",
         "Cadillac",
         "6.536",
         "Passenger",
         "39.665",
         "4.6",
         "275.0",
         "19.0"
        ],
        [
         "17",
         "Cadillac",
         "11.185",
         "Passenger",
         "31.01",
         "3.0",
         "200.0",
         "18.0"
        ],
        [
         "18",
         "Cadillac",
         "14.785",
         "Car",
         "46.225",
         "5.7",
         "255.0",
         "30.0"
        ],
        [
         "19",
         "Chevrolet",
         "145.519",
         "Passenger",
         "13.26",
         "2.2",
         "115.0",
         "14.3"
        ],
        [
         "20",
         "Chevrolet",
         "135.126",
         "Passenger",
         "16.535",
         "3.1",
         "170.0",
         "15.0"
        ],
        [
         "21",
         "Chevrolet",
         "24.629",
         "Passenger",
         "18.89",
         "3.1",
         "175.0",
         "16.6"
        ],
        [
         "22",
         "Chevrolet",
         "42.593",
         "Passenger",
         "19.39",
         "3.4",
         "180.0",
         "17.0"
        ],
        [
         "23",
         "Chevrolet",
         "26.402",
         "Passenger",
         "24.34",
         "3.8",
         "200.0",
         "16.8"
        ],
        [
         "24",
         "Chevrolet",
         "17.947",
         "Passenger",
         "45.705",
         "5.7",
         "345.0",
         "19.1"
        ],
        [
         "25",
         "Chevrolet",
         "32.299",
         "Passenger",
         "13.96",
         "1.8",
         "120.0",
         "13.2"
        ],
        [
         "26",
         "Chevrolet",
         "21.855",
         "Passenger",
         "9.235",
         "1.0",
         "55.0",
         "10.3"
        ],
        [
         "27",
         "Chevrolet",
         "107.995",
         "Passenger",
         "18.89",
         "3.4",
         "180.0",
         "17.0"
        ],
        [
         "28",
         "Chrysler",
         "7.854",
         "Passenger",
         "19.84",
         "2.5",
         "163.0",
         "15.9"
        ],
        [
         "29",
         "Chrysler",
         "32.775",
         "Passenger",
         "24.495",
         "2.5",
         "168.0",
         "16.0"
        ],
        [
         "30",
         "Chrysler",
         "31.148",
         "Passenger",
         "22.245",
         "2.7",
         "200.0",
         "17.0"
        ],
        [
         "31",
         "Chrysler",
         "32.306",
         "Passenger",
         "16.48",
         "2.0",
         "132.0",
         "16.0"
        ],
        [
         "32",
         "Chrysler",
         "13.462",
         "Passenger",
         "28.34",
         "3.5",
         "253.0",
         "17.0"
        ],
        [
         "33",
         "Chrysler",
         "53.48",
         "Car",
         null,
         null,
         null,
         null
        ],
        [
         "34",
         "Chrysler",
         "30.696",
         "Passenger",
         "29.185",
         "3.5",
         "253.0",
         "17.0"
        ],
        [
         "35",
         "Dodge",
         "76.034",
         "Passenger",
         "12.64",
         "2.0",
         "132.0",
         "12.5"
        ],
        [
         "36",
         "Dodge",
         "4.734",
         "Passenger",
         "19.045",
         "2.5",
         "163.0",
         "15.9"
        ],
        [
         "37",
         "Dodge",
         "71.186",
         "Passenger",
         "20.23",
         "2.5",
         "168.0",
         "16.0"
        ],
        [
         "38",
         "Dodge",
         "88.028",
         "Passenger",
         "22.505",
         "2.7",
         "202.0",
         "17.0"
        ],
        [
         "39",
         "Dodge",
         "0.916",
         "Passenger",
         "69.725",
         "8.0",
         "450.0",
         "19.0"
        ],
        [
         "40",
         "Dodge",
         "227.061",
         "Car",
         "19.46",
         "5.2",
         "230.0",
         "26.0"
        ],
        [
         "41",
         "Dodge",
         "16.767",
         "Car",
         "21.315",
         "3.9",
         "175.0",
         "32.0"
        ],
        [
         "42",
         "Dodge",
         "31.038",
         "Car",
         "18.575",
         "3.9",
         "175.0",
         "32.0"
        ],
        [
         "43",
         "Dodge",
         "111.313",
         "Car",
         "16.98",
         "2.5",
         "120.0",
         "22.0"
        ],
        [
         "44",
         "Dodge",
         "101.323",
         "Car",
         "26.31",
         "5.2",
         "230.0",
         "25.0"
        ],
        [
         "45",
         "Dodge",
         "181.749",
         "Car",
         "19.565",
         "2.4",
         "150.0",
         "20.0"
        ],
        [
         "46",
         "Ford",
         "70.227",
         "Passenger",
         "12.07",
         "2.0",
         "110.0",
         "12.7"
        ],
        [
         "47",
         "Ford",
         "113.369",
         "Passenger",
         "21.56",
         "3.8",
         "190.0",
         "15.7"
        ],
        [
         "48",
         "Ford",
         "35.068",
         "Passenger",
         "17.035",
         "2.5",
         "170.0",
         "15.0"
        ],
        [
         "49",
         "Ford",
         "245.815",
         "Passenger",
         "17.885",
         "3.0",
         "155.0",
         "16.0"
        ]
       ],
       "shape": {
        "columns": 7,
        "rows": 157
       }
      },
      "text/html": [
       "<div>\n",
       "<style scoped>\n",
       "    .dataframe tbody tr th:only-of-type {\n",
       "        vertical-align: middle;\n",
       "    }\n",
       "\n",
       "    .dataframe tbody tr th {\n",
       "        vertical-align: top;\n",
       "    }\n",
       "\n",
       "    .dataframe thead th {\n",
       "        text-align: right;\n",
       "    }\n",
       "</style>\n",
       "<table border=\"1\" class=\"dataframe\">\n",
       "  <thead>\n",
       "    <tr style=\"text-align: right;\">\n",
       "      <th></th>\n",
       "      <th>Manufacturer</th>\n",
       "      <th>Sales_in_thousands</th>\n",
       "      <th>Vehicle_type</th>\n",
       "      <th>Price_in_thousands</th>\n",
       "      <th>Engine_size</th>\n",
       "      <th>Horsepower</th>\n",
       "      <th>Fuel_capacity</th>\n",
       "    </tr>\n",
       "  </thead>\n",
       "  <tbody>\n",
       "    <tr>\n",
       "      <th>0</th>\n",
       "      <td>Acura</td>\n",
       "      <td>16.919</td>\n",
       "      <td>Passenger</td>\n",
       "      <td>21.50</td>\n",
       "      <td>1.8</td>\n",
       "      <td>140.0</td>\n",
       "      <td>13.2</td>\n",
       "    </tr>\n",
       "    <tr>\n",
       "      <th>1</th>\n",
       "      <td>Acura</td>\n",
       "      <td>39.384</td>\n",
       "      <td>Passenger</td>\n",
       "      <td>28.40</td>\n",
       "      <td>3.2</td>\n",
       "      <td>225.0</td>\n",
       "      <td>17.2</td>\n",
       "    </tr>\n",
       "    <tr>\n",
       "      <th>2</th>\n",
       "      <td>Acura</td>\n",
       "      <td>14.114</td>\n",
       "      <td>Passenger</td>\n",
       "      <td>NaN</td>\n",
       "      <td>3.2</td>\n",
       "      <td>225.0</td>\n",
       "      <td>17.2</td>\n",
       "    </tr>\n",
       "    <tr>\n",
       "      <th>3</th>\n",
       "      <td>Acura</td>\n",
       "      <td>8.588</td>\n",
       "      <td>Passenger</td>\n",
       "      <td>42.00</td>\n",
       "      <td>3.5</td>\n",
       "      <td>210.0</td>\n",
       "      <td>18.0</td>\n",
       "    </tr>\n",
       "    <tr>\n",
       "      <th>4</th>\n",
       "      <td>Audi</td>\n",
       "      <td>20.397</td>\n",
       "      <td>Passenger</td>\n",
       "      <td>23.99</td>\n",
       "      <td>1.8</td>\n",
       "      <td>150.0</td>\n",
       "      <td>16.4</td>\n",
       "    </tr>\n",
       "    <tr>\n",
       "      <th>...</th>\n",
       "      <td>...</td>\n",
       "      <td>...</td>\n",
       "      <td>...</td>\n",
       "      <td>...</td>\n",
       "      <td>...</td>\n",
       "      <td>...</td>\n",
       "      <td>...</td>\n",
       "    </tr>\n",
       "    <tr>\n",
       "      <th>152</th>\n",
       "      <td>Volvo</td>\n",
       "      <td>3.545</td>\n",
       "      <td>Passenger</td>\n",
       "      <td>24.40</td>\n",
       "      <td>1.9</td>\n",
       "      <td>160.0</td>\n",
       "      <td>15.8</td>\n",
       "    </tr>\n",
       "    <tr>\n",
       "      <th>153</th>\n",
       "      <td>Volvo</td>\n",
       "      <td>15.245</td>\n",
       "      <td>Passenger</td>\n",
       "      <td>27.50</td>\n",
       "      <td>2.4</td>\n",
       "      <td>168.0</td>\n",
       "      <td>17.9</td>\n",
       "    </tr>\n",
       "    <tr>\n",
       "      <th>154</th>\n",
       "      <td>Volvo</td>\n",
       "      <td>17.531</td>\n",
       "      <td>Passenger</td>\n",
       "      <td>28.80</td>\n",
       "      <td>2.4</td>\n",
       "      <td>168.0</td>\n",
       "      <td>17.9</td>\n",
       "    </tr>\n",
       "    <tr>\n",
       "      <th>155</th>\n",
       "      <td>Volvo</td>\n",
       "      <td>3.493</td>\n",
       "      <td>Passenger</td>\n",
       "      <td>45.50</td>\n",
       "      <td>2.3</td>\n",
       "      <td>236.0</td>\n",
       "      <td>18.5</td>\n",
       "    </tr>\n",
       "    <tr>\n",
       "      <th>156</th>\n",
       "      <td>Volvo</td>\n",
       "      <td>18.969</td>\n",
       "      <td>Passenger</td>\n",
       "      <td>36.00</td>\n",
       "      <td>2.9</td>\n",
       "      <td>201.0</td>\n",
       "      <td>21.1</td>\n",
       "    </tr>\n",
       "  </tbody>\n",
       "</table>\n",
       "<p>157 rows × 7 columns</p>\n",
       "</div>"
      ],
      "text/plain": [
       "    Manufacturer  Sales_in_thousands Vehicle_type  Price_in_thousands  \\\n",
       "0          Acura              16.919    Passenger               21.50   \n",
       "1          Acura              39.384    Passenger               28.40   \n",
       "2          Acura              14.114    Passenger                 NaN   \n",
       "3          Acura               8.588    Passenger               42.00   \n",
       "4           Audi              20.397    Passenger               23.99   \n",
       "..           ...                 ...          ...                 ...   \n",
       "152        Volvo               3.545    Passenger               24.40   \n",
       "153        Volvo              15.245    Passenger               27.50   \n",
       "154        Volvo              17.531    Passenger               28.80   \n",
       "155        Volvo               3.493    Passenger               45.50   \n",
       "156        Volvo              18.969    Passenger               36.00   \n",
       "\n",
       "     Engine_size  Horsepower  Fuel_capacity  \n",
       "0            1.8       140.0           13.2  \n",
       "1            3.2       225.0           17.2  \n",
       "2            3.2       225.0           17.2  \n",
       "3            3.5       210.0           18.0  \n",
       "4            1.8       150.0           16.4  \n",
       "..           ...         ...            ...  \n",
       "152          1.9       160.0           15.8  \n",
       "153          2.4       168.0           17.9  \n",
       "154          2.4       168.0           17.9  \n",
       "155          2.3       236.0           18.5  \n",
       "156          2.9       201.0           21.1  \n",
       "\n",
       "[157 rows x 7 columns]"
      ]
     },
     "execution_count": 11,
     "metadata": {},
     "output_type": "execute_result"
    }
   ],
   "source": [
    "# show dataframe\n",
    "df_cars"
   ]
  },
  {
   "cell_type": "code",
   "execution_count": 16,
   "id": "bd8fe4db",
   "metadata": {},
   "outputs": [
    {
     "data": {
      "application/vnd.microsoft.datawrangler.viewer.v0+json": {
       "columns": [
        {
         "name": "index",
         "rawType": "object",
         "type": "string"
        },
        {
         "name": "0",
         "rawType": "int64",
         "type": "integer"
        }
       ],
       "ref": "f58833b5-c865-4306-8ddc-87655a464bc6",
       "rows": [
        [
         "Manufacturer",
         "30"
        ],
        [
         "Sales_in_thousands",
         "157"
        ],
        [
         "Vehicle_type",
         "2"
        ],
        [
         "Price_in_thousands",
         "152"
        ],
        [
         "Engine_size",
         "31"
        ],
        [
         "Horsepower",
         "66"
        ],
        [
         "Fuel_capacity",
         "55"
        ]
       ],
       "shape": {
        "columns": 1,
        "rows": 7
       }
      },
      "text/plain": [
       "Manufacturer           30\n",
       "Sales_in_thousands    157\n",
       "Vehicle_type            2\n",
       "Price_in_thousands    152\n",
       "Engine_size            31\n",
       "Horsepower             66\n",
       "Fuel_capacity          55\n",
       "dtype: int64"
      ]
     },
     "execution_count": 16,
     "metadata": {},
     "output_type": "execute_result"
    }
   ],
   "source": [
    "# calculating the number of unique values \n",
    "\n",
    "df_cars.nunique()"
   ]
  },
  {
   "cell_type": "markdown",
   "id": "89294edd",
   "metadata": {},
   "source": [
    "# 1. agg()"
   ]
  },
  {
   "cell_type": "code",
   "execution_count": 17,
   "id": "71c6a0cc",
   "metadata": {},
   "outputs": [
    {
     "data": {
      "application/vnd.microsoft.datawrangler.viewer.v0+json": {
       "columns": [
        {
         "name": "index",
         "rawType": "object",
         "type": "string"
        },
        {
         "name": "0",
         "rawType": "object",
         "type": "unknown"
        }
       ],
       "ref": "38959b80-29a6-49cd-b60f-adb992511d76",
       "rows": [
        [
         "Manufacturer",
         "AcuraAcuraAcuraAcuraAudiAudiAudiBMWBMWBMWBuickBuickBuickBuickCadillacCadillacCadillacCadillacCadillacChevroletChevroletChevroletChevroletChevroletChevroletChevroletChevroletChevroletChryslerChryslerChryslerChryslerChryslerChryslerChryslerDodgeDodgeDodgeDodgeDodgeDodgeDodgeDodgeDodgeDodgeDodgeFordFordFordFordFordFordFordFordFordFordFordHondaHondaHondaHondaHondaHyundaiHyundaiHyundaiInfinitiJaguarJeepJeepJeepLexusLexusLexusLexusLexusLexusLincolnLincolnLincolnMitsubishiMitsubishiMitsubishiMitsubishiMitsubishiMitsubishiMitsubishiMercuryMercuryMercuryMercuryMercuryMercuryMercedes-BMercedes-BMercedes-BMercedes-BMercedes-BMercedes-BMercedes-BMercedes-BMercedes-BNissanNissanNissanNissanNissanNissanNissanOldsmobileOldsmobileOldsmobileOldsmobileOldsmobileOldsmobilePlymouthPlymouthPlymouthPlymouthPontiacPontiacPontiacPontiacPontiacPontiacPorschePorschePorscheSaabSaabSaturnSaturnSaturnSaturnSaturnSubaruSubaruToyotaToyotaToyotaToyotaToyotaToyotaToyotaToyotaToyotaVolkswagenVolkswagenVolkswagenVolkswagenVolkswagenVolkswagenVolvoVolvoVolvoVolvoVolvoVolvo"
        ],
        [
         "Sales_in_thousands",
         "8320.698"
        ],
        [
         "Vehicle_type",
         "PassengerPassengerPassengerPassengerPassengerPassengerPassengerPassengerPassengerPassengerPassengerPassengerPassengerPassengerPassengerPassengerPassengerPassengerCarPassengerPassengerPassengerPassengerPassengerPassengerPassengerPassengerPassengerPassengerPassengerPassengerPassengerPassengerCarPassengerPassengerPassengerPassengerPassengerPassengerCarCarCarCarCarCarPassengerPassengerPassengerPassengerPassengerPassengerCarCarCarCarCarPassengerPassengerCarCarCarPassengerPassengerPassengerPassengerPassengerCarCarCarPassengerPassengerPassengerPassengerCarCarPassengerPassengerCarPassengerPassengerPassengerPassengerPassengerCarCarPassengerPassengerPassengerPassengerCarCarPassengerPassengerPassengerPassengerPassengerPassengerPassengerPassengerCarPassengerPassengerPassengerCarCarCarCarPassengerPassengerPassengerPassengerCarCarPassengerPassengerCarPassengerPassengerPassengerPassengerPassengerPassengerCarPassengerPassengerPassengerPassengerPassengerPassengerPassengerPassengerPassengerPassengerPassengerCarPassengerPassengerPassengerPassengerCarCarCarCarCarPassengerPassengerPassengerPassengerPassengerPassengerPassengerPassengerPassengerPassengerPassengerPassenger"
        ],
        [
         "Price_in_thousands",
         "4245.567000000001"
        ],
        [
         "Engine_size",
         "477.5"
        ],
        [
         "Horsepower",
         "29008.0"
        ],
        [
         "Fuel_capacity",
         "2800.5"
        ]
       ],
       "shape": {
        "columns": 1,
        "rows": 7
       }
      },
      "text/plain": [
       "Manufacturer          AcuraAcuraAcuraAcuraAudiAudiAudiBMWBMWBMWBuick...\n",
       "Sales_in_thousands                                             8320.698\n",
       "Vehicle_type          PassengerPassengerPassengerPassengerPassengerP...\n",
       "Price_in_thousands                                             4245.567\n",
       "Engine_size                                                       477.5\n",
       "Horsepower                                                      29008.0\n",
       "Fuel_capacity                                                    2800.5\n",
       "dtype: object"
      ]
     },
     "execution_count": 17,
     "metadata": {},
     "output_type": "execute_result"
    }
   ],
   "source": [
    "# calculate the sum of columns \n",
    "df_cars.agg('sum')"
   ]
  },
  {
   "cell_type": "code",
   "execution_count": 24,
   "id": "9cff726e",
   "metadata": {},
   "outputs": [
    {
     "data": {
      "application/vnd.microsoft.datawrangler.viewer.v0+json": {
       "columns": [
        {
         "name": "index",
         "rawType": "object",
         "type": "string"
        },
        {
         "name": "Sales_in_thousands",
         "rawType": "float64",
         "type": "float"
        },
        {
         "name": "Price_in_thousands",
         "rawType": "float64",
         "type": "float"
        }
       ],
       "ref": "ea7f3fd4-0d92-4b92-8d5c-d2b2d98ebd69",
       "rows": [
        [
         "sum",
         "8320.698",
         "4245.567000000001"
        ],
        [
         "mean",
         "52.99807643312102",
         null
        ],
        [
         "max",
         null,
         "85.5"
        ]
       ],
       "shape": {
        "columns": 2,
        "rows": 3
       }
      },
      "text/html": [
       "<div>\n",
       "<style scoped>\n",
       "    .dataframe tbody tr th:only-of-type {\n",
       "        vertical-align: middle;\n",
       "    }\n",
       "\n",
       "    .dataframe tbody tr th {\n",
       "        vertical-align: top;\n",
       "    }\n",
       "\n",
       "    .dataframe thead th {\n",
       "        text-align: right;\n",
       "    }\n",
       "</style>\n",
       "<table border=\"1\" class=\"dataframe\">\n",
       "  <thead>\n",
       "    <tr style=\"text-align: right;\">\n",
       "      <th></th>\n",
       "      <th>Sales_in_thousands</th>\n",
       "      <th>Price_in_thousands</th>\n",
       "    </tr>\n",
       "  </thead>\n",
       "  <tbody>\n",
       "    <tr>\n",
       "      <th>sum</th>\n",
       "      <td>8320.698000</td>\n",
       "      <td>4245.567</td>\n",
       "    </tr>\n",
       "    <tr>\n",
       "      <th>mean</th>\n",
       "      <td>52.998076</td>\n",
       "      <td>NaN</td>\n",
       "    </tr>\n",
       "    <tr>\n",
       "      <th>max</th>\n",
       "      <td>NaN</td>\n",
       "      <td>85.500</td>\n",
       "    </tr>\n",
       "  </tbody>\n",
       "</table>\n",
       "</div>"
      ],
      "text/plain": [
       "      Sales_in_thousands  Price_in_thousands\n",
       "sum          8320.698000            4245.567\n",
       "mean           52.998076                 NaN\n",
       "max                  NaN              85.500"
      ]
     },
     "execution_count": 24,
     "metadata": {},
     "output_type": "execute_result"
    }
   ],
   "source": [
    "# different aggregations per column\n",
    "\n",
    "df_cars.agg({'Sales_in_thousands': ['sum','mean'],\n",
    "             'Price_in_thousands':['sum', 'max']})\n"
   ]
  },
  {
   "cell_type": "code",
   "execution_count": 26,
   "id": "64c858a7",
   "metadata": {},
   "outputs": [
    {
     "data": {
      "application/vnd.microsoft.datawrangler.viewer.v0+json": {
       "columns": [
        {
         "name": "index",
         "rawType": "int64",
         "type": "integer"
        },
        {
         "name": "0",
         "rawType": "float64",
         "type": "float"
        }
       ],
       "ref": "4cc9434f-3ba9-4e23-9dc2-3476b4a1d036",
       "rows": [
        [
         "0",
         "38.419"
        ],
        [
         "1",
         "67.78399999999999"
        ],
        [
         "2",
         "14.114"
        ],
        [
         "3",
         "50.588"
        ],
        [
         "4",
         "44.387"
        ],
        [
         "5",
         "52.730000000000004"
        ],
        [
         "6",
         "63.38"
        ],
        [
         "7",
         "46.736999999999995"
        ],
        [
         "8",
         "42.631"
        ],
        [
         "9",
         "56.427"
        ],
        [
         "10",
         "113.536"
        ],
        [
         "11",
         "64.65"
        ],
        [
         "12",
         "59.816"
        ],
        [
         "13",
         "111.14200000000001"
        ],
        [
         "14",
         "103.624"
        ],
        [
         "15",
         "60.418"
        ],
        [
         "16",
         "46.201"
        ],
        [
         "17",
         "42.195"
        ],
        [
         "18",
         "61.010000000000005"
        ],
        [
         "19",
         "158.779"
        ],
        [
         "20",
         "151.661"
        ],
        [
         "21",
         "43.519000000000005"
        ],
        [
         "22",
         "61.983000000000004"
        ],
        [
         "23",
         "50.742000000000004"
        ],
        [
         "24",
         "63.652"
        ],
        [
         "25",
         "46.259"
        ],
        [
         "26",
         "31.09"
        ],
        [
         "27",
         "126.885"
        ],
        [
         "28",
         "27.694"
        ],
        [
         "29",
         "57.269999999999996"
        ],
        [
         "30",
         "53.393"
        ],
        [
         "31",
         "48.786"
        ],
        [
         "32",
         "41.802"
        ],
        [
         "33",
         "53.48"
        ],
        [
         "34",
         "59.881"
        ],
        [
         "35",
         "88.674"
        ],
        [
         "36",
         "23.779000000000003"
        ],
        [
         "37",
         "91.41600000000001"
        ],
        [
         "38",
         "110.533"
        ],
        [
         "39",
         "70.64099999999999"
        ],
        [
         "40",
         "246.52100000000002"
        ],
        [
         "41",
         "38.082"
        ],
        [
         "42",
         "49.613"
        ],
        [
         "43",
         "128.293"
        ],
        [
         "44",
         "127.633"
        ],
        [
         "45",
         "201.314"
        ],
        [
         "46",
         "82.297"
        ],
        [
         "47",
         "134.929"
        ],
        [
         "48",
         "52.102999999999994"
        ],
        [
         "49",
         "263.7"
        ]
       ],
       "shape": {
        "columns": 1,
        "rows": 157
       }
      },
      "text/plain": [
       "0      38.419\n",
       "1      67.784\n",
       "2      14.114\n",
       "3      50.588\n",
       "4      44.387\n",
       "        ...  \n",
       "152    27.945\n",
       "153    42.745\n",
       "154    46.331\n",
       "155    48.993\n",
       "156    54.969\n",
       "Length: 157, dtype: float64"
      ]
     },
     "execution_count": 26,
     "metadata": {},
     "output_type": "execute_result"
    }
   ],
   "source": [
    "# aggregate over the columns\n",
    "\n",
    "df_cars[['Sales_in_thousands','Price_in_thousands']].agg('sum', axis=1)"
   ]
  },
  {
   "cell_type": "code",
   "execution_count": 28,
   "id": "ca6cb7e1",
   "metadata": {},
   "outputs": [
    {
     "data": {
      "application/vnd.microsoft.datawrangler.viewer.v0+json": {
       "columns": [
        {
         "name": "index",
         "rawType": "int64",
         "type": "integer"
        },
        {
         "name": "0",
         "rawType": "float64",
         "type": "float"
        }
       ],
       "ref": "b25297d7-542f-4e6d-9641-681392453eba",
       "rows": [
        [
         "0",
         "38.419"
        ],
        [
         "1",
         "67.78399999999999"
        ],
        [
         "2",
         null
        ],
        [
         "3",
         "50.588"
        ],
        [
         "4",
         "44.387"
        ],
        [
         "5",
         "52.730000000000004"
        ],
        [
         "6",
         "63.38"
        ],
        [
         "7",
         "46.736999999999995"
        ],
        [
         "8",
         "42.631"
        ],
        [
         "9",
         "56.427"
        ],
        [
         "10",
         "113.536"
        ],
        [
         "11",
         "64.65"
        ],
        [
         "12",
         "59.816"
        ],
        [
         "13",
         "111.14200000000001"
        ],
        [
         "14",
         "103.624"
        ],
        [
         "15",
         "60.418"
        ],
        [
         "16",
         "46.201"
        ],
        [
         "17",
         "42.195"
        ],
        [
         "18",
         "61.010000000000005"
        ],
        [
         "19",
         "158.779"
        ],
        [
         "20",
         "151.661"
        ],
        [
         "21",
         "43.519000000000005"
        ],
        [
         "22",
         "61.983000000000004"
        ],
        [
         "23",
         "50.742000000000004"
        ],
        [
         "24",
         "63.652"
        ],
        [
         "25",
         "46.259"
        ],
        [
         "26",
         "31.09"
        ],
        [
         "27",
         "126.885"
        ],
        [
         "28",
         "27.694"
        ],
        [
         "29",
         "57.269999999999996"
        ],
        [
         "30",
         "53.393"
        ],
        [
         "31",
         "48.786"
        ],
        [
         "32",
         "41.802"
        ],
        [
         "33",
         null
        ],
        [
         "34",
         "59.881"
        ],
        [
         "35",
         "88.674"
        ],
        [
         "36",
         "23.779000000000003"
        ],
        [
         "37",
         "91.41600000000001"
        ],
        [
         "38",
         "110.533"
        ],
        [
         "39",
         "70.64099999999999"
        ],
        [
         "40",
         "246.52100000000002"
        ],
        [
         "41",
         "38.082"
        ],
        [
         "42",
         "49.613"
        ],
        [
         "43",
         "128.293"
        ],
        [
         "44",
         "127.633"
        ],
        [
         "45",
         "201.314"
        ],
        [
         "46",
         "82.297"
        ],
        [
         "47",
         "134.929"
        ],
        [
         "48",
         "52.102999999999994"
        ],
        [
         "49",
         "263.7"
        ]
       ],
       "shape": {
        "columns": 1,
        "rows": 157
       }
      },
      "text/plain": [
       "0      38.419\n",
       "1      67.784\n",
       "2         NaN\n",
       "3      50.588\n",
       "4      44.387\n",
       "        ...  \n",
       "152    27.945\n",
       "153    42.745\n",
       "154    46.331\n",
       "155    48.993\n",
       "156    54.969\n",
       "Length: 157, dtype: float64"
      ]
     },
     "execution_count": 28,
     "metadata": {},
     "output_type": "execute_result"
    }
   ],
   "source": [
    "# equivalent (NaN behaves differently)\n",
    "df_cars['Sales_in_thousands']+ df_cars['Price_in_thousands']"
   ]
  },
  {
   "cell_type": "code",
   "execution_count": 31,
   "id": "ed07637c",
   "metadata": {},
   "outputs": [
    {
     "data": {
      "application/vnd.microsoft.datawrangler.viewer.v0+json": {
       "columns": [
        {
         "name": "index",
         "rawType": "object",
         "type": "string"
        },
        {
         "name": "Sales_in_thousands",
         "rawType": "float64",
         "type": "float"
        },
        {
         "name": "Price_in_thousands",
         "rawType": "float64",
         "type": "float"
        }
       ],
       "ref": "f8d61ec1-26c7-4e47-8e72-7a620a5d00c6",
       "rows": [
        [
         "x",
         "8320.698",
         null
        ],
        [
         "y",
         null,
         "4245.567000000001"
        ]
       ],
       "shape": {
        "columns": 2,
        "rows": 2
       }
      },
      "text/html": [
       "<div>\n",
       "<style scoped>\n",
       "    .dataframe tbody tr th:only-of-type {\n",
       "        vertical-align: middle;\n",
       "    }\n",
       "\n",
       "    .dataframe tbody tr th {\n",
       "        vertical-align: top;\n",
       "    }\n",
       "\n",
       "    .dataframe thead th {\n",
       "        text-align: right;\n",
       "    }\n",
       "</style>\n",
       "<table border=\"1\" class=\"dataframe\">\n",
       "  <thead>\n",
       "    <tr style=\"text-align: right;\">\n",
       "      <th></th>\n",
       "      <th>Sales_in_thousands</th>\n",
       "      <th>Price_in_thousands</th>\n",
       "    </tr>\n",
       "  </thead>\n",
       "  <tbody>\n",
       "    <tr>\n",
       "      <th>x</th>\n",
       "      <td>8320.698</td>\n",
       "      <td>NaN</td>\n",
       "    </tr>\n",
       "    <tr>\n",
       "      <th>y</th>\n",
       "      <td>NaN</td>\n",
       "      <td>4245.567</td>\n",
       "    </tr>\n",
       "  </tbody>\n",
       "</table>\n",
       "</div>"
      ],
      "text/plain": [
       "   Sales_in_thousands  Price_in_thousands\n",
       "x            8320.698                 NaN\n",
       "y                 NaN            4245.567"
      ]
     },
     "execution_count": 31,
     "metadata": {},
     "output_type": "execute_result"
    }
   ],
   "source": [
    "# aggregate different functions and rename the index of the resulting data \n",
    "df_cars.agg( x = ('Sales_in_thousands', 'sum'),\n",
    "             y = ('Price_in_thousands', 'sum'))"
   ]
  },
  {
   "cell_type": "markdown",
   "id": "b117cfc3",
   "metadata": {},
   "source": [
    "# 2. The Split-Apply-Combine"
   ]
  },
  {
   "cell_type": "code",
   "execution_count": 35,
   "id": "e7cbe149",
   "metadata": {},
   "outputs": [],
   "source": [
    "# split data into separate groups \n",
    "\n",
    "passenger_filter = df_cars['Vehicle_type']=='Passenger'\n",
    "car_filter = df_cars['Vehicle_type']=='Car'\n",
    "\n",
    "\n",
    "# df_cars['Vehicle_type'].value_counts()"
   ]
  },
  {
   "cell_type": "code",
   "execution_count": 36,
   "id": "11a2f8d7",
   "metadata": {},
   "outputs": [
    {
     "data": {
      "application/vnd.microsoft.datawrangler.viewer.v0+json": {
       "columns": [
        {
         "name": "index",
         "rawType": "int64",
         "type": "integer"
        },
        {
         "name": "Vehicle_type",
         "rawType": "bool",
         "type": "boolean"
        }
       ],
       "ref": "07c694c0-6045-4861-b29d-3fdbd7cc1c6c",
       "rows": [
        [
         "0",
         "False"
        ],
        [
         "1",
         "False"
        ],
        [
         "2",
         "False"
        ],
        [
         "3",
         "False"
        ],
        [
         "4",
         "False"
        ],
        [
         "5",
         "False"
        ],
        [
         "6",
         "False"
        ],
        [
         "7",
         "False"
        ],
        [
         "8",
         "False"
        ],
        [
         "9",
         "False"
        ],
        [
         "10",
         "False"
        ],
        [
         "11",
         "False"
        ],
        [
         "12",
         "False"
        ],
        [
         "13",
         "False"
        ],
        [
         "14",
         "False"
        ],
        [
         "15",
         "False"
        ],
        [
         "16",
         "False"
        ],
        [
         "17",
         "False"
        ],
        [
         "18",
         "True"
        ],
        [
         "19",
         "False"
        ],
        [
         "20",
         "False"
        ],
        [
         "21",
         "False"
        ],
        [
         "22",
         "False"
        ],
        [
         "23",
         "False"
        ],
        [
         "24",
         "False"
        ],
        [
         "25",
         "False"
        ],
        [
         "26",
         "False"
        ],
        [
         "27",
         "False"
        ],
        [
         "28",
         "False"
        ],
        [
         "29",
         "False"
        ],
        [
         "30",
         "False"
        ],
        [
         "31",
         "False"
        ],
        [
         "32",
         "False"
        ],
        [
         "33",
         "True"
        ],
        [
         "34",
         "False"
        ],
        [
         "35",
         "False"
        ],
        [
         "36",
         "False"
        ],
        [
         "37",
         "False"
        ],
        [
         "38",
         "False"
        ],
        [
         "39",
         "False"
        ],
        [
         "40",
         "True"
        ],
        [
         "41",
         "True"
        ],
        [
         "42",
         "True"
        ],
        [
         "43",
         "True"
        ],
        [
         "44",
         "True"
        ],
        [
         "45",
         "True"
        ],
        [
         "46",
         "False"
        ],
        [
         "47",
         "False"
        ],
        [
         "48",
         "False"
        ],
        [
         "49",
         "False"
        ]
       ],
       "shape": {
        "columns": 1,
        "rows": 157
       }
      },
      "text/plain": [
       "0      False\n",
       "1      False\n",
       "2      False\n",
       "3      False\n",
       "4      False\n",
       "       ...  \n",
       "152    False\n",
       "153    False\n",
       "154    False\n",
       "155    False\n",
       "156    False\n",
       "Name: Vehicle_type, Length: 157, dtype: bool"
      ]
     },
     "execution_count": 36,
     "metadata": {},
     "output_type": "execute_result"
    }
   ],
   "source": [
    "car_filter"
   ]
  },
  {
   "cell_type": "code",
   "execution_count": 38,
   "id": "66400ff2",
   "metadata": {},
   "outputs": [],
   "source": [
    "# apply an aggregate function\n",
    "passenger_average = df_cars[passenger_filter]['Sales_in_thousands'].mean()\n",
    "car_average= df_cars[car_filter]['Sales_in_thousands'].mean()\n"
   ]
  },
  {
   "cell_type": "code",
   "execution_count": 39,
   "id": "9affefe8",
   "metadata": {},
   "outputs": [
    {
     "data": {
      "application/vnd.microsoft.datawrangler.viewer.v0+json": {
       "columns": [
        {
         "name": "index",
         "rawType": "int64",
         "type": "integer"
        },
        {
         "name": "Vehicle_type",
         "rawType": "object",
         "type": "string"
        },
        {
         "name": "Sales_in_thousands",
         "rawType": "float64",
         "type": "float"
        }
       ],
       "ref": "eff40366-ad0a-4684-91e9-fea35ed66bb7",
       "rows": [
        [
         "0",
         "Car",
         "80.62229268292683"
        ],
        [
         "1",
         "Passenger",
         "43.234344827586206"
        ]
       ],
       "shape": {
        "columns": 2,
        "rows": 2
       }
      },
      "text/html": [
       "<div>\n",
       "<style scoped>\n",
       "    .dataframe tbody tr th:only-of-type {\n",
       "        vertical-align: middle;\n",
       "    }\n",
       "\n",
       "    .dataframe tbody tr th {\n",
       "        vertical-align: top;\n",
       "    }\n",
       "\n",
       "    .dataframe thead th {\n",
       "        text-align: right;\n",
       "    }\n",
       "</style>\n",
       "<table border=\"1\" class=\"dataframe\">\n",
       "  <thead>\n",
       "    <tr style=\"text-align: right;\">\n",
       "      <th></th>\n",
       "      <th>Vehicle_type</th>\n",
       "      <th>Sales_in_thousands</th>\n",
       "    </tr>\n",
       "  </thead>\n",
       "  <tbody>\n",
       "    <tr>\n",
       "      <th>0</th>\n",
       "      <td>Car</td>\n",
       "      <td>80.622293</td>\n",
       "    </tr>\n",
       "    <tr>\n",
       "      <th>1</th>\n",
       "      <td>Passenger</td>\n",
       "      <td>43.234345</td>\n",
       "    </tr>\n",
       "  </tbody>\n",
       "</table>\n",
       "</div>"
      ],
      "text/plain": [
       "  Vehicle_type  Sales_in_thousands\n",
       "0          Car           80.622293\n",
       "1    Passenger           43.234345"
      ]
     },
     "execution_count": 39,
     "metadata": {},
     "output_type": "execute_result"
    }
   ],
   "source": [
    "# combine results\n",
    "pd.DataFrame({'Vehicle_type': ['Car', 'Passenger'],\n",
    "              'Sales_in_thousands':[car_average ,passenger_average ]})"
   ]
  },
  {
   "cell_type": "markdown",
   "id": "fe14a0a7",
   "metadata": {},
   "source": [
    "# groupby()"
   ]
  },
  {
   "cell_type": "code",
   "execution_count": 41,
   "id": "0fe3ce26",
   "metadata": {},
   "outputs": [
    {
     "data": {
      "application/vnd.microsoft.datawrangler.viewer.v0+json": {
       "columns": [
        {
         "name": "Vehicle_type",
         "rawType": "object",
         "type": "string"
        },
        {
         "name": "Sales_in_thousands",
         "rawType": "float64",
         "type": "float"
        },
        {
         "name": "Price_in_thousands",
         "rawType": "float64",
         "type": "float"
        },
        {
         "name": "Engine_size",
         "rawType": "float64",
         "type": "float"
        },
        {
         "name": "Horsepower",
         "rawType": "float64",
         "type": "float"
        },
        {
         "name": "Fuel_capacity",
         "rawType": "float64",
         "type": "float"
        }
       ],
       "ref": "8eaefbd1-87f7-4f79-9274-5ecb7a941d98",
       "rows": [
        [
         "Car",
         "80.62229268292683",
         "26.319975",
         "3.5200000000000005",
         "186.4",
         "21.895"
        ],
        [
         "Passenger",
         "43.234344827586206",
         "27.7632",
         "2.902586206896552",
         "185.79310344827587",
         "16.592241379310344"
        ]
       ],
       "shape": {
        "columns": 5,
        "rows": 2
       }
      },
      "text/html": [
       "<div>\n",
       "<style scoped>\n",
       "    .dataframe tbody tr th:only-of-type {\n",
       "        vertical-align: middle;\n",
       "    }\n",
       "\n",
       "    .dataframe tbody tr th {\n",
       "        vertical-align: top;\n",
       "    }\n",
       "\n",
       "    .dataframe thead th {\n",
       "        text-align: right;\n",
       "    }\n",
       "</style>\n",
       "<table border=\"1\" class=\"dataframe\">\n",
       "  <thead>\n",
       "    <tr style=\"text-align: right;\">\n",
       "      <th></th>\n",
       "      <th>Sales_in_thousands</th>\n",
       "      <th>Price_in_thousands</th>\n",
       "      <th>Engine_size</th>\n",
       "      <th>Horsepower</th>\n",
       "      <th>Fuel_capacity</th>\n",
       "    </tr>\n",
       "    <tr>\n",
       "      <th>Vehicle_type</th>\n",
       "      <th></th>\n",
       "      <th></th>\n",
       "      <th></th>\n",
       "      <th></th>\n",
       "      <th></th>\n",
       "    </tr>\n",
       "  </thead>\n",
       "  <tbody>\n",
       "    <tr>\n",
       "      <th>Car</th>\n",
       "      <td>80.622293</td>\n",
       "      <td>26.319975</td>\n",
       "      <td>3.520000</td>\n",
       "      <td>186.400000</td>\n",
       "      <td>21.895000</td>\n",
       "    </tr>\n",
       "    <tr>\n",
       "      <th>Passenger</th>\n",
       "      <td>43.234345</td>\n",
       "      <td>27.763200</td>\n",
       "      <td>2.902586</td>\n",
       "      <td>185.793103</td>\n",
       "      <td>16.592241</td>\n",
       "    </tr>\n",
       "  </tbody>\n",
       "</table>\n",
       "</div>"
      ],
      "text/plain": [
       "              Sales_in_thousands  Price_in_thousands  Engine_size  Horsepower  \\\n",
       "Vehicle_type                                                                    \n",
       "Car                    80.622293           26.319975     3.520000  186.400000   \n",
       "Passenger              43.234345           27.763200     2.902586  185.793103   \n",
       "\n",
       "              Fuel_capacity  \n",
       "Vehicle_type                 \n",
       "Car               21.895000  \n",
       "Passenger         16.592241  "
      ]
     },
     "execution_count": 41,
     "metadata": {},
     "output_type": "execute_result"
    }
   ],
   "source": [
    "# group by 'vehicle_type' and calculate the mean\n",
    "\n",
    "# Select only numeric columns\n",
    "numeric_cols = df_cars.select_dtypes(include='number').columns\n",
    "\n",
    "# Group and compute mean only on numeric columns\n",
    "df_cars.groupby('Vehicle_type')[numeric_cols].mean()\n"
   ]
  },
  {
   "cell_type": "code",
   "execution_count": 45,
   "id": "c684d853",
   "metadata": {},
   "outputs": [],
   "source": [
    "# group by manufacturer and calculate the mean \n",
    "groupby_obj = df_cars.groupby('Manufacturer').mean(numeric_only=True)"
   ]
  },
  {
   "cell_type": "code",
   "execution_count": 43,
   "id": "ad44ae73",
   "metadata": {},
   "outputs": [
    {
     "data": {
      "text/plain": [
       "{'Acura': [0, 1, 2, 3], 'Audi': [4, 5, 6], 'BMW': [7, 8, 9], 'Buick': [10, 11, 12, 13], 'Cadillac': [14, 15, 16, 17, 18], 'Chevrolet': [19, 20, 21, 22, 23, 24, 25, 26, 27], 'Chrysler': [28, 29, 30, 31, 32, 33, 34], 'Dodge': [35, 36, 37, 38, 39, 40, 41, 42, 43, 44, 45], 'Ford': [46, 47, 48, 49, 50, 51, 52, 53, 54, 55, 56], 'Honda': [57, 58, 59, 60, 61], 'Hyundai': [62, 63, 64], 'Infiniti': [65], 'Jaguar': [66], 'Jeep': [67, 68, 69], 'Lexus': [70, 71, 72, 73, 74, 75], 'Lincoln': [76, 77, 78], 'Mercedes-B': [92, 93, 94, 95, 96, 97, 98, 99, 100], 'Mercury': [86, 87, 88, 89, 90, 91], 'Mitsubishi': [79, 80, 81, 82, 83, 84, 85], 'Nissan': [101, 102, 103, 104, 105, 106, 107], 'Oldsmobile': [108, 109, 110, 111, 112, 113], 'Plymouth': [114, 115, 116, 117], 'Pontiac': [118, 119, 120, 121, 122, 123], 'Porsche': [124, 125, 126], 'Saab': [127, 128], 'Saturn': [129, 130, 131, 132, 133], 'Subaru': [134, 135], 'Toyota': [136, 137, 138, 139, 140, 141, 142, 143, 144], 'Volkswagen': [145, 146, 147, 148, 149, 150], 'Volvo': [151, 152, 153, 154, 155, 156]}"
      ]
     },
     "execution_count": 43,
     "metadata": {},
     "output_type": "execute_result"
    }
   ],
   "source": [
    "# groups attribute and keys \n",
    "groupby_obj.groups"
   ]
  },
  {
   "cell_type": "code",
   "execution_count": 49,
   "id": "9d0fb0b6",
   "metadata": {},
   "outputs": [
    {
     "data": {
      "application/vnd.microsoft.datawrangler.viewer.v0+json": {
       "columns": [
        {
         "name": "Manufacturer",
         "rawType": "object",
         "type": "string"
        },
        {
         "name": "Sales_in_thousands",
         "rawType": "float64",
         "type": "float"
        },
        {
         "name": "Price_in_thousands",
         "rawType": "float64",
         "type": "float"
        },
        {
         "name": "Engine_size",
         "rawType": "float64",
         "type": "float"
        },
        {
         "name": "Horsepower",
         "rawType": "float64",
         "type": "float"
        },
        {
         "name": "Fuel_capacity",
         "rawType": "float64",
         "type": "float"
        }
       ],
       "ref": "29a03fc3-952c-4cd3-b2fd-354605d2a2d8",
       "rows": [
        [
         "Acura",
         "79.005",
         "91.9",
         "11.7",
         "800.0",
         "65.6"
        ],
        [
         "Audi",
         "40.557",
         "119.94",
         "8.8",
         "660.0",
         "58.599999999999994"
        ],
        [
         "BMW",
         "46.505",
         "99.28999999999999",
         "8.1",
         "556.0",
         "51.7"
        ],
        [
         "Buick",
         "242.019",
         "107.125",
         "14.5",
         "825.0",
         "71.0"
        ],
        [
         "Cadillac",
         "112.178",
         "201.27",
         "22.5",
         "1280.0",
         "104.0"
        ],
        [
         "Chevrolet",
         "554.365",
         "180.20499999999998",
         "27.5",
         "1540.0",
         "139.3"
        ],
        [
         "Chrysler",
         "201.721",
         "140.585",
         "16.7",
         "1169.0",
         "98.9"
        ],
        [
         "Dodge",
         "910.149",
         "266.35",
         "40.8",
         "2195.0",
         "237.4"
        ],
        [
         "Ford",
         "2022.635",
         "231.51999999999998",
         "36.6",
         "1871.0",
         "209.7"
        ],
        [
         "Honda",
         "592.674",
         "101.385",
         "12.6",
         "802.0",
         "85.4"
        ],
        [
         "Hyundai",
         "137.326",
         "36.497",
         "5.9",
         "380.0",
         "43.6"
        ],
        [
         "Infiniti",
         "23.713",
         "29.465",
         "3.0",
         "227.0",
         "18.5"
        ],
        [
         "Jaguar",
         "15.467",
         "42.8",
         "3.0",
         "240.0",
         "18.4"
        ],
        [
         "Jeep",
         "293.153",
         "62.975",
         "10.5",
         "505.0",
         "59.5"
        ],
        [
         "Lexus",
         "106.84299999999999",
         "264.33",
         "21.7",
         "1475.0",
         "123.2"
        ],
        [
         "Lincoln",
         "85.634",
         "125.07",
         "14.6",
         "790.0",
         "69.0"
        ],
        [
         "Mercedes-B",
         "117.125",
         "476.25",
         "30.8",
         "2090.0",
         "170.3"
        ],
        [
         "Mercury",
         "237.999",
         "124.49",
         "18.9",
         "983.0",
         "107.0"
        ],
        [
         "Mitsubishi",
         "180.89499999999998",
         "155.172",
         "19.6",
         "1156.0",
         "128.0"
        ],
        [
         "Nissan",
         "399.635",
         "156.525",
         "20.4",
         "1183.0",
         "127.4"
        ],
        [
         "Oldsmobile",
         "178.989",
         "153.737",
         "20.7",
         "1140.0",
         "109.2"
        ],
        [
         "Plymouth",
         "64.001",
         "90.57",
         "9.9",
         "667.0",
         "60.5"
        ],
        [
         "Pontiac",
         "370.53400000000005",
         "137.695",
         "20.599999999999998",
         "1110.0",
         "107.5"
        ],
        [
         "Porsche",
         "12.128",
         "187.42000000000002",
         "9.5",
         "817.0",
         "51.0"
        ],
        [
         "Saab",
         "21.306",
         "59.22",
         "4.3",
         "355.0",
         "35.4"
        ],
        [
         "Saturn",
         "168.85",
         "71.355",
         "10.1",
         "598.0",
         "62.5"
        ],
        [
         "Subaru",
         "80.13499999999999",
         "42.79",
         "5.0",
         "330.0",
         "32.8"
        ],
        [
         "Toyota",
         "740.205",
         "197.846",
         "23.6",
         "1446.0",
         "159.9"
        ],
        [
         "Volkswagen",
         "209.212",
         "106.19",
         "11.8",
         "725.0",
         "88.2"
        ],
        [
         "Volvo",
         "75.74",
         "185.6",
         "13.799999999999999",
         "1093.0",
         "107.0"
        ]
       ],
       "shape": {
        "columns": 5,
        "rows": 30
       }
      },
      "text/html": [
       "<div>\n",
       "<style scoped>\n",
       "    .dataframe tbody tr th:only-of-type {\n",
       "        vertical-align: middle;\n",
       "    }\n",
       "\n",
       "    .dataframe tbody tr th {\n",
       "        vertical-align: top;\n",
       "    }\n",
       "\n",
       "    .dataframe thead th {\n",
       "        text-align: right;\n",
       "    }\n",
       "</style>\n",
       "<table border=\"1\" class=\"dataframe\">\n",
       "  <thead>\n",
       "    <tr style=\"text-align: right;\">\n",
       "      <th></th>\n",
       "      <th>Sales_in_thousands</th>\n",
       "      <th>Price_in_thousands</th>\n",
       "      <th>Engine_size</th>\n",
       "      <th>Horsepower</th>\n",
       "      <th>Fuel_capacity</th>\n",
       "    </tr>\n",
       "    <tr>\n",
       "      <th>Manufacturer</th>\n",
       "      <th></th>\n",
       "      <th></th>\n",
       "      <th></th>\n",
       "      <th></th>\n",
       "      <th></th>\n",
       "    </tr>\n",
       "  </thead>\n",
       "  <tbody>\n",
       "    <tr>\n",
       "      <th>Acura</th>\n",
       "      <td>79.005</td>\n",
       "      <td>91.900</td>\n",
       "      <td>11.7</td>\n",
       "      <td>800.0</td>\n",
       "      <td>65.6</td>\n",
       "    </tr>\n",
       "    <tr>\n",
       "      <th>Audi</th>\n",
       "      <td>40.557</td>\n",
       "      <td>119.940</td>\n",
       "      <td>8.8</td>\n",
       "      <td>660.0</td>\n",
       "      <td>58.6</td>\n",
       "    </tr>\n",
       "    <tr>\n",
       "      <th>BMW</th>\n",
       "      <td>46.505</td>\n",
       "      <td>99.290</td>\n",
       "      <td>8.1</td>\n",
       "      <td>556.0</td>\n",
       "      <td>51.7</td>\n",
       "    </tr>\n",
       "    <tr>\n",
       "      <th>Buick</th>\n",
       "      <td>242.019</td>\n",
       "      <td>107.125</td>\n",
       "      <td>14.5</td>\n",
       "      <td>825.0</td>\n",
       "      <td>71.0</td>\n",
       "    </tr>\n",
       "    <tr>\n",
       "      <th>Cadillac</th>\n",
       "      <td>112.178</td>\n",
       "      <td>201.270</td>\n",
       "      <td>22.5</td>\n",
       "      <td>1280.0</td>\n",
       "      <td>104.0</td>\n",
       "    </tr>\n",
       "    <tr>\n",
       "      <th>Chevrolet</th>\n",
       "      <td>554.365</td>\n",
       "      <td>180.205</td>\n",
       "      <td>27.5</td>\n",
       "      <td>1540.0</td>\n",
       "      <td>139.3</td>\n",
       "    </tr>\n",
       "    <tr>\n",
       "      <th>Chrysler</th>\n",
       "      <td>201.721</td>\n",
       "      <td>140.585</td>\n",
       "      <td>16.7</td>\n",
       "      <td>1169.0</td>\n",
       "      <td>98.9</td>\n",
       "    </tr>\n",
       "    <tr>\n",
       "      <th>Dodge</th>\n",
       "      <td>910.149</td>\n",
       "      <td>266.350</td>\n",
       "      <td>40.8</td>\n",
       "      <td>2195.0</td>\n",
       "      <td>237.4</td>\n",
       "    </tr>\n",
       "    <tr>\n",
       "      <th>Ford</th>\n",
       "      <td>2022.635</td>\n",
       "      <td>231.520</td>\n",
       "      <td>36.6</td>\n",
       "      <td>1871.0</td>\n",
       "      <td>209.7</td>\n",
       "    </tr>\n",
       "    <tr>\n",
       "      <th>Honda</th>\n",
       "      <td>592.674</td>\n",
       "      <td>101.385</td>\n",
       "      <td>12.6</td>\n",
       "      <td>802.0</td>\n",
       "      <td>85.4</td>\n",
       "    </tr>\n",
       "    <tr>\n",
       "      <th>Hyundai</th>\n",
       "      <td>137.326</td>\n",
       "      <td>36.497</td>\n",
       "      <td>5.9</td>\n",
       "      <td>380.0</td>\n",
       "      <td>43.6</td>\n",
       "    </tr>\n",
       "    <tr>\n",
       "      <th>Infiniti</th>\n",
       "      <td>23.713</td>\n",
       "      <td>29.465</td>\n",
       "      <td>3.0</td>\n",
       "      <td>227.0</td>\n",
       "      <td>18.5</td>\n",
       "    </tr>\n",
       "    <tr>\n",
       "      <th>Jaguar</th>\n",
       "      <td>15.467</td>\n",
       "      <td>42.800</td>\n",
       "      <td>3.0</td>\n",
       "      <td>240.0</td>\n",
       "      <td>18.4</td>\n",
       "    </tr>\n",
       "    <tr>\n",
       "      <th>Jeep</th>\n",
       "      <td>293.153</td>\n",
       "      <td>62.975</td>\n",
       "      <td>10.5</td>\n",
       "      <td>505.0</td>\n",
       "      <td>59.5</td>\n",
       "    </tr>\n",
       "    <tr>\n",
       "      <th>Lexus</th>\n",
       "      <td>106.843</td>\n",
       "      <td>264.330</td>\n",
       "      <td>21.7</td>\n",
       "      <td>1475.0</td>\n",
       "      <td>123.2</td>\n",
       "    </tr>\n",
       "    <tr>\n",
       "      <th>Lincoln</th>\n",
       "      <td>85.634</td>\n",
       "      <td>125.070</td>\n",
       "      <td>14.6</td>\n",
       "      <td>790.0</td>\n",
       "      <td>69.0</td>\n",
       "    </tr>\n",
       "    <tr>\n",
       "      <th>Mercedes-B</th>\n",
       "      <td>117.125</td>\n",
       "      <td>476.250</td>\n",
       "      <td>30.8</td>\n",
       "      <td>2090.0</td>\n",
       "      <td>170.3</td>\n",
       "    </tr>\n",
       "    <tr>\n",
       "      <th>Mercury</th>\n",
       "      <td>237.999</td>\n",
       "      <td>124.490</td>\n",
       "      <td>18.9</td>\n",
       "      <td>983.0</td>\n",
       "      <td>107.0</td>\n",
       "    </tr>\n",
       "    <tr>\n",
       "      <th>Mitsubishi</th>\n",
       "      <td>180.895</td>\n",
       "      <td>155.172</td>\n",
       "      <td>19.6</td>\n",
       "      <td>1156.0</td>\n",
       "      <td>128.0</td>\n",
       "    </tr>\n",
       "    <tr>\n",
       "      <th>Nissan</th>\n",
       "      <td>399.635</td>\n",
       "      <td>156.525</td>\n",
       "      <td>20.4</td>\n",
       "      <td>1183.0</td>\n",
       "      <td>127.4</td>\n",
       "    </tr>\n",
       "    <tr>\n",
       "      <th>Oldsmobile</th>\n",
       "      <td>178.989</td>\n",
       "      <td>153.737</td>\n",
       "      <td>20.7</td>\n",
       "      <td>1140.0</td>\n",
       "      <td>109.2</td>\n",
       "    </tr>\n",
       "    <tr>\n",
       "      <th>Plymouth</th>\n",
       "      <td>64.001</td>\n",
       "      <td>90.570</td>\n",
       "      <td>9.9</td>\n",
       "      <td>667.0</td>\n",
       "      <td>60.5</td>\n",
       "    </tr>\n",
       "    <tr>\n",
       "      <th>Pontiac</th>\n",
       "      <td>370.534</td>\n",
       "      <td>137.695</td>\n",
       "      <td>20.6</td>\n",
       "      <td>1110.0</td>\n",
       "      <td>107.5</td>\n",
       "    </tr>\n",
       "    <tr>\n",
       "      <th>Porsche</th>\n",
       "      <td>12.128</td>\n",
       "      <td>187.420</td>\n",
       "      <td>9.5</td>\n",
       "      <td>817.0</td>\n",
       "      <td>51.0</td>\n",
       "    </tr>\n",
       "    <tr>\n",
       "      <th>Saab</th>\n",
       "      <td>21.306</td>\n",
       "      <td>59.220</td>\n",
       "      <td>4.3</td>\n",
       "      <td>355.0</td>\n",
       "      <td>35.4</td>\n",
       "    </tr>\n",
       "    <tr>\n",
       "      <th>Saturn</th>\n",
       "      <td>168.850</td>\n",
       "      <td>71.355</td>\n",
       "      <td>10.1</td>\n",
       "      <td>598.0</td>\n",
       "      <td>62.5</td>\n",
       "    </tr>\n",
       "    <tr>\n",
       "      <th>Subaru</th>\n",
       "      <td>80.135</td>\n",
       "      <td>42.790</td>\n",
       "      <td>5.0</td>\n",
       "      <td>330.0</td>\n",
       "      <td>32.8</td>\n",
       "    </tr>\n",
       "    <tr>\n",
       "      <th>Toyota</th>\n",
       "      <td>740.205</td>\n",
       "      <td>197.846</td>\n",
       "      <td>23.6</td>\n",
       "      <td>1446.0</td>\n",
       "      <td>159.9</td>\n",
       "    </tr>\n",
       "    <tr>\n",
       "      <th>Volkswagen</th>\n",
       "      <td>209.212</td>\n",
       "      <td>106.190</td>\n",
       "      <td>11.8</td>\n",
       "      <td>725.0</td>\n",
       "      <td>88.2</td>\n",
       "    </tr>\n",
       "    <tr>\n",
       "      <th>Volvo</th>\n",
       "      <td>75.740</td>\n",
       "      <td>185.600</td>\n",
       "      <td>13.8</td>\n",
       "      <td>1093.0</td>\n",
       "      <td>107.0</td>\n",
       "    </tr>\n",
       "  </tbody>\n",
       "</table>\n",
       "</div>"
      ],
      "text/plain": [
       "              Sales_in_thousands  Price_in_thousands  Engine_size  Horsepower  \\\n",
       "Manufacturer                                                                    \n",
       "Acura                     79.005              91.900         11.7       800.0   \n",
       "Audi                      40.557             119.940          8.8       660.0   \n",
       "BMW                       46.505              99.290          8.1       556.0   \n",
       "Buick                    242.019             107.125         14.5       825.0   \n",
       "Cadillac                 112.178             201.270         22.5      1280.0   \n",
       "Chevrolet                554.365             180.205         27.5      1540.0   \n",
       "Chrysler                 201.721             140.585         16.7      1169.0   \n",
       "Dodge                    910.149             266.350         40.8      2195.0   \n",
       "Ford                    2022.635             231.520         36.6      1871.0   \n",
       "Honda                    592.674             101.385         12.6       802.0   \n",
       "Hyundai                  137.326              36.497          5.9       380.0   \n",
       "Infiniti                  23.713              29.465          3.0       227.0   \n",
       "Jaguar                    15.467              42.800          3.0       240.0   \n",
       "Jeep                     293.153              62.975         10.5       505.0   \n",
       "Lexus                    106.843             264.330         21.7      1475.0   \n",
       "Lincoln                   85.634             125.070         14.6       790.0   \n",
       "Mercedes-B               117.125             476.250         30.8      2090.0   \n",
       "Mercury                  237.999             124.490         18.9       983.0   \n",
       "Mitsubishi               180.895             155.172         19.6      1156.0   \n",
       "Nissan                   399.635             156.525         20.4      1183.0   \n",
       "Oldsmobile               178.989             153.737         20.7      1140.0   \n",
       "Plymouth                  64.001              90.570          9.9       667.0   \n",
       "Pontiac                  370.534             137.695         20.6      1110.0   \n",
       "Porsche                   12.128             187.420          9.5       817.0   \n",
       "Saab                      21.306              59.220          4.3       355.0   \n",
       "Saturn                   168.850              71.355         10.1       598.0   \n",
       "Subaru                    80.135              42.790          5.0       330.0   \n",
       "Toyota                   740.205             197.846         23.6      1446.0   \n",
       "Volkswagen               209.212             106.190         11.8       725.0   \n",
       "Volvo                     75.740             185.600         13.8      1093.0   \n",
       "\n",
       "              Fuel_capacity  \n",
       "Manufacturer                 \n",
       "Acura                  65.6  \n",
       "Audi                   58.6  \n",
       "BMW                    51.7  \n",
       "Buick                  71.0  \n",
       "Cadillac              104.0  \n",
       "Chevrolet             139.3  \n",
       "Chrysler               98.9  \n",
       "Dodge                 237.4  \n",
       "Ford                  209.7  \n",
       "Honda                  85.4  \n",
       "Hyundai                43.6  \n",
       "Infiniti               18.5  \n",
       "Jaguar                 18.4  \n",
       "Jeep                   59.5  \n",
       "Lexus                 123.2  \n",
       "Lincoln                69.0  \n",
       "Mercedes-B            170.3  \n",
       "Mercury               107.0  \n",
       "Mitsubishi            128.0  \n",
       "Nissan                127.4  \n",
       "Oldsmobile            109.2  \n",
       "Plymouth               60.5  \n",
       "Pontiac               107.5  \n",
       "Porsche                51.0  \n",
       "Saab                   35.4  \n",
       "Saturn                 62.5  \n",
       "Subaru                 32.8  \n",
       "Toyota                159.9  \n",
       "Volkswagen             88.2  \n",
       "Volvo                 107.0  "
      ]
     },
     "execution_count": 49,
     "metadata": {},
     "output_type": "execute_result"
    }
   ],
   "source": [
    "# group by manufacturers and calculate the sum\n",
    "df_cars.groupby('Manufacturer').sum(numeric_only=True)"
   ]
  },
  {
   "cell_type": "code",
   "execution_count": 51,
   "id": "bc15b21d",
   "metadata": {},
   "outputs": [
    {
     "data": {
      "application/vnd.microsoft.datawrangler.viewer.v0+json": {
       "columns": [
        {
         "name": "Vehicle_type",
         "rawType": "object",
         "type": "string"
        },
        {
         "name": "Manufacturer",
         "rawType": "int64",
         "type": "integer"
        },
        {
         "name": "Sales_in_thousands",
         "rawType": "int64",
         "type": "integer"
        },
        {
         "name": "Price_in_thousands",
         "rawType": "int64",
         "type": "integer"
        },
        {
         "name": "Engine_size",
         "rawType": "int64",
         "type": "integer"
        },
        {
         "name": "Horsepower",
         "rawType": "int64",
         "type": "integer"
        },
        {
         "name": "Fuel_capacity",
         "rawType": "int64",
         "type": "integer"
        }
       ],
       "ref": "cf8fe40e-c9ad-40bb-a5ce-feada6506493",
       "rows": [
        [
         "Car",
         "41",
         "41",
         "40",
         "40",
         "40",
         "40"
        ],
        [
         "Passenger",
         "116",
         "116",
         "115",
         "116",
         "116",
         "116"
        ]
       ],
       "shape": {
        "columns": 6,
        "rows": 2
       }
      },
      "text/html": [
       "<div>\n",
       "<style scoped>\n",
       "    .dataframe tbody tr th:only-of-type {\n",
       "        vertical-align: middle;\n",
       "    }\n",
       "\n",
       "    .dataframe tbody tr th {\n",
       "        vertical-align: top;\n",
       "    }\n",
       "\n",
       "    .dataframe thead th {\n",
       "        text-align: right;\n",
       "    }\n",
       "</style>\n",
       "<table border=\"1\" class=\"dataframe\">\n",
       "  <thead>\n",
       "    <tr style=\"text-align: right;\">\n",
       "      <th></th>\n",
       "      <th>Manufacturer</th>\n",
       "      <th>Sales_in_thousands</th>\n",
       "      <th>Price_in_thousands</th>\n",
       "      <th>Engine_size</th>\n",
       "      <th>Horsepower</th>\n",
       "      <th>Fuel_capacity</th>\n",
       "    </tr>\n",
       "    <tr>\n",
       "      <th>Vehicle_type</th>\n",
       "      <th></th>\n",
       "      <th></th>\n",
       "      <th></th>\n",
       "      <th></th>\n",
       "      <th></th>\n",
       "      <th></th>\n",
       "    </tr>\n",
       "  </thead>\n",
       "  <tbody>\n",
       "    <tr>\n",
       "      <th>Car</th>\n",
       "      <td>41</td>\n",
       "      <td>41</td>\n",
       "      <td>40</td>\n",
       "      <td>40</td>\n",
       "      <td>40</td>\n",
       "      <td>40</td>\n",
       "    </tr>\n",
       "    <tr>\n",
       "      <th>Passenger</th>\n",
       "      <td>116</td>\n",
       "      <td>116</td>\n",
       "      <td>115</td>\n",
       "      <td>116</td>\n",
       "      <td>116</td>\n",
       "      <td>116</td>\n",
       "    </tr>\n",
       "  </tbody>\n",
       "</table>\n",
       "</div>"
      ],
      "text/plain": [
       "              Manufacturer  Sales_in_thousands  Price_in_thousands  \\\n",
       "Vehicle_type                                                         \n",
       "Car                     41                  41                  40   \n",
       "Passenger              116                 116                 115   \n",
       "\n",
       "              Engine_size  Horsepower  Fuel_capacity  \n",
       "Vehicle_type                                          \n",
       "Car                    40          40             40  \n",
       "Passenger             116         116            116  "
      ]
     },
     "execution_count": 51,
     "metadata": {},
     "output_type": "execute_result"
    }
   ],
   "source": [
    "# group by vehicle type and count values \n",
    "\n",
    "df_cars.groupby('Vehicle_type').count()"
   ]
  },
  {
   "cell_type": "code",
   "execution_count": 52,
   "metadata": {},
   "outputs": [
    {
     "data": {
      "application/vnd.microsoft.datawrangler.viewer.v0+json": {
       "columns": [
        {
         "name": "index",
         "rawType": "object",
         "type": "string"
        },
        {
         "name": "0",
         "rawType": "int64",
         "type": "integer"
        }
       ],
       "ref": "3339222e-f838-48d6-b39f-c3eba6bb0aed",
       "rows": [
        [
         "Manufacturer",
         "0"
        ],
        [
         "Sales_in_thousands",
         "0"
        ],
        [
         "Vehicle_type",
         "0"
        ],
        [
         "Price_in_thousands",
         "2"
        ],
        [
         "Engine_size",
         "1"
        ],
        [
         "Horsepower",
         "1"
        ],
        [
         "Fuel_capacity",
         "1"
        ]
       ],
       "shape": {
        "columns": 1,
        "rows": 7
       }
      },
      "text/plain": [
       "Manufacturer          0\n",
       "Sales_in_thousands    0\n",
       "Vehicle_type          0\n",
       "Price_in_thousands    2\n",
       "Engine_size           1\n",
       "Horsepower            1\n",
       "Fuel_capacity         1\n",
       "dtype: int64"
      ]
     },
     "execution_count": 52,
     "metadata": {},
     "output_type": "execute_result"
    }
   ],
   "source": [
    "# find null values in columns\n",
    "df_cars.isnull().sum()"
   ]
  },
  {
   "cell_type": "code",
   "execution_count": 53,
   "id": "9fafd790",
   "metadata": {},
   "outputs": [
    {
     "data": {
      "application/vnd.microsoft.datawrangler.viewer.v0+json": {
       "columns": [
        {
         "name": "Engine_size",
         "rawType": "float64",
         "type": "float"
        },
        {
         "name": "Manufacturer",
         "rawType": "int64",
         "type": "integer"
        },
        {
         "name": "Sales_in_thousands",
         "rawType": "int64",
         "type": "integer"
        },
        {
         "name": "Vehicle_type",
         "rawType": "int64",
         "type": "integer"
        },
        {
         "name": "Price_in_thousands",
         "rawType": "int64",
         "type": "integer"
        },
        {
         "name": "Horsepower",
         "rawType": "int64",
         "type": "integer"
        },
        {
         "name": "Fuel_capacity",
         "rawType": "int64",
         "type": "integer"
        }
       ],
       "ref": "4f86af22-4264-461c-ac25-94734dab1f6c",
       "rows": [
        [
         "1.0",
         "1",
         "1",
         "1",
         "1",
         "1",
         "1"
        ],
        [
         "1.5",
         "1",
         "1",
         "1",
         "1",
         "1",
         "1"
        ],
        [
         "1.6",
         "1",
         "1",
         "1",
         "1",
         "1",
         "1"
        ],
        [
         "1.8",
         "8",
         "8",
         "8",
         "8",
         "8",
         "8"
        ],
        [
         "1.9",
         "5",
         "5",
         "5",
         "5",
         "5",
         "5"
        ],
        [
         "2.0",
         "17",
         "17",
         "17",
         "17",
         "17",
         "17"
        ],
        [
         "2.2",
         "4",
         "4",
         "4",
         "4",
         "4",
         "4"
        ],
        [
         "2.3",
         "6",
         "6",
         "6",
         "6",
         "6",
         "6"
        ],
        [
         "2.4",
         "11",
         "11",
         "11",
         "11",
         "11",
         "11"
        ],
        [
         "2.5",
         "11",
         "11",
         "11",
         "11",
         "11",
         "11"
        ],
        [
         "2.7",
         "4",
         "4",
         "4",
         "4",
         "4",
         "4"
        ],
        [
         "2.8",
         "3",
         "3",
         "3",
         "3",
         "3",
         "3"
        ],
        [
         "2.9",
         "1",
         "1",
         "1",
         "1",
         "1",
         "1"
        ],
        [
         "3.0",
         "14",
         "14",
         "14",
         "14",
         "14",
         "14"
        ],
        [
         "3.1",
         "4",
         "4",
         "4",
         "4",
         "4",
         "4"
        ],
        [
         "3.2",
         "6",
         "6",
         "6",
         "5",
         "6",
         "6"
        ],
        [
         "3.3",
         "5",
         "5",
         "5",
         "5",
         "5",
         "5"
        ],
        [
         "3.4",
         "7",
         "7",
         "7",
         "7",
         "7",
         "7"
        ],
        [
         "3.5",
         "8",
         "8",
         "8",
         "8",
         "8",
         "8"
        ],
        [
         "3.8",
         "8",
         "8",
         "8",
         "8",
         "8",
         "8"
        ],
        [
         "3.9",
         "2",
         "2",
         "2",
         "2",
         "2",
         "2"
        ],
        [
         "4.0",
         "7",
         "7",
         "7",
         "7",
         "7",
         "7"
        ],
        [
         "4.2",
         "1",
         "1",
         "1",
         "1",
         "1",
         "1"
        ],
        [
         "4.3",
         "2",
         "2",
         "2",
         "2",
         "2",
         "2"
        ],
        [
         "4.6",
         "9",
         "9",
         "9",
         "9",
         "9",
         "9"
        ],
        [
         "4.7",
         "2",
         "2",
         "2",
         "2",
         "2",
         "2"
        ],
        [
         "5.0",
         "2",
         "2",
         "2",
         "2",
         "2",
         "2"
        ],
        [
         "5.2",
         "2",
         "2",
         "2",
         "2",
         "2",
         "2"
        ],
        [
         "5.4",
         "1",
         "1",
         "1",
         "1",
         "1",
         "1"
        ],
        [
         "5.7",
         "2",
         "2",
         "2",
         "2",
         "2",
         "2"
        ],
        [
         "8.0",
         "1",
         "1",
         "1",
         "1",
         "1",
         "1"
        ],
        [
         null,
         "1",
         "1",
         "1",
         "0",
         "0",
         "0"
        ]
       ],
       "shape": {
        "columns": 6,
        "rows": 32
       }
      },
      "text/html": [
       "<div>\n",
       "<style scoped>\n",
       "    .dataframe tbody tr th:only-of-type {\n",
       "        vertical-align: middle;\n",
       "    }\n",
       "\n",
       "    .dataframe tbody tr th {\n",
       "        vertical-align: top;\n",
       "    }\n",
       "\n",
       "    .dataframe thead th {\n",
       "        text-align: right;\n",
       "    }\n",
       "</style>\n",
       "<table border=\"1\" class=\"dataframe\">\n",
       "  <thead>\n",
       "    <tr style=\"text-align: right;\">\n",
       "      <th></th>\n",
       "      <th>Manufacturer</th>\n",
       "      <th>Sales_in_thousands</th>\n",
       "      <th>Vehicle_type</th>\n",
       "      <th>Price_in_thousands</th>\n",
       "      <th>Horsepower</th>\n",
       "      <th>Fuel_capacity</th>\n",
       "    </tr>\n",
       "    <tr>\n",
       "      <th>Engine_size</th>\n",
       "      <th></th>\n",
       "      <th></th>\n",
       "      <th></th>\n",
       "      <th></th>\n",
       "      <th></th>\n",
       "      <th></th>\n",
       "    </tr>\n",
       "  </thead>\n",
       "  <tbody>\n",
       "    <tr>\n",
       "      <th>1.0</th>\n",
       "      <td>1</td>\n",
       "      <td>1</td>\n",
       "      <td>1</td>\n",
       "      <td>1</td>\n",
       "      <td>1</td>\n",
       "      <td>1</td>\n",
       "    </tr>\n",
       "    <tr>\n",
       "      <th>1.5</th>\n",
       "      <td>1</td>\n",
       "      <td>1</td>\n",
       "      <td>1</td>\n",
       "      <td>1</td>\n",
       "      <td>1</td>\n",
       "      <td>1</td>\n",
       "    </tr>\n",
       "    <tr>\n",
       "      <th>1.6</th>\n",
       "      <td>1</td>\n",
       "      <td>1</td>\n",
       "      <td>1</td>\n",
       "      <td>1</td>\n",
       "      <td>1</td>\n",
       "      <td>1</td>\n",
       "    </tr>\n",
       "    <tr>\n",
       "      <th>1.8</th>\n",
       "      <td>8</td>\n",
       "      <td>8</td>\n",
       "      <td>8</td>\n",
       "      <td>8</td>\n",
       "      <td>8</td>\n",
       "      <td>8</td>\n",
       "    </tr>\n",
       "    <tr>\n",
       "      <th>1.9</th>\n",
       "      <td>5</td>\n",
       "      <td>5</td>\n",
       "      <td>5</td>\n",
       "      <td>5</td>\n",
       "      <td>5</td>\n",
       "      <td>5</td>\n",
       "    </tr>\n",
       "    <tr>\n",
       "      <th>2.0</th>\n",
       "      <td>17</td>\n",
       "      <td>17</td>\n",
       "      <td>17</td>\n",
       "      <td>17</td>\n",
       "      <td>17</td>\n",
       "      <td>17</td>\n",
       "    </tr>\n",
       "    <tr>\n",
       "      <th>2.2</th>\n",
       "      <td>4</td>\n",
       "      <td>4</td>\n",
       "      <td>4</td>\n",
       "      <td>4</td>\n",
       "      <td>4</td>\n",
       "      <td>4</td>\n",
       "    </tr>\n",
       "    <tr>\n",
       "      <th>2.3</th>\n",
       "      <td>6</td>\n",
       "      <td>6</td>\n",
       "      <td>6</td>\n",
       "      <td>6</td>\n",
       "      <td>6</td>\n",
       "      <td>6</td>\n",
       "    </tr>\n",
       "    <tr>\n",
       "      <th>2.4</th>\n",
       "      <td>11</td>\n",
       "      <td>11</td>\n",
       "      <td>11</td>\n",
       "      <td>11</td>\n",
       "      <td>11</td>\n",
       "      <td>11</td>\n",
       "    </tr>\n",
       "    <tr>\n",
       "      <th>2.5</th>\n",
       "      <td>11</td>\n",
       "      <td>11</td>\n",
       "      <td>11</td>\n",
       "      <td>11</td>\n",
       "      <td>11</td>\n",
       "      <td>11</td>\n",
       "    </tr>\n",
       "    <tr>\n",
       "      <th>2.7</th>\n",
       "      <td>4</td>\n",
       "      <td>4</td>\n",
       "      <td>4</td>\n",
       "      <td>4</td>\n",
       "      <td>4</td>\n",
       "      <td>4</td>\n",
       "    </tr>\n",
       "    <tr>\n",
       "      <th>2.8</th>\n",
       "      <td>3</td>\n",
       "      <td>3</td>\n",
       "      <td>3</td>\n",
       "      <td>3</td>\n",
       "      <td>3</td>\n",
       "      <td>3</td>\n",
       "    </tr>\n",
       "    <tr>\n",
       "      <th>2.9</th>\n",
       "      <td>1</td>\n",
       "      <td>1</td>\n",
       "      <td>1</td>\n",
       "      <td>1</td>\n",
       "      <td>1</td>\n",
       "      <td>1</td>\n",
       "    </tr>\n",
       "    <tr>\n",
       "      <th>3.0</th>\n",
       "      <td>14</td>\n",
       "      <td>14</td>\n",
       "      <td>14</td>\n",
       "      <td>14</td>\n",
       "      <td>14</td>\n",
       "      <td>14</td>\n",
       "    </tr>\n",
       "    <tr>\n",
       "      <th>3.1</th>\n",
       "      <td>4</td>\n",
       "      <td>4</td>\n",
       "      <td>4</td>\n",
       "      <td>4</td>\n",
       "      <td>4</td>\n",
       "      <td>4</td>\n",
       "    </tr>\n",
       "    <tr>\n",
       "      <th>3.2</th>\n",
       "      <td>6</td>\n",
       "      <td>6</td>\n",
       "      <td>6</td>\n",
       "      <td>5</td>\n",
       "      <td>6</td>\n",
       "      <td>6</td>\n",
       "    </tr>\n",
       "    <tr>\n",
       "      <th>3.3</th>\n",
       "      <td>5</td>\n",
       "      <td>5</td>\n",
       "      <td>5</td>\n",
       "      <td>5</td>\n",
       "      <td>5</td>\n",
       "      <td>5</td>\n",
       "    </tr>\n",
       "    <tr>\n",
       "      <th>3.4</th>\n",
       "      <td>7</td>\n",
       "      <td>7</td>\n",
       "      <td>7</td>\n",
       "      <td>7</td>\n",
       "      <td>7</td>\n",
       "      <td>7</td>\n",
       "    </tr>\n",
       "    <tr>\n",
       "      <th>3.5</th>\n",
       "      <td>8</td>\n",
       "      <td>8</td>\n",
       "      <td>8</td>\n",
       "      <td>8</td>\n",
       "      <td>8</td>\n",
       "      <td>8</td>\n",
       "    </tr>\n",
       "    <tr>\n",
       "      <th>3.8</th>\n",
       "      <td>8</td>\n",
       "      <td>8</td>\n",
       "      <td>8</td>\n",
       "      <td>8</td>\n",
       "      <td>8</td>\n",
       "      <td>8</td>\n",
       "    </tr>\n",
       "    <tr>\n",
       "      <th>3.9</th>\n",
       "      <td>2</td>\n",
       "      <td>2</td>\n",
       "      <td>2</td>\n",
       "      <td>2</td>\n",
       "      <td>2</td>\n",
       "      <td>2</td>\n",
       "    </tr>\n",
       "    <tr>\n",
       "      <th>4.0</th>\n",
       "      <td>7</td>\n",
       "      <td>7</td>\n",
       "      <td>7</td>\n",
       "      <td>7</td>\n",
       "      <td>7</td>\n",
       "      <td>7</td>\n",
       "    </tr>\n",
       "    <tr>\n",
       "      <th>4.2</th>\n",
       "      <td>1</td>\n",
       "      <td>1</td>\n",
       "      <td>1</td>\n",
       "      <td>1</td>\n",
       "      <td>1</td>\n",
       "      <td>1</td>\n",
       "    </tr>\n",
       "    <tr>\n",
       "      <th>4.3</th>\n",
       "      <td>2</td>\n",
       "      <td>2</td>\n",
       "      <td>2</td>\n",
       "      <td>2</td>\n",
       "      <td>2</td>\n",
       "      <td>2</td>\n",
       "    </tr>\n",
       "    <tr>\n",
       "      <th>4.6</th>\n",
       "      <td>9</td>\n",
       "      <td>9</td>\n",
       "      <td>9</td>\n",
       "      <td>9</td>\n",
       "      <td>9</td>\n",
       "      <td>9</td>\n",
       "    </tr>\n",
       "    <tr>\n",
       "      <th>4.7</th>\n",
       "      <td>2</td>\n",
       "      <td>2</td>\n",
       "      <td>2</td>\n",
       "      <td>2</td>\n",
       "      <td>2</td>\n",
       "      <td>2</td>\n",
       "    </tr>\n",
       "    <tr>\n",
       "      <th>5.0</th>\n",
       "      <td>2</td>\n",
       "      <td>2</td>\n",
       "      <td>2</td>\n",
       "      <td>2</td>\n",
       "      <td>2</td>\n",
       "      <td>2</td>\n",
       "    </tr>\n",
       "    <tr>\n",
       "      <th>5.2</th>\n",
       "      <td>2</td>\n",
       "      <td>2</td>\n",
       "      <td>2</td>\n",
       "      <td>2</td>\n",
       "      <td>2</td>\n",
       "      <td>2</td>\n",
       "    </tr>\n",
       "    <tr>\n",
       "      <th>5.4</th>\n",
       "      <td>1</td>\n",
       "      <td>1</td>\n",
       "      <td>1</td>\n",
       "      <td>1</td>\n",
       "      <td>1</td>\n",
       "      <td>1</td>\n",
       "    </tr>\n",
       "    <tr>\n",
       "      <th>5.7</th>\n",
       "      <td>2</td>\n",
       "      <td>2</td>\n",
       "      <td>2</td>\n",
       "      <td>2</td>\n",
       "      <td>2</td>\n",
       "      <td>2</td>\n",
       "    </tr>\n",
       "    <tr>\n",
       "      <th>8.0</th>\n",
       "      <td>1</td>\n",
       "      <td>1</td>\n",
       "      <td>1</td>\n",
       "      <td>1</td>\n",
       "      <td>1</td>\n",
       "      <td>1</td>\n",
       "    </tr>\n",
       "    <tr>\n",
       "      <th>NaN</th>\n",
       "      <td>1</td>\n",
       "      <td>1</td>\n",
       "      <td>1</td>\n",
       "      <td>0</td>\n",
       "      <td>0</td>\n",
       "      <td>0</td>\n",
       "    </tr>\n",
       "  </tbody>\n",
       "</table>\n",
       "</div>"
      ],
      "text/plain": [
       "             Manufacturer  Sales_in_thousands  Vehicle_type  \\\n",
       "Engine_size                                                   \n",
       "1.0                     1                   1             1   \n",
       "1.5                     1                   1             1   \n",
       "1.6                     1                   1             1   \n",
       "1.8                     8                   8             8   \n",
       "1.9                     5                   5             5   \n",
       "2.0                    17                  17            17   \n",
       "2.2                     4                   4             4   \n",
       "2.3                     6                   6             6   \n",
       "2.4                    11                  11            11   \n",
       "2.5                    11                  11            11   \n",
       "2.7                     4                   4             4   \n",
       "2.8                     3                   3             3   \n",
       "2.9                     1                   1             1   \n",
       "3.0                    14                  14            14   \n",
       "3.1                     4                   4             4   \n",
       "3.2                     6                   6             6   \n",
       "3.3                     5                   5             5   \n",
       "3.4                     7                   7             7   \n",
       "3.5                     8                   8             8   \n",
       "3.8                     8                   8             8   \n",
       "3.9                     2                   2             2   \n",
       "4.0                     7                   7             7   \n",
       "4.2                     1                   1             1   \n",
       "4.3                     2                   2             2   \n",
       "4.6                     9                   9             9   \n",
       "4.7                     2                   2             2   \n",
       "5.0                     2                   2             2   \n",
       "5.2                     2                   2             2   \n",
       "5.4                     1                   1             1   \n",
       "5.7                     2                   2             2   \n",
       "8.0                     1                   1             1   \n",
       "NaN                     1                   1             1   \n",
       "\n",
       "             Price_in_thousands  Horsepower  Fuel_capacity  \n",
       "Engine_size                                                 \n",
       "1.0                           1           1              1  \n",
       "1.5                           1           1              1  \n",
       "1.6                           1           1              1  \n",
       "1.8                           8           8              8  \n",
       "1.9                           5           5              5  \n",
       "2.0                          17          17             17  \n",
       "2.2                           4           4              4  \n",
       "2.3                           6           6              6  \n",
       "2.4                          11          11             11  \n",
       "2.5                          11          11             11  \n",
       "2.7                           4           4              4  \n",
       "2.8                           3           3              3  \n",
       "2.9                           1           1              1  \n",
       "3.0                          14          14             14  \n",
       "3.1                           4           4              4  \n",
       "3.2                           5           6              6  \n",
       "3.3                           5           5              5  \n",
       "3.4                           7           7              7  \n",
       "3.5                           8           8              8  \n",
       "3.8                           8           8              8  \n",
       "3.9                           2           2              2  \n",
       "4.0                           7           7              7  \n",
       "4.2                           1           1              1  \n",
       "4.3                           2           2              2  \n",
       "4.6                           9           9              9  \n",
       "4.7                           2           2              2  \n",
       "5.0                           2           2              2  \n",
       "5.2                           2           2              2  \n",
       "5.4                           1           1              1  \n",
       "5.7                           2           2              2  \n",
       "8.0                           1           1              1  \n",
       "NaN                           0           0              0  "
      ]
     },
     "execution_count": 53,
     "metadata": {},
     "output_type": "execute_result"
    }
   ],
   "source": [
    "# group by engine size count and values without dropping nan values\n",
    "df_cars.groupby('Engine_size', dropna=False).count()"
   ]
  },
  {
   "cell_type": "markdown",
   "id": "8502d52a",
   "metadata": {},
   "source": [
    "# 4. Groupby() and agg()"
   ]
  },
  {
   "cell_type": "code",
   "execution_count": 56,
   "id": "c4cbf609",
   "metadata": {},
   "outputs": [
    {
     "data": {
      "application/vnd.microsoft.datawrangler.viewer.v0+json": {
       "columns": [
        {
         "name": "Vehicle_type",
         "rawType": "object",
         "type": "string"
        },
        {
         "name": "('Manufacturer', 'min')",
         "rawType": "object",
         "type": "string"
        },
        {
         "name": "('Manufacturer', 'max')",
         "rawType": "object",
         "type": "string"
        },
        {
         "name": "('Sales_in_thousands', 'min')",
         "rawType": "float64",
         "type": "float"
        },
        {
         "name": "('Sales_in_thousands', 'max')",
         "rawType": "float64",
         "type": "float"
        },
        {
         "name": "('Price_in_thousands', 'min')",
         "rawType": "float64",
         "type": "float"
        },
        {
         "name": "('Price_in_thousands', 'max')",
         "rawType": "float64",
         "type": "float"
        },
        {
         "name": "('Engine_size', 'min')",
         "rawType": "float64",
         "type": "float"
        },
        {
         "name": "('Engine_size', 'max')",
         "rawType": "float64",
         "type": "float"
        },
        {
         "name": "('Horsepower', 'min')",
         "rawType": "float64",
         "type": "float"
        },
        {
         "name": "('Horsepower', 'max')",
         "rawType": "float64",
         "type": "float"
        },
        {
         "name": "('Fuel_capacity', 'min')",
         "rawType": "float64",
         "type": "float"
        },
        {
         "name": "('Fuel_capacity', 'max')",
         "rawType": "float64",
         "type": "float"
        }
       ],
       "ref": "389d6531-4c1d-4c7e-8d22-b006b12d56fc",
       "rows": [
        [
         "Car",
         "Cadillac",
         "Toyota",
         "9.126",
         "540.561",
         "11.528",
         "60.105",
         "2.0",
         "5.7",
         "119.0",
         "300.0",
         "15.1",
         "32.0"
        ],
        [
         "Passenger",
         "Acura",
         "Volvo",
         "0.11",
         "247.994",
         "9.235",
         "85.5",
         "1.0",
         "8.0",
         "55.0",
         "450.0",
         "10.3",
         "23.7"
        ]
       ],
       "shape": {
        "columns": 12,
        "rows": 2
       }
      },
      "text/html": [
       "<div>\n",
       "<style scoped>\n",
       "    .dataframe tbody tr th:only-of-type {\n",
       "        vertical-align: middle;\n",
       "    }\n",
       "\n",
       "    .dataframe tbody tr th {\n",
       "        vertical-align: top;\n",
       "    }\n",
       "\n",
       "    .dataframe thead tr th {\n",
       "        text-align: left;\n",
       "    }\n",
       "\n",
       "    .dataframe thead tr:last-of-type th {\n",
       "        text-align: right;\n",
       "    }\n",
       "</style>\n",
       "<table border=\"1\" class=\"dataframe\">\n",
       "  <thead>\n",
       "    <tr>\n",
       "      <th></th>\n",
       "      <th colspan=\"2\" halign=\"left\">Manufacturer</th>\n",
       "      <th colspan=\"2\" halign=\"left\">Sales_in_thousands</th>\n",
       "      <th colspan=\"2\" halign=\"left\">Price_in_thousands</th>\n",
       "      <th colspan=\"2\" halign=\"left\">Engine_size</th>\n",
       "      <th colspan=\"2\" halign=\"left\">Horsepower</th>\n",
       "      <th colspan=\"2\" halign=\"left\">Fuel_capacity</th>\n",
       "    </tr>\n",
       "    <tr>\n",
       "      <th></th>\n",
       "      <th>min</th>\n",
       "      <th>max</th>\n",
       "      <th>min</th>\n",
       "      <th>max</th>\n",
       "      <th>min</th>\n",
       "      <th>max</th>\n",
       "      <th>min</th>\n",
       "      <th>max</th>\n",
       "      <th>min</th>\n",
       "      <th>max</th>\n",
       "      <th>min</th>\n",
       "      <th>max</th>\n",
       "    </tr>\n",
       "    <tr>\n",
       "      <th>Vehicle_type</th>\n",
       "      <th></th>\n",
       "      <th></th>\n",
       "      <th></th>\n",
       "      <th></th>\n",
       "      <th></th>\n",
       "      <th></th>\n",
       "      <th></th>\n",
       "      <th></th>\n",
       "      <th></th>\n",
       "      <th></th>\n",
       "      <th></th>\n",
       "      <th></th>\n",
       "    </tr>\n",
       "  </thead>\n",
       "  <tbody>\n",
       "    <tr>\n",
       "      <th>Car</th>\n",
       "      <td>Cadillac</td>\n",
       "      <td>Toyota</td>\n",
       "      <td>9.126</td>\n",
       "      <td>540.561</td>\n",
       "      <td>11.528</td>\n",
       "      <td>60.105</td>\n",
       "      <td>2.0</td>\n",
       "      <td>5.7</td>\n",
       "      <td>119.0</td>\n",
       "      <td>300.0</td>\n",
       "      <td>15.1</td>\n",
       "      <td>32.0</td>\n",
       "    </tr>\n",
       "    <tr>\n",
       "      <th>Passenger</th>\n",
       "      <td>Acura</td>\n",
       "      <td>Volvo</td>\n",
       "      <td>0.110</td>\n",
       "      <td>247.994</td>\n",
       "      <td>9.235</td>\n",
       "      <td>85.500</td>\n",
       "      <td>1.0</td>\n",
       "      <td>8.0</td>\n",
       "      <td>55.0</td>\n",
       "      <td>450.0</td>\n",
       "      <td>10.3</td>\n",
       "      <td>23.7</td>\n",
       "    </tr>\n",
       "  </tbody>\n",
       "</table>\n",
       "</div>"
      ],
      "text/plain": [
       "             Manufacturer         Sales_in_thousands           \\\n",
       "                      min     max                min      max   \n",
       "Vehicle_type                                                    \n",
       "Car              Cadillac  Toyota              9.126  540.561   \n",
       "Passenger           Acura   Volvo              0.110  247.994   \n",
       "\n",
       "             Price_in_thousands         Engine_size      Horsepower         \\\n",
       "                            min     max         min  max        min    max   \n",
       "Vehicle_type                                                                 \n",
       "Car                      11.528  60.105         2.0  5.7      119.0  300.0   \n",
       "Passenger                 9.235  85.500         1.0  8.0       55.0  450.0   \n",
       "\n",
       "             Fuel_capacity        \n",
       "                       min   max  \n",
       "Vehicle_type                      \n",
       "Car                   15.1  32.0  \n",
       "Passenger             10.3  23.7  "
      ]
     },
     "execution_count": 56,
     "metadata": {},
     "output_type": "execute_result"
    }
   ],
   "source": [
    "# find the minimum and maximum values on each column \n",
    "df_cars.groupby('Vehicle_type').agg(['min', 'max'])"
   ]
  },
  {
   "cell_type": "code",
   "execution_count": 57,
   "id": "cb42c265",
   "metadata": {},
   "outputs": [
    {
     "data": {
      "application/vnd.microsoft.datawrangler.viewer.v0+json": {
       "columns": [
        {
         "name": "Vehicle_type",
         "rawType": "object",
         "type": "string"
        },
        {
         "name": "min_engine_size",
         "rawType": "float64",
         "type": "float"
        },
        {
         "name": "max_horsepower",
         "rawType": "float64",
         "type": "float"
        }
       ],
       "ref": "32fc5967-f863-421b-827d-67f09f2d2d8c",
       "rows": [
        [
         "Car",
         "2.0",
         "300.0"
        ],
        [
         "Passenger",
         "1.0",
         "450.0"
        ]
       ],
       "shape": {
        "columns": 2,
        "rows": 2
       }
      },
      "text/html": [
       "<div>\n",
       "<style scoped>\n",
       "    .dataframe tbody tr th:only-of-type {\n",
       "        vertical-align: middle;\n",
       "    }\n",
       "\n",
       "    .dataframe tbody tr th {\n",
       "        vertical-align: top;\n",
       "    }\n",
       "\n",
       "    .dataframe thead th {\n",
       "        text-align: right;\n",
       "    }\n",
       "</style>\n",
       "<table border=\"1\" class=\"dataframe\">\n",
       "  <thead>\n",
       "    <tr style=\"text-align: right;\">\n",
       "      <th></th>\n",
       "      <th>min_engine_size</th>\n",
       "      <th>max_horsepower</th>\n",
       "    </tr>\n",
       "    <tr>\n",
       "      <th>Vehicle_type</th>\n",
       "      <th></th>\n",
       "      <th></th>\n",
       "    </tr>\n",
       "  </thead>\n",
       "  <tbody>\n",
       "    <tr>\n",
       "      <th>Car</th>\n",
       "      <td>2.0</td>\n",
       "      <td>300.0</td>\n",
       "    </tr>\n",
       "    <tr>\n",
       "      <th>Passenger</th>\n",
       "      <td>1.0</td>\n",
       "      <td>450.0</td>\n",
       "    </tr>\n",
       "  </tbody>\n",
       "</table>\n",
       "</div>"
      ],
      "text/plain": [
       "              min_engine_size  max_horsepower\n",
       "Vehicle_type                                 \n",
       "Car                       2.0           300.0\n",
       "Passenger                 1.0           450.0"
      ]
     },
     "execution_count": 57,
     "metadata": {},
     "output_type": "execute_result"
    }
   ],
   "source": [
    "#set a name for aggregate values \n",
    "df_cars.groupby('Vehicle_type').agg(min_engine_size=('Engine_size', 'min'),\n",
    "                                    max_horsepower=('Horsepower', 'max'))"
   ]
  },
  {
   "cell_type": "markdown",
   "id": "16f2b681",
   "metadata": {},
   "source": [
    "# 5 Lambda"
   ]
  },
  {
   "cell_type": "code",
   "execution_count": 58,
   "id": "0bf1a510",
   "metadata": {},
   "outputs": [
    {
     "data": {
      "application/vnd.microsoft.datawrangler.viewer.v0+json": {
       "columns": [
        {
         "name": "Manufacturer",
         "rawType": "object",
         "type": "string"
        },
        {
         "name": "Sales_in_thousands",
         "rawType": "float64",
         "type": "float"
        },
        {
         "name": "Vehicle_type",
         "rawType": "object",
         "type": "string"
        },
        {
         "name": "Price_in_thousands",
         "rawType": "float64",
         "type": "float"
        },
        {
         "name": "Engine_size",
         "rawType": "float64",
         "type": "float"
        },
        {
         "name": "Horsepower",
         "rawType": "float64",
         "type": "float"
        },
        {
         "name": "Fuel_capacity",
         "rawType": "float64",
         "type": "float"
        }
       ],
       "ref": "cb21ac1d-2d99-440c-a8e1-5fa3b8ed8992",
       "rows": [
        [
         "Acura",
         "79.005",
         "PassengerPassengerPassengerPassenger",
         "91.9",
         "11.7",
         "800.0",
         "65.6"
        ],
        [
         "Audi",
         "40.557",
         "PassengerPassengerPassenger",
         "119.94",
         "8.8",
         "660.0",
         "58.599999999999994"
        ],
        [
         "BMW",
         "46.505",
         "PassengerPassengerPassenger",
         "99.28999999999999",
         "8.1",
         "556.0",
         "51.7"
        ],
        [
         "Buick",
         "242.019",
         "PassengerPassengerPassengerPassenger",
         "107.125",
         "14.5",
         "825.0",
         "71.0"
        ],
        [
         "Cadillac",
         "112.178",
         "PassengerPassengerPassengerPassengerCar",
         "201.27",
         "22.5",
         "1280.0",
         "104.0"
        ]
       ],
       "shape": {
        "columns": 6,
        "rows": 5
       }
      },
      "text/html": [
       "<div>\n",
       "<style scoped>\n",
       "    .dataframe tbody tr th:only-of-type {\n",
       "        vertical-align: middle;\n",
       "    }\n",
       "\n",
       "    .dataframe tbody tr th {\n",
       "        vertical-align: top;\n",
       "    }\n",
       "\n",
       "    .dataframe thead th {\n",
       "        text-align: right;\n",
       "    }\n",
       "</style>\n",
       "<table border=\"1\" class=\"dataframe\">\n",
       "  <thead>\n",
       "    <tr style=\"text-align: right;\">\n",
       "      <th></th>\n",
       "      <th>Sales_in_thousands</th>\n",
       "      <th>Vehicle_type</th>\n",
       "      <th>Price_in_thousands</th>\n",
       "      <th>Engine_size</th>\n",
       "      <th>Horsepower</th>\n",
       "      <th>Fuel_capacity</th>\n",
       "    </tr>\n",
       "    <tr>\n",
       "      <th>Manufacturer</th>\n",
       "      <th></th>\n",
       "      <th></th>\n",
       "      <th></th>\n",
       "      <th></th>\n",
       "      <th></th>\n",
       "      <th></th>\n",
       "    </tr>\n",
       "  </thead>\n",
       "  <tbody>\n",
       "    <tr>\n",
       "      <th>Acura</th>\n",
       "      <td>79.005</td>\n",
       "      <td>PassengerPassengerPassengerPassenger</td>\n",
       "      <td>91.900</td>\n",
       "      <td>11.7</td>\n",
       "      <td>800.0</td>\n",
       "      <td>65.6</td>\n",
       "    </tr>\n",
       "    <tr>\n",
       "      <th>Audi</th>\n",
       "      <td>40.557</td>\n",
       "      <td>PassengerPassengerPassenger</td>\n",
       "      <td>119.940</td>\n",
       "      <td>8.8</td>\n",
       "      <td>660.0</td>\n",
       "      <td>58.6</td>\n",
       "    </tr>\n",
       "    <tr>\n",
       "      <th>BMW</th>\n",
       "      <td>46.505</td>\n",
       "      <td>PassengerPassengerPassenger</td>\n",
       "      <td>99.290</td>\n",
       "      <td>8.1</td>\n",
       "      <td>556.0</td>\n",
       "      <td>51.7</td>\n",
       "    </tr>\n",
       "    <tr>\n",
       "      <th>Buick</th>\n",
       "      <td>242.019</td>\n",
       "      <td>PassengerPassengerPassengerPassenger</td>\n",
       "      <td>107.125</td>\n",
       "      <td>14.5</td>\n",
       "      <td>825.0</td>\n",
       "      <td>71.0</td>\n",
       "    </tr>\n",
       "    <tr>\n",
       "      <th>Cadillac</th>\n",
       "      <td>112.178</td>\n",
       "      <td>PassengerPassengerPassengerPassengerCar</td>\n",
       "      <td>201.270</td>\n",
       "      <td>22.5</td>\n",
       "      <td>1280.0</td>\n",
       "      <td>104.0</td>\n",
       "    </tr>\n",
       "  </tbody>\n",
       "</table>\n",
       "</div>"
      ],
      "text/plain": [
       "              Sales_in_thousands                             Vehicle_type  \\\n",
       "Manufacturer                                                                \n",
       "Acura                     79.005     PassengerPassengerPassengerPassenger   \n",
       "Audi                      40.557              PassengerPassengerPassenger   \n",
       "BMW                       46.505              PassengerPassengerPassenger   \n",
       "Buick                    242.019     PassengerPassengerPassengerPassenger   \n",
       "Cadillac                 112.178  PassengerPassengerPassengerPassengerCar   \n",
       "\n",
       "              Price_in_thousands  Engine_size  Horsepower  Fuel_capacity  \n",
       "Manufacturer                                                              \n",
       "Acura                     91.900         11.7       800.0           65.6  \n",
       "Audi                     119.940          8.8       660.0           58.6  \n",
       "BMW                       99.290          8.1       556.0           51.7  \n",
       "Buick                    107.125         14.5       825.0           71.0  \n",
       "Cadillac                 201.270         22.5      1280.0          104.0  "
      ]
     },
     "execution_count": 58,
     "metadata": {},
     "output_type": "execute_result"
    }
   ],
   "source": [
    "df_cars.groupby('Manufacturer').sum().head()"
   ]
  },
  {
   "cell_type": "code",
   "execution_count": 60,
   "id": "63c4f906",
   "metadata": {},
   "outputs": [
    {
     "data": {
      "text/plain": [
       "2"
      ]
     },
     "execution_count": 60,
     "metadata": {},
     "output_type": "execute_result"
    }
   ],
   "source": [
    "sum_one = lambda x:x+1\n",
    "sum_one(1)\n"
   ]
  },
  {
   "cell_type": "code",
   "execution_count": 63,
   "id": "d85eaf01",
   "metadata": {},
   "outputs": [
    {
     "data": {
      "application/vnd.microsoft.datawrangler.viewer.v0+json": {
       "columns": [
        {
         "name": "Manufacturer",
         "rawType": "object",
         "type": "string"
        },
        {
         "name": "Sales_in_thousands",
         "rawType": "float64",
         "type": "float"
        },
        {
         "name": "Price_in_thousands",
         "rawType": "float64",
         "type": "float"
        }
       ],
       "ref": "dfcadcee-f8f1-41f7-ad33-4e4a448f3dbf",
       "rows": [
        [
         "Acura",
         "79005.0",
         "91900.0"
        ],
        [
         "Audi",
         "40557.0",
         "119940.0"
        ],
        [
         "BMW",
         "46505.0",
         "99289.99999999999"
        ],
        [
         "Buick",
         "242019.0",
         "107125.0"
        ],
        [
         "Cadillac",
         "112178.0",
         "201270.0"
        ],
        [
         "Chevrolet",
         "554365.0",
         "180204.99999999997"
        ],
        [
         "Chrysler",
         "201721.0",
         "140585.0"
        ],
        [
         "Dodge",
         "910149.0",
         "266350.0"
        ],
        [
         "Ford",
         "2022635.0",
         "231519.99999999997"
        ],
        [
         "Honda",
         "592674.0",
         "101385.0"
        ],
        [
         "Hyundai",
         "137326.0",
         "36497.0"
        ],
        [
         "Infiniti",
         "23713.0",
         "29465.0"
        ],
        [
         "Jaguar",
         "15467.0",
         "42800.0"
        ],
        [
         "Jeep",
         "293153.0",
         "62975.0"
        ],
        [
         "Lexus",
         "106842.99999999999",
         "264330.0"
        ],
        [
         "Lincoln",
         "85634.0",
         "125070.0"
        ],
        [
         "Mercedes-B",
         "117125.0",
         "476250.0"
        ],
        [
         "Mercury",
         "237999.0",
         "124490.0"
        ],
        [
         "Mitsubishi",
         "180894.99999999997",
         "155172.0"
        ],
        [
         "Nissan",
         "399635.0",
         "156525.0"
        ],
        [
         "Oldsmobile",
         "178989.0",
         "153737.0"
        ],
        [
         "Plymouth",
         "64001.00000000001",
         "90570.0"
        ],
        [
         "Pontiac",
         "370534.00000000006",
         "137695.0"
        ],
        [
         "Porsche",
         "12128.0",
         "187420.00000000003"
        ],
        [
         "Saab",
         "21306.0",
         "59220.0"
        ],
        [
         "Saturn",
         "168850.0",
         "71355.0"
        ],
        [
         "Subaru",
         "80134.99999999999",
         "42790.0"
        ],
        [
         "Toyota",
         "740205.0",
         "197846.0"
        ],
        [
         "Volkswagen",
         "209212.0",
         "106190.0"
        ],
        [
         "Volvo",
         "75740.0",
         "185600.0"
        ]
       ],
       "shape": {
        "columns": 2,
        "rows": 30
       }
      },
      "text/html": [
       "<div>\n",
       "<style scoped>\n",
       "    .dataframe tbody tr th:only-of-type {\n",
       "        vertical-align: middle;\n",
       "    }\n",
       "\n",
       "    .dataframe tbody tr th {\n",
       "        vertical-align: top;\n",
       "    }\n",
       "\n",
       "    .dataframe thead th {\n",
       "        text-align: right;\n",
       "    }\n",
       "</style>\n",
       "<table border=\"1\" class=\"dataframe\">\n",
       "  <thead>\n",
       "    <tr style=\"text-align: right;\">\n",
       "      <th></th>\n",
       "      <th>Sales_in_thousands</th>\n",
       "      <th>Price_in_thousands</th>\n",
       "    </tr>\n",
       "    <tr>\n",
       "      <th>Manufacturer</th>\n",
       "      <th></th>\n",
       "      <th></th>\n",
       "    </tr>\n",
       "  </thead>\n",
       "  <tbody>\n",
       "    <tr>\n",
       "      <th>Acura</th>\n",
       "      <td>79005.0</td>\n",
       "      <td>91900.0</td>\n",
       "    </tr>\n",
       "    <tr>\n",
       "      <th>Audi</th>\n",
       "      <td>40557.0</td>\n",
       "      <td>119940.0</td>\n",
       "    </tr>\n",
       "    <tr>\n",
       "      <th>BMW</th>\n",
       "      <td>46505.0</td>\n",
       "      <td>99290.0</td>\n",
       "    </tr>\n",
       "    <tr>\n",
       "      <th>Buick</th>\n",
       "      <td>242019.0</td>\n",
       "      <td>107125.0</td>\n",
       "    </tr>\n",
       "    <tr>\n",
       "      <th>Cadillac</th>\n",
       "      <td>112178.0</td>\n",
       "      <td>201270.0</td>\n",
       "    </tr>\n",
       "    <tr>\n",
       "      <th>Chevrolet</th>\n",
       "      <td>554365.0</td>\n",
       "      <td>180205.0</td>\n",
       "    </tr>\n",
       "    <tr>\n",
       "      <th>Chrysler</th>\n",
       "      <td>201721.0</td>\n",
       "      <td>140585.0</td>\n",
       "    </tr>\n",
       "    <tr>\n",
       "      <th>Dodge</th>\n",
       "      <td>910149.0</td>\n",
       "      <td>266350.0</td>\n",
       "    </tr>\n",
       "    <tr>\n",
       "      <th>Ford</th>\n",
       "      <td>2022635.0</td>\n",
       "      <td>231520.0</td>\n",
       "    </tr>\n",
       "    <tr>\n",
       "      <th>Honda</th>\n",
       "      <td>592674.0</td>\n",
       "      <td>101385.0</td>\n",
       "    </tr>\n",
       "    <tr>\n",
       "      <th>Hyundai</th>\n",
       "      <td>137326.0</td>\n",
       "      <td>36497.0</td>\n",
       "    </tr>\n",
       "    <tr>\n",
       "      <th>Infiniti</th>\n",
       "      <td>23713.0</td>\n",
       "      <td>29465.0</td>\n",
       "    </tr>\n",
       "    <tr>\n",
       "      <th>Jaguar</th>\n",
       "      <td>15467.0</td>\n",
       "      <td>42800.0</td>\n",
       "    </tr>\n",
       "    <tr>\n",
       "      <th>Jeep</th>\n",
       "      <td>293153.0</td>\n",
       "      <td>62975.0</td>\n",
       "    </tr>\n",
       "    <tr>\n",
       "      <th>Lexus</th>\n",
       "      <td>106843.0</td>\n",
       "      <td>264330.0</td>\n",
       "    </tr>\n",
       "    <tr>\n",
       "      <th>Lincoln</th>\n",
       "      <td>85634.0</td>\n",
       "      <td>125070.0</td>\n",
       "    </tr>\n",
       "    <tr>\n",
       "      <th>Mercedes-B</th>\n",
       "      <td>117125.0</td>\n",
       "      <td>476250.0</td>\n",
       "    </tr>\n",
       "    <tr>\n",
       "      <th>Mercury</th>\n",
       "      <td>237999.0</td>\n",
       "      <td>124490.0</td>\n",
       "    </tr>\n",
       "    <tr>\n",
       "      <th>Mitsubishi</th>\n",
       "      <td>180895.0</td>\n",
       "      <td>155172.0</td>\n",
       "    </tr>\n",
       "    <tr>\n",
       "      <th>Nissan</th>\n",
       "      <td>399635.0</td>\n",
       "      <td>156525.0</td>\n",
       "    </tr>\n",
       "    <tr>\n",
       "      <th>Oldsmobile</th>\n",
       "      <td>178989.0</td>\n",
       "      <td>153737.0</td>\n",
       "    </tr>\n",
       "    <tr>\n",
       "      <th>Plymouth</th>\n",
       "      <td>64001.0</td>\n",
       "      <td>90570.0</td>\n",
       "    </tr>\n",
       "    <tr>\n",
       "      <th>Pontiac</th>\n",
       "      <td>370534.0</td>\n",
       "      <td>137695.0</td>\n",
       "    </tr>\n",
       "    <tr>\n",
       "      <th>Porsche</th>\n",
       "      <td>12128.0</td>\n",
       "      <td>187420.0</td>\n",
       "    </tr>\n",
       "    <tr>\n",
       "      <th>Saab</th>\n",
       "      <td>21306.0</td>\n",
       "      <td>59220.0</td>\n",
       "    </tr>\n",
       "    <tr>\n",
       "      <th>Saturn</th>\n",
       "      <td>168850.0</td>\n",
       "      <td>71355.0</td>\n",
       "    </tr>\n",
       "    <tr>\n",
       "      <th>Subaru</th>\n",
       "      <td>80135.0</td>\n",
       "      <td>42790.0</td>\n",
       "    </tr>\n",
       "    <tr>\n",
       "      <th>Toyota</th>\n",
       "      <td>740205.0</td>\n",
       "      <td>197846.0</td>\n",
       "    </tr>\n",
       "    <tr>\n",
       "      <th>Volkswagen</th>\n",
       "      <td>209212.0</td>\n",
       "      <td>106190.0</td>\n",
       "    </tr>\n",
       "    <tr>\n",
       "      <th>Volvo</th>\n",
       "      <td>75740.0</td>\n",
       "      <td>185600.0</td>\n",
       "    </tr>\n",
       "  </tbody>\n",
       "</table>\n",
       "</div>"
      ],
      "text/plain": [
       "              Sales_in_thousands  Price_in_thousands\n",
       "Manufacturer                                        \n",
       "Acura                    79005.0             91900.0\n",
       "Audi                     40557.0            119940.0\n",
       "BMW                      46505.0             99290.0\n",
       "Buick                   242019.0            107125.0\n",
       "Cadillac                112178.0            201270.0\n",
       "Chevrolet               554365.0            180205.0\n",
       "Chrysler                201721.0            140585.0\n",
       "Dodge                   910149.0            266350.0\n",
       "Ford                   2022635.0            231520.0\n",
       "Honda                   592674.0            101385.0\n",
       "Hyundai                 137326.0             36497.0\n",
       "Infiniti                 23713.0             29465.0\n",
       "Jaguar                   15467.0             42800.0\n",
       "Jeep                    293153.0             62975.0\n",
       "Lexus                   106843.0            264330.0\n",
       "Lincoln                  85634.0            125070.0\n",
       "Mercedes-B              117125.0            476250.0\n",
       "Mercury                 237999.0            124490.0\n",
       "Mitsubishi              180895.0            155172.0\n",
       "Nissan                  399635.0            156525.0\n",
       "Oldsmobile              178989.0            153737.0\n",
       "Plymouth                 64001.0             90570.0\n",
       "Pontiac                 370534.0            137695.0\n",
       "Porsche                  12128.0            187420.0\n",
       "Saab                     21306.0             59220.0\n",
       "Saturn                  168850.0             71355.0\n",
       "Subaru                   80135.0             42790.0\n",
       "Toyota                  740205.0            197846.0\n",
       "Volkswagen              209212.0            106190.0\n",
       "Volvo                    75740.0            185600.0"
      ]
     },
     "execution_count": 63,
     "metadata": {},
     "output_type": "execute_result"
    }
   ],
   "source": [
    "# get actual sales and price values \n",
    "df_cars.groupby('Manufacturer').sum(numeric_only=True).apply(lambda x:x*1000)[['Sales_in_thousands', 'Price_in_thousands']]"
   ]
  },
  {
   "cell_type": "code",
   "execution_count": 66,
   "id": "464695df",
   "metadata": {},
   "outputs": [
    {
     "name": "stderr",
     "output_type": "stream",
     "text": [
      "C:\\Users\\user\\AppData\\Local\\Temp\\ipykernel_15432\\2126128531.py:2: DeprecationWarning: DataFrameGroupBy.apply operated on the grouping columns. This behavior is deprecated, and in a future version of pandas the grouping columns will be excluded from the operation. Either pass `include_groups=False` to exclude the groupings or explicitly select the grouping columns after groupby to silence this warning.\n",
      "  df_cars.groupby('Manufacturer').apply(lambda x:x-x.mean(numeric_only=True))\n"
     ]
    },
    {
     "data": {
      "application/vnd.microsoft.datawrangler.viewer.v0+json": {
       "columns": [
        {
         "name": "('Manufacturer', None)",
         "rawType": "object",
         "type": "unknown"
        },
        {
         "name": "Engine_size",
         "rawType": "float64",
         "type": "float"
        },
        {
         "name": "Fuel_capacity",
         "rawType": "float64",
         "type": "float"
        },
        {
         "name": "Horsepower",
         "rawType": "float64",
         "type": "float"
        },
        {
         "name": "Manufacturer",
         "rawType": "object",
         "type": "unknown"
        },
        {
         "name": "Price_in_thousands",
         "rawType": "float64",
         "type": "float"
        },
        {
         "name": "Sales_in_thousands",
         "rawType": "float64",
         "type": "float"
        },
        {
         "name": "Vehicle_type",
         "rawType": "object",
         "type": "unknown"
        }
       ],
       "ref": "38a03522-7aaa-4a3b-b410-331e7e696959",
       "rows": [
        [
         "('Acura', 0)",
         "-1.1249999999999998",
         "-3.1999999999999993",
         "-60.0",
         null,
         "-9.133333333333336",
         "-2.8322499999999984",
         null
        ],
        [
         "('Acura', 1)",
         "0.27500000000000036",
         "0.8000000000000007",
         "25.0",
         null,
         "-2.233333333333338",
         "19.63275",
         null
        ],
        [
         "('Acura', 2)",
         "0.27500000000000036",
         "0.8000000000000007",
         "25.0",
         null,
         null,
         "-5.637249999999998",
         null
        ],
        [
         "('Acura', 3)",
         "0.5750000000000002",
         "1.6000000000000014",
         "10.0",
         null,
         "11.366666666666664",
         "-11.16325",
         null
        ],
        [
         "('Audi', 4)",
         "-1.1333333333333335",
         "-3.133333333333333",
         "-70.0",
         null,
         "-15.989999999999998",
         "6.877999999999998",
         null
        ],
        [
         "('Audi', 5)",
         "-0.13333333333333375",
         "-1.0333333333333314",
         "-20.0",
         null,
         "-6.029999999999994",
         "5.261000000000001",
         null
        ],
        [
         "('Audi', 6)",
         "1.2666666666666666",
         "4.166666666666668",
         "90.0",
         null,
         "22.020000000000003",
         "-12.139",
         null
        ],
        [
         "('BMW', 7)",
         "-0.19999999999999973",
         "-0.6333333333333329",
         "-15.333333333333343",
         null,
         "-6.106666666666666",
         "4.245333333333333",
         null
        ],
        [
         "('BMW', 8)",
         "0.10000000000000009",
         "-0.6333333333333329",
         "7.666666666666657",
         null,
         "0.30333333333333456",
         "-6.270666666666667",
         null
        ],
        [
         "('BMW', 9)",
         "0.10000000000000009",
         "1.2666666666666657",
         "7.666666666666657",
         null,
         "5.803333333333335",
         "2.025333333333334",
         null
        ],
        [
         "('Buick', 10)",
         "-0.5249999999999999",
         "-0.25",
         "-31.25",
         null,
         "-4.806250000000002",
         "31.056250000000006",
         null
        ],
        [
         "('Buick', 11)",
         "0.17499999999999982",
         "-0.25",
         "33.75",
         null,
         "-1.4812500000000028",
         "-21.15475",
         null
        ],
        [
         "('Buick', 12)",
         "0.17499999999999982",
         "0.75",
         "-1.25",
         null,
         "5.183749999999996",
         "-32.65375",
         null
        ],
        [
         "('Buick', 13)",
         "0.17499999999999982",
         "-0.25",
         "-1.25",
         null,
         "1.103749999999998",
         "22.752250000000004",
         null
        ],
        [
         "('Cadillac', 14)",
         "0.10000000000000053",
         "-2.3000000000000007",
         "19.0",
         null,
         "-0.35899999999999466",
         "41.2934",
         null
        ],
        [
         "('Cadillac', 15)",
         "0.10000000000000053",
         "-2.3000000000000007",
         "19.0",
         null,
         "4.221000000000004",
         "-6.492600000000001",
         null
        ],
        [
         "('Cadillac', 16)",
         "0.10000000000000053",
         "-1.8000000000000007",
         "19.0",
         null,
         "-0.5889999999999986",
         "-15.899600000000001",
         null
        ],
        [
         "('Cadillac', 17)",
         "-1.4999999999999991",
         "-2.8000000000000007",
         "-56.0",
         null,
         "-9.243999999999996",
         "-11.2506",
         null
        ],
        [
         "('Cadillac', 18)",
         "1.200000000000001",
         "9.2",
         "-1.0",
         null,
         "5.971000000000004",
         "-7.650600000000001",
         null
        ],
        [
         "('Chevrolet', 19)",
         "-0.8555555555555552",
         "-1.177777777777779",
         "-56.111111111111114",
         null,
         "-6.762777777777776",
         "83.92288888888889",
         null
        ],
        [
         "('Chevrolet', 20)",
         "0.04444444444444473",
         "-0.47777777777777963",
         "-1.1111111111111143",
         null,
         "-3.487777777777776",
         "73.52988888888889",
         null
        ],
        [
         "('Chevrolet', 21)",
         "0.04444444444444473",
         "1.1222222222222218",
         "3.8888888888888857",
         null,
         "-1.1327777777777754",
         "-36.96711111111111",
         null
        ],
        [
         "('Chevrolet', 22)",
         "0.34444444444444455",
         "1.5222222222222204",
         "8.888888888888886",
         null,
         "-0.6327777777777754",
         "-19.00311111111111",
         null
        ],
        [
         "('Chevrolet', 23)",
         "0.7444444444444445",
         "1.322222222222221",
         "28.888888888888886",
         null,
         "4.317222222222224",
         "-35.19411111111111",
         null
        ],
        [
         "('Chevrolet', 24)",
         "2.644444444444445",
         "3.622222222222222",
         "173.88888888888889",
         null,
         "25.682222222222222",
         "-43.64911111111111",
         null
        ],
        [
         "('Chevrolet', 25)",
         "-1.2555555555555553",
         "-2.2777777777777803",
         "-51.111111111111114",
         null,
         "-6.062777777777775",
         "-29.297111111111114",
         null
        ],
        [
         "('Chevrolet', 26)",
         "-2.0555555555555554",
         "-5.177777777777779",
         "-116.11111111111111",
         null,
         "-10.787777777777777",
         "-39.74111111111111",
         null
        ],
        [
         "('Chevrolet', 27)",
         "0.34444444444444455",
         "1.5222222222222204",
         "8.888888888888886",
         null,
         "-1.1327777777777754",
         "46.39888888888889",
         null
        ],
        [
         "('Chrysler', 28)",
         "-0.2833333333333332",
         "-0.5833333333333339",
         "-31.833333333333343",
         null,
         "-3.590833333333336",
         "-20.963285714285714",
         null
        ],
        [
         "('Chrysler', 29)",
         "-0.2833333333333332",
         "-0.4833333333333343",
         "-26.833333333333343",
         null,
         "1.0641666666666652",
         "3.9577142857142853",
         null
        ],
        [
         "('Chrysler', 30)",
         "-0.08333333333333304",
         "0.5166666666666657",
         "5.166666666666657",
         null,
         "-1.1858333333333348",
         "2.3307142857142864",
         null
        ],
        [
         "('Chrysler', 31)",
         "-0.7833333333333332",
         "-0.4833333333333343",
         "-62.83333333333334",
         null,
         "-6.950833333333335",
         "3.488714285714284",
         null
        ],
        [
         "('Chrysler', 32)",
         "0.7166666666666668",
         "0.5166666666666657",
         "58.16666666666666",
         null,
         "4.909166666666664",
         "-15.355285714285714",
         null
        ],
        [
         "('Chrysler', 33)",
         null,
         null,
         null,
         null,
         null,
         "24.662714285714284",
         null
        ],
        [
         "('Chrysler', 34)",
         "0.7166666666666668",
         "0.5166666666666657",
         "58.16666666666666",
         null,
         "5.754166666666663",
         "1.8787142857142882",
         null
        ],
        [
         "('Dodge', 35)",
         "-1.7090909090909094",
         "-9.081818181818182",
         "-67.54545454545453",
         null,
         "-11.573636363636364",
         "-6.7068181818181785",
         null
        ],
        [
         "('Dodge', 36)",
         "-1.2090909090909094",
         "-5.681818181818182",
         "-36.54545454545453",
         null,
         "-5.168636363636363",
         "-78.00681818181819",
         null
        ],
        [
         "('Dodge', 37)",
         "-1.2090909090909094",
         "-5.581818181818182",
         "-31.545454545454533",
         null,
         "-3.9836363636363643",
         "-11.554818181818177",
         null
        ],
        [
         "('Dodge', 38)",
         "-1.0090909090909093",
         "-4.581818181818182",
         "2.4545454545454675",
         null,
         "-1.7086363636363657",
         "5.287181818181821",
         null
        ],
        [
         "('Dodge', 39)",
         "4.290909090909091",
         "-2.581818181818182",
         "250.45454545454547",
         null,
         "45.511363636363626",
         "-81.82481818181819",
         null
        ],
        [
         "('Dodge', 40)",
         "1.4909090909090907",
         "4.418181818181818",
         "30.454545454545467",
         null,
         "-4.753636363636364",
         "144.32018181818182",
         null
        ],
        [
         "('Dodge', 41)",
         "0.19090909090909047",
         "10.418181818181818",
         "-24.545454545454533",
         null,
         "-2.8986363636363635",
         "-65.97381818181819",
         null
        ],
        [
         "('Dodge', 42)",
         "0.19090909090909047",
         "10.418181818181818",
         "-24.545454545454533",
         null,
         "-5.6386363636363654",
         "-51.70281818181819",
         null
        ],
        [
         "('Dodge', 43)",
         "-1.2090909090909094",
         "0.418181818181818",
         "-79.54545454545453",
         null,
         "-7.233636363636364",
         "28.572181818181818",
         null
        ],
        [
         "('Dodge', 44)",
         "1.4909090909090907",
         "3.418181818181818",
         "30.454545454545467",
         null,
         "2.096363636363634",
         "18.58218181818181",
         null
        ],
        [
         "('Dodge', 45)",
         "-1.3090909090909095",
         "-1.581818181818182",
         "-49.54545454545453",
         null,
         "-4.6486363636363635",
         "99.00818181818181",
         null
        ],
        [
         "('Ford', 46)",
         "-1.3272727272727276",
         "-6.363636363636363",
         "-60.09090909090909",
         null,
         "-8.977272727272727",
         "-113.64890909090911",
         null
        ],
        [
         "('Ford', 47)",
         "0.4727272727272722",
         "-3.3636363636363633",
         "19.909090909090907",
         null,
         "0.5127272727272718",
         "-70.50690909090912",
         null
        ],
        [
         "('Ford', 48)",
         "-0.8272727272727276",
         "-4.063636363636363",
         "-0.09090909090909349",
         null,
         "-4.012272727272727",
         "-148.8079090909091",
         null
        ],
        [
         "('Ford', 49)",
         "-0.3272727272727276",
         "-3.0636363636363626",
         "-15.090909090909093",
         null,
         "-3.1622727272727253",
         "61.93909090909088",
         null
        ]
       ],
       "shape": {
        "columns": 7,
        "rows": 157
       }
      },
      "text/html": [
       "<div>\n",
       "<style scoped>\n",
       "    .dataframe tbody tr th:only-of-type {\n",
       "        vertical-align: middle;\n",
       "    }\n",
       "\n",
       "    .dataframe tbody tr th {\n",
       "        vertical-align: top;\n",
       "    }\n",
       "\n",
       "    .dataframe thead th {\n",
       "        text-align: right;\n",
       "    }\n",
       "</style>\n",
       "<table border=\"1\" class=\"dataframe\">\n",
       "  <thead>\n",
       "    <tr style=\"text-align: right;\">\n",
       "      <th></th>\n",
       "      <th></th>\n",
       "      <th>Engine_size</th>\n",
       "      <th>Fuel_capacity</th>\n",
       "      <th>Horsepower</th>\n",
       "      <th>Manufacturer</th>\n",
       "      <th>Price_in_thousands</th>\n",
       "      <th>Sales_in_thousands</th>\n",
       "      <th>Vehicle_type</th>\n",
       "    </tr>\n",
       "    <tr>\n",
       "      <th>Manufacturer</th>\n",
       "      <th></th>\n",
       "      <th></th>\n",
       "      <th></th>\n",
       "      <th></th>\n",
       "      <th></th>\n",
       "      <th></th>\n",
       "      <th></th>\n",
       "      <th></th>\n",
       "    </tr>\n",
       "  </thead>\n",
       "  <tbody>\n",
       "    <tr>\n",
       "      <th rowspan=\"4\" valign=\"top\">Acura</th>\n",
       "      <th>0</th>\n",
       "      <td>-1.125000</td>\n",
       "      <td>-3.200000</td>\n",
       "      <td>-60.000000</td>\n",
       "      <td>NaN</td>\n",
       "      <td>-9.133333</td>\n",
       "      <td>-2.832250</td>\n",
       "      <td>NaN</td>\n",
       "    </tr>\n",
       "    <tr>\n",
       "      <th>1</th>\n",
       "      <td>0.275000</td>\n",
       "      <td>0.800000</td>\n",
       "      <td>25.000000</td>\n",
       "      <td>NaN</td>\n",
       "      <td>-2.233333</td>\n",
       "      <td>19.632750</td>\n",
       "      <td>NaN</td>\n",
       "    </tr>\n",
       "    <tr>\n",
       "      <th>2</th>\n",
       "      <td>0.275000</td>\n",
       "      <td>0.800000</td>\n",
       "      <td>25.000000</td>\n",
       "      <td>NaN</td>\n",
       "      <td>NaN</td>\n",
       "      <td>-5.637250</td>\n",
       "      <td>NaN</td>\n",
       "    </tr>\n",
       "    <tr>\n",
       "      <th>3</th>\n",
       "      <td>0.575000</td>\n",
       "      <td>1.600000</td>\n",
       "      <td>10.000000</td>\n",
       "      <td>NaN</td>\n",
       "      <td>11.366667</td>\n",
       "      <td>-11.163250</td>\n",
       "      <td>NaN</td>\n",
       "    </tr>\n",
       "    <tr>\n",
       "      <th>Audi</th>\n",
       "      <th>4</th>\n",
       "      <td>-1.133333</td>\n",
       "      <td>-3.133333</td>\n",
       "      <td>-70.000000</td>\n",
       "      <td>NaN</td>\n",
       "      <td>-15.990000</td>\n",
       "      <td>6.878000</td>\n",
       "      <td>NaN</td>\n",
       "    </tr>\n",
       "    <tr>\n",
       "      <th>...</th>\n",
       "      <th>...</th>\n",
       "      <td>...</td>\n",
       "      <td>...</td>\n",
       "      <td>...</td>\n",
       "      <td>...</td>\n",
       "      <td>...</td>\n",
       "      <td>...</td>\n",
       "      <td>...</td>\n",
       "    </tr>\n",
       "    <tr>\n",
       "      <th rowspan=\"5\" valign=\"top\">Volvo</th>\n",
       "      <th>152</th>\n",
       "      <td>-0.400000</td>\n",
       "      <td>-2.033333</td>\n",
       "      <td>-22.166667</td>\n",
       "      <td>NaN</td>\n",
       "      <td>-6.533333</td>\n",
       "      <td>-9.078333</td>\n",
       "      <td>NaN</td>\n",
       "    </tr>\n",
       "    <tr>\n",
       "      <th>153</th>\n",
       "      <td>0.100000</td>\n",
       "      <td>0.066667</td>\n",
       "      <td>-14.166667</td>\n",
       "      <td>NaN</td>\n",
       "      <td>-3.433333</td>\n",
       "      <td>2.621667</td>\n",
       "      <td>NaN</td>\n",
       "    </tr>\n",
       "    <tr>\n",
       "      <th>154</th>\n",
       "      <td>0.100000</td>\n",
       "      <td>0.066667</td>\n",
       "      <td>-14.166667</td>\n",
       "      <td>NaN</td>\n",
       "      <td>-2.133333</td>\n",
       "      <td>4.907667</td>\n",
       "      <td>NaN</td>\n",
       "    </tr>\n",
       "    <tr>\n",
       "      <th>155</th>\n",
       "      <td>0.000000</td>\n",
       "      <td>0.666667</td>\n",
       "      <td>53.833333</td>\n",
       "      <td>NaN</td>\n",
       "      <td>14.566667</td>\n",
       "      <td>-9.130333</td>\n",
       "      <td>NaN</td>\n",
       "    </tr>\n",
       "    <tr>\n",
       "      <th>156</th>\n",
       "      <td>0.600000</td>\n",
       "      <td>3.266667</td>\n",
       "      <td>18.833333</td>\n",
       "      <td>NaN</td>\n",
       "      <td>5.066667</td>\n",
       "      <td>6.345667</td>\n",
       "      <td>NaN</td>\n",
       "    </tr>\n",
       "  </tbody>\n",
       "</table>\n",
       "<p>157 rows × 7 columns</p>\n",
       "</div>"
      ],
      "text/plain": [
       "                  Engine_size  Fuel_capacity  Horsepower Manufacturer  \\\n",
       "Manufacturer                                                            \n",
       "Acura        0      -1.125000      -3.200000  -60.000000          NaN   \n",
       "             1       0.275000       0.800000   25.000000          NaN   \n",
       "             2       0.275000       0.800000   25.000000          NaN   \n",
       "             3       0.575000       1.600000   10.000000          NaN   \n",
       "Audi         4      -1.133333      -3.133333  -70.000000          NaN   \n",
       "...                       ...            ...         ...          ...   \n",
       "Volvo        152    -0.400000      -2.033333  -22.166667          NaN   \n",
       "             153     0.100000       0.066667  -14.166667          NaN   \n",
       "             154     0.100000       0.066667  -14.166667          NaN   \n",
       "             155     0.000000       0.666667   53.833333          NaN   \n",
       "             156     0.600000       3.266667   18.833333          NaN   \n",
       "\n",
       "                  Price_in_thousands  Sales_in_thousands Vehicle_type  \n",
       "Manufacturer                                                           \n",
       "Acura        0             -9.133333           -2.832250          NaN  \n",
       "             1             -2.233333           19.632750          NaN  \n",
       "             2                   NaN           -5.637250          NaN  \n",
       "             3             11.366667          -11.163250          NaN  \n",
       "Audi         4            -15.990000            6.878000          NaN  \n",
       "...                              ...                 ...          ...  \n",
       "Volvo        152           -6.533333           -9.078333          NaN  \n",
       "             153           -3.433333            2.621667          NaN  \n",
       "             154           -2.133333            4.907667          NaN  \n",
       "             155           14.566667           -9.130333          NaN  \n",
       "             156            5.066667            6.345667          NaN  \n",
       "\n",
       "[157 rows x 7 columns]"
      ]
     },
     "execution_count": 66,
     "metadata": {},
     "output_type": "execute_result"
    }
   ],
   "source": [
    "# subtract values from the mean of each group \n",
    "df_cars.groupby('Manufacturer').apply(lambda x:x-x.mean(numeric_only=True))\n"
   ]
  },
  {
   "cell_type": "code",
   "execution_count": 68,
   "id": "085b973c",
   "metadata": {},
   "outputs": [
    {
     "data": {
      "application/vnd.microsoft.datawrangler.viewer.v0+json": {
       "columns": [
        {
         "name": "index",
         "rawType": "int64",
         "type": "integer"
        },
        {
         "name": "Manufacturer",
         "rawType": "object",
         "type": "string"
        },
        {
         "name": "Sales_in_thousands",
         "rawType": "float64",
         "type": "float"
        },
        {
         "name": "Vehicle_type",
         "rawType": "object",
         "type": "string"
        },
        {
         "name": "Price_in_thousands",
         "rawType": "float64",
         "type": "float"
        },
        {
         "name": "Engine_size",
         "rawType": "float64",
         "type": "float"
        },
        {
         "name": "Horsepower",
         "rawType": "float64",
         "type": "float"
        },
        {
         "name": "Fuel_capacity",
         "rawType": "float64",
         "type": "float"
        }
       ],
       "ref": "89eaec7f-4135-47b6-9372-93fc8f9f22c2",
       "rows": [
        [
         "0",
         "Acura",
         "16.919",
         "Passenger",
         "21.5",
         "1.8",
         "140.0",
         "13.2"
        ],
        [
         "1",
         "Acura",
         "39.384",
         "Passenger",
         "28.4",
         "3.2",
         "225.0",
         "17.2"
        ],
        [
         "2",
         "Acura",
         "14.114",
         "Passenger",
         null,
         "3.2",
         "225.0",
         "17.2"
        ],
        [
         "3",
         "Acura",
         "8.588",
         "Passenger",
         "42.0",
         "3.5",
         "210.0",
         "18.0"
        ],
        [
         "4",
         "Audi",
         "20.397",
         "Passenger",
         "23.99",
         "1.8",
         "150.0",
         "16.4"
        ],
        [
         "5",
         "Audi",
         "18.78",
         "Passenger",
         "33.95",
         "2.8",
         "200.0",
         "18.5"
        ],
        [
         "6",
         "Audi",
         "1.38",
         "Passenger",
         "62.0",
         "4.2",
         "310.0",
         "23.7"
        ],
        [
         "7",
         "BMW",
         "19.747",
         "Passenger",
         "26.99",
         "2.5",
         "170.0",
         "16.6"
        ],
        [
         "8",
         "BMW",
         "9.231",
         "Passenger",
         "33.4",
         "2.8",
         "193.0",
         "16.6"
        ],
        [
         "9",
         "BMW",
         "17.527",
         "Passenger",
         "38.9",
         "2.8",
         "193.0",
         "18.5"
        ],
        [
         "10",
         "Buick",
         "91.561",
         "Passenger",
         "21.975",
         "3.1",
         "175.0",
         "17.5"
        ],
        [
         "11",
         "Buick",
         "39.35",
         "Passenger",
         "25.3",
         "3.8",
         "240.0",
         "17.5"
        ],
        [
         "12",
         "Buick",
         "27.851",
         "Passenger",
         "31.965",
         "3.8",
         "205.0",
         "18.5"
        ],
        [
         "13",
         "Buick",
         "83.257",
         "Passenger",
         "27.885",
         "3.8",
         "205.0",
         "17.5"
        ],
        [
         "14",
         "Cadillac",
         "63.729",
         "Passenger",
         "39.895",
         "4.6",
         "275.0",
         "18.5"
        ],
        [
         "15",
         "Cadillac",
         "15.943",
         "Passenger",
         "44.475",
         "4.6",
         "275.0",
         "18.5"
        ],
        [
         "16",
         "Cadillac",
         "6.536",
         "Passenger",
         "39.665",
         "4.6",
         "275.0",
         "19.0"
        ],
        [
         "17",
         "Cadillac",
         "11.185",
         "Passenger",
         "31.01",
         "3.0",
         "200.0",
         "18.0"
        ],
        [
         "18",
         "Cadillac",
         "14.785",
         "Car",
         "46.225",
         "5.7",
         "255.0",
         "30.0"
        ],
        [
         "19",
         "Chevrolet",
         "145.519",
         "Passenger",
         "13.26",
         "2.2",
         "115.0",
         "14.3"
        ],
        [
         "20",
         "Chevrolet",
         "135.126",
         "Passenger",
         "16.535",
         "3.1",
         "170.0",
         "15.0"
        ],
        [
         "21",
         "Chevrolet",
         "24.629",
         "Passenger",
         "18.89",
         "3.1",
         "175.0",
         "16.6"
        ],
        [
         "22",
         "Chevrolet",
         "42.593",
         "Passenger",
         "19.39",
         "3.4",
         "180.0",
         "17.0"
        ],
        [
         "23",
         "Chevrolet",
         "26.402",
         "Passenger",
         "24.34",
         "3.8",
         "200.0",
         "16.8"
        ],
        [
         "24",
         "Chevrolet",
         "17.947",
         "Passenger",
         "45.705",
         "5.7",
         "345.0",
         "19.1"
        ],
        [
         "25",
         "Chevrolet",
         "32.299",
         "Passenger",
         "13.96",
         "1.8",
         "120.0",
         "13.2"
        ],
        [
         "26",
         "Chevrolet",
         "21.855",
         "Passenger",
         "9.235",
         "1.0",
         "55.0",
         "10.3"
        ],
        [
         "27",
         "Chevrolet",
         "107.995",
         "Passenger",
         "18.89",
         "3.4",
         "180.0",
         "17.0"
        ],
        [
         "28",
         "Chrysler",
         "7.854",
         "Passenger",
         "19.84",
         "2.5",
         "163.0",
         "15.9"
        ],
        [
         "29",
         "Chrysler",
         "32.775",
         "Passenger",
         "24.495",
         "2.5",
         "168.0",
         "16.0"
        ],
        [
         "30",
         "Chrysler",
         "31.148",
         "Passenger",
         "22.245",
         "2.7",
         "200.0",
         "17.0"
        ],
        [
         "31",
         "Chrysler",
         "32.306",
         "Passenger",
         "16.48",
         "2.0",
         "132.0",
         "16.0"
        ],
        [
         "32",
         "Chrysler",
         "13.462",
         "Passenger",
         "28.34",
         "3.5",
         "253.0",
         "17.0"
        ],
        [
         "33",
         "Chrysler",
         "53.48",
         "Car",
         null,
         null,
         null,
         null
        ],
        [
         "34",
         "Chrysler",
         "30.696",
         "Passenger",
         "29.185",
         "3.5",
         "253.0",
         "17.0"
        ],
        [
         "35",
         "Dodge",
         "76.034",
         "Passenger",
         "12.64",
         "2.0",
         "132.0",
         "12.5"
        ],
        [
         "36",
         "Dodge",
         "4.734",
         "Passenger",
         "19.045",
         "2.5",
         "163.0",
         "15.9"
        ],
        [
         "37",
         "Dodge",
         "71.186",
         "Passenger",
         "20.23",
         "2.5",
         "168.0",
         "16.0"
        ],
        [
         "38",
         "Dodge",
         "88.028",
         "Passenger",
         "22.505",
         "2.7",
         "202.0",
         "17.0"
        ],
        [
         "39",
         "Dodge",
         "0.916",
         "Passenger",
         "69.725",
         "8.0",
         "450.0",
         "19.0"
        ],
        [
         "40",
         "Dodge",
         "227.061",
         "Car",
         "19.46",
         "5.2",
         "230.0",
         "26.0"
        ],
        [
         "41",
         "Dodge",
         "16.767",
         "Car",
         "21.315",
         "3.9",
         "175.0",
         "32.0"
        ],
        [
         "42",
         "Dodge",
         "31.038",
         "Car",
         "18.575",
         "3.9",
         "175.0",
         "32.0"
        ],
        [
         "43",
         "Dodge",
         "111.313",
         "Car",
         "16.98",
         "2.5",
         "120.0",
         "22.0"
        ],
        [
         "44",
         "Dodge",
         "101.323",
         "Car",
         "26.31",
         "5.2",
         "230.0",
         "25.0"
        ],
        [
         "45",
         "Dodge",
         "181.749",
         "Car",
         "19.565",
         "2.4",
         "150.0",
         "20.0"
        ],
        [
         "46",
         "Ford",
         "70.227",
         "Passenger",
         "12.07",
         "2.0",
         "110.0",
         "12.7"
        ],
        [
         "47",
         "Ford",
         "113.369",
         "Passenger",
         "21.56",
         "3.8",
         "190.0",
         "15.7"
        ],
        [
         "48",
         "Ford",
         "35.068",
         "Passenger",
         "17.035",
         "2.5",
         "170.0",
         "15.0"
        ],
        [
         "49",
         "Ford",
         "245.815",
         "Passenger",
         "17.885",
         "3.0",
         "155.0",
         "16.0"
        ]
       ],
       "shape": {
        "columns": 7,
        "rows": 157
       }
      },
      "text/html": [
       "<div>\n",
       "<style scoped>\n",
       "    .dataframe tbody tr th:only-of-type {\n",
       "        vertical-align: middle;\n",
       "    }\n",
       "\n",
       "    .dataframe tbody tr th {\n",
       "        vertical-align: top;\n",
       "    }\n",
       "\n",
       "    .dataframe thead th {\n",
       "        text-align: right;\n",
       "    }\n",
       "</style>\n",
       "<table border=\"1\" class=\"dataframe\">\n",
       "  <thead>\n",
       "    <tr style=\"text-align: right;\">\n",
       "      <th></th>\n",
       "      <th>Manufacturer</th>\n",
       "      <th>Sales_in_thousands</th>\n",
       "      <th>Vehicle_type</th>\n",
       "      <th>Price_in_thousands</th>\n",
       "      <th>Engine_size</th>\n",
       "      <th>Horsepower</th>\n",
       "      <th>Fuel_capacity</th>\n",
       "    </tr>\n",
       "  </thead>\n",
       "  <tbody>\n",
       "    <tr>\n",
       "      <th>0</th>\n",
       "      <td>Acura</td>\n",
       "      <td>16.919</td>\n",
       "      <td>Passenger</td>\n",
       "      <td>21.50</td>\n",
       "      <td>1.8</td>\n",
       "      <td>140.0</td>\n",
       "      <td>13.2</td>\n",
       "    </tr>\n",
       "    <tr>\n",
       "      <th>1</th>\n",
       "      <td>Acura</td>\n",
       "      <td>39.384</td>\n",
       "      <td>Passenger</td>\n",
       "      <td>28.40</td>\n",
       "      <td>3.2</td>\n",
       "      <td>225.0</td>\n",
       "      <td>17.2</td>\n",
       "    </tr>\n",
       "    <tr>\n",
       "      <th>2</th>\n",
       "      <td>Acura</td>\n",
       "      <td>14.114</td>\n",
       "      <td>Passenger</td>\n",
       "      <td>NaN</td>\n",
       "      <td>3.2</td>\n",
       "      <td>225.0</td>\n",
       "      <td>17.2</td>\n",
       "    </tr>\n",
       "    <tr>\n",
       "      <th>3</th>\n",
       "      <td>Acura</td>\n",
       "      <td>8.588</td>\n",
       "      <td>Passenger</td>\n",
       "      <td>42.00</td>\n",
       "      <td>3.5</td>\n",
       "      <td>210.0</td>\n",
       "      <td>18.0</td>\n",
       "    </tr>\n",
       "    <tr>\n",
       "      <th>4</th>\n",
       "      <td>Audi</td>\n",
       "      <td>20.397</td>\n",
       "      <td>Passenger</td>\n",
       "      <td>23.99</td>\n",
       "      <td>1.8</td>\n",
       "      <td>150.0</td>\n",
       "      <td>16.4</td>\n",
       "    </tr>\n",
       "    <tr>\n",
       "      <th>...</th>\n",
       "      <td>...</td>\n",
       "      <td>...</td>\n",
       "      <td>...</td>\n",
       "      <td>...</td>\n",
       "      <td>...</td>\n",
       "      <td>...</td>\n",
       "      <td>...</td>\n",
       "    </tr>\n",
       "    <tr>\n",
       "      <th>152</th>\n",
       "      <td>Volvo</td>\n",
       "      <td>3.545</td>\n",
       "      <td>Passenger</td>\n",
       "      <td>24.40</td>\n",
       "      <td>1.9</td>\n",
       "      <td>160.0</td>\n",
       "      <td>15.8</td>\n",
       "    </tr>\n",
       "    <tr>\n",
       "      <th>153</th>\n",
       "      <td>Volvo</td>\n",
       "      <td>15.245</td>\n",
       "      <td>Passenger</td>\n",
       "      <td>27.50</td>\n",
       "      <td>2.4</td>\n",
       "      <td>168.0</td>\n",
       "      <td>17.9</td>\n",
       "    </tr>\n",
       "    <tr>\n",
       "      <th>154</th>\n",
       "      <td>Volvo</td>\n",
       "      <td>17.531</td>\n",
       "      <td>Passenger</td>\n",
       "      <td>28.80</td>\n",
       "      <td>2.4</td>\n",
       "      <td>168.0</td>\n",
       "      <td>17.9</td>\n",
       "    </tr>\n",
       "    <tr>\n",
       "      <th>155</th>\n",
       "      <td>Volvo</td>\n",
       "      <td>3.493</td>\n",
       "      <td>Passenger</td>\n",
       "      <td>45.50</td>\n",
       "      <td>2.3</td>\n",
       "      <td>236.0</td>\n",
       "      <td>18.5</td>\n",
       "    </tr>\n",
       "    <tr>\n",
       "      <th>156</th>\n",
       "      <td>Volvo</td>\n",
       "      <td>18.969</td>\n",
       "      <td>Passenger</td>\n",
       "      <td>36.00</td>\n",
       "      <td>2.9</td>\n",
       "      <td>201.0</td>\n",
       "      <td>21.1</td>\n",
       "    </tr>\n",
       "  </tbody>\n",
       "</table>\n",
       "<p>157 rows × 7 columns</p>\n",
       "</div>"
      ],
      "text/plain": [
       "    Manufacturer  Sales_in_thousands Vehicle_type  Price_in_thousands  \\\n",
       "0          Acura              16.919    Passenger               21.50   \n",
       "1          Acura              39.384    Passenger               28.40   \n",
       "2          Acura              14.114    Passenger                 NaN   \n",
       "3          Acura               8.588    Passenger               42.00   \n",
       "4           Audi              20.397    Passenger               23.99   \n",
       "..           ...                 ...          ...                 ...   \n",
       "152        Volvo               3.545    Passenger               24.40   \n",
       "153        Volvo              15.245    Passenger               27.50   \n",
       "154        Volvo              17.531    Passenger               28.80   \n",
       "155        Volvo               3.493    Passenger               45.50   \n",
       "156        Volvo              18.969    Passenger               36.00   \n",
       "\n",
       "     Engine_size  Horsepower  Fuel_capacity  \n",
       "0            1.8       140.0           13.2  \n",
       "1            3.2       225.0           17.2  \n",
       "2            3.2       225.0           17.2  \n",
       "3            3.5       210.0           18.0  \n",
       "4            1.8       150.0           16.4  \n",
       "..           ...         ...            ...  \n",
       "152          1.9       160.0           15.8  \n",
       "153          2.4       168.0           17.9  \n",
       "154          2.4       168.0           17.9  \n",
       "155          2.3       236.0           18.5  \n",
       "156          2.9       201.0           21.1  \n",
       "\n",
       "[157 rows x 7 columns]"
      ]
     },
     "execution_count": 68,
     "metadata": {},
     "output_type": "execute_result"
    }
   ],
   "source": [
    "df_cars"
   ]
  },
  {
   "cell_type": "code",
   "execution_count": 70,
   "id": "a1fd9436",
   "metadata": {},
   "outputs": [
    {
     "data": {
      "application/vnd.microsoft.datawrangler.viewer.v0+json": {
       "columns": [
        {
         "name": "Manufacturer",
         "rawType": "object",
         "type": "string"
        },
        {
         "name": "Sales_in_thousands",
         "rawType": "float64",
         "type": "float"
        },
        {
         "name": "Price_in_thousands",
         "rawType": "float64",
         "type": "float"
        },
        {
         "name": "Engine_size",
         "rawType": "float64",
         "type": "float"
        },
        {
         "name": "Horsepower",
         "rawType": "float64",
         "type": "float"
        },
        {
         "name": "Fuel_capacity",
         "rawType": "float64",
         "type": "float"
        }
       ],
       "ref": "a269eccc-5fad-41f9-8860-7a897af0052a",
       "rows": [
        [
         "Acura",
         "19.75125",
         "30.633333333333336",
         "2.925",
         "200.0",
         "16.4"
        ],
        [
         "Audi",
         "13.519",
         "39.98",
         "2.9333333333333336",
         "220.0",
         "19.53333333333333"
        ],
        [
         "BMW",
         "15.501666666666667",
         "33.096666666666664",
         "2.6999999999999997",
         "185.33333333333334",
         "17.233333333333334"
        ],
        [
         "Buick",
         "60.50475",
         "26.78125",
         "3.625",
         "206.25",
         "17.75"
        ],
        [
         "Cadillac",
         "22.4356",
         "40.254000000000005",
         "4.5",
         "256.0",
         "20.8"
        ],
        [
         "Chevrolet",
         "61.596111111111114",
         "20.022777777777776",
         "3.0555555555555554",
         "171.11111111111111",
         "15.47777777777778"
        ],
        [
         "Chrysler",
         "28.817285714285713",
         "23.430833333333336",
         "2.783333333333333",
         "194.83333333333334",
         "16.483333333333334"
        ],
        [
         "Dodge",
         "82.74081818181818",
         "24.213636363636365",
         "3.709090909090909",
         "199.54545454545453",
         "21.581818181818182"
        ],
        [
         "Ford",
         "183.8759090909091",
         "21.047272727272727",
         "3.3272727272727276",
         "170.0909090909091",
         "19.063636363636363"
        ],
        [
         "Honda",
         "118.53479999999999",
         "20.277",
         "2.52",
         "160.4",
         "17.080000000000002"
        ],
        [
         "Hyundai",
         "45.77533333333333",
         "12.165666666666667",
         "1.9666666666666668",
         "126.66666666666667",
         "14.533333333333333"
        ],
        [
         "Infiniti",
         "23.713",
         "29.465",
         "3.0",
         "227.0",
         "18.5"
        ],
        [
         "Jaguar",
         "15.467",
         "42.8",
         "3.0",
         "240.0",
         "18.4"
        ],
        [
         "Jeep",
         "97.71766666666667",
         "20.991666666666667",
         "3.5",
         "168.33333333333334",
         "19.833333333333332"
        ],
        [
         "Lexus",
         "17.807166666666664",
         "44.055",
         "3.6166666666666667",
         "245.83333333333334",
         "20.533333333333335"
        ],
        [
         "Lincoln",
         "28.544666666666668",
         "41.69",
         "4.866666666666666",
         "263.3333333333333",
         "23.0"
        ],
        [
         "Mercedes-B",
         "13.01388888888889",
         "52.916666666666664",
         "3.4222222222222225",
         "232.22222222222223",
         "18.922222222222224"
        ],
        [
         "Mercury",
         "39.6665",
         "20.74833333333333",
         "3.15",
         "163.83333333333334",
         "17.833333333333332"
        ],
        [
         "Mitsubishi",
         "25.842142857142854",
         "22.16742857142857",
         "2.8000000000000003",
         "165.14285714285714",
         "18.285714285714285"
        ],
        [
         "Nissan",
         "57.090714285714284",
         "22.360714285714288",
         "2.914285714285714",
         "169.0",
         "18.2"
        ],
        [
         "Oldsmobile",
         "29.831500000000002",
         "25.622833333333332",
         "3.4499999999999997",
         "190.0",
         "18.2"
        ],
        [
         "Plymouth",
         "16.00025",
         "22.6425",
         "2.475",
         "166.75",
         "15.125"
        ],
        [
         "Pontiac",
         "61.75566666666668",
         "22.949166666666667",
         "3.433333333333333",
         "185.0",
         "17.916666666666668"
        ],
        [
         "Porsche",
         "4.042666666666666",
         "62.473333333333336",
         "3.1666666666666665",
         "272.3333333333333",
         "17.0"
        ],
        [
         "Saab",
         "10.653",
         "29.61",
         "2.15",
         "177.5",
         "17.7"
        ],
        [
         "Saturn",
         "33.769999999999996",
         "14.271",
         "2.02",
         "119.6",
         "12.5"
        ],
        [
         "Subaru",
         "40.067499999999995",
         "21.395",
         "2.5",
         "165.0",
         "16.4"
        ],
        [
         "Toyota",
         "82.245",
         "21.98288888888889",
         "2.6222222222222222",
         "160.66666666666666",
         "17.766666666666666"
        ],
        [
         "Volkswagen",
         "34.86866666666666",
         "17.698333333333334",
         "1.9666666666666668",
         "120.83333333333333",
         "14.700000000000001"
        ],
        [
         "Volvo",
         "12.623333333333333",
         "30.933333333333334",
         "2.3",
         "182.16666666666666",
         "17.833333333333332"
        ]
       ],
       "shape": {
        "columns": 5,
        "rows": 30
       }
      },
      "text/html": [
       "<div>\n",
       "<style scoped>\n",
       "    .dataframe tbody tr th:only-of-type {\n",
       "        vertical-align: middle;\n",
       "    }\n",
       "\n",
       "    .dataframe tbody tr th {\n",
       "        vertical-align: top;\n",
       "    }\n",
       "\n",
       "    .dataframe thead th {\n",
       "        text-align: right;\n",
       "    }\n",
       "</style>\n",
       "<table border=\"1\" class=\"dataframe\">\n",
       "  <thead>\n",
       "    <tr style=\"text-align: right;\">\n",
       "      <th></th>\n",
       "      <th>Sales_in_thousands</th>\n",
       "      <th>Price_in_thousands</th>\n",
       "      <th>Engine_size</th>\n",
       "      <th>Horsepower</th>\n",
       "      <th>Fuel_capacity</th>\n",
       "    </tr>\n",
       "    <tr>\n",
       "      <th>Manufacturer</th>\n",
       "      <th></th>\n",
       "      <th></th>\n",
       "      <th></th>\n",
       "      <th></th>\n",
       "      <th></th>\n",
       "    </tr>\n",
       "  </thead>\n",
       "  <tbody>\n",
       "    <tr>\n",
       "      <th>Acura</th>\n",
       "      <td>19.751250</td>\n",
       "      <td>30.633333</td>\n",
       "      <td>2.925000</td>\n",
       "      <td>200.000000</td>\n",
       "      <td>16.400000</td>\n",
       "    </tr>\n",
       "    <tr>\n",
       "      <th>Audi</th>\n",
       "      <td>13.519000</td>\n",
       "      <td>39.980000</td>\n",
       "      <td>2.933333</td>\n",
       "      <td>220.000000</td>\n",
       "      <td>19.533333</td>\n",
       "    </tr>\n",
       "    <tr>\n",
       "      <th>BMW</th>\n",
       "      <td>15.501667</td>\n",
       "      <td>33.096667</td>\n",
       "      <td>2.700000</td>\n",
       "      <td>185.333333</td>\n",
       "      <td>17.233333</td>\n",
       "    </tr>\n",
       "    <tr>\n",
       "      <th>Buick</th>\n",
       "      <td>60.504750</td>\n",
       "      <td>26.781250</td>\n",
       "      <td>3.625000</td>\n",
       "      <td>206.250000</td>\n",
       "      <td>17.750000</td>\n",
       "    </tr>\n",
       "    <tr>\n",
       "      <th>Cadillac</th>\n",
       "      <td>22.435600</td>\n",
       "      <td>40.254000</td>\n",
       "      <td>4.500000</td>\n",
       "      <td>256.000000</td>\n",
       "      <td>20.800000</td>\n",
       "    </tr>\n",
       "    <tr>\n",
       "      <th>Chevrolet</th>\n",
       "      <td>61.596111</td>\n",
       "      <td>20.022778</td>\n",
       "      <td>3.055556</td>\n",
       "      <td>171.111111</td>\n",
       "      <td>15.477778</td>\n",
       "    </tr>\n",
       "    <tr>\n",
       "      <th>Chrysler</th>\n",
       "      <td>28.817286</td>\n",
       "      <td>23.430833</td>\n",
       "      <td>2.783333</td>\n",
       "      <td>194.833333</td>\n",
       "      <td>16.483333</td>\n",
       "    </tr>\n",
       "    <tr>\n",
       "      <th>Dodge</th>\n",
       "      <td>82.740818</td>\n",
       "      <td>24.213636</td>\n",
       "      <td>3.709091</td>\n",
       "      <td>199.545455</td>\n",
       "      <td>21.581818</td>\n",
       "    </tr>\n",
       "    <tr>\n",
       "      <th>Ford</th>\n",
       "      <td>183.875909</td>\n",
       "      <td>21.047273</td>\n",
       "      <td>3.327273</td>\n",
       "      <td>170.090909</td>\n",
       "      <td>19.063636</td>\n",
       "    </tr>\n",
       "    <tr>\n",
       "      <th>Honda</th>\n",
       "      <td>118.534800</td>\n",
       "      <td>20.277000</td>\n",
       "      <td>2.520000</td>\n",
       "      <td>160.400000</td>\n",
       "      <td>17.080000</td>\n",
       "    </tr>\n",
       "    <tr>\n",
       "      <th>Hyundai</th>\n",
       "      <td>45.775333</td>\n",
       "      <td>12.165667</td>\n",
       "      <td>1.966667</td>\n",
       "      <td>126.666667</td>\n",
       "      <td>14.533333</td>\n",
       "    </tr>\n",
       "    <tr>\n",
       "      <th>Infiniti</th>\n",
       "      <td>23.713000</td>\n",
       "      <td>29.465000</td>\n",
       "      <td>3.000000</td>\n",
       "      <td>227.000000</td>\n",
       "      <td>18.500000</td>\n",
       "    </tr>\n",
       "    <tr>\n",
       "      <th>Jaguar</th>\n",
       "      <td>15.467000</td>\n",
       "      <td>42.800000</td>\n",
       "      <td>3.000000</td>\n",
       "      <td>240.000000</td>\n",
       "      <td>18.400000</td>\n",
       "    </tr>\n",
       "    <tr>\n",
       "      <th>Jeep</th>\n",
       "      <td>97.717667</td>\n",
       "      <td>20.991667</td>\n",
       "      <td>3.500000</td>\n",
       "      <td>168.333333</td>\n",
       "      <td>19.833333</td>\n",
       "    </tr>\n",
       "    <tr>\n",
       "      <th>Lexus</th>\n",
       "      <td>17.807167</td>\n",
       "      <td>44.055000</td>\n",
       "      <td>3.616667</td>\n",
       "      <td>245.833333</td>\n",
       "      <td>20.533333</td>\n",
       "    </tr>\n",
       "    <tr>\n",
       "      <th>Lincoln</th>\n",
       "      <td>28.544667</td>\n",
       "      <td>41.690000</td>\n",
       "      <td>4.866667</td>\n",
       "      <td>263.333333</td>\n",
       "      <td>23.000000</td>\n",
       "    </tr>\n",
       "    <tr>\n",
       "      <th>Mercedes-B</th>\n",
       "      <td>13.013889</td>\n",
       "      <td>52.916667</td>\n",
       "      <td>3.422222</td>\n",
       "      <td>232.222222</td>\n",
       "      <td>18.922222</td>\n",
       "    </tr>\n",
       "    <tr>\n",
       "      <th>Mercury</th>\n",
       "      <td>39.666500</td>\n",
       "      <td>20.748333</td>\n",
       "      <td>3.150000</td>\n",
       "      <td>163.833333</td>\n",
       "      <td>17.833333</td>\n",
       "    </tr>\n",
       "    <tr>\n",
       "      <th>Mitsubishi</th>\n",
       "      <td>25.842143</td>\n",
       "      <td>22.167429</td>\n",
       "      <td>2.800000</td>\n",
       "      <td>165.142857</td>\n",
       "      <td>18.285714</td>\n",
       "    </tr>\n",
       "    <tr>\n",
       "      <th>Nissan</th>\n",
       "      <td>57.090714</td>\n",
       "      <td>22.360714</td>\n",
       "      <td>2.914286</td>\n",
       "      <td>169.000000</td>\n",
       "      <td>18.200000</td>\n",
       "    </tr>\n",
       "    <tr>\n",
       "      <th>Oldsmobile</th>\n",
       "      <td>29.831500</td>\n",
       "      <td>25.622833</td>\n",
       "      <td>3.450000</td>\n",
       "      <td>190.000000</td>\n",
       "      <td>18.200000</td>\n",
       "    </tr>\n",
       "    <tr>\n",
       "      <th>Plymouth</th>\n",
       "      <td>16.000250</td>\n",
       "      <td>22.642500</td>\n",
       "      <td>2.475000</td>\n",
       "      <td>166.750000</td>\n",
       "      <td>15.125000</td>\n",
       "    </tr>\n",
       "    <tr>\n",
       "      <th>Pontiac</th>\n",
       "      <td>61.755667</td>\n",
       "      <td>22.949167</td>\n",
       "      <td>3.433333</td>\n",
       "      <td>185.000000</td>\n",
       "      <td>17.916667</td>\n",
       "    </tr>\n",
       "    <tr>\n",
       "      <th>Porsche</th>\n",
       "      <td>4.042667</td>\n",
       "      <td>62.473333</td>\n",
       "      <td>3.166667</td>\n",
       "      <td>272.333333</td>\n",
       "      <td>17.000000</td>\n",
       "    </tr>\n",
       "    <tr>\n",
       "      <th>Saab</th>\n",
       "      <td>10.653000</td>\n",
       "      <td>29.610000</td>\n",
       "      <td>2.150000</td>\n",
       "      <td>177.500000</td>\n",
       "      <td>17.700000</td>\n",
       "    </tr>\n",
       "    <tr>\n",
       "      <th>Saturn</th>\n",
       "      <td>33.770000</td>\n",
       "      <td>14.271000</td>\n",
       "      <td>2.020000</td>\n",
       "      <td>119.600000</td>\n",
       "      <td>12.500000</td>\n",
       "    </tr>\n",
       "    <tr>\n",
       "      <th>Subaru</th>\n",
       "      <td>40.067500</td>\n",
       "      <td>21.395000</td>\n",
       "      <td>2.500000</td>\n",
       "      <td>165.000000</td>\n",
       "      <td>16.400000</td>\n",
       "    </tr>\n",
       "    <tr>\n",
       "      <th>Toyota</th>\n",
       "      <td>82.245000</td>\n",
       "      <td>21.982889</td>\n",
       "      <td>2.622222</td>\n",
       "      <td>160.666667</td>\n",
       "      <td>17.766667</td>\n",
       "    </tr>\n",
       "    <tr>\n",
       "      <th>Volkswagen</th>\n",
       "      <td>34.868667</td>\n",
       "      <td>17.698333</td>\n",
       "      <td>1.966667</td>\n",
       "      <td>120.833333</td>\n",
       "      <td>14.700000</td>\n",
       "    </tr>\n",
       "    <tr>\n",
       "      <th>Volvo</th>\n",
       "      <td>12.623333</td>\n",
       "      <td>30.933333</td>\n",
       "      <td>2.300000</td>\n",
       "      <td>182.166667</td>\n",
       "      <td>17.833333</td>\n",
       "    </tr>\n",
       "  </tbody>\n",
       "</table>\n",
       "</div>"
      ],
      "text/plain": [
       "              Sales_in_thousands  Price_in_thousands  Engine_size  Horsepower  \\\n",
       "Manufacturer                                                                    \n",
       "Acura                  19.751250           30.633333     2.925000  200.000000   \n",
       "Audi                   13.519000           39.980000     2.933333  220.000000   \n",
       "BMW                    15.501667           33.096667     2.700000  185.333333   \n",
       "Buick                  60.504750           26.781250     3.625000  206.250000   \n",
       "Cadillac               22.435600           40.254000     4.500000  256.000000   \n",
       "Chevrolet              61.596111           20.022778     3.055556  171.111111   \n",
       "Chrysler               28.817286           23.430833     2.783333  194.833333   \n",
       "Dodge                  82.740818           24.213636     3.709091  199.545455   \n",
       "Ford                  183.875909           21.047273     3.327273  170.090909   \n",
       "Honda                 118.534800           20.277000     2.520000  160.400000   \n",
       "Hyundai                45.775333           12.165667     1.966667  126.666667   \n",
       "Infiniti               23.713000           29.465000     3.000000  227.000000   \n",
       "Jaguar                 15.467000           42.800000     3.000000  240.000000   \n",
       "Jeep                   97.717667           20.991667     3.500000  168.333333   \n",
       "Lexus                  17.807167           44.055000     3.616667  245.833333   \n",
       "Lincoln                28.544667           41.690000     4.866667  263.333333   \n",
       "Mercedes-B             13.013889           52.916667     3.422222  232.222222   \n",
       "Mercury                39.666500           20.748333     3.150000  163.833333   \n",
       "Mitsubishi             25.842143           22.167429     2.800000  165.142857   \n",
       "Nissan                 57.090714           22.360714     2.914286  169.000000   \n",
       "Oldsmobile             29.831500           25.622833     3.450000  190.000000   \n",
       "Plymouth               16.000250           22.642500     2.475000  166.750000   \n",
       "Pontiac                61.755667           22.949167     3.433333  185.000000   \n",
       "Porsche                 4.042667           62.473333     3.166667  272.333333   \n",
       "Saab                   10.653000           29.610000     2.150000  177.500000   \n",
       "Saturn                 33.770000           14.271000     2.020000  119.600000   \n",
       "Subaru                 40.067500           21.395000     2.500000  165.000000   \n",
       "Toyota                 82.245000           21.982889     2.622222  160.666667   \n",
       "Volkswagen             34.868667           17.698333     1.966667  120.833333   \n",
       "Volvo                  12.623333           30.933333     2.300000  182.166667   \n",
       "\n",
       "              Fuel_capacity  \n",
       "Manufacturer                 \n",
       "Acura             16.400000  \n",
       "Audi              19.533333  \n",
       "BMW               17.233333  \n",
       "Buick             17.750000  \n",
       "Cadillac          20.800000  \n",
       "Chevrolet         15.477778  \n",
       "Chrysler          16.483333  \n",
       "Dodge             21.581818  \n",
       "Ford              19.063636  \n",
       "Honda             17.080000  \n",
       "Hyundai           14.533333  \n",
       "Infiniti          18.500000  \n",
       "Jaguar            18.400000  \n",
       "Jeep              19.833333  \n",
       "Lexus             20.533333  \n",
       "Lincoln           23.000000  \n",
       "Mercedes-B        18.922222  \n",
       "Mercury           17.833333  \n",
       "Mitsubishi        18.285714  \n",
       "Nissan            18.200000  \n",
       "Oldsmobile        18.200000  \n",
       "Plymouth          15.125000  \n",
       "Pontiac           17.916667  \n",
       "Porsche           17.000000  \n",
       "Saab              17.700000  \n",
       "Saturn            12.500000  \n",
       "Subaru            16.400000  \n",
       "Toyota            17.766667  \n",
       "Volkswagen        14.700000  \n",
       "Volvo             17.833333  "
      ]
     },
     "execution_count": 70,
     "metadata": {},
     "output_type": "execute_result"
    }
   ],
   "source": [
    "df_cars.groupby('Manufacturer').mean(numeric_only=True)"
   ]
  },
  {
   "cell_type": "markdown",
   "id": "5d8d8fb9",
   "metadata": {},
   "source": [
    "# 6 The filter() method"
   ]
  },
  {
   "cell_type": "code",
   "execution_count": 71,
   "id": "14c21621",
   "metadata": {},
   "outputs": [
    {
     "data": {
      "text/plain": [
       "Index(['Manufacturer', 'Sales_in_thousands', 'Vehicle_type',\n",
       "       'Price_in_thousands', 'Engine_size', 'Horsepower', 'Fuel_capacity'],\n",
       "      dtype='object')"
      ]
     },
     "execution_count": 71,
     "metadata": {},
     "output_type": "execute_result"
    }
   ],
   "source": [
    "# calculate the mean of sales_in_thousands\n",
    "df_cars.columns"
   ]
  },
  {
   "cell_type": "code",
   "execution_count": 76,
   "id": "1c42b3ec",
   "metadata": {},
   "outputs": [],
   "source": [
    "# filter certain values out based on sum() and return a subset of the dataframe\n",
    "def filrer_func(x):\n",
    "    return x['Sales_in_thousands'].sum() > 52\n",
    "\n",
    "df_filter = df_cars.groupby(['Manufacturer'])\n"
   ]
  },
  {
   "cell_type": "code",
   "execution_count": 75,
   "id": "783bb745",
   "metadata": {},
   "outputs": [
    {
     "data": {
      "application/vnd.microsoft.datawrangler.viewer.v0+json": {
       "columns": [
        {
         "name": "index",
         "rawType": "object",
         "type": "string"
        },
        {
         "name": "0",
         "rawType": "float64",
         "type": "float"
        }
       ],
       "ref": "20b8685c-6483-416e-99fb-7cdc3896303a",
       "rows": [
        [
         "Sales_in_thousands",
         "52.99807643312102"
        ],
        [
         "Price_in_thousands",
         "27.390754838709682"
        ],
        [
         "Engine_size",
         "3.0608974358974357"
        ],
        [
         "Horsepower",
         "185.94871794871796"
        ],
        [
         "Fuel_capacity",
         "17.951923076923077"
        ]
       ],
       "shape": {
        "columns": 1,
        "rows": 5
       }
      },
      "text/plain": [
       "Sales_in_thousands     52.998076\n",
       "Price_in_thousands     27.390755\n",
       "Engine_size             3.060897\n",
       "Horsepower            185.948718\n",
       "Fuel_capacity          17.951923\n",
       "dtype: float64"
      ]
     },
     "execution_count": 75,
     "metadata": {},
     "output_type": "execute_result"
    }
   ],
   "source": [
    "df_cars.mean(numeric_only=True)"
   ]
  },
  {
   "cell_type": "code",
   "execution_count": null,
   "id": "82a816ef",
   "metadata": {},
   "outputs": [],
   "source": []
  }
 ],
 "metadata": {
  "kernelspec": {
   "display_name": "base",
   "language": "python",
   "name": "python3"
  },
  "language_info": {
   "codemirror_mode": {
    "name": "ipython",
    "version": 3
   },
   "file_extension": ".py",
   "mimetype": "text/x-python",
   "name": "python",
   "nbconvert_exporter": "python",
   "pygments_lexer": "ipython3",
   "version": "3.12.7"
  }
 },
 "nbformat": 4,
 "nbformat_minor": 5
}
