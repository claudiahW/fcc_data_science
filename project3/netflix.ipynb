{
 "cells": [
  {
   "cell_type": "code",
   "execution_count": 40,
   "id": "4ad86d48",
   "metadata": {},
   "outputs": [],
   "source": [
    "# load necessary imports and packages\n",
    "import pandas as pd "
   ]
  },
  {
   "cell_type": "markdown",
   "id": "2efb61f3",
   "metadata": {},
   "source": [
    "# 1 Dataset Overview "
   ]
  },
  {
   "cell_type": "code",
   "execution_count": 41,
   "id": "61eee21f",
   "metadata": {},
   "outputs": [],
   "source": [
    "# read csv file\n",
    " \n",
    "df_netflix =pd.read_csv(r'C:\\Users\\user\\Downloads\\netflix_titles.csv')"
   ]
  },
  {
   "cell_type": "code",
   "execution_count": 42,
   "id": "0050ae94",
   "metadata": {},
   "outputs": [
    {
     "data": {
      "application/vnd.microsoft.datawrangler.viewer.v0+json": {
       "columns": [
        {
         "name": "index",
         "rawType": "object",
         "type": "string"
        },
        {
         "name": "0",
         "rawType": "object",
         "type": "unknown"
        }
       ],
       "ref": "c6b0f371-ea69-49ba-8750-92f0d38eead3",
       "rows": [
        [
         "show_id",
         "object"
        ],
        [
         "type",
         "object"
        ],
        [
         "title",
         "object"
        ],
        [
         "director",
         "object"
        ],
        [
         "cast",
         "object"
        ],
        [
         "country",
         "object"
        ],
        [
         "date_added",
         "object"
        ],
        [
         "release_year",
         "int64"
        ],
        [
         "rating",
         "object"
        ],
        [
         "duration",
         "object"
        ],
        [
         "listed_in",
         "object"
        ],
        [
         "description",
         "object"
        ]
       ],
       "shape": {
        "columns": 1,
        "rows": 12
       }
      },
      "text/plain": [
       "show_id         object\n",
       "type            object\n",
       "title           object\n",
       "director        object\n",
       "cast            object\n",
       "country         object\n",
       "date_added      object\n",
       "release_year     int64\n",
       "rating          object\n",
       "duration        object\n",
       "listed_in       object\n",
       "description     object\n",
       "dtype: object"
      ]
     },
     "execution_count": 42,
     "metadata": {},
     "output_type": "execute_result"
    }
   ],
   "source": [
    "# data types \n",
    "df_netflix\n",
    "\n",
    "df_netflix.dtypes"
   ]
  },
  {
   "cell_type": "code",
   "execution_count": 43,
   "id": "24593672",
   "metadata": {},
   "outputs": [
    {
     "data": {
      "text/plain": [
       "(8807, 12)"
      ]
     },
     "execution_count": 43,
     "metadata": {},
     "output_type": "execute_result"
    }
   ],
   "source": [
    "# shape of the dataframe \n",
    "df_netflix.shape"
   ]
  },
  {
   "cell_type": "code",
   "execution_count": 44,
   "id": "c458677a",
   "metadata": {},
   "outputs": [
    {
     "data": {
      "application/vnd.microsoft.datawrangler.viewer.v0+json": {
       "columns": [
        {
         "name": "index",
         "rawType": "int64",
         "type": "integer"
        },
        {
         "name": "show_id",
         "rawType": "object",
         "type": "string"
        },
        {
         "name": "type",
         "rawType": "object",
         "type": "string"
        },
        {
         "name": "title",
         "rawType": "object",
         "type": "string"
        },
        {
         "name": "director",
         "rawType": "object",
         "type": "unknown"
        },
        {
         "name": "cast",
         "rawType": "object",
         "type": "unknown"
        },
        {
         "name": "country",
         "rawType": "object",
         "type": "unknown"
        },
        {
         "name": "date_added",
         "rawType": "object",
         "type": "unknown"
        },
        {
         "name": "release_year",
         "rawType": "int64",
         "type": "integer"
        },
        {
         "name": "rating",
         "rawType": "object",
         "type": "unknown"
        },
        {
         "name": "duration",
         "rawType": "object",
         "type": "unknown"
        },
        {
         "name": "listed_in",
         "rawType": "object",
         "type": "string"
        },
        {
         "name": "description",
         "rawType": "object",
         "type": "string"
        }
       ],
       "ref": "5e719650-b0d1-46b3-a37a-7db251900d86",
       "rows": [
        [
         "0",
         "s1",
         "Movie",
         "Dick Johnson Is Dead",
         "Kirsten Johnson",
         null,
         "United States",
         "September 25, 2021",
         "2020",
         "PG-13",
         "90 min",
         "Documentaries",
         "As her father nears the end of his life, filmmaker Kirsten Johnson stages his death in inventive and comical ways to help them both face the inevitable."
        ],
        [
         "1",
         "s2",
         "TV Show",
         "Blood & Water",
         null,
         "Ama Qamata, Khosi Ngema, Gail Mabalane, Thabang Molaba, Dillon Windvogel, Natasha Thahane, Arno Greeff, Xolile Tshabalala, Getmore Sithole, Cindy Mahlangu, Ryle De Morny, Greteli Fincham, Sello Maake Ka-Ncube, Odwa Gwanya, Mekaila Mathys, Sandi Schultz, Duane Williams, Shamilla Miller, Patrick Mofokeng",
         "South Africa",
         "September 24, 2021",
         "2021",
         "TV-MA",
         "2 Seasons",
         "International TV Shows, TV Dramas, TV Mysteries",
         "After crossing paths at a party, a Cape Town teen sets out to prove whether a private-school swimming star is her sister who was abducted at birth."
        ],
        [
         "2",
         "s3",
         "TV Show",
         "Ganglands",
         "Julien Leclercq",
         "Sami Bouajila, Tracy Gotoas, Samuel Jouy, Nabiha Akkari, Sofia Lesaffre, Salim Kechiouche, Noureddine Farihi, Geert Van Rampelberg, Bakary Diombera",
         null,
         "September 24, 2021",
         "2021",
         "TV-MA",
         "1 Season",
         "Crime TV Shows, International TV Shows, TV Action & Adventure",
         "To protect his family from a powerful drug lord, skilled thief Mehdi and his expert team of robbers are pulled into a violent and deadly turf war."
        ],
        [
         "3",
         "s4",
         "TV Show",
         "Jailbirds New Orleans",
         null,
         null,
         null,
         "September 24, 2021",
         "2021",
         "TV-MA",
         "1 Season",
         "Docuseries, Reality TV",
         "Feuds, flirtations and toilet talk go down among the incarcerated women at the Orleans Justice Center in New Orleans on this gritty reality series."
        ],
        [
         "4",
         "s5",
         "TV Show",
         "Kota Factory",
         null,
         "Mayur More, Jitendra Kumar, Ranjan Raj, Alam Khan, Ahsaas Channa, Revathi Pillai, Urvi Singh, Arun Kumar",
         "India",
         "September 24, 2021",
         "2021",
         "TV-MA",
         "2 Seasons",
         "International TV Shows, Romantic TV Shows, TV Comedies",
         "In a city of coaching centers known to train India’s finest collegiate minds, an earnest but unexceptional student and his friends navigate campus life."
        ],
        [
         "5",
         "s6",
         "TV Show",
         "Midnight Mass",
         "Mike Flanagan",
         "Kate Siegel, Zach Gilford, Hamish Linklater, Henry Thomas, Kristin Lehman, Samantha Sloyan, Igby Rigney, Rahul Kohli, Annarah Cymone, Annabeth Gish, Alex Essoe, Rahul Abburi, Matt Biedel, Michael Trucco, Crystal Balint, Louis Oliver",
         null,
         "September 24, 2021",
         "2021",
         "TV-MA",
         "1 Season",
         "TV Dramas, TV Horror, TV Mysteries",
         "The arrival of a charismatic young priest brings glorious miracles, ominous mysteries and renewed religious fervor to a dying town desperate to believe."
        ],
        [
         "6",
         "s7",
         "Movie",
         "My Little Pony: A New Generation",
         "Robert Cullen, José Luis Ucha",
         "Vanessa Hudgens, Kimiko Glenn, James Marsden, Sofia Carson, Liza Koshy, Ken Jeong, Elizabeth Perkins, Jane Krakowski, Michael McKean, Phil LaMarr",
         null,
         "September 24, 2021",
         "2021",
         "PG",
         "91 min",
         "Children & Family Movies",
         "Equestria's divided. But a bright-eyed hero believes Earth Ponies, Pegasi and Unicorns should be pals — and, hoof to heart, she’s determined to prove it."
        ],
        [
         "7",
         "s8",
         "Movie",
         "Sankofa",
         "Haile Gerima",
         "Kofi Ghanaba, Oyafunmike Ogunlano, Alexandra Duah, Nick Medley, Mutabaruka, Afemo Omilami, Reggie Carter, Mzuri",
         "United States, Ghana, Burkina Faso, United Kingdom, Germany, Ethiopia",
         "September 24, 2021",
         "1993",
         "TV-MA",
         "125 min",
         "Dramas, Independent Movies, International Movies",
         "On a photo shoot in Ghana, an American model slips back in time, becomes enslaved on a plantation and bears witness to the agony of her ancestral past."
        ],
        [
         "8",
         "s9",
         "TV Show",
         "The Great British Baking Show",
         "Andy Devonshire",
         "Mel Giedroyc, Sue Perkins, Mary Berry, Paul Hollywood",
         "United Kingdom",
         "September 24, 2021",
         "2021",
         "TV-14",
         "9 Seasons",
         "British TV Shows, Reality TV",
         "A talented batch of amateur bakers face off in a 10-week competition, whipping up their best dishes in the hopes of being named the U.K.'s best."
        ],
        [
         "9",
         "s10",
         "Movie",
         "The Starling",
         "Theodore Melfi",
         "Melissa McCarthy, Chris O'Dowd, Kevin Kline, Timothy Olyphant, Daveed Diggs, Skyler Gisondo, Laura Harrier, Rosalind Chao, Kimberly Quinn, Loretta Devine, Ravi Kapoor",
         "United States",
         "September 24, 2021",
         "2021",
         "PG-13",
         "104 min",
         "Comedies, Dramas",
         "A woman adjusting to life after a loss contends with a feisty bird that's taken over her garden — and a husband who's struggling to find a way forward."
        ],
        [
         "10",
         "s11",
         "TV Show",
         "Vendetta: Truth, Lies and The Mafia",
         null,
         null,
         null,
         "September 24, 2021",
         "2021",
         "TV-MA",
         "1 Season",
         "Crime TV Shows, Docuseries, International TV Shows",
         "Sicily boasts a bold \"Anti-Mafia\" coalition. But what happens when those trying to bring down organized crime are accused of being criminals themselves?"
        ],
        [
         "11",
         "s12",
         "TV Show",
         "Bangkok Breaking",
         "Kongkiat Komesiri",
         "Sukollawat Kanarot, Sushar Manaying, Pavarit Mongkolpisit, Sahajak Boonthanakit, Suthipongse Thatphithakkul, Bhasaworn Bawronkirati, Daweerit Chullasapya, Waratthaya Wongchayaporn, Kittiphoom Wongpentak, Abhicha Thanachanun, Nophand Boonyai, Kittipong Khamsat, Arisara Wongchalee, Jaytiya Naiwattanakul, Pantipa Arunwattanachai, Panupan Jantanawong, Kungtap Saelim, Phumphat Chartsuriyakiat, Issara Veranitinunt, Keerati Sivakuae, Panjai Sirisuwan, Supranee Charoenpol, Suda Chuenban, Visaka Banhansupavat, Pitchatorn Santinatornkul",
         null,
         "September 23, 2021",
         "2021",
         "TV-MA",
         "1 Season",
         "Crime TV Shows, International TV Shows, TV Action & Adventure",
         "Struggling to earn a living in Bangkok, a man joins an emergency rescue service and realizes he must unravel a citywide conspiracy."
        ],
        [
         "12",
         "s13",
         "Movie",
         "Je Suis Karl",
         "Christian Schwochow",
         "Luna Wedler, Jannis Niewöhner, Milan Peschel, Edin Hasanović, Anna Fialová, Marlon Boess, Victor Boccard, Fleur Geffrier, Aziz Dyab, Mélanie Fouché, Elizaveta Maximová",
         "Germany, Czech Republic",
         "September 23, 2021",
         "2021",
         "TV-MA",
         "127 min",
         "Dramas, International Movies",
         "After most of her family is murdered in a terrorist bombing, a young woman is unknowingly lured into joining the very group that killed them."
        ],
        [
         "13",
         "s14",
         "Movie",
         "Confessions of an Invisible Girl",
         "Bruno Garotti",
         "Klara Castanho, Lucca Picon, Júlia Gomes, Marcus Bessa, Kiria Malheiros, Fernanda Concon, Gabriel Lima, Caio Cabral, Leonardo Cidade, Jade Cardozo",
         null,
         "September 22, 2021",
         "2021",
         "TV-PG",
         "91 min",
         "Children & Family Movies, Comedies",
         "When the clever but socially-awkward Tetê joins a new school, she'll do anything to fit in. But the queen bee among her classmates has other ideas."
        ],
        [
         "14",
         "s15",
         "TV Show",
         "Crime Stories: India Detectives",
         null,
         null,
         null,
         "September 22, 2021",
         "2021",
         "TV-MA",
         "1 Season",
         "British TV Shows, Crime TV Shows, Docuseries",
         "Cameras following Bengaluru police on the job offer a rare glimpse into the complex and challenging inner workings of four major crime investigations."
        ],
        [
         "15",
         "s16",
         "TV Show",
         "Dear White People",
         null,
         "Logan Browning, Brandon P. Bell, DeRon Horton, Antoinette Robertson, John Patrick Amedori, Ashley Blaine Featherson, Marque Richardson, Giancarlo Esposito",
         "United States",
         "September 22, 2021",
         "2021",
         "TV-MA",
         "4 Seasons",
         "TV Comedies, TV Dramas",
         "Students of color navigate the daily slights and slippery politics of life at an Ivy League college that's not nearly as \"post-racial\" as it thinks."
        ],
        [
         "16",
         "s17",
         "Movie",
         "Europe's Most Dangerous Man: Otto Skorzeny in Spain",
         "Pedro de Echave García, Pablo Azorín Williams",
         null,
         null,
         "September 22, 2021",
         "2020",
         "TV-MA",
         "67 min",
         "Documentaries, International Movies",
         "Declassified documents reveal the post-WWII life of Otto Skorzeny, a close Hitler ally who escaped to Spain and became an adviser to world presidents."
        ],
        [
         "17",
         "s18",
         "TV Show",
         "Falsa identidad",
         null,
         "Luis Ernesto Franco, Camila Sodi, Sergio Goyri, Samadhi Zendejas, Eduardo Yáñez, Sonya Smith, Alejandro Camacho, Azela Robinson, Uriel del Toro, Géraldine Bazán, Gabriela Roel, Marcus Ornellas",
         "Mexico",
         "September 22, 2021",
         "2020",
         "TV-MA",
         "2 Seasons",
         "Crime TV Shows, Spanish-Language TV Shows, TV Dramas",
         "Strangers Diego and Isabel flee their home in Mexico and pretend to be a married couple to escape his drug-dealing enemies and her abusive husband."
        ],
        [
         "18",
         "s19",
         "Movie",
         "Intrusion",
         "Adam Salky",
         "Freida Pinto, Logan Marshall-Green, Robert John Burke, Megan Elisabeth Kelly, Sarah Minnich, Hayes Hargrove, Mark Sivertsen, Brandon Fierro, Antonio Valles, Clint Obenchain",
         null,
         "September 22, 2021",
         "2021",
         "TV-14",
         "94 min",
         "Thrillers",
         "After a deadly home invasion at a couple’s new dream house, the traumatized wife searches for answers — and learns the real danger is just beginning."
        ],
        [
         "19",
         "s20",
         "TV Show",
         "Jaguar",
         null,
         "Blanca Suárez, Iván Marcos, Óscar Casas, Adrián Lastra, Francesc Garrido, Stefan Weinert, Julia Möller, Alicia Chojnowski",
         null,
         "September 22, 2021",
         "2021",
         "TV-MA",
         "1 Season",
         "International TV Shows, Spanish-Language TV Shows, TV Action & Adventure",
         "In the 1960s, a Holocaust survivor joins a group of self-trained spies who seek justice against Nazis fleeing to Spain to hide after WWII."
        ],
        [
         "20",
         "s21",
         "TV Show",
         "Monsters Inside: The 24 Faces of Billy Milligan",
         "Olivier Megaton",
         null,
         null,
         "September 22, 2021",
         "2021",
         "TV-14",
         "1 Season",
         "Crime TV Shows, Docuseries, International TV Shows",
         "In the late 1970s, an accused serial rapist claims multiple personalities control his behavior, setting off a legal odyssey that captivates America."
        ],
        [
         "21",
         "s22",
         "TV Show",
         "Resurrection: Ertugrul",
         null,
         "Engin Altan Düzyatan, Serdar Gökhan, Hülya Darcan, Kaan Taşaner, Esra Bilgiç, Osman Soykut, Serdar Deniz, Cengiz Coşkun, Reshad Strik, Hande Subaşı",
         "Turkey",
         "September 22, 2021",
         "2018",
         "TV-14",
         "5 Seasons",
         "International TV Shows, TV Action & Adventure, TV Dramas",
         "When a good deed unwittingly endangers his clan, a 13th-century Turkish warrior agrees to fight a sultan's enemies in exchange for new tribal land."
        ],
        [
         "22",
         "s23",
         "Movie",
         "Avvai Shanmughi",
         "K.S. Ravikumar",
         "Kamal Hassan, Meena, Gemini Ganesan, Heera Rajgopal, Nassar, S.P. Balasubrahmanyam",
         null,
         "September 21, 2021",
         "1996",
         "TV-PG",
         "161 min",
         "Comedies, International Movies",
         "Newly divorced and denied visitation rights with his daughter, a doting father disguises himself as a gray-haired nanny in order to spend time with her."
        ],
        [
         "23",
         "s24",
         "Movie",
         "Go! Go! Cory Carson: Chrissy Takes the Wheel",
         "Alex Woo, Stanley Moore",
         "Maisie Benson, Paul Killam, Kerry Gudjohnsen, AC Lim",
         null,
         "September 21, 2021",
         "2021",
         "TV-Y",
         "61 min",
         "Children & Family Movies",
         "From arcade games to sled days and hiccup cures, Cory Carson’s curious little sister Chrissy speeds off on her own for fun and adventure all over town!"
        ],
        [
         "24",
         "s25",
         "Movie",
         "Jeans",
         "S. Shankar",
         "Prashanth, Aishwarya Rai Bachchan, Sri Lakshmi, Nassar",
         "India",
         "September 21, 2021",
         "1998",
         "TV-14",
         "166 min",
         "Comedies, International Movies, Romantic Movies",
         "When the father of the man she loves insists that his twin sons marry twin sisters, a woman creates an alter ego that might be a bit too convincing."
        ],
        [
         "25",
         "s26",
         "TV Show",
         "Love on the Spectrum",
         null,
         "Brooke Satchwell",
         "Australia",
         "September 21, 2021",
         "2021",
         "TV-14",
         "2 Seasons",
         "Docuseries, International TV Shows, Reality TV",
         "Finding love can be hard for anyone. For young adults on the autism spectrum, exploring the unpredictable world of dating is even more complicated."
        ],
        [
         "26",
         "s27",
         "Movie",
         "Minsara Kanavu",
         "Rajiv Menon",
         "Arvind Swamy, Kajol, Prabhu Deva, Nassar, S.P. Balasubrahmanyam, Girish Karnad",
         null,
         "September 21, 2021",
         "1997",
         "TV-PG",
         "147 min",
         "Comedies, International Movies, Music & Musicals",
         "A tangled love triangle ensues when a man falls for a woman studying to become a nun — and she falls for the friend he enlists to help him pursue her."
        ],
        [
         "27",
         "s28",
         "Movie",
         "Grown Ups",
         "Dennis Dugan",
         "Adam Sandler, Kevin James, Chris Rock, David Spade, Rob Schneider, Salma Hayek, Maria Bello, Maya Rudolph, Colin Quinn, Tim Meadows, Joyce Van Patten",
         "United States",
         "September 20, 2021",
         "2010",
         "PG-13",
         "103 min",
         "Comedies",
         "Mourning the loss of their beloved junior high basketball coach, five middle-aged pals reunite at a lake house and rediscover the joys of being a kid."
        ],
        [
         "28",
         "s29",
         "Movie",
         "Dark Skies",
         "Scott Stewart",
         "Keri Russell, Josh Hamilton, J.K. Simmons, Dakota Goyo, Kadan Rockett, L.J. Benet, Rich Hutchman, Myndy Crist, Annie Thurman, Jake Brennan",
         "United States",
         "September 19, 2021",
         "2013",
         "PG-13",
         "97 min",
         "Horror Movies, Sci-Fi & Fantasy",
         "A family’s idyllic suburban life shatters when an alien force invades their home, and as they struggle to convince others of the deadly threat."
        ],
        [
         "29",
         "s30",
         "Movie",
         "Paranoia",
         "Robert Luketic",
         "Liam Hemsworth, Gary Oldman, Amber Heard, Harrison Ford, Lucas Till, Embeth Davidtz, Julian McMahon, Josh Holloway, Richard Dreyfuss, Angela Sarafyan",
         "United States, India, France",
         "September 19, 2021",
         "2013",
         "PG-13",
         "106 min",
         "Thrillers",
         "Blackmailed by his company's CEO, a low-level employee finds himself forced to spy on the boss's rival and former mentor."
        ],
        [
         "30",
         "s31",
         "Movie",
         "Ankahi Kahaniya",
         "Ashwiny Iyer Tiwari, Abhishek Chaubey, Saket Chaudhary",
         "Abhishek Banerjee, Rinku Rajguru, Delzad Hiwale, Kunal Kapoor, Zoya Hussain, Nikhil Dwivedi, Palomi Ghosh",
         null,
         "September 17, 2021",
         "2021",
         "TV-14",
         "111 min",
         "Dramas, Independent Movies, International Movies",
         "As big city life buzzes around them, lonely souls discover surprising sources of connection and companionship in three tales of love, loss and longing."
        ],
        [
         "31",
         "s32",
         "TV Show",
         "Chicago Party Aunt",
         null,
         "Lauren Ash, Rory O'Malley, RuPaul Charles, Jill Talley, Ike Barinholtz, Jon Barinholtz, Matthew Craig, Bob Odenkirk, Mike Hagerty, Katie Rich, Chris Witaske",
         null,
         "September 17, 2021",
         "2021",
         "TV-MA",
         "1 Season",
         "TV Comedies",
         "Chicago Party Aunt Diane is an idolized troublemaker with a talent for avoiding adulthood — and a soft spot for her soul-searching nephew."
        ],
        [
         "32",
         "s33",
         "TV Show",
         "Sex Education",
         null,
         "Asa Butterfield, Gillian Anderson, Ncuti Gatwa, Emma Mackey, Connor Swindells, Kedar Williams-Stirling, Alistair Petrie",
         "United Kingdom",
         "September 17, 2021",
         "2020",
         "TV-MA",
         "3 Seasons",
         "British TV Shows, International TV Shows, TV Comedies",
         "Insecure Otis has all the answers when it comes to sex advice, thanks to his therapist mom. So rebel Maeve proposes a school sex-therapy clinic."
        ],
        [
         "33",
         "s34",
         "TV Show",
         "Squid Game",
         null,
         "Lee Jung-jae, Park Hae-soo, Wi Ha-jun, Oh Young-soo, Jung Ho-yeon, Heo Sung-tae, Kim Joo-ryoung, Tripathi Anupam, You Seong-joo, Lee You-mi",
         null,
         "September 17, 2021",
         "2021",
         "TV-MA",
         "1 Season",
         "International TV Shows, TV Dramas, TV Thrillers",
         "Hundreds of cash-strapped players accept a strange invitation to compete in children's games. Inside, a tempting prize awaits — with deadly high stakes."
        ],
        [
         "34",
         "s35",
         "TV Show",
         "Tayo and Little Wizards",
         null,
         "Dami Lee, Jason Lee, Bommie Catherine Han, Jennifer Waescher, Nancy Kim",
         null,
         "September 17, 2021",
         "2020",
         "TV-Y7",
         "1 Season",
         "Kids' TV",
         "Tayo speeds into an adventure when his friends get kidnapped by evil magicians invading their city in search of a magical gemstone."
        ],
        [
         "35",
         "s36",
         "Movie",
         "The Father Who Moves Mountains",
         "Daniel Sandu",
         "Adrian Titieni, Elena Purea, Judith State, Valeriu Andriuță, Tudor Smoleanu, Virgil Aioanei, Radu Botar, Petronela Grigorescu, Bogdan Nechifor, Cristian Bota",
         null,
         "September 17, 2021",
         "2021",
         "TV-MA",
         "110 min",
         "Dramas, International Movies, Thrillers",
         "When his son goes missing during a snowy hike in the mountains, a retired intelligence officer will stop at nothing — and risk everything — to find him."
        ],
        [
         "36",
         "s37",
         "Movie",
         "The Stronghold",
         "Cédric Jimenez",
         "Gilles Lellouche, Karim Leklou, François Civil, Adèle Exarchopoulos, Kenza Fortas, Cyril Lecomte, Michaël Abiteboul, Idir Azougli, Vincent Darmuzey, Jean-Yves Berteloot",
         null,
         "September 17, 2021",
         "2021",
         "TV-MA",
         "105 min",
         "Action & Adventure, Dramas, International Movies",
         "Tired of the small-time grind, three Marseille cops get a chance to bust a major drug network. But lines blur when a key informant makes a big ask."
        ],
        [
         "37",
         "s38",
         "TV Show",
         "Angry Birds",
         null,
         "Antti Pääkkönen, Heljä Heikkinen, Lynne Guaglione, Pasi Ruohonen, Rauno Ahonen",
         "Finland",
         "September 16, 2021",
         "2018",
         "TV-Y7",
         "1 Season",
         "Kids' TV, TV Comedies",
         "Birds Red, Chuck and their feathered friends have lots of adventures while guarding eggs in their nest that pesky pigs keep trying to steal."
        ],
        [
         "38",
         "s39",
         "Movie",
         "Birth of the Dragon",
         "George Nolfi",
         "Billy Magnussen, Ron Yuan, Qu Jingjing, Terry Chen, Vanness Wu, Jin Xing, Philip Ng, Xia Yu, Yu Xia",
         "China, Canada, United States",
         "September 16, 2021",
         "2017",
         "PG-13",
         "96 min",
         "Action & Adventure, Dramas",
         "A young Bruce Lee angers kung fu traditionalists by teaching outsiders, leading to a showdown with a Shaolin master in this film based on real events."
        ],
        [
         "39",
         "s40",
         "TV Show",
         "Chhota Bheem",
         null,
         "Vatsal Dubey, Julie Tejwani, Rupa Bhimani, Jigna Bhardwaj, Rajesh Kava, Mousam, Swapnil",
         "India",
         "September 16, 2021",
         "2021",
         "TV-Y7",
         "3 Seasons",
         "Kids' TV",
         "A brave, energetic little boy with superhuman powers leads his friends on exciting adventures to guard their fellow Dholakpur villagers from evil."
        ],
        [
         "40",
         "s41",
         "TV Show",
         "He-Man and the Masters of the Universe",
         null,
         "Yuri Lowenthal, Kimberly Brooks, Antony Del Rio, Trevor Devall, Ben Diskin, Grey Griffin, David Kaye, Tom Kenny, Judy Alice Lee, Roger Craig Smith, Fred Tatasciore",
         "United States",
         "September 16, 2021",
         "2021",
         "TV-Y7",
         "1 Season",
         "Kids' TV, TV Sci-Fi & Fantasy",
         "Mighty teen Adam and his heroic squad of misfits discover the legendary power of Grayskull — and their destiny to defend Eternia from sinister Skeletor."
        ],
        [
         "41",
         "s42",
         "Movie",
         "Jaws",
         "Steven Spielberg",
         "Roy Scheider, Robert Shaw, Richard Dreyfuss, Lorraine Gary, Murray Hamilton, Carl Gottlieb, Jeffrey Kramer, Susan Backlinie, Jonathan Filley, Ted Grossman",
         "United States",
         "September 16, 2021",
         "1975",
         "PG",
         "124 min",
         "Action & Adventure, Classic Movies, Dramas",
         "When an insatiable great white shark terrorizes Amity Island, a police chief, an oceanographer and a grizzled shark hunter seek to destroy the beast."
        ],
        [
         "42",
         "s43",
         "Movie",
         "Jaws 2",
         "Jeannot Szwarc",
         "Roy Scheider, Lorraine Gary, Murray Hamilton, Joseph Mascolo, Jeffrey Kramer, Collin Wilcox Paxton, Ann Dusenberry, Mark Gruner, Barry Coe, Susan French",
         "United States",
         "September 16, 2021",
         "1978",
         "PG",
         "116 min",
         "Dramas, Horror Movies, Thrillers",
         "Four years after the last deadly shark attacks, police chief Martin Brody fights to protect Amity Island from another killer great white."
        ],
        [
         "43",
         "s44",
         "Movie",
         "Jaws 3",
         "Joe Alves",
         "Dennis Quaid, Bess Armstrong, Simon MacCorkindale, Louis Gossett Jr., John Putch, Lea Thompson, P.H. Moriarty, Dan Blasko, Liz Morris, Lisa Maurer",
         "United States",
         "September 16, 2021",
         "1983",
         "PG",
         "98 min",
         "Action & Adventure, Horror Movies, Thrillers",
         "After the staff of a marine theme park try to capture a young great white shark, they discover its mother has invaded the enclosure and is out for blood."
        ],
        [
         "44",
         "s45",
         "Movie",
         "Jaws: The Revenge",
         "Joseph Sargent",
         "Lorraine Gary, Lance Guest, Mario Van Peebles, Karen Young, Michael Caine, Judith Barsi, Mitchell Anderson, Lynn Whitfield",
         "United States",
         "September 16, 2021",
         "1987",
         "PG-13",
         "91 min",
         "Action & Adventure, Horror Movies, Thrillers",
         "After another deadly shark attack, Ellen Brody has had enough of Amity Island and moves to the Caribbean – but a great white shark follows her there."
        ],
        [
         "45",
         "s46",
         "Movie",
         "My Heroes Were Cowboys",
         "Tyler Greco",
         null,
         null,
         "September 16, 2021",
         "2021",
         "PG",
         "23 min",
         "Documentaries",
         "Robin Wiltshire's painful childhood was rescued by Westerns. Now he lives on the frontier of his dreams, training the horses he loves for the big screen."
        ],
        [
         "46",
         "s47",
         "Movie",
         "Safe House",
         "Daniel Espinosa",
         "Denzel Washington, Ryan Reynolds, Vera Farmiga, Brendan Gleeson, Sam Shepard, Rubén Blades, Nora Arnezeder, Robert Patrick, Liam Cunningham, Joel Kinnaman",
         "South Africa, United States, Japan",
         "September 16, 2021",
         "2012",
         "R",
         "115 min",
         "Action & Adventure",
         "Young CIA operative Matt Weston must get a dangerous criminal out of an agency safe house that's come under attack and get him to a securer location."
        ],
        [
         "47",
         "s48",
         "TV Show",
         "The Smart Money Woman",
         "Bunmi Ajakaiye",
         "Osas Ighodaro, Ini Dima-Okojie, Kemi Lala Akindoju, Toni Tones, Ebenezer Eno, Eso Okolocha DIke, Patrick Diabuah, Karibi Fubara, Temisan Emmanuel, Timini Egbuson",
         null,
         "September 16, 2021",
         "2020",
         "TV-MA",
         "1 Season",
         "International TV Shows, Romantic TV Shows, TV Comedies",
         "Five glamorous millennials strive for success as they juggle careers, finances, love and friendships. Based on Arese Ugwu's 2016 best-selling novel."
        ],
        [
         "48",
         "s49",
         "Movie",
         "Training Day",
         "Antoine Fuqua",
         "Denzel Washington, Ethan Hawke, Scott Glenn, Tom Berenger, Harris Yulin, Raymond J. Barry, Cliff Curtis, Dr. Dre, Snoop Dogg, Macy Gray, Eva Mendes",
         "United States",
         "September 16, 2021",
         "2001",
         "R",
         "122 min",
         "Dramas, Thrillers",
         "A rookie cop with one day to prove himself to a veteran LAPD narcotics officer receives a crash course in his mentor's questionable brand of justice."
        ],
        [
         "49",
         "s50",
         "TV Show",
         "Castle and Castle",
         null,
         "Richard Mofe-Damijo, Dakore Akande, Bimbo Manuel, Blossom Chukwujekwu, Deyemi Okanlawon, Etim Effiong, Denola Grey, Duke Akintola, Eku Edewor, Ade Laoye, Anee Icha, Kevin Ushi, Jude Chukwuka, Amanda Afolabi",
         "Nigeria",
         "September 15, 2021",
         "2021",
         "TV-MA",
         "2 Seasons",
         "International TV Shows, TV Dramas",
         "A pair of high-powered, successful lawyers find themselves defending opposite interests of the justice system, causing a strain on their happy marriage."
        ]
       ],
       "shape": {
        "columns": 12,
        "rows": 8807
       }
      },
      "text/html": [
       "<div>\n",
       "<style scoped>\n",
       "    .dataframe tbody tr th:only-of-type {\n",
       "        vertical-align: middle;\n",
       "    }\n",
       "\n",
       "    .dataframe tbody tr th {\n",
       "        vertical-align: top;\n",
       "    }\n",
       "\n",
       "    .dataframe thead th {\n",
       "        text-align: right;\n",
       "    }\n",
       "</style>\n",
       "<table border=\"1\" class=\"dataframe\">\n",
       "  <thead>\n",
       "    <tr style=\"text-align: right;\">\n",
       "      <th></th>\n",
       "      <th>show_id</th>\n",
       "      <th>type</th>\n",
       "      <th>title</th>\n",
       "      <th>director</th>\n",
       "      <th>cast</th>\n",
       "      <th>country</th>\n",
       "      <th>date_added</th>\n",
       "      <th>release_year</th>\n",
       "      <th>rating</th>\n",
       "      <th>duration</th>\n",
       "      <th>listed_in</th>\n",
       "      <th>description</th>\n",
       "    </tr>\n",
       "  </thead>\n",
       "  <tbody>\n",
       "    <tr>\n",
       "      <th>0</th>\n",
       "      <td>s1</td>\n",
       "      <td>Movie</td>\n",
       "      <td>Dick Johnson Is Dead</td>\n",
       "      <td>Kirsten Johnson</td>\n",
       "      <td>NaN</td>\n",
       "      <td>United States</td>\n",
       "      <td>September 25, 2021</td>\n",
       "      <td>2020</td>\n",
       "      <td>PG-13</td>\n",
       "      <td>90 min</td>\n",
       "      <td>Documentaries</td>\n",
       "      <td>As her father nears the end of his life, filmm...</td>\n",
       "    </tr>\n",
       "    <tr>\n",
       "      <th>1</th>\n",
       "      <td>s2</td>\n",
       "      <td>TV Show</td>\n",
       "      <td>Blood &amp; Water</td>\n",
       "      <td>NaN</td>\n",
       "      <td>Ama Qamata, Khosi Ngema, Gail Mabalane, Thaban...</td>\n",
       "      <td>South Africa</td>\n",
       "      <td>September 24, 2021</td>\n",
       "      <td>2021</td>\n",
       "      <td>TV-MA</td>\n",
       "      <td>2 Seasons</td>\n",
       "      <td>International TV Shows, TV Dramas, TV Mysteries</td>\n",
       "      <td>After crossing paths at a party, a Cape Town t...</td>\n",
       "    </tr>\n",
       "    <tr>\n",
       "      <th>2</th>\n",
       "      <td>s3</td>\n",
       "      <td>TV Show</td>\n",
       "      <td>Ganglands</td>\n",
       "      <td>Julien Leclercq</td>\n",
       "      <td>Sami Bouajila, Tracy Gotoas, Samuel Jouy, Nabi...</td>\n",
       "      <td>NaN</td>\n",
       "      <td>September 24, 2021</td>\n",
       "      <td>2021</td>\n",
       "      <td>TV-MA</td>\n",
       "      <td>1 Season</td>\n",
       "      <td>Crime TV Shows, International TV Shows, TV Act...</td>\n",
       "      <td>To protect his family from a powerful drug lor...</td>\n",
       "    </tr>\n",
       "    <tr>\n",
       "      <th>3</th>\n",
       "      <td>s4</td>\n",
       "      <td>TV Show</td>\n",
       "      <td>Jailbirds New Orleans</td>\n",
       "      <td>NaN</td>\n",
       "      <td>NaN</td>\n",
       "      <td>NaN</td>\n",
       "      <td>September 24, 2021</td>\n",
       "      <td>2021</td>\n",
       "      <td>TV-MA</td>\n",
       "      <td>1 Season</td>\n",
       "      <td>Docuseries, Reality TV</td>\n",
       "      <td>Feuds, flirtations and toilet talk go down amo...</td>\n",
       "    </tr>\n",
       "    <tr>\n",
       "      <th>4</th>\n",
       "      <td>s5</td>\n",
       "      <td>TV Show</td>\n",
       "      <td>Kota Factory</td>\n",
       "      <td>NaN</td>\n",
       "      <td>Mayur More, Jitendra Kumar, Ranjan Raj, Alam K...</td>\n",
       "      <td>India</td>\n",
       "      <td>September 24, 2021</td>\n",
       "      <td>2021</td>\n",
       "      <td>TV-MA</td>\n",
       "      <td>2 Seasons</td>\n",
       "      <td>International TV Shows, Romantic TV Shows, TV ...</td>\n",
       "      <td>In a city of coaching centers known to train I...</td>\n",
       "    </tr>\n",
       "    <tr>\n",
       "      <th>...</th>\n",
       "      <td>...</td>\n",
       "      <td>...</td>\n",
       "      <td>...</td>\n",
       "      <td>...</td>\n",
       "      <td>...</td>\n",
       "      <td>...</td>\n",
       "      <td>...</td>\n",
       "      <td>...</td>\n",
       "      <td>...</td>\n",
       "      <td>...</td>\n",
       "      <td>...</td>\n",
       "      <td>...</td>\n",
       "    </tr>\n",
       "    <tr>\n",
       "      <th>8802</th>\n",
       "      <td>s8803</td>\n",
       "      <td>Movie</td>\n",
       "      <td>Zodiac</td>\n",
       "      <td>David Fincher</td>\n",
       "      <td>Mark Ruffalo, Jake Gyllenhaal, Robert Downey J...</td>\n",
       "      <td>United States</td>\n",
       "      <td>November 20, 2019</td>\n",
       "      <td>2007</td>\n",
       "      <td>R</td>\n",
       "      <td>158 min</td>\n",
       "      <td>Cult Movies, Dramas, Thrillers</td>\n",
       "      <td>A political cartoonist, a crime reporter and a...</td>\n",
       "    </tr>\n",
       "    <tr>\n",
       "      <th>8803</th>\n",
       "      <td>s8804</td>\n",
       "      <td>TV Show</td>\n",
       "      <td>Zombie Dumb</td>\n",
       "      <td>NaN</td>\n",
       "      <td>NaN</td>\n",
       "      <td>NaN</td>\n",
       "      <td>July 1, 2019</td>\n",
       "      <td>2018</td>\n",
       "      <td>TV-Y7</td>\n",
       "      <td>2 Seasons</td>\n",
       "      <td>Kids' TV, Korean TV Shows, TV Comedies</td>\n",
       "      <td>While living alone in a spooky town, a young g...</td>\n",
       "    </tr>\n",
       "    <tr>\n",
       "      <th>8804</th>\n",
       "      <td>s8805</td>\n",
       "      <td>Movie</td>\n",
       "      <td>Zombieland</td>\n",
       "      <td>Ruben Fleischer</td>\n",
       "      <td>Jesse Eisenberg, Woody Harrelson, Emma Stone, ...</td>\n",
       "      <td>United States</td>\n",
       "      <td>November 1, 2019</td>\n",
       "      <td>2009</td>\n",
       "      <td>R</td>\n",
       "      <td>88 min</td>\n",
       "      <td>Comedies, Horror Movies</td>\n",
       "      <td>Looking to survive in a world taken over by zo...</td>\n",
       "    </tr>\n",
       "    <tr>\n",
       "      <th>8805</th>\n",
       "      <td>s8806</td>\n",
       "      <td>Movie</td>\n",
       "      <td>Zoom</td>\n",
       "      <td>Peter Hewitt</td>\n",
       "      <td>Tim Allen, Courteney Cox, Chevy Chase, Kate Ma...</td>\n",
       "      <td>United States</td>\n",
       "      <td>January 11, 2020</td>\n",
       "      <td>2006</td>\n",
       "      <td>PG</td>\n",
       "      <td>88 min</td>\n",
       "      <td>Children &amp; Family Movies, Comedies</td>\n",
       "      <td>Dragged from civilian life, a former superhero...</td>\n",
       "    </tr>\n",
       "    <tr>\n",
       "      <th>8806</th>\n",
       "      <td>s8807</td>\n",
       "      <td>Movie</td>\n",
       "      <td>Zubaan</td>\n",
       "      <td>Mozez Singh</td>\n",
       "      <td>Vicky Kaushal, Sarah-Jane Dias, Raaghav Chanan...</td>\n",
       "      <td>India</td>\n",
       "      <td>March 2, 2019</td>\n",
       "      <td>2015</td>\n",
       "      <td>TV-14</td>\n",
       "      <td>111 min</td>\n",
       "      <td>Dramas, International Movies, Music &amp; Musicals</td>\n",
       "      <td>A scrappy but poor boy worms his way into a ty...</td>\n",
       "    </tr>\n",
       "  </tbody>\n",
       "</table>\n",
       "<p>8807 rows × 12 columns</p>\n",
       "</div>"
      ],
      "text/plain": [
       "     show_id     type                  title         director  \\\n",
       "0         s1    Movie   Dick Johnson Is Dead  Kirsten Johnson   \n",
       "1         s2  TV Show          Blood & Water              NaN   \n",
       "2         s3  TV Show              Ganglands  Julien Leclercq   \n",
       "3         s4  TV Show  Jailbirds New Orleans              NaN   \n",
       "4         s5  TV Show           Kota Factory              NaN   \n",
       "...      ...      ...                    ...              ...   \n",
       "8802   s8803    Movie                 Zodiac    David Fincher   \n",
       "8803   s8804  TV Show            Zombie Dumb              NaN   \n",
       "8804   s8805    Movie             Zombieland  Ruben Fleischer   \n",
       "8805   s8806    Movie                   Zoom     Peter Hewitt   \n",
       "8806   s8807    Movie                 Zubaan      Mozez Singh   \n",
       "\n",
       "                                                   cast        country  \\\n",
       "0                                                   NaN  United States   \n",
       "1     Ama Qamata, Khosi Ngema, Gail Mabalane, Thaban...   South Africa   \n",
       "2     Sami Bouajila, Tracy Gotoas, Samuel Jouy, Nabi...            NaN   \n",
       "3                                                   NaN            NaN   \n",
       "4     Mayur More, Jitendra Kumar, Ranjan Raj, Alam K...          India   \n",
       "...                                                 ...            ...   \n",
       "8802  Mark Ruffalo, Jake Gyllenhaal, Robert Downey J...  United States   \n",
       "8803                                                NaN            NaN   \n",
       "8804  Jesse Eisenberg, Woody Harrelson, Emma Stone, ...  United States   \n",
       "8805  Tim Allen, Courteney Cox, Chevy Chase, Kate Ma...  United States   \n",
       "8806  Vicky Kaushal, Sarah-Jane Dias, Raaghav Chanan...          India   \n",
       "\n",
       "              date_added  release_year rating   duration  \\\n",
       "0     September 25, 2021          2020  PG-13     90 min   \n",
       "1     September 24, 2021          2021  TV-MA  2 Seasons   \n",
       "2     September 24, 2021          2021  TV-MA   1 Season   \n",
       "3     September 24, 2021          2021  TV-MA   1 Season   \n",
       "4     September 24, 2021          2021  TV-MA  2 Seasons   \n",
       "...                  ...           ...    ...        ...   \n",
       "8802   November 20, 2019          2007      R    158 min   \n",
       "8803        July 1, 2019          2018  TV-Y7  2 Seasons   \n",
       "8804    November 1, 2019          2009      R     88 min   \n",
       "8805    January 11, 2020          2006     PG     88 min   \n",
       "8806       March 2, 2019          2015  TV-14    111 min   \n",
       "\n",
       "                                              listed_in  \\\n",
       "0                                         Documentaries   \n",
       "1       International TV Shows, TV Dramas, TV Mysteries   \n",
       "2     Crime TV Shows, International TV Shows, TV Act...   \n",
       "3                                Docuseries, Reality TV   \n",
       "4     International TV Shows, Romantic TV Shows, TV ...   \n",
       "...                                                 ...   \n",
       "8802                     Cult Movies, Dramas, Thrillers   \n",
       "8803             Kids' TV, Korean TV Shows, TV Comedies   \n",
       "8804                            Comedies, Horror Movies   \n",
       "8805                 Children & Family Movies, Comedies   \n",
       "8806     Dramas, International Movies, Music & Musicals   \n",
       "\n",
       "                                            description  \n",
       "0     As her father nears the end of his life, filmm...  \n",
       "1     After crossing paths at a party, a Cape Town t...  \n",
       "2     To protect his family from a powerful drug lor...  \n",
       "3     Feuds, flirtations and toilet talk go down amo...  \n",
       "4     In a city of coaching centers known to train I...  \n",
       "...                                                 ...  \n",
       "8802  A political cartoonist, a crime reporter and a...  \n",
       "8803  While living alone in a spooky town, a young g...  \n",
       "8804  Looking to survive in a world taken over by zo...  \n",
       "8805  Dragged from civilian life, a former superhero...  \n",
       "8806  A scrappy but poor boy worms his way into a ty...  \n",
       "\n",
       "[8807 rows x 12 columns]"
      ]
     },
     "execution_count": 44,
     "metadata": {},
     "output_type": "execute_result"
    }
   ],
   "source": [
    "df_netflix"
   ]
  },
  {
   "cell_type": "markdown",
   "id": "cca198ca",
   "metadata": {},
   "source": [
    "# 2 Identifying Missing Data"
   ]
  },
  {
   "cell_type": "code",
   "execution_count": 45,
   "id": "c4d9a0f6",
   "metadata": {},
   "outputs": [
    {
     "data": {
      "application/vnd.microsoft.datawrangler.viewer.v0+json": {
       "columns": [
        {
         "name": "index",
         "rawType": "object",
         "type": "string"
        },
        {
         "name": "0",
         "rawType": "int64",
         "type": "integer"
        }
       ],
       "ref": "ac39fe9c-2656-4a39-a858-eaabae4fc5c9",
       "rows": [
        [
         "director",
         "2634"
        ],
        [
         "country",
         "831"
        ],
        [
         "cast",
         "825"
        ],
        [
         "date_added",
         "10"
        ],
        [
         "rating",
         "4"
        ],
        [
         "duration",
         "3"
        ],
        [
         "show_id",
         "0"
        ],
        [
         "type",
         "0"
        ],
        [
         "title",
         "0"
        ],
        [
         "release_year",
         "0"
        ],
        [
         "listed_in",
         "0"
        ],
        [
         "description",
         "0"
        ]
       ],
       "shape": {
        "columns": 1,
        "rows": 12
       }
      },
      "text/plain": [
       "director        2634\n",
       "country          831\n",
       "cast             825\n",
       "date_added        10\n",
       "rating             4\n",
       "duration           3\n",
       "show_id            0\n",
       "type               0\n",
       "title              0\n",
       "release_year       0\n",
       "listed_in          0\n",
       "description        0\n",
       "dtype: int64"
      ]
     },
     "execution_count": 45,
     "metadata": {},
     "output_type": "execute_result"
    }
   ],
   "source": [
    "# number of rows missing in each column \n",
    "df_netflix.isnull().sum().sort_values(ascending=False)"
   ]
  },
  {
   "cell_type": "code",
   "execution_count": 46,
   "id": "dadb502c",
   "metadata": {},
   "outputs": [
    {
     "data": {
      "text/plain": [
       "Index(['show_id', 'type', 'title', 'director', 'cast', 'country', 'date_added',\n",
       "       'release_year', 'rating', 'duration', 'listed_in', 'description'],\n",
       "      dtype='object')"
      ]
     },
     "execution_count": 46,
     "metadata": {},
     "output_type": "execute_result"
    }
   ],
   "source": [
    "df_netflix.columns"
   ]
  },
  {
   "cell_type": "code",
   "execution_count": 47,
   "id": "fdfb5458",
   "metadata": {},
   "outputs": [
    {
     "name": "stdout",
     "output_type": "stream",
     "text": [
      "show_id has 0.0% missing values\n",
      "type has 0.0% missing values\n",
      "title has 0.0% missing values\n",
      "director has 29.91% missing values\n",
      "cast has 9.37% missing values\n",
      "country has 9.44% missing values\n",
      "date_added has 0.11% missing values\n",
      "release_year has 0.0% missing values\n",
      "rating has 0.05% missing values\n",
      "duration has 0.03% missing values\n",
      "listed_in has 0.0% missing values\n",
      "description has 0.0% missing values\n"
     ]
    }
   ],
   "source": [
    "# % number of rows missing in each column\n",
    "for column in df_netflix.columns:\n",
    "    percentage = df_netflix[column].isnull().mean()\n",
    "    print(column + \" has \" + str(round(percentage*100, 2)) + \"% missing values\")\n"
   ]
  },
  {
   "cell_type": "markdown",
   "id": "d61a1fb8",
   "metadata": {},
   "source": [
    "# 3 Dealing with missing data "
   ]
  },
  {
   "cell_type": "code",
   "execution_count": 48,
   "id": "da319649",
   "metadata": {},
   "outputs": [
    {
     "data": {
      "application/vnd.microsoft.datawrangler.viewer.v0+json": {
       "columns": [
        {
         "name": "index",
         "rawType": "object",
         "type": "string"
        },
        {
         "name": "0",
         "rawType": "int64",
         "type": "integer"
        }
       ],
       "ref": "c42c9e5f-0d72-4cd5-931b-4e63da02fa57",
       "rows": [
        [
         "show_id",
         "0"
        ],
        [
         "type",
         "0"
        ],
        [
         "title",
         "0"
        ],
        [
         "director",
         "0"
        ],
        [
         "cast",
         "473"
        ],
        [
         "country",
         "422"
        ],
        [
         "date_added",
         "0"
        ],
        [
         "release_year",
         "0"
        ],
        [
         "rating",
         "1"
        ],
        [
         "duration",
         "3"
        ],
        [
         "listed_in",
         "0"
        ],
        [
         "description",
         "0"
        ]
       ],
       "shape": {
        "columns": 1,
        "rows": 12
       }
      },
      "text/plain": [
       "show_id           0\n",
       "type              0\n",
       "title             0\n",
       "director          0\n",
       "cast            473\n",
       "country         422\n",
       "date_added        0\n",
       "release_year      0\n",
       "rating            1\n",
       "duration          3\n",
       "listed_in         0\n",
       "description       0\n",
       "dtype: int64"
      ]
     },
     "execution_count": 48,
     "metadata": {},
     "output_type": "execute_result"
    }
   ],
   "source": [
    "# remove a column or row with .drop, .dropna or .isnull \n",
    "\n",
    "# drop column \n",
    "# df_netflix.drop('director', axis=1) # in axis a column is usually 1 and a row is usually 0\n",
    "\n",
    "# drop row \n",
    "no_director = df_netflix[df_netflix['director'].isnull()].index\n",
    "df_netflix.drop(no_director, axis=0, inplace=True) # axis 0 is for rows, axis 1 is for\n",
    "\n",
    "# ~ + .isnull()\n",
    "\n",
    "df_netflix[~(df_netflix['director'].isnull())]\n",
    "\n",
    "#dropna()\n",
    "df_netflix.dropna(subset=['director']).isnull().sum()"
   ]
  },
  {
   "cell_type": "code",
   "execution_count": 49,
   "id": "397ef9b5",
   "metadata": {},
   "outputs": [
    {
     "data": {
      "application/vnd.microsoft.datawrangler.viewer.v0+json": {
       "columns": [
        {
         "name": "index",
         "rawType": "int64",
         "type": "integer"
        },
        {
         "name": "show_id",
         "rawType": "object",
         "type": "string"
        },
        {
         "name": "type",
         "rawType": "object",
         "type": "string"
        },
        {
         "name": "title",
         "rawType": "object",
         "type": "string"
        },
        {
         "name": "director",
         "rawType": "object",
         "type": "string"
        },
        {
         "name": "cast",
         "rawType": "object",
         "type": "unknown"
        },
        {
         "name": "country",
         "rawType": "object",
         "type": "unknown"
        },
        {
         "name": "date_added",
         "rawType": "object",
         "type": "string"
        },
        {
         "name": "release_year",
         "rawType": "int64",
         "type": "integer"
        },
        {
         "name": "rating",
         "rawType": "object",
         "type": "unknown"
        },
        {
         "name": "duration",
         "rawType": "object",
         "type": "unknown"
        },
        {
         "name": "listed_in",
         "rawType": "object",
         "type": "string"
        },
        {
         "name": "description",
         "rawType": "object",
         "type": "string"
        }
       ],
       "ref": "0732d194-bc4b-4507-a8d3-81cdca741074",
       "rows": [
        [
         "0",
         "s1",
         "Movie",
         "Dick Johnson Is Dead",
         "Kirsten Johnson",
         null,
         "United States",
         "September 25, 2021",
         "2020",
         "PG-13",
         "90 min",
         "Documentaries",
         "As her father nears the end of his life, filmmaker Kirsten Johnson stages his death in inventive and comical ways to help them both face the inevitable."
        ],
        [
         "2",
         "s3",
         "TV Show",
         "Ganglands",
         "Julien Leclercq",
         "Sami Bouajila, Tracy Gotoas, Samuel Jouy, Nabiha Akkari, Sofia Lesaffre, Salim Kechiouche, Noureddine Farihi, Geert Van Rampelberg, Bakary Diombera",
         null,
         "September 24, 2021",
         "2021",
         "TV-MA",
         "1 Season",
         "Crime TV Shows, International TV Shows, TV Action & Adventure",
         "To protect his family from a powerful drug lord, skilled thief Mehdi and his expert team of robbers are pulled into a violent and deadly turf war."
        ],
        [
         "5",
         "s6",
         "TV Show",
         "Midnight Mass",
         "Mike Flanagan",
         "Kate Siegel, Zach Gilford, Hamish Linklater, Henry Thomas, Kristin Lehman, Samantha Sloyan, Igby Rigney, Rahul Kohli, Annarah Cymone, Annabeth Gish, Alex Essoe, Rahul Abburi, Matt Biedel, Michael Trucco, Crystal Balint, Louis Oliver",
         null,
         "September 24, 2021",
         "2021",
         "TV-MA",
         "1 Season",
         "TV Dramas, TV Horror, TV Mysteries",
         "The arrival of a charismatic young priest brings glorious miracles, ominous mysteries and renewed religious fervor to a dying town desperate to believe."
        ],
        [
         "6",
         "s7",
         "Movie",
         "My Little Pony: A New Generation",
         "Robert Cullen, José Luis Ucha",
         "Vanessa Hudgens, Kimiko Glenn, James Marsden, Sofia Carson, Liza Koshy, Ken Jeong, Elizabeth Perkins, Jane Krakowski, Michael McKean, Phil LaMarr",
         null,
         "September 24, 2021",
         "2021",
         "PG",
         "91 min",
         "Children & Family Movies",
         "Equestria's divided. But a bright-eyed hero believes Earth Ponies, Pegasi and Unicorns should be pals — and, hoof to heart, she’s determined to prove it."
        ],
        [
         "7",
         "s8",
         "Movie",
         "Sankofa",
         "Haile Gerima",
         "Kofi Ghanaba, Oyafunmike Ogunlano, Alexandra Duah, Nick Medley, Mutabaruka, Afemo Omilami, Reggie Carter, Mzuri",
         "United States, Ghana, Burkina Faso, United Kingdom, Germany, Ethiopia",
         "September 24, 2021",
         "1993",
         "TV-MA",
         "125 min",
         "Dramas, Independent Movies, International Movies",
         "On a photo shoot in Ghana, an American model slips back in time, becomes enslaved on a plantation and bears witness to the agony of her ancestral past."
        ],
        [
         "8",
         "s9",
         "TV Show",
         "The Great British Baking Show",
         "Andy Devonshire",
         "Mel Giedroyc, Sue Perkins, Mary Berry, Paul Hollywood",
         "United Kingdom",
         "September 24, 2021",
         "2021",
         "TV-14",
         "9 Seasons",
         "British TV Shows, Reality TV",
         "A talented batch of amateur bakers face off in a 10-week competition, whipping up their best dishes in the hopes of being named the U.K.'s best."
        ],
        [
         "9",
         "s10",
         "Movie",
         "The Starling",
         "Theodore Melfi",
         "Melissa McCarthy, Chris O'Dowd, Kevin Kline, Timothy Olyphant, Daveed Diggs, Skyler Gisondo, Laura Harrier, Rosalind Chao, Kimberly Quinn, Loretta Devine, Ravi Kapoor",
         "United States",
         "September 24, 2021",
         "2021",
         "PG-13",
         "104 min",
         "Comedies, Dramas",
         "A woman adjusting to life after a loss contends with a feisty bird that's taken over her garden — and a husband who's struggling to find a way forward."
        ],
        [
         "11",
         "s12",
         "TV Show",
         "Bangkok Breaking",
         "Kongkiat Komesiri",
         "Sukollawat Kanarot, Sushar Manaying, Pavarit Mongkolpisit, Sahajak Boonthanakit, Suthipongse Thatphithakkul, Bhasaworn Bawronkirati, Daweerit Chullasapya, Waratthaya Wongchayaporn, Kittiphoom Wongpentak, Abhicha Thanachanun, Nophand Boonyai, Kittipong Khamsat, Arisara Wongchalee, Jaytiya Naiwattanakul, Pantipa Arunwattanachai, Panupan Jantanawong, Kungtap Saelim, Phumphat Chartsuriyakiat, Issara Veranitinunt, Keerati Sivakuae, Panjai Sirisuwan, Supranee Charoenpol, Suda Chuenban, Visaka Banhansupavat, Pitchatorn Santinatornkul",
         null,
         "September 23, 2021",
         "2021",
         "TV-MA",
         "1 Season",
         "Crime TV Shows, International TV Shows, TV Action & Adventure",
         "Struggling to earn a living in Bangkok, a man joins an emergency rescue service and realizes he must unravel a citywide conspiracy."
        ],
        [
         "12",
         "s13",
         "Movie",
         "Je Suis Karl",
         "Christian Schwochow",
         "Luna Wedler, Jannis Niewöhner, Milan Peschel, Edin Hasanović, Anna Fialová, Marlon Boess, Victor Boccard, Fleur Geffrier, Aziz Dyab, Mélanie Fouché, Elizaveta Maximová",
         "Germany, Czech Republic",
         "September 23, 2021",
         "2021",
         "TV-MA",
         "127 min",
         "Dramas, International Movies",
         "After most of her family is murdered in a terrorist bombing, a young woman is unknowingly lured into joining the very group that killed them."
        ],
        [
         "13",
         "s14",
         "Movie",
         "Confessions of an Invisible Girl",
         "Bruno Garotti",
         "Klara Castanho, Lucca Picon, Júlia Gomes, Marcus Bessa, Kiria Malheiros, Fernanda Concon, Gabriel Lima, Caio Cabral, Leonardo Cidade, Jade Cardozo",
         null,
         "September 22, 2021",
         "2021",
         "TV-PG",
         "91 min",
         "Children & Family Movies, Comedies",
         "When the clever but socially-awkward Tetê joins a new school, she'll do anything to fit in. But the queen bee among her classmates has other ideas."
        ],
        [
         "16",
         "s17",
         "Movie",
         "Europe's Most Dangerous Man: Otto Skorzeny in Spain",
         "Pedro de Echave García, Pablo Azorín Williams",
         null,
         null,
         "September 22, 2021",
         "2020",
         "TV-MA",
         "67 min",
         "Documentaries, International Movies",
         "Declassified documents reveal the post-WWII life of Otto Skorzeny, a close Hitler ally who escaped to Spain and became an adviser to world presidents."
        ],
        [
         "18",
         "s19",
         "Movie",
         "Intrusion",
         "Adam Salky",
         "Freida Pinto, Logan Marshall-Green, Robert John Burke, Megan Elisabeth Kelly, Sarah Minnich, Hayes Hargrove, Mark Sivertsen, Brandon Fierro, Antonio Valles, Clint Obenchain",
         null,
         "September 22, 2021",
         "2021",
         "TV-14",
         "94 min",
         "Thrillers",
         "After a deadly home invasion at a couple’s new dream house, the traumatized wife searches for answers — and learns the real danger is just beginning."
        ],
        [
         "20",
         "s21",
         "TV Show",
         "Monsters Inside: The 24 Faces of Billy Milligan",
         "Olivier Megaton",
         null,
         null,
         "September 22, 2021",
         "2021",
         "TV-14",
         "1 Season",
         "Crime TV Shows, Docuseries, International TV Shows",
         "In the late 1970s, an accused serial rapist claims multiple personalities control his behavior, setting off a legal odyssey that captivates America."
        ],
        [
         "22",
         "s23",
         "Movie",
         "Avvai Shanmughi",
         "K.S. Ravikumar",
         "Kamal Hassan, Meena, Gemini Ganesan, Heera Rajgopal, Nassar, S.P. Balasubrahmanyam",
         null,
         "September 21, 2021",
         "1996",
         "TV-PG",
         "161 min",
         "Comedies, International Movies",
         "Newly divorced and denied visitation rights with his daughter, a doting father disguises himself as a gray-haired nanny in order to spend time with her."
        ],
        [
         "23",
         "s24",
         "Movie",
         "Go! Go! Cory Carson: Chrissy Takes the Wheel",
         "Alex Woo, Stanley Moore",
         "Maisie Benson, Paul Killam, Kerry Gudjohnsen, AC Lim",
         null,
         "September 21, 2021",
         "2021",
         "TV-Y",
         "61 min",
         "Children & Family Movies",
         "From arcade games to sled days and hiccup cures, Cory Carson’s curious little sister Chrissy speeds off on her own for fun and adventure all over town!"
        ],
        [
         "24",
         "s25",
         "Movie",
         "Jeans",
         "S. Shankar",
         "Prashanth, Aishwarya Rai Bachchan, Sri Lakshmi, Nassar",
         "India",
         "September 21, 2021",
         "1998",
         "TV-14",
         "166 min",
         "Comedies, International Movies, Romantic Movies",
         "When the father of the man she loves insists that his twin sons marry twin sisters, a woman creates an alter ego that might be a bit too convincing."
        ],
        [
         "26",
         "s27",
         "Movie",
         "Minsara Kanavu",
         "Rajiv Menon",
         "Arvind Swamy, Kajol, Prabhu Deva, Nassar, S.P. Balasubrahmanyam, Girish Karnad",
         null,
         "September 21, 2021",
         "1997",
         "TV-PG",
         "147 min",
         "Comedies, International Movies, Music & Musicals",
         "A tangled love triangle ensues when a man falls for a woman studying to become a nun — and she falls for the friend he enlists to help him pursue her."
        ],
        [
         "27",
         "s28",
         "Movie",
         "Grown Ups",
         "Dennis Dugan",
         "Adam Sandler, Kevin James, Chris Rock, David Spade, Rob Schneider, Salma Hayek, Maria Bello, Maya Rudolph, Colin Quinn, Tim Meadows, Joyce Van Patten",
         "United States",
         "September 20, 2021",
         "2010",
         "PG-13",
         "103 min",
         "Comedies",
         "Mourning the loss of their beloved junior high basketball coach, five middle-aged pals reunite at a lake house and rediscover the joys of being a kid."
        ],
        [
         "28",
         "s29",
         "Movie",
         "Dark Skies",
         "Scott Stewart",
         "Keri Russell, Josh Hamilton, J.K. Simmons, Dakota Goyo, Kadan Rockett, L.J. Benet, Rich Hutchman, Myndy Crist, Annie Thurman, Jake Brennan",
         "United States",
         "September 19, 2021",
         "2013",
         "PG-13",
         "97 min",
         "Horror Movies, Sci-Fi & Fantasy",
         "A family’s idyllic suburban life shatters when an alien force invades their home, and as they struggle to convince others of the deadly threat."
        ],
        [
         "29",
         "s30",
         "Movie",
         "Paranoia",
         "Robert Luketic",
         "Liam Hemsworth, Gary Oldman, Amber Heard, Harrison Ford, Lucas Till, Embeth Davidtz, Julian McMahon, Josh Holloway, Richard Dreyfuss, Angela Sarafyan",
         "United States, India, France",
         "September 19, 2021",
         "2013",
         "PG-13",
         "106 min",
         "Thrillers",
         "Blackmailed by his company's CEO, a low-level employee finds himself forced to spy on the boss's rival and former mentor."
        ],
        [
         "30",
         "s31",
         "Movie",
         "Ankahi Kahaniya",
         "Ashwiny Iyer Tiwari, Abhishek Chaubey, Saket Chaudhary",
         "Abhishek Banerjee, Rinku Rajguru, Delzad Hiwale, Kunal Kapoor, Zoya Hussain, Nikhil Dwivedi, Palomi Ghosh",
         null,
         "September 17, 2021",
         "2021",
         "TV-14",
         "111 min",
         "Dramas, Independent Movies, International Movies",
         "As big city life buzzes around them, lonely souls discover surprising sources of connection and companionship in three tales of love, loss and longing."
        ],
        [
         "35",
         "s36",
         "Movie",
         "The Father Who Moves Mountains",
         "Daniel Sandu",
         "Adrian Titieni, Elena Purea, Judith State, Valeriu Andriuță, Tudor Smoleanu, Virgil Aioanei, Radu Botar, Petronela Grigorescu, Bogdan Nechifor, Cristian Bota",
         null,
         "September 17, 2021",
         "2021",
         "TV-MA",
         "110 min",
         "Dramas, International Movies, Thrillers",
         "When his son goes missing during a snowy hike in the mountains, a retired intelligence officer will stop at nothing — and risk everything — to find him."
        ],
        [
         "36",
         "s37",
         "Movie",
         "The Stronghold",
         "Cédric Jimenez",
         "Gilles Lellouche, Karim Leklou, François Civil, Adèle Exarchopoulos, Kenza Fortas, Cyril Lecomte, Michaël Abiteboul, Idir Azougli, Vincent Darmuzey, Jean-Yves Berteloot",
         null,
         "September 17, 2021",
         "2021",
         "TV-MA",
         "105 min",
         "Action & Adventure, Dramas, International Movies",
         "Tired of the small-time grind, three Marseille cops get a chance to bust a major drug network. But lines blur when a key informant makes a big ask."
        ],
        [
         "38",
         "s39",
         "Movie",
         "Birth of the Dragon",
         "George Nolfi",
         "Billy Magnussen, Ron Yuan, Qu Jingjing, Terry Chen, Vanness Wu, Jin Xing, Philip Ng, Xia Yu, Yu Xia",
         "China, Canada, United States",
         "September 16, 2021",
         "2017",
         "PG-13",
         "96 min",
         "Action & Adventure, Dramas",
         "A young Bruce Lee angers kung fu traditionalists by teaching outsiders, leading to a showdown with a Shaolin master in this film based on real events."
        ],
        [
         "41",
         "s42",
         "Movie",
         "Jaws",
         "Steven Spielberg",
         "Roy Scheider, Robert Shaw, Richard Dreyfuss, Lorraine Gary, Murray Hamilton, Carl Gottlieb, Jeffrey Kramer, Susan Backlinie, Jonathan Filley, Ted Grossman",
         "United States",
         "September 16, 2021",
         "1975",
         "PG",
         "124 min",
         "Action & Adventure, Classic Movies, Dramas",
         "When an insatiable great white shark terrorizes Amity Island, a police chief, an oceanographer and a grizzled shark hunter seek to destroy the beast."
        ],
        [
         "42",
         "s43",
         "Movie",
         "Jaws 2",
         "Jeannot Szwarc",
         "Roy Scheider, Lorraine Gary, Murray Hamilton, Joseph Mascolo, Jeffrey Kramer, Collin Wilcox Paxton, Ann Dusenberry, Mark Gruner, Barry Coe, Susan French",
         "United States",
         "September 16, 2021",
         "1978",
         "PG",
         "116 min",
         "Dramas, Horror Movies, Thrillers",
         "Four years after the last deadly shark attacks, police chief Martin Brody fights to protect Amity Island from another killer great white."
        ],
        [
         "43",
         "s44",
         "Movie",
         "Jaws 3",
         "Joe Alves",
         "Dennis Quaid, Bess Armstrong, Simon MacCorkindale, Louis Gossett Jr., John Putch, Lea Thompson, P.H. Moriarty, Dan Blasko, Liz Morris, Lisa Maurer",
         "United States",
         "September 16, 2021",
         "1983",
         "PG",
         "98 min",
         "Action & Adventure, Horror Movies, Thrillers",
         "After the staff of a marine theme park try to capture a young great white shark, they discover its mother has invaded the enclosure and is out for blood."
        ],
        [
         "44",
         "s45",
         "Movie",
         "Jaws: The Revenge",
         "Joseph Sargent",
         "Lorraine Gary, Lance Guest, Mario Van Peebles, Karen Young, Michael Caine, Judith Barsi, Mitchell Anderson, Lynn Whitfield",
         "United States",
         "September 16, 2021",
         "1987",
         "PG-13",
         "91 min",
         "Action & Adventure, Horror Movies, Thrillers",
         "After another deadly shark attack, Ellen Brody has had enough of Amity Island and moves to the Caribbean – but a great white shark follows her there."
        ],
        [
         "45",
         "s46",
         "Movie",
         "My Heroes Were Cowboys",
         "Tyler Greco",
         null,
         null,
         "September 16, 2021",
         "2021",
         "PG",
         "23 min",
         "Documentaries",
         "Robin Wiltshire's painful childhood was rescued by Westerns. Now he lives on the frontier of his dreams, training the horses he loves for the big screen."
        ],
        [
         "46",
         "s47",
         "Movie",
         "Safe House",
         "Daniel Espinosa",
         "Denzel Washington, Ryan Reynolds, Vera Farmiga, Brendan Gleeson, Sam Shepard, Rubén Blades, Nora Arnezeder, Robert Patrick, Liam Cunningham, Joel Kinnaman",
         "South Africa, United States, Japan",
         "September 16, 2021",
         "2012",
         "R",
         "115 min",
         "Action & Adventure",
         "Young CIA operative Matt Weston must get a dangerous criminal out of an agency safe house that's come under attack and get him to a securer location."
        ],
        [
         "47",
         "s48",
         "TV Show",
         "The Smart Money Woman",
         "Bunmi Ajakaiye",
         "Osas Ighodaro, Ini Dima-Okojie, Kemi Lala Akindoju, Toni Tones, Ebenezer Eno, Eso Okolocha DIke, Patrick Diabuah, Karibi Fubara, Temisan Emmanuel, Timini Egbuson",
         null,
         "September 16, 2021",
         "2020",
         "TV-MA",
         "1 Season",
         "International TV Shows, Romantic TV Shows, TV Comedies",
         "Five glamorous millennials strive for success as they juggle careers, finances, love and friendships. Based on Arese Ugwu's 2016 best-selling novel."
        ],
        [
         "48",
         "s49",
         "Movie",
         "Training Day",
         "Antoine Fuqua",
         "Denzel Washington, Ethan Hawke, Scott Glenn, Tom Berenger, Harris Yulin, Raymond J. Barry, Cliff Curtis, Dr. Dre, Snoop Dogg, Macy Gray, Eva Mendes",
         "United States",
         "September 16, 2021",
         "2001",
         "R",
         "122 min",
         "Dramas, Thrillers",
         "A rookie cop with one day to prove himself to a veteran LAPD narcotics officer receives a crash course in his mentor's questionable brand of justice."
        ],
        [
         "51",
         "s52",
         "Movie",
         "InuYasha the Movie 2: The Castle Beyond the Looking Glass",
         "Toshiya Shinohara",
         "Kappei Yamaguchi, Satsuki Yukino, Mieko Harada, Koji Tsujitani, Houko Kuwashima, Kumiko Watanabe, Noriko Hidaka, Kenichi Ogata, Toshiyuki Morikawa, Izumi Ogami",
         "Japan",
         "September 15, 2021",
         "2002",
         "TV-14",
         "99 min",
         "Action & Adventure, Anime Features, International Movies",
         "With their biggest foe seemingly defeated, InuYasha and his friends return to everyday life. But the peace is soon shattered by an emerging new enemy."
        ],
        [
         "52",
         "s53",
         "Movie",
         "InuYasha the Movie 3: Swords of an Honorable Ruler",
         "Toshiya Shinohara",
         "Kappei Yamaguchi, Satsuki Yukino, Koji Tsujitani, Houko Kuwashima, Kumiko Watanabe, Ken Narita, Akio Otsuka, Kikuko Inoue",
         "Japan",
         "September 15, 2021",
         "2003",
         "TV-14",
         "99 min",
         "Action & Adventure, Anime Features, International Movies",
         "The Great Dog Demon beaqueathed one of the Three Swords of the Fang to each of his two sons. Now the evil power of the third sword has been awakened."
        ],
        [
         "53",
         "s54",
         "Movie",
         "InuYasha the Movie 4: Fire on the Mystic Island",
         "Toshiya Shinohara",
         "Kappei Yamaguchi, Satsuki Yukino, Koji Tsujitani, Houko Kuwashima, Kumiko Watanabe, Noriko Hidaka, Ken Narita, Cho, Mamiko Noto, Nobutoshi Canna",
         "Japan",
         "September 15, 2021",
         "2004",
         "TV-PG",
         "88 min",
         "Action & Adventure, Anime Features, International Movies",
         "Ai, a young half-demon who has escaped from Horai Island to try to help her people, returns with potential saviors InuYasha, Sesshomaru and Kikyo."
        ],
        [
         "54",
         "s55",
         "Movie",
         "InuYasha the Movie: Affections Touching Across Time",
         "Toshiya Shinohara",
         "Kappei Yamaguchi, Satsuki Yukino, Koji Tsujitani, Houko Kuwashima, Kumiko Watanabe, Kenichi Ogata, Noriko Hidaka, Hisako Kyoda, Ken Narita, Tomokazu Seki",
         "Japan",
         "September 15, 2021",
         "2001",
         "TV-PG",
         "100 min",
         "Action & Adventure, Anime Features, International Movies",
         "A powerful demon has been sealed away for 200 years. But when the demon's son is awakened, the fate of the world is in jeopardy."
        ],
        [
         "56",
         "s57",
         "Movie",
         "Naruto Shippuden the Movie: Blood Prison",
         "Masahiko Murata",
         "Junko Takeuchi, Chie Nakamura, Rikiya Koyama, Kazuhiko Inoue, Masaki Terasoma, Mie Sonozaki, Yuichi Nakamura, Kengo Kawanishi, Kosei Hirota, Masako Katsuki",
         "Japan",
         "September 15, 2021",
         "2011",
         "TV-14",
         "102 min",
         "Action & Adventure, Anime Features, International Movies",
         "Mistakenly accused of an attack on the Fourth Raikage, ninja Naruto is imprisoned in the impenetrable Hozuki Castle and his powers are sealed."
        ],
        [
         "57",
         "s58",
         "Movie",
         "Naruto Shippûden the Movie: Bonds",
         "Hajime Kamegaki",
         "Junko Takeuchi, Chie Nakamura, Noriaki Sugiyama, Unsho Ishizuka, Motoko Kumai, Kazuhiko Inoue, Rikiya Koyama, Showtaro Morikubo, Nana Mizuki, Satoshi Hino, Shinji Kawada",
         "Japan",
         "September 15, 2021",
         "2008",
         "TV-PG",
         "93 min",
         "Action & Adventure, Anime Features, International Movies",
         "When strange ninjas ambush the village of Konohagakure, it's up to adolescent ninja Naruto and his long-missing pal, Sasuke, to save the planet."
        ],
        [
         "58",
         "s59",
         "Movie",
         "Naruto Shippûden the Movie: The Will of Fire",
         "Masahiko Murata",
         "Junko Takeuchi, Chie Nakamura, Kazuhiko Inoue, Satoshi Hino, Showtaro Morikubo, Kentaro Ito, Ryoka Yuzuki, Kohsuke Toriumi, Nana Mizuki, Shinji Kawada, Yoichi Masukawa, Koichi Tochika, Yukari Tamura",
         "Japan",
         "September 15, 2021",
         "2009",
         "TV-PG",
         "96 min",
         "Action & Adventure, Anime Features, International Movies",
         "When four out of five ninja villages are destroyed, the leader of the one spared tries to find the true culprit and protect his land."
        ],
        [
         "59",
         "s60",
         "Movie",
         "Naruto Shippuden: The Movie",
         "Hajime Kamegaki",
         "Junko Takeuchi, Chie Nakamura, Yoichi Masukawa, Koichi Tochika, Ayumi Fujimura, Keisuke Oda, Daisuke Kishio, Fumiko Orikasa, Hidetoshi Nakamura, Tetsuya Kakihara, Kisho Taniyama, Miyuki Sawashiro, Katsuyuki Konishi, Masako Katsuki, Keiko Nemoto, Masashi Ebara, Kazuhiko Inoue, Showtaro Morikubo, Romi Park, Daisuke Ono, Seizo Kato",
         "Japan",
         "September 15, 2021",
         "2007",
         "TV-PG",
         "95 min",
         "Action & Adventure, Anime Features, International Movies",
         "The adventures of adolescent ninja Naruto Uzumaki continue as he's tasked with protecting a priestess from a demon – but to do so, he must die."
        ],
        [
         "60",
         "s61",
         "Movie",
         "Naruto Shippuden: The Movie: The Lost Tower",
         "Masahiko Murata",
         "Junko Takeuchi, Chie Nakamura, Satoshi Hino, Rikiya Koyama, Nobuaki Fukuda, Kenji Hamada, Keiko Nemoto, Saori Hayami, Yumi Toma, Yuko Kobayashi, Fujiko Takimoto, Mutsumi Tamura, Mayuki Makiguchi, Toshiyuki Morikawa",
         "Japan",
         "September 15, 2021",
         "2010",
         "TV-14",
         "85 min",
         "Action & Adventure, Anime Features, International Movies",
         "When Naruto is sent to recover a missing nin, the rogue manages to send him 20 years into the past, where he unites with his father to battle evil."
        ],
        [
         "61",
         "s62",
         "Movie",
         "Naruto the Movie 2: Legend of the Stone of Gelel",
         "Hirotsugu Kawasaki",
         "Junko Takeuchi, Gamon Kaai, Chie Nakamura, Showtaro Morikubo, Akira Ishida, Yasuyuki Kase, Urara Takano, Sachiko Kojima, Houko Kuwashima, Takako Honda",
         "Japan",
         "September 15, 2021",
         "2005",
         "TV-PG",
         "97 min",
         "Action & Adventure, Anime Features, International Movies",
         "While on a mission to return a missing pet, Naruto and two fellow ninjas are ambushed by brutal knights led by the enigmatic Temujin."
        ],
        [
         "62",
         "s63",
         "Movie",
         "Naruto the Movie 3: Guardians of the Crescent Moon Kingdom",
         "Toshiyuki Tsuru",
         "Junko Takeuchi, Chie Nakamura, Yoichi Masukawa, Kazuhiko Inoue, Akio Otsuka, Kyousuke Ikeda, Marika Hayashi, Umeji Sasaki, Masashi Sugawara, Hisao Egawa",
         "Japan",
         "September 15, 2021",
         "2006",
         "TV-PG",
         "95 min",
         "Action & Adventure, Anime Features, International Movies",
         "Exuberant ninja Naruto teams up with his pals Sakura and Kakashi to escort Prince Michiru and his son, Hikaru, to the Crescent Moon kingdom."
        ],
        [
         "63",
         "s64",
         "Movie",
         "Naruto the Movie: Ninja Clash in the Land of Snow",
         "Tensai Okamura",
         "Junko Takeuchi, Noriaki Sugiyama, Chie Nakamura, Kazuhiko Inoue, Yuhko Kaida, Tsutomu Isobe, Hirotaka Suzuoki, Jun Karasawa, Harii Kaneko, Ikuo Nishikawa",
         "Japan",
         "September 15, 2021",
         "2004",
         "TV-PG",
         "83 min",
         "Action & Adventure, Anime Features, International Movies",
         "Naruto, Sasuke and Sakura learn they'll be protecting an actress from being hurt while making her next film, but it turns out she's a princess."
        ],
        [
         "64",
         "s65",
         "Movie",
         "Nightbooks",
         "David Yarovesky",
         "Winslow Fegley, Lidya Jewett, Krysten Ritter",
         null,
         "September 15, 2021",
         "2021",
         "TV-PG",
         "103 min",
         "Children & Family Movies",
         "Scary story fan Alex must tell a spine-tingling tale every night — or stay trapped with his new friend in a wicked witch's magical apartment forever."
        ],
        [
         "68",
         "s69",
         "Movie",
         "Schumacher",
         "Hanns-Bruno Kammertöns, Vanessa Nöcker, Michael Wech",
         "Michael Schumacher",
         null,
         "September 15, 2021",
         "2021",
         "TV-14",
         "113 min",
         "Documentaries, International Movies, Sports Movies",
         "Through exclusive interviews and archival footage, this documentary traces an intimate portrait of seven-time Formula 1 champion Michael Schumacher."
        ],
        [
         "71",
         "s72",
         "Movie",
         "A StoryBots Space Adventure",
         "David A. Vargas",
         "Evan Spiridellis, Erin Fitzgerald, Jeff Gill, Fred Tatasciore, Evan Michael Lee, Jared Isaacman, Sian Proctor, Chris Sembroski, Hayley Arceneaux",
         null,
         "September 14, 2021",
         "2021",
         "TV-Y",
         "13 min",
         "Children & Family Movies",
         "Join the StoryBots and the space travelers of the historic Inspiration4 mission as they search for answers to kids' questions about space."
        ],
        [
         "73",
         "s74",
         "Movie",
         "King of Boys",
         "Kemi Adetiba",
         "Sola Sobowale, Adesua Etomi, Remilekun \"Reminisce\" Safaru, Tobechukwu \"iLLbliss\" Ejiofor, Toni Tones, Paul Sambo, Jide Kosoko, Sharon Ooja",
         "Nigeria",
         "September 14, 2021",
         "2018",
         "TV-MA",
         "182 min",
         "Dramas, International Movies",
         "When a powerful businesswoman’s political ambitions are threatened by her underworld connections, the ensuing power struggle could cost her everything."
        ],
        [
         "75",
         "s76",
         "Movie",
         "You vs. Wild: Out Cold",
         "Ben Simms",
         "Bear Grylls, Jason Derek Prempeh",
         null,
         "September 14, 2021",
         "2021",
         "TV-G",
         "106 min",
         "Children & Family Movies",
         "After a plane crash leaves Bear with amnesia, he must make choices to save the missing pilot and survive in this high-stakes interactive adventure."
        ],
        [
         "77",
         "s78",
         "Movie",
         "Little Singham - Black Shadow",
         "Prakash Satam",
         "Sumriddhi Shukla, Jigna Bharadwaj, Sonal Kaushal, Neshma Chemburkar, Ganesh Divekar, Annamaya Verma, Anamay Verma, Manoj Pandey",
         null,
         "September 11, 2021",
         "2021",
         "TV-Y7",
         "48 min",
         "Children & Family Movies, Comedies",
         "Kid cop Little Singham loses all his superpowers while trying to stop the demon Kaal’s new evil plans! Can his inner strength help him defeat the enemy?"
        ]
       ],
       "shape": {
        "columns": 12,
        "rows": 6173
       }
      },
      "text/html": [
       "<div>\n",
       "<style scoped>\n",
       "    .dataframe tbody tr th:only-of-type {\n",
       "        vertical-align: middle;\n",
       "    }\n",
       "\n",
       "    .dataframe tbody tr th {\n",
       "        vertical-align: top;\n",
       "    }\n",
       "\n",
       "    .dataframe thead th {\n",
       "        text-align: right;\n",
       "    }\n",
       "</style>\n",
       "<table border=\"1\" class=\"dataframe\">\n",
       "  <thead>\n",
       "    <tr style=\"text-align: right;\">\n",
       "      <th></th>\n",
       "      <th>show_id</th>\n",
       "      <th>type</th>\n",
       "      <th>title</th>\n",
       "      <th>director</th>\n",
       "      <th>cast</th>\n",
       "      <th>country</th>\n",
       "      <th>date_added</th>\n",
       "      <th>release_year</th>\n",
       "      <th>rating</th>\n",
       "      <th>duration</th>\n",
       "      <th>listed_in</th>\n",
       "      <th>description</th>\n",
       "    </tr>\n",
       "  </thead>\n",
       "  <tbody>\n",
       "    <tr>\n",
       "      <th>0</th>\n",
       "      <td>s1</td>\n",
       "      <td>Movie</td>\n",
       "      <td>Dick Johnson Is Dead</td>\n",
       "      <td>Kirsten Johnson</td>\n",
       "      <td>NaN</td>\n",
       "      <td>United States</td>\n",
       "      <td>September 25, 2021</td>\n",
       "      <td>2020</td>\n",
       "      <td>PG-13</td>\n",
       "      <td>90 min</td>\n",
       "      <td>Documentaries</td>\n",
       "      <td>As her father nears the end of his life, filmm...</td>\n",
       "    </tr>\n",
       "    <tr>\n",
       "      <th>2</th>\n",
       "      <td>s3</td>\n",
       "      <td>TV Show</td>\n",
       "      <td>Ganglands</td>\n",
       "      <td>Julien Leclercq</td>\n",
       "      <td>Sami Bouajila, Tracy Gotoas, Samuel Jouy, Nabi...</td>\n",
       "      <td>NaN</td>\n",
       "      <td>September 24, 2021</td>\n",
       "      <td>2021</td>\n",
       "      <td>TV-MA</td>\n",
       "      <td>1 Season</td>\n",
       "      <td>Crime TV Shows, International TV Shows, TV Act...</td>\n",
       "      <td>To protect his family from a powerful drug lor...</td>\n",
       "    </tr>\n",
       "    <tr>\n",
       "      <th>5</th>\n",
       "      <td>s6</td>\n",
       "      <td>TV Show</td>\n",
       "      <td>Midnight Mass</td>\n",
       "      <td>Mike Flanagan</td>\n",
       "      <td>Kate Siegel, Zach Gilford, Hamish Linklater, H...</td>\n",
       "      <td>NaN</td>\n",
       "      <td>September 24, 2021</td>\n",
       "      <td>2021</td>\n",
       "      <td>TV-MA</td>\n",
       "      <td>1 Season</td>\n",
       "      <td>TV Dramas, TV Horror, TV Mysteries</td>\n",
       "      <td>The arrival of a charismatic young priest brin...</td>\n",
       "    </tr>\n",
       "    <tr>\n",
       "      <th>6</th>\n",
       "      <td>s7</td>\n",
       "      <td>Movie</td>\n",
       "      <td>My Little Pony: A New Generation</td>\n",
       "      <td>Robert Cullen, José Luis Ucha</td>\n",
       "      <td>Vanessa Hudgens, Kimiko Glenn, James Marsden, ...</td>\n",
       "      <td>NaN</td>\n",
       "      <td>September 24, 2021</td>\n",
       "      <td>2021</td>\n",
       "      <td>PG</td>\n",
       "      <td>91 min</td>\n",
       "      <td>Children &amp; Family Movies</td>\n",
       "      <td>Equestria's divided. But a bright-eyed hero be...</td>\n",
       "    </tr>\n",
       "    <tr>\n",
       "      <th>7</th>\n",
       "      <td>s8</td>\n",
       "      <td>Movie</td>\n",
       "      <td>Sankofa</td>\n",
       "      <td>Haile Gerima</td>\n",
       "      <td>Kofi Ghanaba, Oyafunmike Ogunlano, Alexandra D...</td>\n",
       "      <td>United States, Ghana, Burkina Faso, United Kin...</td>\n",
       "      <td>September 24, 2021</td>\n",
       "      <td>1993</td>\n",
       "      <td>TV-MA</td>\n",
       "      <td>125 min</td>\n",
       "      <td>Dramas, Independent Movies, International Movies</td>\n",
       "      <td>On a photo shoot in Ghana, an American model s...</td>\n",
       "    </tr>\n",
       "    <tr>\n",
       "      <th>...</th>\n",
       "      <td>...</td>\n",
       "      <td>...</td>\n",
       "      <td>...</td>\n",
       "      <td>...</td>\n",
       "      <td>...</td>\n",
       "      <td>...</td>\n",
       "      <td>...</td>\n",
       "      <td>...</td>\n",
       "      <td>...</td>\n",
       "      <td>...</td>\n",
       "      <td>...</td>\n",
       "      <td>...</td>\n",
       "    </tr>\n",
       "    <tr>\n",
       "      <th>8801</th>\n",
       "      <td>s8802</td>\n",
       "      <td>Movie</td>\n",
       "      <td>Zinzana</td>\n",
       "      <td>Majid Al Ansari</td>\n",
       "      <td>Ali Suliman, Saleh Bakri, Yasa, Ali Al-Jabri, ...</td>\n",
       "      <td>United Arab Emirates, Jordan</td>\n",
       "      <td>March 9, 2016</td>\n",
       "      <td>2015</td>\n",
       "      <td>TV-MA</td>\n",
       "      <td>96 min</td>\n",
       "      <td>Dramas, International Movies, Thrillers</td>\n",
       "      <td>Recovering alcoholic Talal wakes up inside a s...</td>\n",
       "    </tr>\n",
       "    <tr>\n",
       "      <th>8802</th>\n",
       "      <td>s8803</td>\n",
       "      <td>Movie</td>\n",
       "      <td>Zodiac</td>\n",
       "      <td>David Fincher</td>\n",
       "      <td>Mark Ruffalo, Jake Gyllenhaal, Robert Downey J...</td>\n",
       "      <td>United States</td>\n",
       "      <td>November 20, 2019</td>\n",
       "      <td>2007</td>\n",
       "      <td>R</td>\n",
       "      <td>158 min</td>\n",
       "      <td>Cult Movies, Dramas, Thrillers</td>\n",
       "      <td>A political cartoonist, a crime reporter and a...</td>\n",
       "    </tr>\n",
       "    <tr>\n",
       "      <th>8804</th>\n",
       "      <td>s8805</td>\n",
       "      <td>Movie</td>\n",
       "      <td>Zombieland</td>\n",
       "      <td>Ruben Fleischer</td>\n",
       "      <td>Jesse Eisenberg, Woody Harrelson, Emma Stone, ...</td>\n",
       "      <td>United States</td>\n",
       "      <td>November 1, 2019</td>\n",
       "      <td>2009</td>\n",
       "      <td>R</td>\n",
       "      <td>88 min</td>\n",
       "      <td>Comedies, Horror Movies</td>\n",
       "      <td>Looking to survive in a world taken over by zo...</td>\n",
       "    </tr>\n",
       "    <tr>\n",
       "      <th>8805</th>\n",
       "      <td>s8806</td>\n",
       "      <td>Movie</td>\n",
       "      <td>Zoom</td>\n",
       "      <td>Peter Hewitt</td>\n",
       "      <td>Tim Allen, Courteney Cox, Chevy Chase, Kate Ma...</td>\n",
       "      <td>United States</td>\n",
       "      <td>January 11, 2020</td>\n",
       "      <td>2006</td>\n",
       "      <td>PG</td>\n",
       "      <td>88 min</td>\n",
       "      <td>Children &amp; Family Movies, Comedies</td>\n",
       "      <td>Dragged from civilian life, a former superhero...</td>\n",
       "    </tr>\n",
       "    <tr>\n",
       "      <th>8806</th>\n",
       "      <td>s8807</td>\n",
       "      <td>Movie</td>\n",
       "      <td>Zubaan</td>\n",
       "      <td>Mozez Singh</td>\n",
       "      <td>Vicky Kaushal, Sarah-Jane Dias, Raaghav Chanan...</td>\n",
       "      <td>India</td>\n",
       "      <td>March 2, 2019</td>\n",
       "      <td>2015</td>\n",
       "      <td>TV-14</td>\n",
       "      <td>111 min</td>\n",
       "      <td>Dramas, International Movies, Music &amp; Musicals</td>\n",
       "      <td>A scrappy but poor boy worms his way into a ty...</td>\n",
       "    </tr>\n",
       "  </tbody>\n",
       "</table>\n",
       "<p>6173 rows × 12 columns</p>\n",
       "</div>"
      ],
      "text/plain": [
       "     show_id     type                             title  \\\n",
       "0         s1    Movie              Dick Johnson Is Dead   \n",
       "2         s3  TV Show                         Ganglands   \n",
       "5         s6  TV Show                     Midnight Mass   \n",
       "6         s7    Movie  My Little Pony: A New Generation   \n",
       "7         s8    Movie                           Sankofa   \n",
       "...      ...      ...                               ...   \n",
       "8801   s8802    Movie                           Zinzana   \n",
       "8802   s8803    Movie                            Zodiac   \n",
       "8804   s8805    Movie                        Zombieland   \n",
       "8805   s8806    Movie                              Zoom   \n",
       "8806   s8807    Movie                            Zubaan   \n",
       "\n",
       "                           director  \\\n",
       "0                   Kirsten Johnson   \n",
       "2                   Julien Leclercq   \n",
       "5                     Mike Flanagan   \n",
       "6     Robert Cullen, José Luis Ucha   \n",
       "7                      Haile Gerima   \n",
       "...                             ...   \n",
       "8801                Majid Al Ansari   \n",
       "8802                  David Fincher   \n",
       "8804                Ruben Fleischer   \n",
       "8805                   Peter Hewitt   \n",
       "8806                    Mozez Singh   \n",
       "\n",
       "                                                   cast  \\\n",
       "0                                                   NaN   \n",
       "2     Sami Bouajila, Tracy Gotoas, Samuel Jouy, Nabi...   \n",
       "5     Kate Siegel, Zach Gilford, Hamish Linklater, H...   \n",
       "6     Vanessa Hudgens, Kimiko Glenn, James Marsden, ...   \n",
       "7     Kofi Ghanaba, Oyafunmike Ogunlano, Alexandra D...   \n",
       "...                                                 ...   \n",
       "8801  Ali Suliman, Saleh Bakri, Yasa, Ali Al-Jabri, ...   \n",
       "8802  Mark Ruffalo, Jake Gyllenhaal, Robert Downey J...   \n",
       "8804  Jesse Eisenberg, Woody Harrelson, Emma Stone, ...   \n",
       "8805  Tim Allen, Courteney Cox, Chevy Chase, Kate Ma...   \n",
       "8806  Vicky Kaushal, Sarah-Jane Dias, Raaghav Chanan...   \n",
       "\n",
       "                                                country          date_added  \\\n",
       "0                                         United States  September 25, 2021   \n",
       "2                                                   NaN  September 24, 2021   \n",
       "5                                                   NaN  September 24, 2021   \n",
       "6                                                   NaN  September 24, 2021   \n",
       "7     United States, Ghana, Burkina Faso, United Kin...  September 24, 2021   \n",
       "...                                                 ...                 ...   \n",
       "8801                       United Arab Emirates, Jordan       March 9, 2016   \n",
       "8802                                      United States   November 20, 2019   \n",
       "8804                                      United States    November 1, 2019   \n",
       "8805                                      United States    January 11, 2020   \n",
       "8806                                              India       March 2, 2019   \n",
       "\n",
       "      release_year rating  duration  \\\n",
       "0             2020  PG-13    90 min   \n",
       "2             2021  TV-MA  1 Season   \n",
       "5             2021  TV-MA  1 Season   \n",
       "6             2021     PG    91 min   \n",
       "7             1993  TV-MA   125 min   \n",
       "...            ...    ...       ...   \n",
       "8801          2015  TV-MA    96 min   \n",
       "8802          2007      R   158 min   \n",
       "8804          2009      R    88 min   \n",
       "8805          2006     PG    88 min   \n",
       "8806          2015  TV-14   111 min   \n",
       "\n",
       "                                              listed_in  \\\n",
       "0                                         Documentaries   \n",
       "2     Crime TV Shows, International TV Shows, TV Act...   \n",
       "5                    TV Dramas, TV Horror, TV Mysteries   \n",
       "6                              Children & Family Movies   \n",
       "7      Dramas, Independent Movies, International Movies   \n",
       "...                                                 ...   \n",
       "8801            Dramas, International Movies, Thrillers   \n",
       "8802                     Cult Movies, Dramas, Thrillers   \n",
       "8804                            Comedies, Horror Movies   \n",
       "8805                 Children & Family Movies, Comedies   \n",
       "8806     Dramas, International Movies, Music & Musicals   \n",
       "\n",
       "                                            description  \n",
       "0     As her father nears the end of his life, filmm...  \n",
       "2     To protect his family from a powerful drug lor...  \n",
       "5     The arrival of a charismatic young priest brin...  \n",
       "6     Equestria's divided. But a bright-eyed hero be...  \n",
       "7     On a photo shoot in Ghana, an American model s...  \n",
       "...                                                 ...  \n",
       "8801  Recovering alcoholic Talal wakes up inside a s...  \n",
       "8802  A political cartoonist, a crime reporter and a...  \n",
       "8804  Looking to survive in a world taken over by zo...  \n",
       "8805  Dragged from civilian life, a former superhero...  \n",
       "8806  A scrappy but poor boy worms his way into a ty...  \n",
       "\n",
       "[6173 rows x 12 columns]"
      ]
     },
     "execution_count": 49,
     "metadata": {},
     "output_type": "execute_result"
    }
   ],
   "source": [
    "df_netflix"
   ]
  },
  {
   "cell_type": "code",
   "execution_count": 57,
   "id": "bfb9bbcf",
   "metadata": {},
   "outputs": [
    {
     "name": "stderr",
     "output_type": "stream",
     "text": [
      "C:\\Users\\user\\AppData\\Local\\Temp\\ipykernel_25936\\386269639.py:5: FutureWarning: A value is trying to be set on a copy of a DataFrame or Series through chained assignment using an inplace method.\n",
      "The behavior will change in pandas 3.0. This inplace method will never work because the intermediate object on which we are setting values always behaves as a copy.\n",
      "\n",
      "For example, when doing 'df[col].method(value, inplace=True)', try using 'df.method({col: value}, inplace=True)' or df[col] = df[col].method(value) instead, to perform the operation inplace on the original object.\n",
      "\n",
      "\n",
      "  df_netflix['rating'].fillna(mode, inplace=True)\n"
     ]
    },
    {
     "data": {
      "application/vnd.microsoft.datawrangler.viewer.v0+json": {
       "columns": [
        {
         "name": "index",
         "rawType": "int64",
         "type": "integer"
        },
        {
         "name": "show_id",
         "rawType": "object",
         "type": "string"
        },
        {
         "name": "type",
         "rawType": "object",
         "type": "string"
        },
        {
         "name": "title",
         "rawType": "object",
         "type": "string"
        },
        {
         "name": "director",
         "rawType": "object",
         "type": "string"
        },
        {
         "name": "cast",
         "rawType": "object",
         "type": "string"
        },
        {
         "name": "country",
         "rawType": "object",
         "type": "string"
        },
        {
         "name": "date_added",
         "rawType": "object",
         "type": "string"
        },
        {
         "name": "release_year",
         "rawType": "int64",
         "type": "integer"
        },
        {
         "name": "rating",
         "rawType": "object",
         "type": "string"
        },
        {
         "name": "duration",
         "rawType": "object",
         "type": "string"
        },
        {
         "name": "listed_in",
         "rawType": "object",
         "type": "string"
        },
        {
         "name": "description",
         "rawType": "object",
         "type": "string"
        }
       ],
       "ref": "d45450d5-9ad8-407d-984a-4105e3b6459a",
       "rows": [],
       "shape": {
        "columns": 12,
        "rows": 0
       }
      },
      "text/html": [
       "<div>\n",
       "<style scoped>\n",
       "    .dataframe tbody tr th:only-of-type {\n",
       "        vertical-align: middle;\n",
       "    }\n",
       "\n",
       "    .dataframe tbody tr th {\n",
       "        vertical-align: top;\n",
       "    }\n",
       "\n",
       "    .dataframe thead th {\n",
       "        text-align: right;\n",
       "    }\n",
       "</style>\n",
       "<table border=\"1\" class=\"dataframe\">\n",
       "  <thead>\n",
       "    <tr style=\"text-align: right;\">\n",
       "      <th></th>\n",
       "      <th>show_id</th>\n",
       "      <th>type</th>\n",
       "      <th>title</th>\n",
       "      <th>director</th>\n",
       "      <th>cast</th>\n",
       "      <th>country</th>\n",
       "      <th>date_added</th>\n",
       "      <th>release_year</th>\n",
       "      <th>rating</th>\n",
       "      <th>duration</th>\n",
       "      <th>listed_in</th>\n",
       "      <th>description</th>\n",
       "    </tr>\n",
       "  </thead>\n",
       "  <tbody>\n",
       "  </tbody>\n",
       "</table>\n",
       "</div>"
      ],
      "text/plain": [
       "Empty DataFrame\n",
       "Columns: [show_id, type, title, director, cast, country, date_added, release_year, rating, duration, listed_in, description]\n",
       "Index: []"
      ]
     },
     "execution_count": 57,
     "metadata": {},
     "output_type": "execute_result"
    }
   ],
   "source": [
    "# use fillna() to replace NAN values with the mean of the column\n",
    "\n",
    "mode=''.join(df_netflix['rating'].mode())\n",
    "\n",
    "df_netflix['rating'].fillna(mode, inplace=True)\n",
    "\n",
    "df_netflix[df_netflix['rating'].isnull()]\n"
   ]
  },
  {
   "cell_type": "code",
   "execution_count": 58,
   "id": "f81c43a3",
   "metadata": {},
   "outputs": [
    {
     "data": {
      "application/vnd.microsoft.datawrangler.viewer.v0+json": {
       "columns": [
        {
         "name": "index",
         "rawType": "object",
         "type": "string"
        },
        {
         "name": "0",
         "rawType": "float64",
         "type": "float"
        }
       ],
       "ref": "0cad3347-70db-4690-b3f0-9b52ad886f3d",
       "rows": [
        [
         "show_id",
         "0.0"
        ],
        [
         "type",
         "0.0"
        ],
        [
         "title",
         "0.0"
        ],
        [
         "director",
         "0.0"
        ],
        [
         "cast",
         "0.07662400777579782"
        ],
        [
         "country",
         "0.06836222258221286"
        ],
        [
         "date_added",
         "0.0"
        ],
        [
         "release_year",
         "0.0"
        ],
        [
         "rating",
         "0.0"
        ],
        [
         "duration",
         "0.0004859873643285275"
        ],
        [
         "listed_in",
         "0.0"
        ],
        [
         "description",
         "0.0"
        ]
       ],
       "shape": {
        "columns": 1,
        "rows": 12
       }
      },
      "text/plain": [
       "show_id         0.000000\n",
       "type            0.000000\n",
       "title           0.000000\n",
       "director        0.000000\n",
       "cast            0.076624\n",
       "country         0.068362\n",
       "date_added      0.000000\n",
       "release_year    0.000000\n",
       "rating          0.000000\n",
       "duration        0.000486\n",
       "listed_in       0.000000\n",
       "description     0.000000\n",
       "dtype: float64"
      ]
     },
     "execution_count": 58,
     "metadata": {},
     "output_type": "execute_result"
    }
   ],
   "source": [
    "df_netflix.isnull().mean()"
   ]
  },
  {
   "cell_type": "code",
   "execution_count": 59,
   "id": "5bd5f3b8",
   "metadata": {},
   "outputs": [
    {
     "data": {
      "application/vnd.microsoft.datawrangler.viewer.v0+json": {
       "columns": [
        {
         "name": "index",
         "rawType": "int64",
         "type": "integer"
        },
        {
         "name": "rating",
         "rawType": "object",
         "type": "string"
        }
       ],
       "ref": "563fc199-a638-426d-b667-cf337a5c4804",
       "rows": [
        [
         "0",
         "PG-13"
        ],
        [
         "2",
         "TV-MA"
        ],
        [
         "5",
         "TV-MA"
        ],
        [
         "6",
         "PG"
        ],
        [
         "7",
         "TV-MA"
        ],
        [
         "8",
         "TV-14"
        ],
        [
         "9",
         "PG-13"
        ],
        [
         "11",
         "TV-MA"
        ],
        [
         "12",
         "TV-MA"
        ],
        [
         "13",
         "TV-PG"
        ],
        [
         "16",
         "TV-MA"
        ],
        [
         "18",
         "TV-14"
        ],
        [
         "20",
         "TV-14"
        ],
        [
         "22",
         "TV-PG"
        ],
        [
         "23",
         "TV-Y"
        ],
        [
         "24",
         "TV-14"
        ],
        [
         "26",
         "TV-PG"
        ],
        [
         "27",
         "PG-13"
        ],
        [
         "28",
         "PG-13"
        ],
        [
         "29",
         "PG-13"
        ],
        [
         "30",
         "TV-14"
        ],
        [
         "35",
         "TV-MA"
        ],
        [
         "36",
         "TV-MA"
        ],
        [
         "38",
         "PG-13"
        ],
        [
         "41",
         "PG"
        ],
        [
         "42",
         "PG"
        ],
        [
         "43",
         "PG"
        ],
        [
         "44",
         "PG-13"
        ],
        [
         "45",
         "PG"
        ],
        [
         "46",
         "R"
        ],
        [
         "47",
         "TV-MA"
        ],
        [
         "48",
         "R"
        ],
        [
         "51",
         "TV-14"
        ],
        [
         "52",
         "TV-14"
        ],
        [
         "53",
         "TV-PG"
        ],
        [
         "54",
         "TV-PG"
        ],
        [
         "56",
         "TV-14"
        ],
        [
         "57",
         "TV-PG"
        ],
        [
         "58",
         "TV-PG"
        ],
        [
         "59",
         "TV-PG"
        ],
        [
         "60",
         "TV-14"
        ],
        [
         "61",
         "TV-PG"
        ],
        [
         "62",
         "TV-PG"
        ],
        [
         "63",
         "TV-PG"
        ],
        [
         "64",
         "TV-PG"
        ],
        [
         "68",
         "TV-14"
        ],
        [
         "71",
         "TV-Y"
        ],
        [
         "73",
         "TV-MA"
        ],
        [
         "75",
         "TV-G"
        ],
        [
         "77",
         "TV-Y7"
        ]
       ],
       "shape": {
        "columns": 1,
        "rows": 6173
       }
      },
      "text/plain": [
       "0       PG-13\n",
       "2       TV-MA\n",
       "5       TV-MA\n",
       "6          PG\n",
       "7       TV-MA\n",
       "        ...  \n",
       "8801    TV-MA\n",
       "8802        R\n",
       "8804        R\n",
       "8805       PG\n",
       "8806    TV-14\n",
       "Name: rating, Length: 6173, dtype: object"
      ]
     },
     "execution_count": 59,
     "metadata": {},
     "output_type": "execute_result"
    }
   ],
   "source": [
    "df_netflix['rating']"
   ]
  },
  {
   "cell_type": "code",
   "execution_count": 66,
   "metadata": {},
   "outputs": [
    {
     "data": {
      "application/vnd.microsoft.datawrangler.viewer.v0+json": {
       "columns": [
        {
         "name": "index",
         "rawType": "int64",
         "type": "integer"
        },
        {
         "name": "show_id",
         "rawType": "object",
         "type": "string"
        },
        {
         "name": "type",
         "rawType": "object",
         "type": "string"
        },
        {
         "name": "title",
         "rawType": "object",
         "type": "string"
        },
        {
         "name": "director",
         "rawType": "object",
         "type": "string"
        },
        {
         "name": "cast",
         "rawType": "object",
         "type": "string"
        },
        {
         "name": "country",
         "rawType": "object",
         "type": "string"
        },
        {
         "name": "date_added",
         "rawType": "object",
         "type": "string"
        },
        {
         "name": "release_year",
         "rawType": "int64",
         "type": "integer"
        },
        {
         "name": "rating",
         "rawType": "object",
         "type": "string"
        },
        {
         "name": "duration",
         "rawType": "object",
         "type": "unknown"
        },
        {
         "name": "listed_in",
         "rawType": "object",
         "type": "string"
        },
        {
         "name": "description",
         "rawType": "object",
         "type": "string"
        }
       ],
       "ref": "e6de7fa0-d56d-4530-b080-c8db058856ad",
       "rows": [
        [
         "0",
         "s1",
         "Movie",
         "Dick Johnson Is Dead",
         "Kirsten Johnson",
         "Sami Bouajila, Tracy Gotoas, Samuel Jouy, Nabiha Akkari, Sofia Lesaffre, Salim Kechiouche, Noureddine Farihi, Geert Van Rampelberg, Bakary Diombera",
         "United States",
         "September 25, 2021",
         "2020",
         "PG-13",
         "90 min",
         "Documentaries",
         "As her father nears the end of his life, filmmaker Kirsten Johnson stages his death in inventive and comical ways to help them both face the inevitable."
        ],
        [
         "2",
         "s3",
         "TV Show",
         "Ganglands",
         "Julien Leclercq",
         "Sami Bouajila, Tracy Gotoas, Samuel Jouy, Nabiha Akkari, Sofia Lesaffre, Salim Kechiouche, Noureddine Farihi, Geert Van Rampelberg, Bakary Diombera",
         "United States, Ghana, Burkina Faso, United Kingdom, Germany, Ethiopia",
         "September 24, 2021",
         "2021",
         "TV-MA",
         "1 Season",
         "Crime TV Shows, International TV Shows, TV Action & Adventure",
         "To protect his family from a powerful drug lord, skilled thief Mehdi and his expert team of robbers are pulled into a violent and deadly turf war."
        ],
        [
         "5",
         "s6",
         "TV Show",
         "Midnight Mass",
         "Mike Flanagan",
         "Kate Siegel, Zach Gilford, Hamish Linklater, Henry Thomas, Kristin Lehman, Samantha Sloyan, Igby Rigney, Rahul Kohli, Annarah Cymone, Annabeth Gish, Alex Essoe, Rahul Abburi, Matt Biedel, Michael Trucco, Crystal Balint, Louis Oliver",
         "United States, Ghana, Burkina Faso, United Kingdom, Germany, Ethiopia",
         "September 24, 2021",
         "2021",
         "TV-MA",
         "1 Season",
         "TV Dramas, TV Horror, TV Mysteries",
         "The arrival of a charismatic young priest brings glorious miracles, ominous mysteries and renewed religious fervor to a dying town desperate to believe."
        ],
        [
         "6",
         "s7",
         "Movie",
         "My Little Pony: A New Generation",
         "Robert Cullen, José Luis Ucha",
         "Vanessa Hudgens, Kimiko Glenn, James Marsden, Sofia Carson, Liza Koshy, Ken Jeong, Elizabeth Perkins, Jane Krakowski, Michael McKean, Phil LaMarr",
         "United States, Ghana, Burkina Faso, United Kingdom, Germany, Ethiopia",
         "September 24, 2021",
         "2021",
         "PG",
         "91 min",
         "Children & Family Movies",
         "Equestria's divided. But a bright-eyed hero believes Earth Ponies, Pegasi and Unicorns should be pals — and, hoof to heart, she’s determined to prove it."
        ],
        [
         "7",
         "s8",
         "Movie",
         "Sankofa",
         "Haile Gerima",
         "Kofi Ghanaba, Oyafunmike Ogunlano, Alexandra Duah, Nick Medley, Mutabaruka, Afemo Omilami, Reggie Carter, Mzuri",
         "United States, Ghana, Burkina Faso, United Kingdom, Germany, Ethiopia",
         "September 24, 2021",
         "1993",
         "TV-MA",
         "125 min",
         "Dramas, Independent Movies, International Movies",
         "On a photo shoot in Ghana, an American model slips back in time, becomes enslaved on a plantation and bears witness to the agony of her ancestral past."
        ],
        [
         "8",
         "s9",
         "TV Show",
         "The Great British Baking Show",
         "Andy Devonshire",
         "Mel Giedroyc, Sue Perkins, Mary Berry, Paul Hollywood",
         "United Kingdom",
         "September 24, 2021",
         "2021",
         "TV-14",
         "9 Seasons",
         "British TV Shows, Reality TV",
         "A talented batch of amateur bakers face off in a 10-week competition, whipping up their best dishes in the hopes of being named the U.K.'s best."
        ],
        [
         "9",
         "s10",
         "Movie",
         "The Starling",
         "Theodore Melfi",
         "Melissa McCarthy, Chris O'Dowd, Kevin Kline, Timothy Olyphant, Daveed Diggs, Skyler Gisondo, Laura Harrier, Rosalind Chao, Kimberly Quinn, Loretta Devine, Ravi Kapoor",
         "United States",
         "September 24, 2021",
         "2021",
         "PG-13",
         "104 min",
         "Comedies, Dramas",
         "A woman adjusting to life after a loss contends with a feisty bird that's taken over her garden — and a husband who's struggling to find a way forward."
        ],
        [
         "11",
         "s12",
         "TV Show",
         "Bangkok Breaking",
         "Kongkiat Komesiri",
         "Sukollawat Kanarot, Sushar Manaying, Pavarit Mongkolpisit, Sahajak Boonthanakit, Suthipongse Thatphithakkul, Bhasaworn Bawronkirati, Daweerit Chullasapya, Waratthaya Wongchayaporn, Kittiphoom Wongpentak, Abhicha Thanachanun, Nophand Boonyai, Kittipong Khamsat, Arisara Wongchalee, Jaytiya Naiwattanakul, Pantipa Arunwattanachai, Panupan Jantanawong, Kungtap Saelim, Phumphat Chartsuriyakiat, Issara Veranitinunt, Keerati Sivakuae, Panjai Sirisuwan, Supranee Charoenpol, Suda Chuenban, Visaka Banhansupavat, Pitchatorn Santinatornkul",
         "Germany, Czech Republic",
         "September 23, 2021",
         "2021",
         "TV-MA",
         "1 Season",
         "Crime TV Shows, International TV Shows, TV Action & Adventure",
         "Struggling to earn a living in Bangkok, a man joins an emergency rescue service and realizes he must unravel a citywide conspiracy."
        ],
        [
         "12",
         "s13",
         "Movie",
         "Je Suis Karl",
         "Christian Schwochow",
         "Luna Wedler, Jannis Niewöhner, Milan Peschel, Edin Hasanović, Anna Fialová, Marlon Boess, Victor Boccard, Fleur Geffrier, Aziz Dyab, Mélanie Fouché, Elizaveta Maximová",
         "Germany, Czech Republic",
         "September 23, 2021",
         "2021",
         "TV-MA",
         "127 min",
         "Dramas, International Movies",
         "After most of her family is murdered in a terrorist bombing, a young woman is unknowingly lured into joining the very group that killed them."
        ],
        [
         "13",
         "s14",
         "Movie",
         "Confessions of an Invisible Girl",
         "Bruno Garotti",
         "Klara Castanho, Lucca Picon, Júlia Gomes, Marcus Bessa, Kiria Malheiros, Fernanda Concon, Gabriel Lima, Caio Cabral, Leonardo Cidade, Jade Cardozo",
         "India",
         "September 22, 2021",
         "2021",
         "TV-PG",
         "91 min",
         "Children & Family Movies, Comedies",
         "When the clever but socially-awkward Tetê joins a new school, she'll do anything to fit in. But the queen bee among her classmates has other ideas."
        ],
        [
         "16",
         "s17",
         "Movie",
         "Europe's Most Dangerous Man: Otto Skorzeny in Spain",
         "Pedro de Echave García, Pablo Azorín Williams",
         "Freida Pinto, Logan Marshall-Green, Robert John Burke, Megan Elisabeth Kelly, Sarah Minnich, Hayes Hargrove, Mark Sivertsen, Brandon Fierro, Antonio Valles, Clint Obenchain",
         "India",
         "September 22, 2021",
         "2020",
         "TV-MA",
         "67 min",
         "Documentaries, International Movies",
         "Declassified documents reveal the post-WWII life of Otto Skorzeny, a close Hitler ally who escaped to Spain and became an adviser to world presidents."
        ],
        [
         "18",
         "s19",
         "Movie",
         "Intrusion",
         "Adam Salky",
         "Freida Pinto, Logan Marshall-Green, Robert John Burke, Megan Elisabeth Kelly, Sarah Minnich, Hayes Hargrove, Mark Sivertsen, Brandon Fierro, Antonio Valles, Clint Obenchain",
         "India",
         "September 22, 2021",
         "2021",
         "TV-14",
         "94 min",
         "Thrillers",
         "After a deadly home invasion at a couple’s new dream house, the traumatized wife searches for answers — and learns the real danger is just beginning."
        ],
        [
         "20",
         "s21",
         "TV Show",
         "Monsters Inside: The 24 Faces of Billy Milligan",
         "Olivier Megaton",
         "Kamal Hassan, Meena, Gemini Ganesan, Heera Rajgopal, Nassar, S.P. Balasubrahmanyam",
         "India",
         "September 22, 2021",
         "2021",
         "TV-14",
         "1 Season",
         "Crime TV Shows, Docuseries, International TV Shows",
         "In the late 1970s, an accused serial rapist claims multiple personalities control his behavior, setting off a legal odyssey that captivates America."
        ],
        [
         "22",
         "s23",
         "Movie",
         "Avvai Shanmughi",
         "K.S. Ravikumar",
         "Kamal Hassan, Meena, Gemini Ganesan, Heera Rajgopal, Nassar, S.P. Balasubrahmanyam",
         "India",
         "September 21, 2021",
         "1996",
         "TV-PG",
         "161 min",
         "Comedies, International Movies",
         "Newly divorced and denied visitation rights with his daughter, a doting father disguises himself as a gray-haired nanny in order to spend time with her."
        ],
        [
         "23",
         "s24",
         "Movie",
         "Go! Go! Cory Carson: Chrissy Takes the Wheel",
         "Alex Woo, Stanley Moore",
         "Maisie Benson, Paul Killam, Kerry Gudjohnsen, AC Lim",
         "India",
         "September 21, 2021",
         "2021",
         "TV-Y",
         "61 min",
         "Children & Family Movies",
         "From arcade games to sled days and hiccup cures, Cory Carson’s curious little sister Chrissy speeds off on her own for fun and adventure all over town!"
        ],
        [
         "24",
         "s25",
         "Movie",
         "Jeans",
         "S. Shankar",
         "Prashanth, Aishwarya Rai Bachchan, Sri Lakshmi, Nassar",
         "India",
         "September 21, 2021",
         "1998",
         "TV-14",
         "166 min",
         "Comedies, International Movies, Romantic Movies",
         "When the father of the man she loves insists that his twin sons marry twin sisters, a woman creates an alter ego that might be a bit too convincing."
        ],
        [
         "26",
         "s27",
         "Movie",
         "Minsara Kanavu",
         "Rajiv Menon",
         "Arvind Swamy, Kajol, Prabhu Deva, Nassar, S.P. Balasubrahmanyam, Girish Karnad",
         "United States",
         "September 21, 2021",
         "1997",
         "TV-PG",
         "147 min",
         "Comedies, International Movies, Music & Musicals",
         "A tangled love triangle ensues when a man falls for a woman studying to become a nun — and she falls for the friend he enlists to help him pursue her."
        ],
        [
         "27",
         "s28",
         "Movie",
         "Grown Ups",
         "Dennis Dugan",
         "Adam Sandler, Kevin James, Chris Rock, David Spade, Rob Schneider, Salma Hayek, Maria Bello, Maya Rudolph, Colin Quinn, Tim Meadows, Joyce Van Patten",
         "United States",
         "September 20, 2021",
         "2010",
         "PG-13",
         "103 min",
         "Comedies",
         "Mourning the loss of their beloved junior high basketball coach, five middle-aged pals reunite at a lake house and rediscover the joys of being a kid."
        ],
        [
         "28",
         "s29",
         "Movie",
         "Dark Skies",
         "Scott Stewart",
         "Keri Russell, Josh Hamilton, J.K. Simmons, Dakota Goyo, Kadan Rockett, L.J. Benet, Rich Hutchman, Myndy Crist, Annie Thurman, Jake Brennan",
         "United States",
         "September 19, 2021",
         "2013",
         "PG-13",
         "97 min",
         "Horror Movies, Sci-Fi & Fantasy",
         "A family’s idyllic suburban life shatters when an alien force invades their home, and as they struggle to convince others of the deadly threat."
        ],
        [
         "29",
         "s30",
         "Movie",
         "Paranoia",
         "Robert Luketic",
         "Liam Hemsworth, Gary Oldman, Amber Heard, Harrison Ford, Lucas Till, Embeth Davidtz, Julian McMahon, Josh Holloway, Richard Dreyfuss, Angela Sarafyan",
         "United States, India, France",
         "September 19, 2021",
         "2013",
         "PG-13",
         "106 min",
         "Thrillers",
         "Blackmailed by his company's CEO, a low-level employee finds himself forced to spy on the boss's rival and former mentor."
        ],
        [
         "30",
         "s31",
         "Movie",
         "Ankahi Kahaniya",
         "Ashwiny Iyer Tiwari, Abhishek Chaubey, Saket Chaudhary",
         "Abhishek Banerjee, Rinku Rajguru, Delzad Hiwale, Kunal Kapoor, Zoya Hussain, Nikhil Dwivedi, Palomi Ghosh",
         "China, Canada, United States",
         "September 17, 2021",
         "2021",
         "TV-14",
         "111 min",
         "Dramas, Independent Movies, International Movies",
         "As big city life buzzes around them, lonely souls discover surprising sources of connection and companionship in three tales of love, loss and longing."
        ],
        [
         "35",
         "s36",
         "Movie",
         "The Father Who Moves Mountains",
         "Daniel Sandu",
         "Adrian Titieni, Elena Purea, Judith State, Valeriu Andriuță, Tudor Smoleanu, Virgil Aioanei, Radu Botar, Petronela Grigorescu, Bogdan Nechifor, Cristian Bota",
         "China, Canada, United States",
         "September 17, 2021",
         "2021",
         "TV-MA",
         "110 min",
         "Dramas, International Movies, Thrillers",
         "When his son goes missing during a snowy hike in the mountains, a retired intelligence officer will stop at nothing — and risk everything — to find him."
        ],
        [
         "36",
         "s37",
         "Movie",
         "The Stronghold",
         "Cédric Jimenez",
         "Gilles Lellouche, Karim Leklou, François Civil, Adèle Exarchopoulos, Kenza Fortas, Cyril Lecomte, Michaël Abiteboul, Idir Azougli, Vincent Darmuzey, Jean-Yves Berteloot",
         "China, Canada, United States",
         "September 17, 2021",
         "2021",
         "TV-MA",
         "105 min",
         "Action & Adventure, Dramas, International Movies",
         "Tired of the small-time grind, three Marseille cops get a chance to bust a major drug network. But lines blur when a key informant makes a big ask."
        ],
        [
         "38",
         "s39",
         "Movie",
         "Birth of the Dragon",
         "George Nolfi",
         "Billy Magnussen, Ron Yuan, Qu Jingjing, Terry Chen, Vanness Wu, Jin Xing, Philip Ng, Xia Yu, Yu Xia",
         "China, Canada, United States",
         "September 16, 2021",
         "2017",
         "PG-13",
         "96 min",
         "Action & Adventure, Dramas",
         "A young Bruce Lee angers kung fu traditionalists by teaching outsiders, leading to a showdown with a Shaolin master in this film based on real events."
        ],
        [
         "41",
         "s42",
         "Movie",
         "Jaws",
         "Steven Spielberg",
         "Roy Scheider, Robert Shaw, Richard Dreyfuss, Lorraine Gary, Murray Hamilton, Carl Gottlieb, Jeffrey Kramer, Susan Backlinie, Jonathan Filley, Ted Grossman",
         "United States",
         "September 16, 2021",
         "1975",
         "PG",
         "124 min",
         "Action & Adventure, Classic Movies, Dramas",
         "When an insatiable great white shark terrorizes Amity Island, a police chief, an oceanographer and a grizzled shark hunter seek to destroy the beast."
        ],
        [
         "42",
         "s43",
         "Movie",
         "Jaws 2",
         "Jeannot Szwarc",
         "Roy Scheider, Lorraine Gary, Murray Hamilton, Joseph Mascolo, Jeffrey Kramer, Collin Wilcox Paxton, Ann Dusenberry, Mark Gruner, Barry Coe, Susan French",
         "United States",
         "September 16, 2021",
         "1978",
         "PG",
         "116 min",
         "Dramas, Horror Movies, Thrillers",
         "Four years after the last deadly shark attacks, police chief Martin Brody fights to protect Amity Island from another killer great white."
        ],
        [
         "43",
         "s44",
         "Movie",
         "Jaws 3",
         "Joe Alves",
         "Dennis Quaid, Bess Armstrong, Simon MacCorkindale, Louis Gossett Jr., John Putch, Lea Thompson, P.H. Moriarty, Dan Blasko, Liz Morris, Lisa Maurer",
         "United States",
         "September 16, 2021",
         "1983",
         "PG",
         "98 min",
         "Action & Adventure, Horror Movies, Thrillers",
         "After the staff of a marine theme park try to capture a young great white shark, they discover its mother has invaded the enclosure and is out for blood."
        ],
        [
         "44",
         "s45",
         "Movie",
         "Jaws: The Revenge",
         "Joseph Sargent",
         "Lorraine Gary, Lance Guest, Mario Van Peebles, Karen Young, Michael Caine, Judith Barsi, Mitchell Anderson, Lynn Whitfield",
         "United States",
         "September 16, 2021",
         "1987",
         "PG-13",
         "91 min",
         "Action & Adventure, Horror Movies, Thrillers",
         "After another deadly shark attack, Ellen Brody has had enough of Amity Island and moves to the Caribbean – but a great white shark follows her there."
        ],
        [
         "45",
         "s46",
         "Movie",
         "My Heroes Were Cowboys",
         "Tyler Greco",
         "Denzel Washington, Ryan Reynolds, Vera Farmiga, Brendan Gleeson, Sam Shepard, Rubén Blades, Nora Arnezeder, Robert Patrick, Liam Cunningham, Joel Kinnaman",
         "South Africa, United States, Japan",
         "September 16, 2021",
         "2021",
         "PG",
         "23 min",
         "Documentaries",
         "Robin Wiltshire's painful childhood was rescued by Westerns. Now he lives on the frontier of his dreams, training the horses he loves for the big screen."
        ],
        [
         "46",
         "s47",
         "Movie",
         "Safe House",
         "Daniel Espinosa",
         "Denzel Washington, Ryan Reynolds, Vera Farmiga, Brendan Gleeson, Sam Shepard, Rubén Blades, Nora Arnezeder, Robert Patrick, Liam Cunningham, Joel Kinnaman",
         "South Africa, United States, Japan",
         "September 16, 2021",
         "2012",
         "R",
         "115 min",
         "Action & Adventure",
         "Young CIA operative Matt Weston must get a dangerous criminal out of an agency safe house that's come under attack and get him to a securer location."
        ],
        [
         "47",
         "s48",
         "TV Show",
         "The Smart Money Woman",
         "Bunmi Ajakaiye",
         "Osas Ighodaro, Ini Dima-Okojie, Kemi Lala Akindoju, Toni Tones, Ebenezer Eno, Eso Okolocha DIke, Patrick Diabuah, Karibi Fubara, Temisan Emmanuel, Timini Egbuson",
         "United States",
         "September 16, 2021",
         "2020",
         "TV-MA",
         "1 Season",
         "International TV Shows, Romantic TV Shows, TV Comedies",
         "Five glamorous millennials strive for success as they juggle careers, finances, love and friendships. Based on Arese Ugwu's 2016 best-selling novel."
        ],
        [
         "48",
         "s49",
         "Movie",
         "Training Day",
         "Antoine Fuqua",
         "Denzel Washington, Ethan Hawke, Scott Glenn, Tom Berenger, Harris Yulin, Raymond J. Barry, Cliff Curtis, Dr. Dre, Snoop Dogg, Macy Gray, Eva Mendes",
         "United States",
         "September 16, 2021",
         "2001",
         "R",
         "122 min",
         "Dramas, Thrillers",
         "A rookie cop with one day to prove himself to a veteran LAPD narcotics officer receives a crash course in his mentor's questionable brand of justice."
        ],
        [
         "51",
         "s52",
         "Movie",
         "InuYasha the Movie 2: The Castle Beyond the Looking Glass",
         "Toshiya Shinohara",
         "Kappei Yamaguchi, Satsuki Yukino, Mieko Harada, Koji Tsujitani, Houko Kuwashima, Kumiko Watanabe, Noriko Hidaka, Kenichi Ogata, Toshiyuki Morikawa, Izumi Ogami",
         "Japan",
         "September 15, 2021",
         "2002",
         "TV-14",
         "99 min",
         "Action & Adventure, Anime Features, International Movies",
         "With their biggest foe seemingly defeated, InuYasha and his friends return to everyday life. But the peace is soon shattered by an emerging new enemy."
        ],
        [
         "52",
         "s53",
         "Movie",
         "InuYasha the Movie 3: Swords of an Honorable Ruler",
         "Toshiya Shinohara",
         "Kappei Yamaguchi, Satsuki Yukino, Koji Tsujitani, Houko Kuwashima, Kumiko Watanabe, Ken Narita, Akio Otsuka, Kikuko Inoue",
         "Japan",
         "September 15, 2021",
         "2003",
         "TV-14",
         "99 min",
         "Action & Adventure, Anime Features, International Movies",
         "The Great Dog Demon beaqueathed one of the Three Swords of the Fang to each of his two sons. Now the evil power of the third sword has been awakened."
        ],
        [
         "53",
         "s54",
         "Movie",
         "InuYasha the Movie 4: Fire on the Mystic Island",
         "Toshiya Shinohara",
         "Kappei Yamaguchi, Satsuki Yukino, Koji Tsujitani, Houko Kuwashima, Kumiko Watanabe, Noriko Hidaka, Ken Narita, Cho, Mamiko Noto, Nobutoshi Canna",
         "Japan",
         "September 15, 2021",
         "2004",
         "TV-PG",
         "88 min",
         "Action & Adventure, Anime Features, International Movies",
         "Ai, a young half-demon who has escaped from Horai Island to try to help her people, returns with potential saviors InuYasha, Sesshomaru and Kikyo."
        ],
        [
         "54",
         "s55",
         "Movie",
         "InuYasha the Movie: Affections Touching Across Time",
         "Toshiya Shinohara",
         "Kappei Yamaguchi, Satsuki Yukino, Koji Tsujitani, Houko Kuwashima, Kumiko Watanabe, Kenichi Ogata, Noriko Hidaka, Hisako Kyoda, Ken Narita, Tomokazu Seki",
         "Japan",
         "September 15, 2021",
         "2001",
         "TV-PG",
         "100 min",
         "Action & Adventure, Anime Features, International Movies",
         "A powerful demon has been sealed away for 200 years. But when the demon's son is awakened, the fate of the world is in jeopardy."
        ],
        [
         "56",
         "s57",
         "Movie",
         "Naruto Shippuden the Movie: Blood Prison",
         "Masahiko Murata",
         "Junko Takeuchi, Chie Nakamura, Rikiya Koyama, Kazuhiko Inoue, Masaki Terasoma, Mie Sonozaki, Yuichi Nakamura, Kengo Kawanishi, Kosei Hirota, Masako Katsuki",
         "Japan",
         "September 15, 2021",
         "2011",
         "TV-14",
         "102 min",
         "Action & Adventure, Anime Features, International Movies",
         "Mistakenly accused of an attack on the Fourth Raikage, ninja Naruto is imprisoned in the impenetrable Hozuki Castle and his powers are sealed."
        ],
        [
         "57",
         "s58",
         "Movie",
         "Naruto Shippûden the Movie: Bonds",
         "Hajime Kamegaki",
         "Junko Takeuchi, Chie Nakamura, Noriaki Sugiyama, Unsho Ishizuka, Motoko Kumai, Kazuhiko Inoue, Rikiya Koyama, Showtaro Morikubo, Nana Mizuki, Satoshi Hino, Shinji Kawada",
         "Japan",
         "September 15, 2021",
         "2008",
         "TV-PG",
         "93 min",
         "Action & Adventure, Anime Features, International Movies",
         "When strange ninjas ambush the village of Konohagakure, it's up to adolescent ninja Naruto and his long-missing pal, Sasuke, to save the planet."
        ],
        [
         "58",
         "s59",
         "Movie",
         "Naruto Shippûden the Movie: The Will of Fire",
         "Masahiko Murata",
         "Junko Takeuchi, Chie Nakamura, Kazuhiko Inoue, Satoshi Hino, Showtaro Morikubo, Kentaro Ito, Ryoka Yuzuki, Kohsuke Toriumi, Nana Mizuki, Shinji Kawada, Yoichi Masukawa, Koichi Tochika, Yukari Tamura",
         "Japan",
         "September 15, 2021",
         "2009",
         "TV-PG",
         "96 min",
         "Action & Adventure, Anime Features, International Movies",
         "When four out of five ninja villages are destroyed, the leader of the one spared tries to find the true culprit and protect his land."
        ],
        [
         "59",
         "s60",
         "Movie",
         "Naruto Shippuden: The Movie",
         "Hajime Kamegaki",
         "Junko Takeuchi, Chie Nakamura, Yoichi Masukawa, Koichi Tochika, Ayumi Fujimura, Keisuke Oda, Daisuke Kishio, Fumiko Orikasa, Hidetoshi Nakamura, Tetsuya Kakihara, Kisho Taniyama, Miyuki Sawashiro, Katsuyuki Konishi, Masako Katsuki, Keiko Nemoto, Masashi Ebara, Kazuhiko Inoue, Showtaro Morikubo, Romi Park, Daisuke Ono, Seizo Kato",
         "Japan",
         "September 15, 2021",
         "2007",
         "TV-PG",
         "95 min",
         "Action & Adventure, Anime Features, International Movies",
         "The adventures of adolescent ninja Naruto Uzumaki continue as he's tasked with protecting a priestess from a demon – but to do so, he must die."
        ],
        [
         "60",
         "s61",
         "Movie",
         "Naruto Shippuden: The Movie: The Lost Tower",
         "Masahiko Murata",
         "Junko Takeuchi, Chie Nakamura, Satoshi Hino, Rikiya Koyama, Nobuaki Fukuda, Kenji Hamada, Keiko Nemoto, Saori Hayami, Yumi Toma, Yuko Kobayashi, Fujiko Takimoto, Mutsumi Tamura, Mayuki Makiguchi, Toshiyuki Morikawa",
         "Japan",
         "September 15, 2021",
         "2010",
         "TV-14",
         "85 min",
         "Action & Adventure, Anime Features, International Movies",
         "When Naruto is sent to recover a missing nin, the rogue manages to send him 20 years into the past, where he unites with his father to battle evil."
        ],
        [
         "61",
         "s62",
         "Movie",
         "Naruto the Movie 2: Legend of the Stone of Gelel",
         "Hirotsugu Kawasaki",
         "Junko Takeuchi, Gamon Kaai, Chie Nakamura, Showtaro Morikubo, Akira Ishida, Yasuyuki Kase, Urara Takano, Sachiko Kojima, Houko Kuwashima, Takako Honda",
         "Japan",
         "September 15, 2021",
         "2005",
         "TV-PG",
         "97 min",
         "Action & Adventure, Anime Features, International Movies",
         "While on a mission to return a missing pet, Naruto and two fellow ninjas are ambushed by brutal knights led by the enigmatic Temujin."
        ],
        [
         "62",
         "s63",
         "Movie",
         "Naruto the Movie 3: Guardians of the Crescent Moon Kingdom",
         "Toshiyuki Tsuru",
         "Junko Takeuchi, Chie Nakamura, Yoichi Masukawa, Kazuhiko Inoue, Akio Otsuka, Kyousuke Ikeda, Marika Hayashi, Umeji Sasaki, Masashi Sugawara, Hisao Egawa",
         "Japan",
         "September 15, 2021",
         "2006",
         "TV-PG",
         "95 min",
         "Action & Adventure, Anime Features, International Movies",
         "Exuberant ninja Naruto teams up with his pals Sakura and Kakashi to escort Prince Michiru and his son, Hikaru, to the Crescent Moon kingdom."
        ],
        [
         "63",
         "s64",
         "Movie",
         "Naruto the Movie: Ninja Clash in the Land of Snow",
         "Tensai Okamura",
         "Junko Takeuchi, Noriaki Sugiyama, Chie Nakamura, Kazuhiko Inoue, Yuhko Kaida, Tsutomu Isobe, Hirotaka Suzuoki, Jun Karasawa, Harii Kaneko, Ikuo Nishikawa",
         "Japan",
         "September 15, 2021",
         "2004",
         "TV-PG",
         "83 min",
         "Action & Adventure, Anime Features, International Movies",
         "Naruto, Sasuke and Sakura learn they'll be protecting an actress from being hurt while making her next film, but it turns out she's a princess."
        ],
        [
         "64",
         "s65",
         "Movie",
         "Nightbooks",
         "David Yarovesky",
         "Winslow Fegley, Lidya Jewett, Krysten Ritter",
         "Nigeria",
         "September 15, 2021",
         "2021",
         "TV-PG",
         "103 min",
         "Children & Family Movies",
         "Scary story fan Alex must tell a spine-tingling tale every night — or stay trapped with his new friend in a wicked witch's magical apartment forever."
        ],
        [
         "68",
         "s69",
         "Movie",
         "Schumacher",
         "Hanns-Bruno Kammertöns, Vanessa Nöcker, Michael Wech",
         "Michael Schumacher",
         "Nigeria",
         "September 15, 2021",
         "2021",
         "TV-14",
         "113 min",
         "Documentaries, International Movies, Sports Movies",
         "Through exclusive interviews and archival footage, this documentary traces an intimate portrait of seven-time Formula 1 champion Michael Schumacher."
        ],
        [
         "71",
         "s72",
         "Movie",
         "A StoryBots Space Adventure",
         "David A. Vargas",
         "Evan Spiridellis, Erin Fitzgerald, Jeff Gill, Fred Tatasciore, Evan Michael Lee, Jared Isaacman, Sian Proctor, Chris Sembroski, Hayley Arceneaux",
         "Nigeria",
         "September 14, 2021",
         "2021",
         "TV-Y",
         "13 min",
         "Children & Family Movies",
         "Join the StoryBots and the space travelers of the historic Inspiration4 mission as they search for answers to kids' questions about space."
        ],
        [
         "73",
         "s74",
         "Movie",
         "King of Boys",
         "Kemi Adetiba",
         "Sola Sobowale, Adesua Etomi, Remilekun \"Reminisce\" Safaru, Tobechukwu \"iLLbliss\" Ejiofor, Toni Tones, Paul Sambo, Jide Kosoko, Sharon Ooja",
         "Nigeria",
         "September 14, 2021",
         "2018",
         "TV-MA",
         "182 min",
         "Dramas, International Movies",
         "When a powerful businesswoman’s political ambitions are threatened by her underworld connections, the ensuing power struggle could cost her everything."
        ],
        [
         "75",
         "s76",
         "Movie",
         "You vs. Wild: Out Cold",
         "Ben Simms",
         "Bear Grylls, Jason Derek Prempeh",
         "United States",
         "September 14, 2021",
         "2021",
         "TV-G",
         "106 min",
         "Children & Family Movies",
         "After a plane crash leaves Bear with amnesia, he must make choices to save the missing pilot and survive in this high-stakes interactive adventure."
        ],
        [
         "77",
         "s78",
         "Movie",
         "Little Singham - Black Shadow",
         "Prakash Satam",
         "Sumriddhi Shukla, Jigna Bharadwaj, Sonal Kaushal, Neshma Chemburkar, Ganesh Divekar, Annamaya Verma, Anamay Verma, Manoj Pandey",
         "United States",
         "September 11, 2021",
         "2021",
         "TV-Y7",
         "48 min",
         "Children & Family Movies, Comedies",
         "Kid cop Little Singham loses all his superpowers while trying to stop the demon Kaal’s new evil plans! Can his inner strength help him defeat the enemy?"
        ]
       ],
       "shape": {
        "columns": 12,
        "rows": 6173
       }
      },
      "text/html": [
       "<div>\n",
       "<style scoped>\n",
       "    .dataframe tbody tr th:only-of-type {\n",
       "        vertical-align: middle;\n",
       "    }\n",
       "\n",
       "    .dataframe tbody tr th {\n",
       "        vertical-align: top;\n",
       "    }\n",
       "\n",
       "    .dataframe thead th {\n",
       "        text-align: right;\n",
       "    }\n",
       "</style>\n",
       "<table border=\"1\" class=\"dataframe\">\n",
       "  <thead>\n",
       "    <tr style=\"text-align: right;\">\n",
       "      <th></th>\n",
       "      <th>show_id</th>\n",
       "      <th>type</th>\n",
       "      <th>title</th>\n",
       "      <th>director</th>\n",
       "      <th>cast</th>\n",
       "      <th>country</th>\n",
       "      <th>date_added</th>\n",
       "      <th>release_year</th>\n",
       "      <th>rating</th>\n",
       "      <th>duration</th>\n",
       "      <th>listed_in</th>\n",
       "      <th>description</th>\n",
       "    </tr>\n",
       "  </thead>\n",
       "  <tbody>\n",
       "    <tr>\n",
       "      <th>0</th>\n",
       "      <td>s1</td>\n",
       "      <td>Movie</td>\n",
       "      <td>Dick Johnson Is Dead</td>\n",
       "      <td>Kirsten Johnson</td>\n",
       "      <td>Sami Bouajila, Tracy Gotoas, Samuel Jouy, Nabi...</td>\n",
       "      <td>United States</td>\n",
       "      <td>September 25, 2021</td>\n",
       "      <td>2020</td>\n",
       "      <td>PG-13</td>\n",
       "      <td>90 min</td>\n",
       "      <td>Documentaries</td>\n",
       "      <td>As her father nears the end of his life, filmm...</td>\n",
       "    </tr>\n",
       "    <tr>\n",
       "      <th>2</th>\n",
       "      <td>s3</td>\n",
       "      <td>TV Show</td>\n",
       "      <td>Ganglands</td>\n",
       "      <td>Julien Leclercq</td>\n",
       "      <td>Sami Bouajila, Tracy Gotoas, Samuel Jouy, Nabi...</td>\n",
       "      <td>United States, Ghana, Burkina Faso, United Kin...</td>\n",
       "      <td>September 24, 2021</td>\n",
       "      <td>2021</td>\n",
       "      <td>TV-MA</td>\n",
       "      <td>1 Season</td>\n",
       "      <td>Crime TV Shows, International TV Shows, TV Act...</td>\n",
       "      <td>To protect his family from a powerful drug lor...</td>\n",
       "    </tr>\n",
       "    <tr>\n",
       "      <th>5</th>\n",
       "      <td>s6</td>\n",
       "      <td>TV Show</td>\n",
       "      <td>Midnight Mass</td>\n",
       "      <td>Mike Flanagan</td>\n",
       "      <td>Kate Siegel, Zach Gilford, Hamish Linklater, H...</td>\n",
       "      <td>United States, Ghana, Burkina Faso, United Kin...</td>\n",
       "      <td>September 24, 2021</td>\n",
       "      <td>2021</td>\n",
       "      <td>TV-MA</td>\n",
       "      <td>1 Season</td>\n",
       "      <td>TV Dramas, TV Horror, TV Mysteries</td>\n",
       "      <td>The arrival of a charismatic young priest brin...</td>\n",
       "    </tr>\n",
       "    <tr>\n",
       "      <th>6</th>\n",
       "      <td>s7</td>\n",
       "      <td>Movie</td>\n",
       "      <td>My Little Pony: A New Generation</td>\n",
       "      <td>Robert Cullen, José Luis Ucha</td>\n",
       "      <td>Vanessa Hudgens, Kimiko Glenn, James Marsden, ...</td>\n",
       "      <td>United States, Ghana, Burkina Faso, United Kin...</td>\n",
       "      <td>September 24, 2021</td>\n",
       "      <td>2021</td>\n",
       "      <td>PG</td>\n",
       "      <td>91 min</td>\n",
       "      <td>Children &amp; Family Movies</td>\n",
       "      <td>Equestria's divided. But a bright-eyed hero be...</td>\n",
       "    </tr>\n",
       "    <tr>\n",
       "      <th>7</th>\n",
       "      <td>s8</td>\n",
       "      <td>Movie</td>\n",
       "      <td>Sankofa</td>\n",
       "      <td>Haile Gerima</td>\n",
       "      <td>Kofi Ghanaba, Oyafunmike Ogunlano, Alexandra D...</td>\n",
       "      <td>United States, Ghana, Burkina Faso, United Kin...</td>\n",
       "      <td>September 24, 2021</td>\n",
       "      <td>1993</td>\n",
       "      <td>TV-MA</td>\n",
       "      <td>125 min</td>\n",
       "      <td>Dramas, Independent Movies, International Movies</td>\n",
       "      <td>On a photo shoot in Ghana, an American model s...</td>\n",
       "    </tr>\n",
       "    <tr>\n",
       "      <th>...</th>\n",
       "      <td>...</td>\n",
       "      <td>...</td>\n",
       "      <td>...</td>\n",
       "      <td>...</td>\n",
       "      <td>...</td>\n",
       "      <td>...</td>\n",
       "      <td>...</td>\n",
       "      <td>...</td>\n",
       "      <td>...</td>\n",
       "      <td>...</td>\n",
       "      <td>...</td>\n",
       "      <td>...</td>\n",
       "    </tr>\n",
       "    <tr>\n",
       "      <th>8801</th>\n",
       "      <td>s8802</td>\n",
       "      <td>Movie</td>\n",
       "      <td>Zinzana</td>\n",
       "      <td>Majid Al Ansari</td>\n",
       "      <td>Ali Suliman, Saleh Bakri, Yasa, Ali Al-Jabri, ...</td>\n",
       "      <td>United Arab Emirates, Jordan</td>\n",
       "      <td>March 9, 2016</td>\n",
       "      <td>2015</td>\n",
       "      <td>TV-MA</td>\n",
       "      <td>96 min</td>\n",
       "      <td>Dramas, International Movies, Thrillers</td>\n",
       "      <td>Recovering alcoholic Talal wakes up inside a s...</td>\n",
       "    </tr>\n",
       "    <tr>\n",
       "      <th>8802</th>\n",
       "      <td>s8803</td>\n",
       "      <td>Movie</td>\n",
       "      <td>Zodiac</td>\n",
       "      <td>David Fincher</td>\n",
       "      <td>Mark Ruffalo, Jake Gyllenhaal, Robert Downey J...</td>\n",
       "      <td>United States</td>\n",
       "      <td>November 20, 2019</td>\n",
       "      <td>2007</td>\n",
       "      <td>R</td>\n",
       "      <td>158 min</td>\n",
       "      <td>Cult Movies, Dramas, Thrillers</td>\n",
       "      <td>A political cartoonist, a crime reporter and a...</td>\n",
       "    </tr>\n",
       "    <tr>\n",
       "      <th>8804</th>\n",
       "      <td>s8805</td>\n",
       "      <td>Movie</td>\n",
       "      <td>Zombieland</td>\n",
       "      <td>Ruben Fleischer</td>\n",
       "      <td>Jesse Eisenberg, Woody Harrelson, Emma Stone, ...</td>\n",
       "      <td>United States</td>\n",
       "      <td>November 1, 2019</td>\n",
       "      <td>2009</td>\n",
       "      <td>R</td>\n",
       "      <td>88 min</td>\n",
       "      <td>Comedies, Horror Movies</td>\n",
       "      <td>Looking to survive in a world taken over by zo...</td>\n",
       "    </tr>\n",
       "    <tr>\n",
       "      <th>8805</th>\n",
       "      <td>s8806</td>\n",
       "      <td>Movie</td>\n",
       "      <td>Zoom</td>\n",
       "      <td>Peter Hewitt</td>\n",
       "      <td>Tim Allen, Courteney Cox, Chevy Chase, Kate Ma...</td>\n",
       "      <td>United States</td>\n",
       "      <td>January 11, 2020</td>\n",
       "      <td>2006</td>\n",
       "      <td>PG</td>\n",
       "      <td>88 min</td>\n",
       "      <td>Children &amp; Family Movies, Comedies</td>\n",
       "      <td>Dragged from civilian life, a former superhero...</td>\n",
       "    </tr>\n",
       "    <tr>\n",
       "      <th>8806</th>\n",
       "      <td>s8807</td>\n",
       "      <td>Movie</td>\n",
       "      <td>Zubaan</td>\n",
       "      <td>Mozez Singh</td>\n",
       "      <td>Vicky Kaushal, Sarah-Jane Dias, Raaghav Chanan...</td>\n",
       "      <td>India</td>\n",
       "      <td>March 2, 2019</td>\n",
       "      <td>2015</td>\n",
       "      <td>TV-14</td>\n",
       "      <td>111 min</td>\n",
       "      <td>Dramas, International Movies, Music &amp; Musicals</td>\n",
       "      <td>A scrappy but poor boy worms his way into a ty...</td>\n",
       "    </tr>\n",
       "  </tbody>\n",
       "</table>\n",
       "<p>6173 rows × 12 columns</p>\n",
       "</div>"
      ],
      "text/plain": [
       "     show_id     type                             title  \\\n",
       "0         s1    Movie              Dick Johnson Is Dead   \n",
       "2         s3  TV Show                         Ganglands   \n",
       "5         s6  TV Show                     Midnight Mass   \n",
       "6         s7    Movie  My Little Pony: A New Generation   \n",
       "7         s8    Movie                           Sankofa   \n",
       "...      ...      ...                               ...   \n",
       "8801   s8802    Movie                           Zinzana   \n",
       "8802   s8803    Movie                            Zodiac   \n",
       "8804   s8805    Movie                        Zombieland   \n",
       "8805   s8806    Movie                              Zoom   \n",
       "8806   s8807    Movie                            Zubaan   \n",
       "\n",
       "                           director  \\\n",
       "0                   Kirsten Johnson   \n",
       "2                   Julien Leclercq   \n",
       "5                     Mike Flanagan   \n",
       "6     Robert Cullen, José Luis Ucha   \n",
       "7                      Haile Gerima   \n",
       "...                             ...   \n",
       "8801                Majid Al Ansari   \n",
       "8802                  David Fincher   \n",
       "8804                Ruben Fleischer   \n",
       "8805                   Peter Hewitt   \n",
       "8806                    Mozez Singh   \n",
       "\n",
       "                                                   cast  \\\n",
       "0     Sami Bouajila, Tracy Gotoas, Samuel Jouy, Nabi...   \n",
       "2     Sami Bouajila, Tracy Gotoas, Samuel Jouy, Nabi...   \n",
       "5     Kate Siegel, Zach Gilford, Hamish Linklater, H...   \n",
       "6     Vanessa Hudgens, Kimiko Glenn, James Marsden, ...   \n",
       "7     Kofi Ghanaba, Oyafunmike Ogunlano, Alexandra D...   \n",
       "...                                                 ...   \n",
       "8801  Ali Suliman, Saleh Bakri, Yasa, Ali Al-Jabri, ...   \n",
       "8802  Mark Ruffalo, Jake Gyllenhaal, Robert Downey J...   \n",
       "8804  Jesse Eisenberg, Woody Harrelson, Emma Stone, ...   \n",
       "8805  Tim Allen, Courteney Cox, Chevy Chase, Kate Ma...   \n",
       "8806  Vicky Kaushal, Sarah-Jane Dias, Raaghav Chanan...   \n",
       "\n",
       "                                                country          date_added  \\\n",
       "0                                         United States  September 25, 2021   \n",
       "2     United States, Ghana, Burkina Faso, United Kin...  September 24, 2021   \n",
       "5     United States, Ghana, Burkina Faso, United Kin...  September 24, 2021   \n",
       "6     United States, Ghana, Burkina Faso, United Kin...  September 24, 2021   \n",
       "7     United States, Ghana, Burkina Faso, United Kin...  September 24, 2021   \n",
       "...                                                 ...                 ...   \n",
       "8801                       United Arab Emirates, Jordan       March 9, 2016   \n",
       "8802                                      United States   November 20, 2019   \n",
       "8804                                      United States    November 1, 2019   \n",
       "8805                                      United States    January 11, 2020   \n",
       "8806                                              India       March 2, 2019   \n",
       "\n",
       "      release_year rating  duration  \\\n",
       "0             2020  PG-13    90 min   \n",
       "2             2021  TV-MA  1 Season   \n",
       "5             2021  TV-MA  1 Season   \n",
       "6             2021     PG    91 min   \n",
       "7             1993  TV-MA   125 min   \n",
       "...            ...    ...       ...   \n",
       "8801          2015  TV-MA    96 min   \n",
       "8802          2007      R   158 min   \n",
       "8804          2009      R    88 min   \n",
       "8805          2006     PG    88 min   \n",
       "8806          2015  TV-14   111 min   \n",
       "\n",
       "                                              listed_in  \\\n",
       "0                                         Documentaries   \n",
       "2     Crime TV Shows, International TV Shows, TV Act...   \n",
       "5                    TV Dramas, TV Horror, TV Mysteries   \n",
       "6                              Children & Family Movies   \n",
       "7      Dramas, Independent Movies, International Movies   \n",
       "...                                                 ...   \n",
       "8801            Dramas, International Movies, Thrillers   \n",
       "8802                     Cult Movies, Dramas, Thrillers   \n",
       "8804                            Comedies, Horror Movies   \n",
       "8805                 Children & Family Movies, Comedies   \n",
       "8806     Dramas, International Movies, Music & Musicals   \n",
       "\n",
       "                                            description  \n",
       "0     As her father nears the end of his life, filmm...  \n",
       "2     To protect his family from a powerful drug lor...  \n",
       "5     The arrival of a charismatic young priest brin...  \n",
       "6     Equestria's divided. But a bright-eyed hero be...  \n",
       "7     On a photo shoot in Ghana, an American model s...  \n",
       "...                                                 ...  \n",
       "8801  Recovering alcoholic Talal wakes up inside a s...  \n",
       "8802  A political cartoonist, a crime reporter and a...  \n",
       "8804  Looking to survive in a world taken over by zo...  \n",
       "8805  Dragged from civilian life, a former superhero...  \n",
       "8806  A scrappy but poor boy worms his way into a ty...  \n",
       "\n",
       "[6173 rows x 12 columns]"
      ]
     },
     "execution_count": 66,
     "metadata": {},
     "output_type": "execute_result"
    }
   ],
   "source": [
    "df_netflix"
   ]
  },
  {
   "cell_type": "code",
   "execution_count": 81,
   "id": "1bc39731",
   "metadata": {},
   "outputs": [],
   "source": [
    "# Make a copy if you don't want to modify the original\n",
    "df_netflix = df_netflix.copy()\n",
    "\n",
    "# Replace missing values in 'duration' with 0\n",
    "df_netflix['duration'] = df_netflix['duration'].fillna(0)\n",
    "\n",
    "# Backward fill other missing values\n",
    "df_netflix = df_netflix.bfill()\n"
   ]
  },
  {
   "cell_type": "code",
   "execution_count": null,
   "id": "914d71ba",
   "metadata": {},
   "outputs": [],
   "source": []
  },
  {
   "cell_type": "code",
   "execution_count": null,
   "id": "caae7858",
   "metadata": {},
   "outputs": [],
   "source": []
  }
 ],
 "metadata": {
  "kernelspec": {
   "display_name": "base",
   "language": "python",
   "name": "python3"
  },
  "language_info": {
   "codemirror_mode": {
    "name": "ipython",
    "version": 3
   },
   "file_extension": ".py",
   "mimetype": "text/x-python",
   "name": "python",
   "nbconvert_exporter": "python",
   "pygments_lexer": "ipython3",
   "version": "3.12.7"
  }
 },
 "nbformat": 4,
 "nbformat_minor": 5
}
