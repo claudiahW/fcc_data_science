{
 "cells": [
  {
   "cell_type": "markdown",
   "id": "3a820bc3",
   "metadata": {},
   "source": [
    "# Comparisons \n"
   ]
  },
  {
   "cell_type": "code",
   "execution_count": 58,
   "id": "c292c66c",
   "metadata": {},
   "outputs": [
    {
     "data": {
      "text/plain": [
       "True"
      ]
     },
     "execution_count": 58,
     "metadata": {},
     "output_type": "execute_result"
    }
   ],
   "source": [
    "3==3.0"
   ]
  },
  {
   "cell_type": "code",
   "execution_count": 59,
   "id": "722a9b4f",
   "metadata": {},
   "outputs": [],
   "source": [
    "x = 4\n",
    "y = 9\n",
    "z = 8.3\n",
    "r = -3\n"
   ]
  },
  {
   "cell_type": "code",
   "execution_count": 60,
   "id": "3d47e451",
   "metadata": {},
   "outputs": [
    {
     "data": {
      "text/plain": [
       "True"
      ]
     },
     "execution_count": 60,
     "metadata": {},
     "output_type": "execute_result"
    }
   ],
   "source": [
    "(x < y) and (z<y) or (r == x)"
   ]
  },
  {
   "cell_type": "markdown",
   "id": "f6c7546e",
   "metadata": {},
   "source": [
    "# some useful functions"
   ]
  },
  {
   "cell_type": "code",
   "execution_count": 61,
   "id": "3dad1b73",
   "metadata": {},
   "outputs": [
    {
     "name": "stdout",
     "output_type": "stream",
     "text": [
      "4\n"
     ]
    }
   ],
   "source": [
    "print(round(4.1154))"
   ]
  },
  {
   "cell_type": "code",
   "execution_count": 62,
   "id": "21a37b7a",
   "metadata": {},
   "outputs": [
    {
     "data": {
      "text/plain": [
       "(5, 4)"
      ]
     },
     "execution_count": 62,
     "metadata": {},
     "output_type": "execute_result"
    }
   ],
   "source": [
    "divmod(29,5)"
   ]
  },
  {
   "cell_type": "code",
   "execution_count": 63,
   "id": "079cfd0f",
   "metadata": {},
   "outputs": [
    {
     "data": {
      "text/plain": [
       "3"
      ]
     },
     "execution_count": 63,
     "metadata": {},
     "output_type": "execute_result"
    }
   ],
   "source": [
    "34//9"
   ]
  },
  {
   "cell_type": "code",
   "execution_count": 64,
   "id": "daada18d",
   "metadata": {},
   "outputs": [
    {
     "data": {
      "text/plain": [
       "99334.00090282554"
      ]
     },
     "execution_count": 64,
     "metadata": {},
     "output_type": "execute_result"
    }
   ],
   "source": [
    "pow(x,z)"
   ]
  },
  {
   "cell_type": "code",
   "execution_count": 65,
   "id": "954b201a",
   "metadata": {},
   "outputs": [],
   "source": [
    "x = input(\"Enter a number : ?\")"
   ]
  },
  {
   "cell_type": "code",
   "execution_count": 66,
   "id": "eca731cf",
   "metadata": {},
   "outputs": [],
   "source": [
    "a = input(\"Enter a real number\")"
   ]
  },
  {
   "cell_type": "markdown",
   "id": "cea75139",
   "metadata": {},
   "source": [
    "# Control Flow\n"
   ]
  },
  {
   "cell_type": "code",
   "execution_count": 67,
   "id": "44acd4e8",
   "metadata": {},
   "outputs": [
    {
     "ename": "ValueError",
     "evalue": "invalid literal for int() with base 10: ''",
     "output_type": "error",
     "traceback": [
      "\u001b[1;31m---------------------------------------------------------------------------\u001b[0m",
      "\u001b[1;31mValueError\u001b[0m                                Traceback (most recent call last)",
      "Cell \u001b[1;32mIn[67], line 3\u001b[0m\n\u001b[0;32m      1\u001b[0m a \u001b[38;5;241m=\u001b[39m \u001b[38;5;28mint\u001b[39m(\u001b[38;5;28minput\u001b[39m())\n\u001b[1;32m----> 3\u001b[0m b \u001b[38;5;241m=\u001b[39m \u001b[38;5;28mint\u001b[39m(\u001b[38;5;28minput\u001b[39m())\n",
      "\u001b[1;31mValueError\u001b[0m: invalid literal for int() with base 10: ''"
     ]
    }
   ],
   "source": [
    "a = int(input())\n",
    "\n",
    "b = int(input())"
   ]
  },
  {
   "cell_type": "code",
   "execution_count": null,
   "id": "6739e563",
   "metadata": {},
   "outputs": [
    {
     "name": "stdout",
     "output_type": "stream",
     "text": [
      "b is bigger than a\n"
     ]
    }
   ],
   "source": [
    "if b > a:\n",
    "    print(\"b is bigger than a\")"
   ]
  },
  {
   "cell_type": "code",
   "execution_count": null,
   "id": "c09d0ec3",
   "metadata": {},
   "outputs": [
    {
     "name": "stdout",
     "output_type": "stream",
     "text": [
      "b is greater than a\n"
     ]
    }
   ],
   "source": [
    "a = float(input(\"Enter first number : \"))\n",
    "b = float(input(\"Enter second Number: \"))\n",
    "if b > a:\n",
    "    print(\"b is greater than a\")\n",
    "elif a == b:\n",
    "    print(\"a and b are equal\")\n",
    "else:\n",
    "    print(\"a is greater than b\")"
   ]
  },
  {
   "cell_type": "markdown",
   "id": "409edc7e",
   "metadata": {},
   "source": [
    "# Control Flow (Short hand )"
   ]
  },
  {
   "cell_type": "code",
   "execution_count": null,
   "id": "f32792c8",
   "metadata": {},
   "outputs": [
    {
     "name": "stdout",
     "output_type": "stream",
     "text": [
      "The first number is greater than the second number\n"
     ]
    }
   ],
   "source": [
    "a = float(input(\"Enter the first number: \"))\n",
    "b = float(input(\"Enter the second number: \"))\n",
    "if b > a:\n",
    "    print(\"The second number is greater than the first number\")\n",
    "elif a == b: \n",
    "    print(\" The numbers are equal\")\n",
    "else:\n",
    "    print(\"The first number is greater than the second number\")"
   ]
  },
  {
   "cell_type": "code",
   "execution_count": null,
   "id": "38f98848",
   "metadata": {},
   "outputs": [
    {
     "name": "stdout",
     "output_type": "stream",
     "text": [
      "B\n"
     ]
    }
   ],
   "source": [
    "a = 9\n",
    "b =10\n",
    "print(\"A\") if a > b else print(\"=\") if a == b else print(\"B\")"
   ]
  },
  {
   "cell_type": "code",
   "execution_count": null,
   "id": "dd3f7181",
   "metadata": {},
   "outputs": [],
   "source": [
    "a = int(input(\"Enter Marks you scored : \"))\n",
    "if a >= 85:\n",
    "    print(\"A Grade\")\n",
    "elif (a < 85) and (a >= 80)  :\n",
    "    print(\"A- Grade\")\n",
    "elif (a < 80 ) and (a >= 75):\n",
    "    print(\"B+ Grade\")\n",
    "elif (a < 75 ) and (a >= 70):\n",
    "    print(\"Below Average\")\n",
    "    "
   ]
  },
  {
   "cell_type": "code",
   "execution_count": null,
   "id": "ce3fc4d9",
   "metadata": {},
   "outputs": [
    {
     "name": "stdout",
     "output_type": "stream",
     "text": [
      "Your Number is above ten, \n",
      "Your Number is also above twenty, \n"
     ]
    }
   ],
   "source": [
    "c = int(input(\"Enter a number : \"))\n",
    "if c > 10: \n",
    "    print(\"Your Number is above ten, \")\n",
    "    if c > 20:\n",
    "        print(\"Your Number is also above twenty, \")\n",
    "    else:\n",
    "        print(\"Your Number is below twenty, \")"
   ]
  },
  {
   "cell_type": "code",
   "execution_count": null,
   "id": "45fdafe1",
   "metadata": {},
   "outputs": [
    {
     "name": "stdout",
     "output_type": "stream",
     "text": [
      "Greater than 10\n",
      "Inside the top if\n",
      "> 20\n",
      "Inside the nested if\n"
     ]
    }
   ],
   "source": [
    "a = int(input())\n",
    "if a>10:\n",
    "    print(\"Greater than 10\")\n",
    "    print(\"Inside the top if\")\n",
    "    if a > 20:\n",
    "        print(\"> 20\")\n",
    "        print(\"Inside the nested if\")\n",
    "    else : \n",
    "        print(\"<=20\")    \n",
    "        print(\"Inside the else part of the nested if \")"
   ]
  },
  {
   "cell_type": "code",
   "execution_count": null,
   "id": "23e8156d",
   "metadata": {},
   "outputs": [
    {
     "data": {
      "text/plain": [
       "'\\n    multi line comment\\n'"
      ]
     },
     "execution_count": 44,
     "metadata": {},
     "output_type": "execute_result"
    }
   ],
   "source": [
    "# single line comment  \n",
    "\"\"\"\n",
    "    multi line comment\n",
    "\"\"\""
   ]
  },
  {
   "cell_type": "code",
   "execution_count": null,
   "id": "5ca49409",
   "metadata": {},
   "outputs": [
    {
     "name": "stdout",
     "output_type": "stream",
     "text": [
      "45\n"
     ]
    }
   ],
   "source": [
    "x = float(input(\"Enter a real number : \"))\n",
    "y = round(x)\n",
    "if y>x:\n",
    "    intPortion = y-1\n",
    "else: \n",
    "    intPortion = y    \n",
    "print(intPortion)    "
   ]
  },
  {
   "cell_type": "code",
   "execution_count": null,
   "id": "128f5d13",
   "metadata": {},
   "outputs": [
    {
     "ename": "TypeError",
     "evalue": "'<' not supported between instances of 'int' and 'str'",
     "output_type": "error",
     "traceback": [
      "\u001b[1;31m---------------------------------------------------------------------------\u001b[0m",
      "\u001b[1;31mTypeError\u001b[0m                                 Traceback (most recent call last)",
      "Cell \u001b[1;32mIn[52], line 4\u001b[0m\n\u001b[0;32m      2\u001b[0m n \u001b[38;5;241m=\u001b[39m \u001b[38;5;28minput\u001b[39m(\u001b[38;5;124m'\u001b[39m\u001b[38;5;124mMax iterations : \u001b[39m\u001b[38;5;124m'\u001b[39m)\n\u001b[0;32m      3\u001b[0m i \u001b[38;5;241m=\u001b[39m \u001b[38;5;241m1\u001b[39m \n\u001b[1;32m----> 4\u001b[0m \u001b[38;5;28;01mwhile\u001b[39;00m i \u001b[38;5;241m<\u001b[39m n:\n\u001b[0;32m      5\u001b[0m     \u001b[38;5;28mprint\u001b[39m(i)\n\u001b[0;32m      6\u001b[0m     i \u001b[38;5;241m+\u001b[39m\u001b[38;5;241m=\u001b[39m \u001b[38;5;241m1\u001b[39m\n",
      "\u001b[1;31mTypeError\u001b[0m: '<' not supported between instances of 'int' and 'str'"
     ]
    }
   ],
   "source": [
    "# loops \n",
    "n = input('Max iterations : ')\n",
    "i = 1 \n",
    "while i < n:\n",
    "    print(i)\n",
    "    i += 1\n",
    "print(\"done\")"
   ]
  },
  {
   "cell_type": "code",
   "execution_count": null,
   "id": "b9cf928c",
   "metadata": {},
   "outputs": [],
   "source": [
    "n = int(input())\n",
    "i = 1\n",
    "while i < n : \n",
    "    print(i**2)\n",
    "    i += 1"
   ]
  },
  {
   "cell_type": "code",
   "execution_count": null,
   "id": "d8b320fc",
   "metadata": {},
   "outputs": [
    {
     "name": "stdout",
     "output_type": "stream",
     "text": [
      "something\n",
      "something else\n"
     ]
    }
   ],
   "source": [
    "n = 10 \n",
    "i = 1\n",
    "while True:\n",
    "    if i%9 != 0:\n",
    "        i += 1\n",
    "        continue\n",
    "    print(\"something\")\n",
    "    print(\"something else\")\n",
    "    break"
   ]
  },
  {
   "cell_type": "code",
   "execution_count": 68,
   "id": "56f0deb7",
   "metadata": {},
   "outputs": [
    {
     "name": "stdout",
     "output_type": "stream",
     "text": [
      "1\n",
      "3\n",
      "5\n",
      "7\n",
      "9\n",
      "[0, 4, 16, 36, 64]\n"
     ]
    }
   ],
   "source": [
    "l = []\n",
    "for i in range(0,10,2):\n",
    "    print(i+1)\n",
    "    l.append(i**2)\n",
    "print(l)    "
   ]
  },
  {
   "cell_type": "code",
   "execution_count": 70,
   "id": "7dcfc853",
   "metadata": {},
   "outputs": [
    {
     "name": "stdout",
     "output_type": "stream",
     "text": [
      "{'apple', 4.9, 'cheery'}\n"
     ]
    }
   ],
   "source": [
    "S = {\"apple\", 4.9, \"cheery\"}\n",
    "\n",
    "print(S)"
   ]
  },
  {
   "cell_type": "code",
   "execution_count": 80,
   "id": "732d88c8",
   "metadata": {},
   "outputs": [
    {
     "name": "stdout",
     "output_type": "stream",
     "text": [
      "[-5, 1, 2, 3, 4, 8, 9]\n"
     ]
    }
   ],
   "source": [
    "L = [1,2,4,-5,9,8,3]\n",
    "for j in range(len(L)):\n",
    "    m = L[j]\n",
    "    idx = j\n",
    "    c = j\n",
    "    for i in range(j, len(L)):\n",
    "     if L[i] < m:\n",
    "        m = L[i]\n",
    "        idx = c \n",
    "     c+=1\n",
    "    tmp = L[j]\n",
    "    L[j] = m\n",
    "    L[idx] = tmp    \n",
    "        \n",
    "print(L)"
   ]
  },
  {
   "cell_type": "code",
   "execution_count": 83,
   "id": "eb9ae47e",
   "metadata": {},
   "outputs": [
    {
     "name": "stdout",
     "output_type": "stream",
     "text": [
      " I am done running\n",
      "Send me another task please\n"
     ]
    }
   ],
   "source": [
    "def printSuccess():\n",
    "    print(\" I am done running\")\n",
    "    print(\"Send me another task please\")\n",
    "    \n",
    "printSuccess()    \n",
    "    "
   ]
  },
  {
   "cell_type": "code",
   "execution_count": 84,
   "id": "bb71db45",
   "metadata": {},
   "outputs": [
    {
     "data": {
      "text/plain": [
       "14"
      ]
     },
     "execution_count": 84,
     "metadata": {},
     "output_type": "execute_result"
    }
   ],
   "source": [
    "7 + 7\n"
   ]
  },
  {
   "cell_type": "code",
   "execution_count": 85,
   "id": "bd381f7b",
   "metadata": {},
   "outputs": [],
   "source": [
    "def printSuccess2():\n",
    "    \"\"\"  \n",
    "    this is a comment hun\n",
    "    \"\"\"\n",
    "    \n",
    "    print(\"hellow\")"
   ]
  },
  {
   "cell_type": "code",
   "execution_count": 90,
   "id": "700bf7cf",
   "metadata": {},
   "outputs": [],
   "source": [
    "def printMessage(msg):\n",
    "    \"\"\" \n",
    "    This function prints out the message supplied by the user or prints out that message is not from the specified string\n",
    "    \n",
    "    \"\"\"\n",
    "    if isinstance(msg, str):\n",
    "        print(msg)\n",
    "    else:\n",
    "        print(\"Message is not a string\")\n",
    "        print(\"Here is what you have supplied : \", type(msg))"
   ]
  },
  {
   "cell_type": "code",
   "execution_count": null,
   "id": "ca9cf011",
   "metadata": {},
   "outputs": [
    {
     "name": "stdout",
     "output_type": "stream",
     "text": [
      "Message is not a string\n",
      "Here is what you have supplied\n"
     ]
    }
   ],
   "source": []
  },
  {
   "cell_type": "code",
   "execution_count": 92,
   "id": "8a288034",
   "metadata": {},
   "outputs": [
    {
     "name": "stdout",
     "output_type": "stream",
     "text": [
      "Message is not a string\n",
      "Here is what you have supplied :  <class 'int'>\n"
     ]
    }
   ],
   "source": [
    "printMessage(23)"
   ]
  },
  {
   "cell_type": "code",
   "execution_count": 94,
   "id": "7b3ca0b1",
   "metadata": {},
   "outputs": [],
   "source": [
    "def checkArgs(a,b,c):\n",
    "    if isinstance(a, (int, float)) and isinstance(b, (int, float)) and isinstance(c, (int, float)):\n",
    "        print((a+b+c)**2)\n",
    "    else:\n",
    "        print(\"Error: All arguments must be numbers\")"
   ]
  },
  {
   "cell_type": "code",
   "execution_count": 95,
   "id": "a17aa5c4",
   "metadata": {},
   "outputs": [
    {
     "name": "stdout",
     "output_type": "stream",
     "text": [
      "144\n"
     ]
    }
   ],
   "source": [
    "checkArgs(3,4,5)"
   ]
  },
  {
   "cell_type": "code",
   "execution_count": 101,
   "id": "d3fcd9e6",
   "metadata": {},
   "outputs": [
    {
     "name": "stdout",
     "output_type": "stream",
     "text": [
      "A B C\n"
     ]
    }
   ],
   "source": [
    "def f(c2, c1, c3):\n",
    "    print(c1,c2,c3)\n",
    "    \n",
    "f(c1 = \"A\", c2 = \"B\", c3 = \"C\")  # Output: A B C"
   ]
  },
  {
   "cell_type": "code",
   "execution_count": 106,
   "id": "65848ebd",
   "metadata": {},
   "outputs": [
    {
     "data": {
      "text/plain": [
       "6"
      ]
     },
     "execution_count": 106,
     "metadata": {},
     "output_type": "execute_result"
    }
   ],
   "source": [
    "def add(x,y):\n",
    "    return x+y\n",
    "\n",
    "add(2,4)"
   ]
  },
  {
   "cell_type": "code",
   "execution_count": 107,
   "id": "d118062f",
   "metadata": {},
   "outputs": [],
   "source": [
    "def myadd(a,b):\n",
    "    sumValue = a + b"
   ]
  },
  {
   "cell_type": "code",
   "execution_count": 109,
   "id": "14d416d7",
   "metadata": {},
   "outputs": [],
   "source": [
    "def g ():\n",
    "    variableOutsideTheFunction = 5"
   ]
  },
  {
   "cell_type": "code",
   "execution_count": 110,
   "id": "0e649be3",
   "metadata": {},
   "outputs": [
    {
     "name": "stdout",
     "output_type": "stream",
     "text": [
      "None\n"
     ]
    }
   ],
   "source": [
    "print(g())"
   ]
  },
  {
   "cell_type": "code",
   "execution_count": 112,
   "id": "ce4b6a86",
   "metadata": {},
   "outputs": [],
   "source": [
    "def h():\n",
    "    print(\"A\")\n",
    "    a = 3\n",
    "    b = 5\n",
    "    c = a+b \n",
    "    print(\"something\")\n",
    "    return\n",
    "    print(\"B\")\n",
    "    print(\"C\")"
   ]
  },
  {
   "cell_type": "code",
   "execution_count": 114,
   "id": "a8a77712",
   "metadata": {},
   "outputs": [],
   "source": [
    "def r():\n",
    "    a = 5\n",
    "    b = 7\n",
    "    d = \"something else \"\n",
    "    return a,b,d"
   ]
  },
  {
   "cell_type": "code",
   "execution_count": 117,
   "id": "fe96f104",
   "metadata": {},
   "outputs": [
    {
     "name": "stdout",
     "output_type": "stream",
     "text": [
      "5 7 something else \n"
     ]
    }
   ],
   "source": [
    "x,y,z = r()\n",
    "print(x,y,z)"
   ]
  },
  {
   "cell_type": "code",
   "execution_count": null,
   "id": "2a115768",
   "metadata": {},
   "outputs": [],
   "source": []
  }
 ],
 "metadata": {
  "kernelspec": {
   "display_name": "base",
   "language": "python",
   "name": "python3"
  },
  "language_info": {
   "codemirror_mode": {
    "name": "ipython",
    "version": 3
   },
   "file_extension": ".py",
   "mimetype": "text/x-python",
   "name": "python",
   "nbconvert_exporter": "python",
   "pygments_lexer": "ipython3",
   "version": "3.12.7"
  }
 },
 "nbformat": 4,
 "nbformat_minor": 5
}
