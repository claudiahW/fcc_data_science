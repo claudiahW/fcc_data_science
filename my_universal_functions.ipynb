{
 "cells": [
  {
   "cell_type": "code",
   "execution_count": 16,
   "id": "e3d6894f",
   "metadata": {},
   "outputs": [],
   "source": [
    "def checkIfNotNumeric(*args):\n",
    "    retValue = True\n",
    "    for arg in args:\n",
    "        if not(isinstance(arg, (int, float))):\n",
    "            return False\n",
    "    "
   ]
  },
  {
   "cell_type": "code",
   "execution_count": 17,
   "id": "da785cb8",
   "metadata": {},
   "outputs": [],
   "source": [
    "# example to find minimum value\n",
    "\n",
    "def findMin(L):\n",
    "    m = L[0]\n",
    "    idx = 0\n",
    "    i = 0\n",
    "    for x in L:\n",
    "        if x<m:\n",
    "            m = x\n",
    "            idx = i\n",
    "        else:\n",
    "            pass\n",
    "        i+=1  \n",
    "    return m, idx      "
   ]
  },
  {
   "cell_type": "code",
   "execution_count": 18,
   "id": "8969a188",
   "metadata": {},
   "outputs": [],
   "source": [
    "a,b = findMin([2,3,4,5,6])"
   ]
  },
  {
   "cell_type": "code",
   "execution_count": 19,
   "id": "b96de419",
   "metadata": {},
   "outputs": [
    {
     "name": "stdout",
     "output_type": "stream",
     "text": [
      "2 0\n"
     ]
    }
   ],
   "source": [
    "print(a,b)"
   ]
  },
  {
   "cell_type": "code",
   "execution_count": 22,
   "id": "b34534d5",
   "metadata": {},
   "outputs": [],
   "source": [
    "def swapValues(L, idx1, idx2):\n",
    "    tmp = L[idx1]\n",
    "    L[idx1] = L[idx2]\n",
    "    L[idx2] = tmp\n",
    "    return L\n",
    "    "
   ]
  },
  {
   "cell_type": "code",
   "execution_count": 23,
   "id": "c930dcb2",
   "metadata": {},
   "outputs": [],
   "source": [
    "L = [2,3,4,5,6]\n",
    "L2 = swapValues(L,1,3)"
   ]
  },
  {
   "cell_type": "code",
   "execution_count": null,
   "id": "587e9918",
   "metadata": {},
   "outputs": [],
   "source": []
  },
  {
   "cell_type": "code",
   "execution_count": null,
   "id": "50796d02",
   "metadata": {},
   "outputs": [],
   "source": []
  }
 ],
 "metadata": {
  "kernelspec": {
   "display_name": "base",
   "language": "python",
   "name": "python3"
  },
  "language_info": {
   "codemirror_mode": {
    "name": "ipython",
    "version": 3
   },
   "file_extension": ".py",
   "mimetype": "text/x-python",
   "name": "python",
   "nbconvert_exporter": "python",
   "pygments_lexer": "ipython3",
   "version": "3.12.7"
  }
 },
 "nbformat": 4,
 "nbformat_minor": 5
}
