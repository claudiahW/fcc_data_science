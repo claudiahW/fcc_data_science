{
 "cells": [
  {
   "cell_type": "code",
   "execution_count": 47,
   "id": "6aeb4796",
   "metadata": {},
   "outputs": [],
   "source": [
    "import numpy as np, pandas as pd, scipy as sp, random"
   ]
  },
  {
   "cell_type": "code",
   "execution_count": 3,
   "id": "c5819397",
   "metadata": {},
   "outputs": [],
   "source": [
    "data = [[1,4],[2,5],[3,6],[10,20]]"
   ]
  },
  {
   "cell_type": "code",
   "execution_count": 4,
   "id": "75a382cf",
   "metadata": {},
   "outputs": [
    {
     "data": {
      "application/vnd.microsoft.datawrangler.viewer.v0+json": {
       "columns": [
        {
         "name": "index",
         "rawType": "int64",
         "type": "integer"
        },
        {
         "name": "State",
         "rawType": "object",
         "type": "string"
        },
        {
         "name": "Population",
         "rawType": "int64",
         "type": "integer"
        }
       ],
       "ref": "e81e54bf-2d0e-43a5-813e-a461ea4ab265",
       "rows": [
        [
         "0",
         "California",
         "38332500"
        ],
        [
         "1",
         "Alabama",
         "4888722"
        ],
        [
         "2",
         "Florida",
         "21477737"
        ],
        [
         "3",
         "New York",
         "19651127"
        ],
        [
         "4",
         "Texas",
         "29000000"
        ]
       ],
       "shape": {
        "columns": 2,
        "rows": 5
       }
      },
      "text/html": [
       "<div>\n",
       "<style scoped>\n",
       "    .dataframe tbody tr th:only-of-type {\n",
       "        vertical-align: middle;\n",
       "    }\n",
       "\n",
       "    .dataframe tbody tr th {\n",
       "        vertical-align: top;\n",
       "    }\n",
       "\n",
       "    .dataframe thead th {\n",
       "        text-align: right;\n",
       "    }\n",
       "</style>\n",
       "<table border=\"1\" class=\"dataframe\">\n",
       "  <thead>\n",
       "    <tr style=\"text-align: right;\">\n",
       "      <th></th>\n",
       "      <th>State</th>\n",
       "      <th>Population</th>\n",
       "    </tr>\n",
       "  </thead>\n",
       "  <tbody>\n",
       "    <tr>\n",
       "      <th>0</th>\n",
       "      <td>California</td>\n",
       "      <td>38332500</td>\n",
       "    </tr>\n",
       "    <tr>\n",
       "      <th>1</th>\n",
       "      <td>Alabama</td>\n",
       "      <td>4888722</td>\n",
       "    </tr>\n",
       "    <tr>\n",
       "      <th>2</th>\n",
       "      <td>Florida</td>\n",
       "      <td>21477737</td>\n",
       "    </tr>\n",
       "    <tr>\n",
       "      <th>3</th>\n",
       "      <td>New York</td>\n",
       "      <td>19651127</td>\n",
       "    </tr>\n",
       "    <tr>\n",
       "      <th>4</th>\n",
       "      <td>Texas</td>\n",
       "      <td>29000000</td>\n",
       "    </tr>\n",
       "  </tbody>\n",
       "</table>\n",
       "</div>"
      ],
      "text/plain": [
       "        State  Population\n",
       "0  California    38332500\n",
       "1     Alabama     4888722\n",
       "2     Florida    21477737\n",
       "3    New York    19651127\n",
       "4       Texas    29000000"
      ]
     },
     "execution_count": 4,
     "metadata": {},
     "output_type": "execute_result"
    }
   ],
   "source": [
    "# creating a dataframe from a dictionary \n",
    "states = ['California','Alabama','Florida','New York','Texas']\n",
    "population = [38332500, 4888722, 21477737, 19651127, 29000000]\n",
    "\n",
    "dict_states = {'State':states,'Population':population}\n",
    "df_population = pd.DataFrame(dict_states)\n",
    "df_population"
   ]
  },
  {
   "cell_type": "code",
   "execution_count": 5,
   "id": "30688556",
   "metadata": {},
   "outputs": [],
   "source": [
    "# dataframe from a csv file \n",
    "\n",
    "df_bmi = pd.read_csv(r\"C:\\Users\\user\\Downloads\\weight-height.csv\")"
   ]
  },
  {
   "cell_type": "code",
   "execution_count": 6,
   "id": "73ba6383",
   "metadata": {},
   "outputs": [
    {
     "data": {
      "application/vnd.microsoft.datawrangler.viewer.v0+json": {
       "columns": [
        {
         "name": "index",
         "rawType": "int64",
         "type": "integer"
        },
        {
         "name": "Gender",
         "rawType": "object",
         "type": "string"
        },
        {
         "name": "Height",
         "rawType": "float64",
         "type": "float"
        },
        {
         "name": "Weight",
         "rawType": "float64",
         "type": "float"
        }
       ],
       "ref": "d5b77a4d-cf59-43ce-b287-39ae25d7b3c0",
       "rows": [
        [
         "9990",
         "Female",
         "63.17949825",
         "141.2660996"
        ],
        [
         "9991",
         "Female",
         "62.63667493",
         "102.8535632"
        ],
        [
         "9992",
         "Female",
         "62.07783169",
         "138.6916803"
        ],
        [
         "9993",
         "Female",
         "60.03043377",
         "97.68743226"
        ],
        [
         "9994",
         "Female",
         "59.09825003",
         "110.5296857"
        ],
        [
         "9995",
         "Female",
         "66.17265215",
         "136.7774542"
        ],
        [
         "9996",
         "Female",
         "67.06715465",
         "170.8679059"
        ],
        [
         "9997",
         "Female",
         "63.86799221",
         "128.4753188"
        ],
        [
         "9998",
         "Female",
         "69.03424313",
         "163.8524613"
        ],
        [
         "9999",
         "Female",
         "61.94424588",
         "113.6491027"
        ]
       ],
       "shape": {
        "columns": 3,
        "rows": 10
       }
      },
      "text/html": [
       "<div>\n",
       "<style scoped>\n",
       "    .dataframe tbody tr th:only-of-type {\n",
       "        vertical-align: middle;\n",
       "    }\n",
       "\n",
       "    .dataframe tbody tr th {\n",
       "        vertical-align: top;\n",
       "    }\n",
       "\n",
       "    .dataframe thead th {\n",
       "        text-align: right;\n",
       "    }\n",
       "</style>\n",
       "<table border=\"1\" class=\"dataframe\">\n",
       "  <thead>\n",
       "    <tr style=\"text-align: right;\">\n",
       "      <th></th>\n",
       "      <th>Gender</th>\n",
       "      <th>Height</th>\n",
       "      <th>Weight</th>\n",
       "    </tr>\n",
       "  </thead>\n",
       "  <tbody>\n",
       "    <tr>\n",
       "      <th>9990</th>\n",
       "      <td>Female</td>\n",
       "      <td>63.179498</td>\n",
       "      <td>141.266100</td>\n",
       "    </tr>\n",
       "    <tr>\n",
       "      <th>9991</th>\n",
       "      <td>Female</td>\n",
       "      <td>62.636675</td>\n",
       "      <td>102.853563</td>\n",
       "    </tr>\n",
       "    <tr>\n",
       "      <th>9992</th>\n",
       "      <td>Female</td>\n",
       "      <td>62.077832</td>\n",
       "      <td>138.691680</td>\n",
       "    </tr>\n",
       "    <tr>\n",
       "      <th>9993</th>\n",
       "      <td>Female</td>\n",
       "      <td>60.030434</td>\n",
       "      <td>97.687432</td>\n",
       "    </tr>\n",
       "    <tr>\n",
       "      <th>9994</th>\n",
       "      <td>Female</td>\n",
       "      <td>59.098250</td>\n",
       "      <td>110.529686</td>\n",
       "    </tr>\n",
       "    <tr>\n",
       "      <th>9995</th>\n",
       "      <td>Female</td>\n",
       "      <td>66.172652</td>\n",
       "      <td>136.777454</td>\n",
       "    </tr>\n",
       "    <tr>\n",
       "      <th>9996</th>\n",
       "      <td>Female</td>\n",
       "      <td>67.067155</td>\n",
       "      <td>170.867906</td>\n",
       "    </tr>\n",
       "    <tr>\n",
       "      <th>9997</th>\n",
       "      <td>Female</td>\n",
       "      <td>63.867992</td>\n",
       "      <td>128.475319</td>\n",
       "    </tr>\n",
       "    <tr>\n",
       "      <th>9998</th>\n",
       "      <td>Female</td>\n",
       "      <td>69.034243</td>\n",
       "      <td>163.852461</td>\n",
       "    </tr>\n",
       "    <tr>\n",
       "      <th>9999</th>\n",
       "      <td>Female</td>\n",
       "      <td>61.944246</td>\n",
       "      <td>113.649103</td>\n",
       "    </tr>\n",
       "  </tbody>\n",
       "</table>\n",
       "</div>"
      ],
      "text/plain": [
       "      Gender     Height      Weight\n",
       "9990  Female  63.179498  141.266100\n",
       "9991  Female  62.636675  102.853563\n",
       "9992  Female  62.077832  138.691680\n",
       "9993  Female  60.030434   97.687432\n",
       "9994  Female  59.098250  110.529686\n",
       "9995  Female  66.172652  136.777454\n",
       "9996  Female  67.067155  170.867906\n",
       "9997  Female  63.867992  128.475319\n",
       "9998  Female  69.034243  163.852461\n",
       "9999  Female  61.944246  113.649103"
      ]
     },
     "execution_count": 6,
     "metadata": {},
     "output_type": "execute_result"
    }
   ],
   "source": [
    "df_bmi.tail(10)"
   ]
  },
  {
   "cell_type": "code",
   "execution_count": 7,
   "id": "2f1d755b",
   "metadata": {},
   "outputs": [
    {
     "data": {
      "application/vnd.microsoft.datawrangler.viewer.v0+json": {
       "columns": [
        {
         "name": "index",
         "rawType": "int64",
         "type": "integer"
        },
        {
         "name": "Gender",
         "rawType": "object",
         "type": "string"
        },
        {
         "name": "Height",
         "rawType": "float64",
         "type": "float"
        },
        {
         "name": "Weight",
         "rawType": "float64",
         "type": "float"
        }
       ],
       "ref": "2c713b83-f725-4b00-9258-9f3646af6f1a",
       "rows": [
        [
         "0",
         "Male",
         "73.84701702",
         "241.8935632"
        ],
        [
         "1",
         "Male",
         "68.78190405",
         "162.3104725"
        ],
        [
         "2",
         "Male",
         "74.11010539",
         "212.7408556"
        ],
        [
         "3",
         "Male",
         "71.7309784",
         "220.0424703"
        ],
        [
         "4",
         "Male",
         "69.88179586",
         "206.3498006"
        ],
        [
         "5",
         "Male",
         "67.25301569",
         "152.2121558"
        ],
        [
         "6",
         "Male",
         "68.78508125",
         "183.9278886"
        ],
        [
         "7",
         "Male",
         "68.34851551",
         "167.9711105"
        ],
        [
         "8",
         "Male",
         "67.01894966",
         "175.9294404"
        ],
        [
         "9",
         "Male",
         "63.45649398",
         "156.3996764"
        ]
       ],
       "shape": {
        "columns": 3,
        "rows": 10
       }
      },
      "text/html": [
       "<div>\n",
       "<style scoped>\n",
       "    .dataframe tbody tr th:only-of-type {\n",
       "        vertical-align: middle;\n",
       "    }\n",
       "\n",
       "    .dataframe tbody tr th {\n",
       "        vertical-align: top;\n",
       "    }\n",
       "\n",
       "    .dataframe thead th {\n",
       "        text-align: right;\n",
       "    }\n",
       "</style>\n",
       "<table border=\"1\" class=\"dataframe\">\n",
       "  <thead>\n",
       "    <tr style=\"text-align: right;\">\n",
       "      <th></th>\n",
       "      <th>Gender</th>\n",
       "      <th>Height</th>\n",
       "      <th>Weight</th>\n",
       "    </tr>\n",
       "  </thead>\n",
       "  <tbody>\n",
       "    <tr>\n",
       "      <th>0</th>\n",
       "      <td>Male</td>\n",
       "      <td>73.847017</td>\n",
       "      <td>241.893563</td>\n",
       "    </tr>\n",
       "    <tr>\n",
       "      <th>1</th>\n",
       "      <td>Male</td>\n",
       "      <td>68.781904</td>\n",
       "      <td>162.310473</td>\n",
       "    </tr>\n",
       "    <tr>\n",
       "      <th>2</th>\n",
       "      <td>Male</td>\n",
       "      <td>74.110105</td>\n",
       "      <td>212.740856</td>\n",
       "    </tr>\n",
       "    <tr>\n",
       "      <th>3</th>\n",
       "      <td>Male</td>\n",
       "      <td>71.730978</td>\n",
       "      <td>220.042470</td>\n",
       "    </tr>\n",
       "    <tr>\n",
       "      <th>4</th>\n",
       "      <td>Male</td>\n",
       "      <td>69.881796</td>\n",
       "      <td>206.349801</td>\n",
       "    </tr>\n",
       "    <tr>\n",
       "      <th>5</th>\n",
       "      <td>Male</td>\n",
       "      <td>67.253016</td>\n",
       "      <td>152.212156</td>\n",
       "    </tr>\n",
       "    <tr>\n",
       "      <th>6</th>\n",
       "      <td>Male</td>\n",
       "      <td>68.785081</td>\n",
       "      <td>183.927889</td>\n",
       "    </tr>\n",
       "    <tr>\n",
       "      <th>7</th>\n",
       "      <td>Male</td>\n",
       "      <td>68.348516</td>\n",
       "      <td>167.971111</td>\n",
       "    </tr>\n",
       "    <tr>\n",
       "      <th>8</th>\n",
       "      <td>Male</td>\n",
       "      <td>67.018950</td>\n",
       "      <td>175.929440</td>\n",
       "    </tr>\n",
       "    <tr>\n",
       "      <th>9</th>\n",
       "      <td>Male</td>\n",
       "      <td>63.456494</td>\n",
       "      <td>156.399676</td>\n",
       "    </tr>\n",
       "  </tbody>\n",
       "</table>\n",
       "</div>"
      ],
      "text/plain": [
       "  Gender     Height      Weight\n",
       "0   Male  73.847017  241.893563\n",
       "1   Male  68.781904  162.310473\n",
       "2   Male  74.110105  212.740856\n",
       "3   Male  71.730978  220.042470\n",
       "4   Male  69.881796  206.349801\n",
       "5   Male  67.253016  152.212156\n",
       "6   Male  68.785081  183.927889\n",
       "7   Male  68.348516  167.971111\n",
       "8   Male  67.018950  175.929440\n",
       "9   Male  63.456494  156.399676"
      ]
     },
     "execution_count": 7,
     "metadata": {},
     "output_type": "execute_result"
    }
   ],
   "source": [
    "df_bmi.head(10)"
   ]
  },
  {
   "cell_type": "code",
   "execution_count": 8,
   "id": "1e92c6d6",
   "metadata": {},
   "outputs": [
    {
     "data": {
      "text/plain": [
       "(10000, 3)"
      ]
     },
     "execution_count": 8,
     "metadata": {},
     "output_type": "execute_result"
    }
   ],
   "source": [
    "df_bmi.shape"
   ]
  },
  {
   "cell_type": "code",
   "execution_count": 9,
   "id": "c37f10c5",
   "metadata": {},
   "outputs": [
    {
     "data": {
      "application/vnd.microsoft.datawrangler.viewer.v0+json": {
       "columns": [
        {
         "name": "index",
         "rawType": "int64",
         "type": "integer"
        },
        {
         "name": "Gender",
         "rawType": "object",
         "type": "string"
        },
        {
         "name": "Height",
         "rawType": "float64",
         "type": "float"
        },
        {
         "name": "Weight",
         "rawType": "float64",
         "type": "float"
        }
       ],
       "ref": "4cf21da4-cd48-4e51-880c-dbf1014412fe",
       "rows": [
        [
         "0",
         "Male",
         "73.84701702",
         "241.8935632"
        ],
        [
         "1",
         "Male",
         "68.78190405",
         "162.3104725"
        ],
        [
         "2",
         "Male",
         "74.11010539",
         "212.7408556"
        ],
        [
         "3",
         "Male",
         "71.7309784",
         "220.0424703"
        ],
        [
         "4",
         "Male",
         "69.88179586",
         "206.3498006"
        ],
        [
         "5",
         "Male",
         "67.25301569",
         "152.2121558"
        ],
        [
         "6",
         "Male",
         "68.78508125",
         "183.9278886"
        ],
        [
         "7",
         "Male",
         "68.34851551",
         "167.9711105"
        ],
        [
         "8",
         "Male",
         "67.01894966",
         "175.9294404"
        ],
        [
         "9",
         "Male",
         "63.45649398",
         "156.3996764"
        ],
        [
         "10",
         "Male",
         "71.19538228",
         "186.6049256"
        ],
        [
         "11",
         "Male",
         "71.64080512",
         "213.7411695"
        ],
        [
         "12",
         "Male",
         "64.76632913",
         "167.1274611"
        ],
        [
         "13",
         "Male",
         "69.2830701",
         "189.4461814"
        ],
        [
         "14",
         "Male",
         "69.24373223",
         "186.434168"
        ],
        [
         "15",
         "Male",
         "67.6456197",
         "172.1869301"
        ],
        [
         "16",
         "Male",
         "72.41831663",
         "196.0285063"
        ],
        [
         "17",
         "Male",
         "63.97432572",
         "172.8834702"
        ],
        [
         "18",
         "Male",
         "69.6400599",
         "185.9839576"
        ],
        [
         "19",
         "Male",
         "67.93600485",
         "182.426648"
        ],
        [
         "20",
         "Male",
         "67.91505019",
         "174.1159291"
        ],
        [
         "21",
         "Male",
         "69.43943987",
         "197.7314216"
        ],
        [
         "22",
         "Male",
         "66.14913196",
         "149.173566"
        ],
        [
         "23",
         "Male",
         "75.20597361",
         "228.7617806"
        ],
        [
         "24",
         "Male",
         "67.89319634",
         "162.0066518"
        ],
        [
         "25",
         "Male",
         "68.1440328",
         "192.3439766"
        ],
        [
         "26",
         "Male",
         "69.08963143",
         "184.4351744"
        ],
        [
         "27",
         "Male",
         "72.80084352",
         "206.8281894"
        ],
        [
         "28",
         "Male",
         "67.42124228",
         "175.2139224"
        ],
        [
         "29",
         "Male",
         "68.49641536",
         "154.3426389"
        ],
        [
         "30",
         "Male",
         "68.61811055",
         "187.5068432"
        ],
        [
         "31",
         "Male",
         "74.03380762",
         "212.9102253"
        ],
        [
         "32",
         "Male",
         "71.52821604",
         "195.0322432"
        ],
        [
         "33",
         "Male",
         "69.1801611",
         "205.1836213"
        ],
        [
         "34",
         "Male",
         "69.57720237",
         "204.1641255"
        ],
        [
         "35",
         "Male",
         "70.40092889",
         "192.9035151"
        ],
        [
         "36",
         "Male",
         "69.07617117",
         "197.4882426"
        ],
        [
         "37",
         "Male",
         "67.19352328",
         "183.8109732"
        ],
        [
         "38",
         "Male",
         "65.80731565",
         "163.8518249"
        ],
        [
         "39",
         "Male",
         "64.30418789",
         "163.1080171"
        ],
        [
         "40",
         "Male",
         "67.97433623",
         "172.1355974"
        ],
        [
         "41",
         "Male",
         "72.18942596",
         "194.0454049"
        ],
        [
         "42",
         "Male",
         "65.27034552",
         "168.6177462"
        ],
        [
         "43",
         "Male",
         "66.09017738",
         "161.1934326"
        ],
        [
         "44",
         "Male",
         "67.51032152",
         "164.6602773"
        ],
        [
         "45",
         "Male",
         "70.10478626",
         "188.9223032"
        ],
        [
         "46",
         "Male",
         "68.25183644",
         "187.0605522"
        ],
        [
         "47",
         "Male",
         "72.17270912",
         "209.0708634"
        ],
        [
         "48",
         "Male",
         "69.17985762",
         "192.0143354"
        ],
        [
         "49",
         "Male",
         "72.87036015",
         "211.3424968"
        ]
       ],
       "shape": {
        "columns": 3,
        "rows": 10000
       }
      },
      "text/html": [
       "<div>\n",
       "<style scoped>\n",
       "    .dataframe tbody tr th:only-of-type {\n",
       "        vertical-align: middle;\n",
       "    }\n",
       "\n",
       "    .dataframe tbody tr th {\n",
       "        vertical-align: top;\n",
       "    }\n",
       "\n",
       "    .dataframe thead th {\n",
       "        text-align: right;\n",
       "    }\n",
       "</style>\n",
       "<table border=\"1\" class=\"dataframe\">\n",
       "  <thead>\n",
       "    <tr style=\"text-align: right;\">\n",
       "      <th></th>\n",
       "      <th>Gender</th>\n",
       "      <th>Height</th>\n",
       "      <th>Weight</th>\n",
       "    </tr>\n",
       "  </thead>\n",
       "  <tbody>\n",
       "    <tr>\n",
       "      <th>0</th>\n",
       "      <td>Male</td>\n",
       "      <td>73.847017</td>\n",
       "      <td>241.893563</td>\n",
       "    </tr>\n",
       "    <tr>\n",
       "      <th>1</th>\n",
       "      <td>Male</td>\n",
       "      <td>68.781904</td>\n",
       "      <td>162.310473</td>\n",
       "    </tr>\n",
       "    <tr>\n",
       "      <th>2</th>\n",
       "      <td>Male</td>\n",
       "      <td>74.110105</td>\n",
       "      <td>212.740856</td>\n",
       "    </tr>\n",
       "    <tr>\n",
       "      <th>3</th>\n",
       "      <td>Male</td>\n",
       "      <td>71.730978</td>\n",
       "      <td>220.042470</td>\n",
       "    </tr>\n",
       "    <tr>\n",
       "      <th>4</th>\n",
       "      <td>Male</td>\n",
       "      <td>69.881796</td>\n",
       "      <td>206.349801</td>\n",
       "    </tr>\n",
       "    <tr>\n",
       "      <th>...</th>\n",
       "      <td>...</td>\n",
       "      <td>...</td>\n",
       "      <td>...</td>\n",
       "    </tr>\n",
       "    <tr>\n",
       "      <th>9995</th>\n",
       "      <td>Female</td>\n",
       "      <td>66.172652</td>\n",
       "      <td>136.777454</td>\n",
       "    </tr>\n",
       "    <tr>\n",
       "      <th>9996</th>\n",
       "      <td>Female</td>\n",
       "      <td>67.067155</td>\n",
       "      <td>170.867906</td>\n",
       "    </tr>\n",
       "    <tr>\n",
       "      <th>9997</th>\n",
       "      <td>Female</td>\n",
       "      <td>63.867992</td>\n",
       "      <td>128.475319</td>\n",
       "    </tr>\n",
       "    <tr>\n",
       "      <th>9998</th>\n",
       "      <td>Female</td>\n",
       "      <td>69.034243</td>\n",
       "      <td>163.852461</td>\n",
       "    </tr>\n",
       "    <tr>\n",
       "      <th>9999</th>\n",
       "      <td>Female</td>\n",
       "      <td>61.944246</td>\n",
       "      <td>113.649103</td>\n",
       "    </tr>\n",
       "  </tbody>\n",
       "</table>\n",
       "<p>10000 rows × 3 columns</p>\n",
       "</div>"
      ],
      "text/plain": [
       "      Gender     Height      Weight\n",
       "0       Male  73.847017  241.893563\n",
       "1       Male  68.781904  162.310473\n",
       "2       Male  74.110105  212.740856\n",
       "3       Male  71.730978  220.042470\n",
       "4       Male  69.881796  206.349801\n",
       "...      ...        ...         ...\n",
       "9995  Female  66.172652  136.777454\n",
       "9996  Female  67.067155  170.867906\n",
       "9997  Female  63.867992  128.475319\n",
       "9998  Female  69.034243  163.852461\n",
       "9999  Female  61.944246  113.649103\n",
       "\n",
       "[10000 rows x 3 columns]"
      ]
     },
     "execution_count": 9,
     "metadata": {},
     "output_type": "execute_result"
    }
   ],
   "source": [
    "pd.set_option('display.max_rows', 1000)\n",
    "df_bmi\n"
   ]
  },
  {
   "cell_type": "code",
   "execution_count": 10,
   "id": "30b31c62",
   "metadata": {},
   "outputs": [
    {
     "name": "stdout",
     "output_type": "stream",
     "text": [
      "Index(['Gender', 'Height', 'Weight'], dtype='object')\n"
     ]
    }
   ],
   "source": [
    "print(df_bmi.columns)"
   ]
  },
  {
   "cell_type": "code",
   "execution_count": 11,
   "id": "46beb999",
   "metadata": {},
   "outputs": [
    {
     "data": {
      "application/vnd.microsoft.datawrangler.viewer.v0+json": {
       "columns": [
        {
         "name": "index",
         "rawType": "int64",
         "type": "integer"
        },
        {
         "name": "Gender",
         "rawType": "object",
         "type": "string"
        },
        {
         "name": "Height",
         "rawType": "float64",
         "type": "float"
        },
        {
         "name": "Weight",
         "rawType": "float64",
         "type": "float"
        }
       ],
       "ref": "962ef598-7fe7-41fd-a8c9-ff1b8d27fd3c",
       "rows": [
        [
         "0",
         "Male",
         "73.84701702",
         "241.8935632"
        ],
        [
         "1",
         "Male",
         "68.78190405",
         "162.3104725"
        ],
        [
         "2",
         "Male",
         "74.11010539",
         "212.7408556"
        ],
        [
         "3",
         "Male",
         "71.7309784",
         "220.0424703"
        ],
        [
         "4",
         "Male",
         "69.88179586",
         "206.3498006"
        ],
        [
         "5",
         "Male",
         "67.25301569",
         "152.2121558"
        ],
        [
         "6",
         "Male",
         "68.78508125",
         "183.9278886"
        ],
        [
         "7",
         "Male",
         "68.34851551",
         "167.9711105"
        ],
        [
         "8",
         "Male",
         "67.01894966",
         "175.9294404"
        ],
        [
         "9",
         "Male",
         "63.45649398",
         "156.3996764"
        ],
        [
         "10",
         "Male",
         "71.19538228",
         "186.6049256"
        ],
        [
         "11",
         "Male",
         "71.64080512",
         "213.7411695"
        ],
        [
         "12",
         "Male",
         "64.76632913",
         "167.1274611"
        ],
        [
         "13",
         "Male",
         "69.2830701",
         "189.4461814"
        ],
        [
         "14",
         "Male",
         "69.24373223",
         "186.434168"
        ],
        [
         "15",
         "Male",
         "67.6456197",
         "172.1869301"
        ],
        [
         "16",
         "Male",
         "72.41831663",
         "196.0285063"
        ],
        [
         "17",
         "Male",
         "63.97432572",
         "172.8834702"
        ],
        [
         "18",
         "Male",
         "69.6400599",
         "185.9839576"
        ],
        [
         "19",
         "Male",
         "67.93600485",
         "182.426648"
        ],
        [
         "20",
         "Male",
         "67.91505019",
         "174.1159291"
        ],
        [
         "21",
         "Male",
         "69.43943987",
         "197.7314216"
        ],
        [
         "22",
         "Male",
         "66.14913196",
         "149.173566"
        ],
        [
         "23",
         "Male",
         "75.20597361",
         "228.7617806"
        ],
        [
         "24",
         "Male",
         "67.89319634",
         "162.0066518"
        ],
        [
         "25",
         "Male",
         "68.1440328",
         "192.3439766"
        ],
        [
         "26",
         "Male",
         "69.08963143",
         "184.4351744"
        ],
        [
         "27",
         "Male",
         "72.80084352",
         "206.8281894"
        ],
        [
         "28",
         "Male",
         "67.42124228",
         "175.2139224"
        ],
        [
         "29",
         "Male",
         "68.49641536",
         "154.3426389"
        ],
        [
         "30",
         "Male",
         "68.61811055",
         "187.5068432"
        ],
        [
         "31",
         "Male",
         "74.03380762",
         "212.9102253"
        ],
        [
         "32",
         "Male",
         "71.52821604",
         "195.0322432"
        ],
        [
         "33",
         "Male",
         "69.1801611",
         "205.1836213"
        ],
        [
         "34",
         "Male",
         "69.57720237",
         "204.1641255"
        ],
        [
         "35",
         "Male",
         "70.40092889",
         "192.9035151"
        ],
        [
         "36",
         "Male",
         "69.07617117",
         "197.4882426"
        ],
        [
         "37",
         "Male",
         "67.19352328",
         "183.8109732"
        ],
        [
         "38",
         "Male",
         "65.80731565",
         "163.8518249"
        ],
        [
         "39",
         "Male",
         "64.30418789",
         "163.1080171"
        ],
        [
         "40",
         "Male",
         "67.97433623",
         "172.1355974"
        ],
        [
         "41",
         "Male",
         "72.18942596",
         "194.0454049"
        ],
        [
         "42",
         "Male",
         "65.27034552",
         "168.6177462"
        ],
        [
         "43",
         "Male",
         "66.09017738",
         "161.1934326"
        ],
        [
         "44",
         "Male",
         "67.51032152",
         "164.6602773"
        ],
        [
         "45",
         "Male",
         "70.10478626",
         "188.9223032"
        ],
        [
         "46",
         "Male",
         "68.25183644",
         "187.0605522"
        ],
        [
         "47",
         "Male",
         "72.17270912",
         "209.0708634"
        ],
        [
         "48",
         "Male",
         "69.17985762",
         "192.0143354"
        ],
        [
         "49",
         "Male",
         "72.87036015",
         "211.3424968"
        ]
       ],
       "shape": {
        "columns": 3,
        "rows": 10000
       }
      },
      "text/html": [
       "<div>\n",
       "<style scoped>\n",
       "    .dataframe tbody tr th:only-of-type {\n",
       "        vertical-align: middle;\n",
       "    }\n",
       "\n",
       "    .dataframe tbody tr th {\n",
       "        vertical-align: top;\n",
       "    }\n",
       "\n",
       "    .dataframe thead th {\n",
       "        text-align: right;\n",
       "    }\n",
       "</style>\n",
       "<table border=\"1\" class=\"dataframe\">\n",
       "  <thead>\n",
       "    <tr style=\"text-align: right;\">\n",
       "      <th></th>\n",
       "      <th>Gender</th>\n",
       "      <th>Height</th>\n",
       "      <th>Weight</th>\n",
       "    </tr>\n",
       "  </thead>\n",
       "  <tbody>\n",
       "    <tr>\n",
       "      <th>0</th>\n",
       "      <td>Male</td>\n",
       "      <td>73.847017</td>\n",
       "      <td>241.893563</td>\n",
       "    </tr>\n",
       "    <tr>\n",
       "      <th>1</th>\n",
       "      <td>Male</td>\n",
       "      <td>68.781904</td>\n",
       "      <td>162.310473</td>\n",
       "    </tr>\n",
       "    <tr>\n",
       "      <th>2</th>\n",
       "      <td>Male</td>\n",
       "      <td>74.110105</td>\n",
       "      <td>212.740856</td>\n",
       "    </tr>\n",
       "    <tr>\n",
       "      <th>3</th>\n",
       "      <td>Male</td>\n",
       "      <td>71.730978</td>\n",
       "      <td>220.042470</td>\n",
       "    </tr>\n",
       "    <tr>\n",
       "      <th>4</th>\n",
       "      <td>Male</td>\n",
       "      <td>69.881796</td>\n",
       "      <td>206.349801</td>\n",
       "    </tr>\n",
       "    <tr>\n",
       "      <th>...</th>\n",
       "      <td>...</td>\n",
       "      <td>...</td>\n",
       "      <td>...</td>\n",
       "    </tr>\n",
       "    <tr>\n",
       "      <th>9995</th>\n",
       "      <td>Female</td>\n",
       "      <td>66.172652</td>\n",
       "      <td>136.777454</td>\n",
       "    </tr>\n",
       "    <tr>\n",
       "      <th>9996</th>\n",
       "      <td>Female</td>\n",
       "      <td>67.067155</td>\n",
       "      <td>170.867906</td>\n",
       "    </tr>\n",
       "    <tr>\n",
       "      <th>9997</th>\n",
       "      <td>Female</td>\n",
       "      <td>63.867992</td>\n",
       "      <td>128.475319</td>\n",
       "    </tr>\n",
       "    <tr>\n",
       "      <th>9998</th>\n",
       "      <td>Female</td>\n",
       "      <td>69.034243</td>\n",
       "      <td>163.852461</td>\n",
       "    </tr>\n",
       "    <tr>\n",
       "      <th>9999</th>\n",
       "      <td>Female</td>\n",
       "      <td>61.944246</td>\n",
       "      <td>113.649103</td>\n",
       "    </tr>\n",
       "  </tbody>\n",
       "</table>\n",
       "<p>10000 rows × 3 columns</p>\n",
       "</div>"
      ],
      "text/plain": [
       "      Gender     Height      Weight\n",
       "0       Male  73.847017  241.893563\n",
       "1       Male  68.781904  162.310473\n",
       "2       Male  74.110105  212.740856\n",
       "3       Male  71.730978  220.042470\n",
       "4       Male  69.881796  206.349801\n",
       "...      ...        ...         ...\n",
       "9995  Female  66.172652  136.777454\n",
       "9996  Female  67.067155  170.867906\n",
       "9997  Female  63.867992  128.475319\n",
       "9998  Female  69.034243  163.852461\n",
       "9999  Female  61.944246  113.649103\n",
       "\n",
       "[10000 rows x 3 columns]"
      ]
     },
     "execution_count": 11,
     "metadata": {},
     "output_type": "execute_result"
    }
   ],
   "source": [
    "df_bmi"
   ]
  },
  {
   "cell_type": "code",
   "execution_count": 12,
   "id": "4132b85f",
   "metadata": {},
   "outputs": [
    {
     "data": {
      "text/plain": [
       "(10000, 3)"
      ]
     },
     "execution_count": 12,
     "metadata": {},
     "output_type": "execute_result"
    }
   ],
   "source": [
    "df_bmi.shape"
   ]
  },
  {
   "cell_type": "code",
   "execution_count": 13,
   "id": "eafb5c72",
   "metadata": {},
   "outputs": [
    {
     "data": {
      "text/plain": [
       "RangeIndex(start=0, stop=10000, step=1)"
      ]
     },
     "execution_count": 13,
     "metadata": {},
     "output_type": "execute_result"
    }
   ],
   "source": [
    "df_bmi.index"
   ]
  },
  {
   "cell_type": "code",
   "execution_count": 14,
   "id": "fd46f6da",
   "metadata": {},
   "outputs": [
    {
     "data": {
      "text/plain": [
       "Index(['Gender', 'Height', 'Weight'], dtype='object')"
      ]
     },
     "execution_count": 14,
     "metadata": {},
     "output_type": "execute_result"
    }
   ],
   "source": [
    "df_bmi.columns"
   ]
  },
  {
   "cell_type": "code",
   "execution_count": 15,
   "id": "e265fa19",
   "metadata": {},
   "outputs": [
    {
     "data": {
      "application/vnd.microsoft.datawrangler.viewer.v0+json": {
       "columns": [
        {
         "name": "index",
         "rawType": "object",
         "type": "string"
        },
        {
         "name": "0",
         "rawType": "object",
         "type": "unknown"
        }
       ],
       "ref": "b2b5d974-d3a3-4721-94d6-71f6fb1b294f",
       "rows": [
        [
         "Gender",
         "object"
        ],
        [
         "Height",
         "float64"
        ],
        [
         "Weight",
         "float64"
        ]
       ],
       "shape": {
        "columns": 1,
        "rows": 3
       }
      },
      "text/plain": [
       "Gender     object\n",
       "Height    float64\n",
       "Weight    float64\n",
       "dtype: object"
      ]
     },
     "execution_count": 15,
     "metadata": {},
     "output_type": "execute_result"
    }
   ],
   "source": [
    "df_bmi.dtypes"
   ]
  },
  {
   "cell_type": "markdown",
   "id": "798a8f9e",
   "metadata": {},
   "source": [
    "#Methods "
   ]
  },
  {
   "cell_type": "code",
   "execution_count": 16,
   "id": "2a7de2bc",
   "metadata": {},
   "outputs": [
    {
     "name": "stdout",
     "output_type": "stream",
     "text": [
      "<class 'pandas.core.frame.DataFrame'>\n",
      "RangeIndex: 10000 entries, 0 to 9999\n",
      "Data columns (total 3 columns):\n",
      " #   Column  Non-Null Count  Dtype  \n",
      "---  ------  --------------  -----  \n",
      " 0   Gender  10000 non-null  object \n",
      " 1   Height  10000 non-null  float64\n",
      " 2   Weight  10000 non-null  float64\n",
      "dtypes: float64(2), object(1)\n",
      "memory usage: 234.5+ KB\n"
     ]
    }
   ],
   "source": [
    "df_bmi.info()"
   ]
  },
  {
   "cell_type": "code",
   "execution_count": 17,
   "id": "da80fa30",
   "metadata": {},
   "outputs": [
    {
     "data": {
      "application/vnd.microsoft.datawrangler.viewer.v0+json": {
       "columns": [
        {
         "name": "index",
         "rawType": "object",
         "type": "string"
        },
        {
         "name": "Height",
         "rawType": "float64",
         "type": "float"
        },
        {
         "name": "Weight",
         "rawType": "float64",
         "type": "float"
        }
       ],
       "ref": "7743bc76-4e44-4440-a436-6482fc276455",
       "rows": [
        [
         "count",
         "10000.0",
         "10000.0"
        ],
        [
         "mean",
         "66.367559754866",
         "161.44035683343"
        ],
        [
         "std",
         "3.847528120795573",
         "32.108439007035436"
        ],
        [
         "min",
         "54.26313333",
         "64.70012671"
        ],
        [
         "25%",
         "63.505620480000005",
         "135.818051325"
        ],
        [
         "50%",
         "66.31807008",
         "161.21292770000002"
        ],
        [
         "75%",
         "69.17426172750001",
         "187.16952485"
        ],
        [
         "max",
         "78.99874235",
         "269.9896985"
        ]
       ],
       "shape": {
        "columns": 2,
        "rows": 8
       }
      },
      "text/html": [
       "<div>\n",
       "<style scoped>\n",
       "    .dataframe tbody tr th:only-of-type {\n",
       "        vertical-align: middle;\n",
       "    }\n",
       "\n",
       "    .dataframe tbody tr th {\n",
       "        vertical-align: top;\n",
       "    }\n",
       "\n",
       "    .dataframe thead th {\n",
       "        text-align: right;\n",
       "    }\n",
       "</style>\n",
       "<table border=\"1\" class=\"dataframe\">\n",
       "  <thead>\n",
       "    <tr style=\"text-align: right;\">\n",
       "      <th></th>\n",
       "      <th>Height</th>\n",
       "      <th>Weight</th>\n",
       "    </tr>\n",
       "  </thead>\n",
       "  <tbody>\n",
       "    <tr>\n",
       "      <th>count</th>\n",
       "      <td>10000.000000</td>\n",
       "      <td>10000.000000</td>\n",
       "    </tr>\n",
       "    <tr>\n",
       "      <th>mean</th>\n",
       "      <td>66.367560</td>\n",
       "      <td>161.440357</td>\n",
       "    </tr>\n",
       "    <tr>\n",
       "      <th>std</th>\n",
       "      <td>3.847528</td>\n",
       "      <td>32.108439</td>\n",
       "    </tr>\n",
       "    <tr>\n",
       "      <th>min</th>\n",
       "      <td>54.263133</td>\n",
       "      <td>64.700127</td>\n",
       "    </tr>\n",
       "    <tr>\n",
       "      <th>25%</th>\n",
       "      <td>63.505620</td>\n",
       "      <td>135.818051</td>\n",
       "    </tr>\n",
       "    <tr>\n",
       "      <th>50%</th>\n",
       "      <td>66.318070</td>\n",
       "      <td>161.212928</td>\n",
       "    </tr>\n",
       "    <tr>\n",
       "      <th>75%</th>\n",
       "      <td>69.174262</td>\n",
       "      <td>187.169525</td>\n",
       "    </tr>\n",
       "    <tr>\n",
       "      <th>max</th>\n",
       "      <td>78.998742</td>\n",
       "      <td>269.989698</td>\n",
       "    </tr>\n",
       "  </tbody>\n",
       "</table>\n",
       "</div>"
      ],
      "text/plain": [
       "             Height        Weight\n",
       "count  10000.000000  10000.000000\n",
       "mean      66.367560    161.440357\n",
       "std        3.847528     32.108439\n",
       "min       54.263133     64.700127\n",
       "25%       63.505620    135.818051\n",
       "50%       66.318070    161.212928\n",
       "75%       69.174262    187.169525\n",
       "max       78.998742    269.989698"
      ]
     },
     "execution_count": 17,
     "metadata": {},
     "output_type": "execute_result"
    }
   ],
   "source": [
    "df_bmi.describe()"
   ]
  },
  {
   "cell_type": "code",
   "execution_count": 18,
   "id": "30d5d5b3",
   "metadata": {},
   "outputs": [
    {
     "data": {
      "text/plain": [
       "10000"
      ]
     },
     "execution_count": 18,
     "metadata": {},
     "output_type": "execute_result"
    }
   ],
   "source": [
    "len(df_bmi)"
   ]
  },
  {
   "cell_type": "code",
   "execution_count": 19,
   "id": "04f0c221",
   "metadata": {},
   "outputs": [
    {
     "data": {
      "text/plain": [
       "9999"
      ]
     },
     "execution_count": 19,
     "metadata": {},
     "output_type": "execute_result"
    }
   ],
   "source": [
    "max(df_bmi.index)"
   ]
  },
  {
   "cell_type": "code",
   "execution_count": 20,
   "id": "8e9dca6a",
   "metadata": {},
   "outputs": [
    {
     "data": {
      "text/plain": [
       "0"
      ]
     },
     "execution_count": 20,
     "metadata": {},
     "output_type": "execute_result"
    }
   ],
   "source": [
    "min(df_bmi.index)"
   ]
  },
  {
   "cell_type": "code",
   "execution_count": 21,
   "metadata": {},
   "outputs": [
    {
     "name": "stdout",
     "output_type": "stream",
     "text": [
      "<class 'pandas.core.frame.DataFrame'>\n"
     ]
    }
   ],
   "source": [
    "print(type(df_bmi))"
   ]
  },
  {
   "cell_type": "code",
   "execution_count": 22,
   "id": "af49815f",
   "metadata": {},
   "outputs": [
    {
     "data": {
      "application/vnd.microsoft.datawrangler.viewer.v0+json": {
       "columns": [
        {
         "name": "index",
         "rawType": "int64",
         "type": "integer"
        },
        {
         "name": "Gender",
         "rawType": "object",
         "type": "string"
        },
        {
         "name": "Height",
         "rawType": "float64",
         "type": "float"
        },
        {
         "name": "Weight",
         "rawType": "float64",
         "type": "float"
        }
       ],
       "ref": "49f24b55-9608-4af7-adea-d1eea4fc835a",
       "rows": [
        [
         "0",
         "Male",
         "73.85",
         "241.89"
        ],
        [
         "1",
         "Male",
         "68.78",
         "162.31"
        ],
        [
         "2",
         "Male",
         "74.11",
         "212.74"
        ],
        [
         "3",
         "Male",
         "71.73",
         "220.04"
        ],
        [
         "4",
         "Male",
         "69.88",
         "206.35"
        ],
        [
         "5",
         "Male",
         "67.25",
         "152.21"
        ],
        [
         "6",
         "Male",
         "68.79",
         "183.93"
        ],
        [
         "7",
         "Male",
         "68.35",
         "167.97"
        ],
        [
         "8",
         "Male",
         "67.02",
         "175.93"
        ],
        [
         "9",
         "Male",
         "63.46",
         "156.4"
        ],
        [
         "10",
         "Male",
         "71.2",
         "186.6"
        ],
        [
         "11",
         "Male",
         "71.64",
         "213.74"
        ],
        [
         "12",
         "Male",
         "64.77",
         "167.13"
        ],
        [
         "13",
         "Male",
         "69.28",
         "189.45"
        ],
        [
         "14",
         "Male",
         "69.24",
         "186.43"
        ],
        [
         "15",
         "Male",
         "67.65",
         "172.19"
        ],
        [
         "16",
         "Male",
         "72.42",
         "196.03"
        ],
        [
         "17",
         "Male",
         "63.97",
         "172.88"
        ],
        [
         "18",
         "Male",
         "69.64",
         "185.98"
        ],
        [
         "19",
         "Male",
         "67.94",
         "182.43"
        ],
        [
         "20",
         "Male",
         "67.92",
         "174.12"
        ],
        [
         "21",
         "Male",
         "69.44",
         "197.73"
        ],
        [
         "22",
         "Male",
         "66.15",
         "149.17"
        ],
        [
         "23",
         "Male",
         "75.21",
         "228.76"
        ],
        [
         "24",
         "Male",
         "67.89",
         "162.01"
        ],
        [
         "25",
         "Male",
         "68.14",
         "192.34"
        ],
        [
         "26",
         "Male",
         "69.09",
         "184.44"
        ],
        [
         "27",
         "Male",
         "72.8",
         "206.83"
        ],
        [
         "28",
         "Male",
         "67.42",
         "175.21"
        ],
        [
         "29",
         "Male",
         "68.5",
         "154.34"
        ],
        [
         "30",
         "Male",
         "68.62",
         "187.51"
        ],
        [
         "31",
         "Male",
         "74.03",
         "212.91"
        ],
        [
         "32",
         "Male",
         "71.53",
         "195.03"
        ],
        [
         "33",
         "Male",
         "69.18",
         "205.18"
        ],
        [
         "34",
         "Male",
         "69.58",
         "204.16"
        ],
        [
         "35",
         "Male",
         "70.4",
         "192.9"
        ],
        [
         "36",
         "Male",
         "69.08",
         "197.49"
        ],
        [
         "37",
         "Male",
         "67.19",
         "183.81"
        ],
        [
         "38",
         "Male",
         "65.81",
         "163.85"
        ],
        [
         "39",
         "Male",
         "64.3",
         "163.11"
        ],
        [
         "40",
         "Male",
         "67.97",
         "172.14"
        ],
        [
         "41",
         "Male",
         "72.19",
         "194.05"
        ],
        [
         "42",
         "Male",
         "65.27",
         "168.62"
        ],
        [
         "43",
         "Male",
         "66.09",
         "161.19"
        ],
        [
         "44",
         "Male",
         "67.51",
         "164.66"
        ],
        [
         "45",
         "Male",
         "70.1",
         "188.92"
        ],
        [
         "46",
         "Male",
         "68.25",
         "187.06"
        ],
        [
         "47",
         "Male",
         "72.17",
         "209.07"
        ],
        [
         "48",
         "Male",
         "69.18",
         "192.01"
        ],
        [
         "49",
         "Male",
         "72.87",
         "211.34"
        ]
       ],
       "shape": {
        "columns": 3,
        "rows": 10000
       }
      },
      "text/html": [
       "<div>\n",
       "<style scoped>\n",
       "    .dataframe tbody tr th:only-of-type {\n",
       "        vertical-align: middle;\n",
       "    }\n",
       "\n",
       "    .dataframe tbody tr th {\n",
       "        vertical-align: top;\n",
       "    }\n",
       "\n",
       "    .dataframe thead th {\n",
       "        text-align: right;\n",
       "    }\n",
       "</style>\n",
       "<table border=\"1\" class=\"dataframe\">\n",
       "  <thead>\n",
       "    <tr style=\"text-align: right;\">\n",
       "      <th></th>\n",
       "      <th>Gender</th>\n",
       "      <th>Height</th>\n",
       "      <th>Weight</th>\n",
       "    </tr>\n",
       "  </thead>\n",
       "  <tbody>\n",
       "    <tr>\n",
       "      <th>0</th>\n",
       "      <td>Male</td>\n",
       "      <td>73.85</td>\n",
       "      <td>241.89</td>\n",
       "    </tr>\n",
       "    <tr>\n",
       "      <th>1</th>\n",
       "      <td>Male</td>\n",
       "      <td>68.78</td>\n",
       "      <td>162.31</td>\n",
       "    </tr>\n",
       "    <tr>\n",
       "      <th>2</th>\n",
       "      <td>Male</td>\n",
       "      <td>74.11</td>\n",
       "      <td>212.74</td>\n",
       "    </tr>\n",
       "    <tr>\n",
       "      <th>3</th>\n",
       "      <td>Male</td>\n",
       "      <td>71.73</td>\n",
       "      <td>220.04</td>\n",
       "    </tr>\n",
       "    <tr>\n",
       "      <th>4</th>\n",
       "      <td>Male</td>\n",
       "      <td>69.88</td>\n",
       "      <td>206.35</td>\n",
       "    </tr>\n",
       "    <tr>\n",
       "      <th>...</th>\n",
       "      <td>...</td>\n",
       "      <td>...</td>\n",
       "      <td>...</td>\n",
       "    </tr>\n",
       "    <tr>\n",
       "      <th>9995</th>\n",
       "      <td>Female</td>\n",
       "      <td>66.17</td>\n",
       "      <td>136.78</td>\n",
       "    </tr>\n",
       "    <tr>\n",
       "      <th>9996</th>\n",
       "      <td>Female</td>\n",
       "      <td>67.07</td>\n",
       "      <td>170.87</td>\n",
       "    </tr>\n",
       "    <tr>\n",
       "      <th>9997</th>\n",
       "      <td>Female</td>\n",
       "      <td>63.87</td>\n",
       "      <td>128.48</td>\n",
       "    </tr>\n",
       "    <tr>\n",
       "      <th>9998</th>\n",
       "      <td>Female</td>\n",
       "      <td>69.03</td>\n",
       "      <td>163.85</td>\n",
       "    </tr>\n",
       "    <tr>\n",
       "      <th>9999</th>\n",
       "      <td>Female</td>\n",
       "      <td>61.94</td>\n",
       "      <td>113.65</td>\n",
       "    </tr>\n",
       "  </tbody>\n",
       "</table>\n",
       "<p>10000 rows × 3 columns</p>\n",
       "</div>"
      ],
      "text/plain": [
       "      Gender  Height  Weight\n",
       "0       Male   73.85  241.89\n",
       "1       Male   68.78  162.31\n",
       "2       Male   74.11  212.74\n",
       "3       Male   71.73  220.04\n",
       "4       Male   69.88  206.35\n",
       "...      ...     ...     ...\n",
       "9995  Female   66.17  136.78\n",
       "9996  Female   67.07  170.87\n",
       "9997  Female   63.87  128.48\n",
       "9998  Female   69.03  163.85\n",
       "9999  Female   61.94  113.65\n",
       "\n",
       "[10000 rows x 3 columns]"
      ]
     },
     "execution_count": 22,
     "metadata": {},
     "output_type": "execute_result"
    }
   ],
   "source": [
    "round(df_bmi, 2)"
   ]
  },
  {
   "cell_type": "code",
   "execution_count": 23,
   "id": "8a5b51c2",
   "metadata": {},
   "outputs": [
    {
     "data": {
      "text/plain": [
       "Index(['Gender', 'Height', 'Weight'], dtype='object')"
      ]
     },
     "execution_count": 23,
     "metadata": {},
     "output_type": "execute_result"
    }
   ],
   "source": [
    "df_bmi.columns"
   ]
  },
  {
   "cell_type": "code",
   "execution_count": 24,
   "id": "627dc92d",
   "metadata": {},
   "outputs": [
    {
     "data": {
      "application/vnd.microsoft.datawrangler.viewer.v0+json": {
       "columns": [
        {
         "name": "index",
         "rawType": "int64",
         "type": "integer"
        },
        {
         "name": "Gender",
         "rawType": "object",
         "type": "string"
        }
       ],
       "ref": "8c411793-c419-4898-87d3-cb7ec25eee6d",
       "rows": [
        [
         "0",
         "Male"
        ],
        [
         "1",
         "Male"
        ],
        [
         "2",
         "Male"
        ],
        [
         "3",
         "Male"
        ],
        [
         "4",
         "Male"
        ],
        [
         "5",
         "Male"
        ],
        [
         "6",
         "Male"
        ],
        [
         "7",
         "Male"
        ],
        [
         "8",
         "Male"
        ],
        [
         "9",
         "Male"
        ],
        [
         "10",
         "Male"
        ],
        [
         "11",
         "Male"
        ],
        [
         "12",
         "Male"
        ],
        [
         "13",
         "Male"
        ],
        [
         "14",
         "Male"
        ],
        [
         "15",
         "Male"
        ],
        [
         "16",
         "Male"
        ],
        [
         "17",
         "Male"
        ],
        [
         "18",
         "Male"
        ],
        [
         "19",
         "Male"
        ],
        [
         "20",
         "Male"
        ],
        [
         "21",
         "Male"
        ],
        [
         "22",
         "Male"
        ],
        [
         "23",
         "Male"
        ],
        [
         "24",
         "Male"
        ],
        [
         "25",
         "Male"
        ],
        [
         "26",
         "Male"
        ],
        [
         "27",
         "Male"
        ],
        [
         "28",
         "Male"
        ],
        [
         "29",
         "Male"
        ],
        [
         "30",
         "Male"
        ],
        [
         "31",
         "Male"
        ],
        [
         "32",
         "Male"
        ],
        [
         "33",
         "Male"
        ],
        [
         "34",
         "Male"
        ],
        [
         "35",
         "Male"
        ],
        [
         "36",
         "Male"
        ],
        [
         "37",
         "Male"
        ],
        [
         "38",
         "Male"
        ],
        [
         "39",
         "Male"
        ],
        [
         "40",
         "Male"
        ],
        [
         "41",
         "Male"
        ],
        [
         "42",
         "Male"
        ],
        [
         "43",
         "Male"
        ],
        [
         "44",
         "Male"
        ],
        [
         "45",
         "Male"
        ],
        [
         "46",
         "Male"
        ],
        [
         "47",
         "Male"
        ],
        [
         "48",
         "Male"
        ],
        [
         "49",
         "Male"
        ]
       ],
       "shape": {
        "columns": 1,
        "rows": 10000
       }
      },
      "text/plain": [
       "0         Male\n",
       "1         Male\n",
       "2         Male\n",
       "3         Male\n",
       "4         Male\n",
       "         ...  \n",
       "9995    Female\n",
       "9996    Female\n",
       "9997    Female\n",
       "9998    Female\n",
       "9999    Female\n",
       "Name: Gender, Length: 10000, dtype: object"
      ]
     },
     "execution_count": 24,
     "metadata": {},
     "output_type": "execute_result"
    }
   ],
   "source": [
    "df_bmi['Gender']"
   ]
  },
  {
   "cell_type": "code",
   "execution_count": 25,
   "id": "255c8a54",
   "metadata": {},
   "outputs": [
    {
     "data": {
      "text/plain": [
       "pandas.core.series.Series"
      ]
     },
     "execution_count": 25,
     "metadata": {},
     "output_type": "execute_result"
    }
   ],
   "source": [
    "# check out the data type of a column \n",
    "type(df_bmi['Gender'])"
   ]
  },
  {
   "cell_type": "code",
   "execution_count": 26,
   "id": "2bf5b56b",
   "metadata": {},
   "outputs": [
    {
     "data": {
      "application/vnd.microsoft.datawrangler.viewer.v0+json": {
       "columns": [
        {
         "name": "index",
         "rawType": "int64",
         "type": "integer"
        },
        {
         "name": "Gender",
         "rawType": "object",
         "type": "string"
        }
       ],
       "ref": "d42f7eac-86a8-4537-8878-7f3598ec3a5e",
       "rows": [
        [
         "0",
         "Male"
        ],
        [
         "1",
         "Male"
        ],
        [
         "2",
         "Male"
        ],
        [
         "3",
         "Male"
        ],
        [
         "4",
         "Male"
        ]
       ],
       "shape": {
        "columns": 1,
        "rows": 5
       }
      },
      "text/plain": [
       "0    Male\n",
       "1    Male\n",
       "2    Male\n",
       "3    Male\n",
       "4    Male\n",
       "Name: Gender, dtype: object"
      ]
     },
     "execution_count": 26,
     "metadata": {},
     "output_type": "execute_result"
    }
   ],
   "source": [
    "df_bmi['Gender'].index\n",
    "df_bmi['Gender'].head()"
   ]
  },
  {
   "cell_type": "code",
   "execution_count": 27,
   "id": "672ab177",
   "metadata": {},
   "outputs": [
    {
     "data": {
      "application/vnd.microsoft.datawrangler.viewer.v0+json": {
       "columns": [
        {
         "name": "index",
         "rawType": "int64",
         "type": "integer"
        },
        {
         "name": "Gender",
         "rawType": "object",
         "type": "string"
        }
       ],
       "ref": "e645b274-ab73-463c-8855-810736248fc7",
       "rows": [
        [
         "0",
         "Male"
        ],
        [
         "1",
         "Male"
        ],
        [
         "2",
         "Male"
        ],
        [
         "3",
         "Male"
        ],
        [
         "4",
         "Male"
        ],
        [
         "5",
         "Male"
        ],
        [
         "6",
         "Male"
        ],
        [
         "7",
         "Male"
        ],
        [
         "8",
         "Male"
        ],
        [
         "9",
         "Male"
        ],
        [
         "10",
         "Male"
        ],
        [
         "11",
         "Male"
        ],
        [
         "12",
         "Male"
        ],
        [
         "13",
         "Male"
        ],
        [
         "14",
         "Male"
        ],
        [
         "15",
         "Male"
        ],
        [
         "16",
         "Male"
        ],
        [
         "17",
         "Male"
        ],
        [
         "18",
         "Male"
        ],
        [
         "19",
         "Male"
        ],
        [
         "20",
         "Male"
        ],
        [
         "21",
         "Male"
        ],
        [
         "22",
         "Male"
        ],
        [
         "23",
         "Male"
        ],
        [
         "24",
         "Male"
        ],
        [
         "25",
         "Male"
        ],
        [
         "26",
         "Male"
        ],
        [
         "27",
         "Male"
        ],
        [
         "28",
         "Male"
        ],
        [
         "29",
         "Male"
        ],
        [
         "30",
         "Male"
        ],
        [
         "31",
         "Male"
        ],
        [
         "32",
         "Male"
        ],
        [
         "33",
         "Male"
        ],
        [
         "34",
         "Male"
        ],
        [
         "35",
         "Male"
        ],
        [
         "36",
         "Male"
        ],
        [
         "37",
         "Male"
        ],
        [
         "38",
         "Male"
        ],
        [
         "39",
         "Male"
        ],
        [
         "40",
         "Male"
        ],
        [
         "41",
         "Male"
        ],
        [
         "42",
         "Male"
        ],
        [
         "43",
         "Male"
        ],
        [
         "44",
         "Male"
        ],
        [
         "45",
         "Male"
        ],
        [
         "46",
         "Male"
        ],
        [
         "47",
         "Male"
        ],
        [
         "48",
         "Male"
        ],
        [
         "49",
         "Male"
        ]
       ],
       "shape": {
        "columns": 1,
        "rows": 10000
       }
      },
      "text/plain": [
       "0         Male\n",
       "1         Male\n",
       "2         Male\n",
       "3         Male\n",
       "4         Male\n",
       "         ...  \n",
       "9995    Female\n",
       "9996    Female\n",
       "9997    Female\n",
       "9998    Female\n",
       "9999    Female\n",
       "Name: Gender, Length: 10000, dtype: object"
      ]
     },
     "execution_count": 27,
     "metadata": {},
     "output_type": "execute_result"
    }
   ],
   "source": [
    "#selecting one column\n",
    "df_bmi.Gender"
   ]
  },
  {
   "cell_type": "code",
   "execution_count": 28,
   "id": "e33d305f",
   "metadata": {},
   "outputs": [
    {
     "data": {
      "text/plain": [
       "Index(['Gender', 'Height', 'Weight'], dtype='object')"
      ]
     },
     "execution_count": 28,
     "metadata": {},
     "output_type": "execute_result"
    }
   ],
   "source": [
    "# checking the columns\n",
    "\n",
    "df_bmi.columns"
   ]
  },
  {
   "cell_type": "code",
   "execution_count": 29,
   "id": "32c422de",
   "metadata": {},
   "outputs": [
    {
     "data": {
      "application/vnd.microsoft.datawrangler.viewer.v0+json": {
       "columns": [
        {
         "name": "index",
         "rawType": "int64",
         "type": "integer"
        },
        {
         "name": "Gender",
         "rawType": "object",
         "type": "string"
        },
        {
         "name": "Height",
         "rawType": "float64",
         "type": "float"
        }
       ],
       "ref": "66fe6b34-087f-4912-a433-6711b336e22e",
       "rows": [
        [
         "0",
         "Male",
         "73.84701702"
        ],
        [
         "1",
         "Male",
         "68.78190405"
        ],
        [
         "2",
         "Male",
         "74.11010539"
        ],
        [
         "3",
         "Male",
         "71.7309784"
        ],
        [
         "4",
         "Male",
         "69.88179586"
        ],
        [
         "5",
         "Male",
         "67.25301569"
        ],
        [
         "6",
         "Male",
         "68.78508125"
        ],
        [
         "7",
         "Male",
         "68.34851551"
        ],
        [
         "8",
         "Male",
         "67.01894966"
        ],
        [
         "9",
         "Male",
         "63.45649398"
        ],
        [
         "10",
         "Male",
         "71.19538228"
        ],
        [
         "11",
         "Male",
         "71.64080512"
        ],
        [
         "12",
         "Male",
         "64.76632913"
        ],
        [
         "13",
         "Male",
         "69.2830701"
        ],
        [
         "14",
         "Male",
         "69.24373223"
        ],
        [
         "15",
         "Male",
         "67.6456197"
        ],
        [
         "16",
         "Male",
         "72.41831663"
        ],
        [
         "17",
         "Male",
         "63.97432572"
        ],
        [
         "18",
         "Male",
         "69.6400599"
        ],
        [
         "19",
         "Male",
         "67.93600485"
        ],
        [
         "20",
         "Male",
         "67.91505019"
        ],
        [
         "21",
         "Male",
         "69.43943987"
        ],
        [
         "22",
         "Male",
         "66.14913196"
        ],
        [
         "23",
         "Male",
         "75.20597361"
        ],
        [
         "24",
         "Male",
         "67.89319634"
        ],
        [
         "25",
         "Male",
         "68.1440328"
        ],
        [
         "26",
         "Male",
         "69.08963143"
        ],
        [
         "27",
         "Male",
         "72.80084352"
        ],
        [
         "28",
         "Male",
         "67.42124228"
        ],
        [
         "29",
         "Male",
         "68.49641536"
        ],
        [
         "30",
         "Male",
         "68.61811055"
        ],
        [
         "31",
         "Male",
         "74.03380762"
        ],
        [
         "32",
         "Male",
         "71.52821604"
        ],
        [
         "33",
         "Male",
         "69.1801611"
        ],
        [
         "34",
         "Male",
         "69.57720237"
        ],
        [
         "35",
         "Male",
         "70.40092889"
        ],
        [
         "36",
         "Male",
         "69.07617117"
        ],
        [
         "37",
         "Male",
         "67.19352328"
        ],
        [
         "38",
         "Male",
         "65.80731565"
        ],
        [
         "39",
         "Male",
         "64.30418789"
        ],
        [
         "40",
         "Male",
         "67.97433623"
        ],
        [
         "41",
         "Male",
         "72.18942596"
        ],
        [
         "42",
         "Male",
         "65.27034552"
        ],
        [
         "43",
         "Male",
         "66.09017738"
        ],
        [
         "44",
         "Male",
         "67.51032152"
        ],
        [
         "45",
         "Male",
         "70.10478626"
        ],
        [
         "46",
         "Male",
         "68.25183644"
        ],
        [
         "47",
         "Male",
         "72.17270912"
        ],
        [
         "48",
         "Male",
         "69.17985762"
        ],
        [
         "49",
         "Male",
         "72.87036015"
        ]
       ],
       "shape": {
        "columns": 2,
        "rows": 10000
       }
      },
      "text/html": [
       "<div>\n",
       "<style scoped>\n",
       "    .dataframe tbody tr th:only-of-type {\n",
       "        vertical-align: middle;\n",
       "    }\n",
       "\n",
       "    .dataframe tbody tr th {\n",
       "        vertical-align: top;\n",
       "    }\n",
       "\n",
       "    .dataframe thead th {\n",
       "        text-align: right;\n",
       "    }\n",
       "</style>\n",
       "<table border=\"1\" class=\"dataframe\">\n",
       "  <thead>\n",
       "    <tr style=\"text-align: right;\">\n",
       "      <th></th>\n",
       "      <th>Gender</th>\n",
       "      <th>Height</th>\n",
       "    </tr>\n",
       "  </thead>\n",
       "  <tbody>\n",
       "    <tr>\n",
       "      <th>0</th>\n",
       "      <td>Male</td>\n",
       "      <td>73.847017</td>\n",
       "    </tr>\n",
       "    <tr>\n",
       "      <th>1</th>\n",
       "      <td>Male</td>\n",
       "      <td>68.781904</td>\n",
       "    </tr>\n",
       "    <tr>\n",
       "      <th>2</th>\n",
       "      <td>Male</td>\n",
       "      <td>74.110105</td>\n",
       "    </tr>\n",
       "    <tr>\n",
       "      <th>3</th>\n",
       "      <td>Male</td>\n",
       "      <td>71.730978</td>\n",
       "    </tr>\n",
       "    <tr>\n",
       "      <th>4</th>\n",
       "      <td>Male</td>\n",
       "      <td>69.881796</td>\n",
       "    </tr>\n",
       "    <tr>\n",
       "      <th>...</th>\n",
       "      <td>...</td>\n",
       "      <td>...</td>\n",
       "    </tr>\n",
       "    <tr>\n",
       "      <th>9995</th>\n",
       "      <td>Female</td>\n",
       "      <td>66.172652</td>\n",
       "    </tr>\n",
       "    <tr>\n",
       "      <th>9996</th>\n",
       "      <td>Female</td>\n",
       "      <td>67.067155</td>\n",
       "    </tr>\n",
       "    <tr>\n",
       "      <th>9997</th>\n",
       "      <td>Female</td>\n",
       "      <td>63.867992</td>\n",
       "    </tr>\n",
       "    <tr>\n",
       "      <th>9998</th>\n",
       "      <td>Female</td>\n",
       "      <td>69.034243</td>\n",
       "    </tr>\n",
       "    <tr>\n",
       "      <th>9999</th>\n",
       "      <td>Female</td>\n",
       "      <td>61.944246</td>\n",
       "    </tr>\n",
       "  </tbody>\n",
       "</table>\n",
       "<p>10000 rows × 2 columns</p>\n",
       "</div>"
      ],
      "text/plain": [
       "      Gender     Height\n",
       "0       Male  73.847017\n",
       "1       Male  68.781904\n",
       "2       Male  74.110105\n",
       "3       Male  71.730978\n",
       "4       Male  69.881796\n",
       "...      ...        ...\n",
       "9995  Female  66.172652\n",
       "9996  Female  67.067155\n",
       "9997  Female  63.867992\n",
       "9998  Female  69.034243\n",
       "9999  Female  61.944246\n",
       "\n",
       "[10000 rows x 2 columns]"
      ]
     },
     "execution_count": 29,
     "metadata": {},
     "output_type": "execute_result"
    }
   ],
   "source": [
    "#select multiple columns using square brackets\n",
    "df_bmi[['Gender', 'Height']]"
   ]
  },
  {
   "cell_type": "code",
   "execution_count": 30,
   "id": "4364339f",
   "metadata": {},
   "outputs": [
    {
     "data": {
      "application/vnd.microsoft.datawrangler.viewer.v0+json": {
       "columns": [
        {
         "name": "index",
         "rawType": "int64",
         "type": "integer"
        },
        {
         "name": "Gender",
         "rawType": "object",
         "type": "string"
        },
        {
         "name": "Height",
         "rawType": "float64",
         "type": "float"
        },
        {
         "name": "Weight",
         "rawType": "float64",
         "type": "float"
        }
       ],
       "ref": "7745171c-abcb-44d2-8d3d-cb1a7a0d244c",
       "rows": [
        [
         "0",
         "Male",
         "73.84701702",
         "241.8935632"
        ],
        [
         "1",
         "Male",
         "68.78190405",
         "162.3104725"
        ],
        [
         "2",
         "Male",
         "74.11010539",
         "212.7408556"
        ],
        [
         "3",
         "Male",
         "71.7309784",
         "220.0424703"
        ],
        [
         "4",
         "Male",
         "69.88179586",
         "206.3498006"
        ]
       ],
       "shape": {
        "columns": 3,
        "rows": 5
       }
      },
      "text/html": [
       "<div>\n",
       "<style scoped>\n",
       "    .dataframe tbody tr th:only-of-type {\n",
       "        vertical-align: middle;\n",
       "    }\n",
       "\n",
       "    .dataframe tbody tr th {\n",
       "        vertical-align: top;\n",
       "    }\n",
       "\n",
       "    .dataframe thead th {\n",
       "        text-align: right;\n",
       "    }\n",
       "</style>\n",
       "<table border=\"1\" class=\"dataframe\">\n",
       "  <thead>\n",
       "    <tr style=\"text-align: right;\">\n",
       "      <th></th>\n",
       "      <th>Gender</th>\n",
       "      <th>Height</th>\n",
       "      <th>Weight</th>\n",
       "    </tr>\n",
       "  </thead>\n",
       "  <tbody>\n",
       "    <tr>\n",
       "      <th>0</th>\n",
       "      <td>Male</td>\n",
       "      <td>73.847017</td>\n",
       "      <td>241.893563</td>\n",
       "    </tr>\n",
       "    <tr>\n",
       "      <th>1</th>\n",
       "      <td>Male</td>\n",
       "      <td>68.781904</td>\n",
       "      <td>162.310473</td>\n",
       "    </tr>\n",
       "    <tr>\n",
       "      <th>2</th>\n",
       "      <td>Male</td>\n",
       "      <td>74.110105</td>\n",
       "      <td>212.740856</td>\n",
       "    </tr>\n",
       "    <tr>\n",
       "      <th>3</th>\n",
       "      <td>Male</td>\n",
       "      <td>71.730978</td>\n",
       "      <td>220.042470</td>\n",
       "    </tr>\n",
       "    <tr>\n",
       "      <th>4</th>\n",
       "      <td>Male</td>\n",
       "      <td>69.881796</td>\n",
       "      <td>206.349801</td>\n",
       "    </tr>\n",
       "  </tbody>\n",
       "</table>\n",
       "</div>"
      ],
      "text/plain": [
       "  Gender     Height      Weight\n",
       "0   Male  73.847017  241.893563\n",
       "1   Male  68.781904  162.310473\n",
       "2   Male  74.110105  212.740856\n",
       "3   Male  71.730978  220.042470\n",
       "4   Male  69.881796  206.349801"
      ]
     },
     "execution_count": 30,
     "metadata": {},
     "output_type": "execute_result"
    }
   ],
   "source": [
    "df_bmi.head()"
   ]
  },
  {
   "cell_type": "markdown",
   "id": "c6bd942a",
   "metadata": {},
   "source": [
    "# adding a new column\n"
   ]
  },
  {
   "cell_type": "code",
   "execution_count": 31,
   "id": "3faf76d9",
   "metadata": {},
   "outputs": [],
   "source": [
    "# adding a new column to the dataframe \n",
    "df_bmi['Age'] = 70 "
   ]
  },
  {
   "cell_type": "code",
   "execution_count": 32,
   "id": "adf90b3a",
   "metadata": {},
   "outputs": [
    {
     "data": {
      "application/vnd.microsoft.datawrangler.viewer.v0+json": {
       "columns": [
        {
         "name": "index",
         "rawType": "int64",
         "type": "integer"
        },
        {
         "name": "Gender",
         "rawType": "object",
         "type": "string"
        },
        {
         "name": "Height",
         "rawType": "float64",
         "type": "float"
        },
        {
         "name": "Weight",
         "rawType": "float64",
         "type": "float"
        },
        {
         "name": "Age",
         "rawType": "int64",
         "type": "integer"
        }
       ],
       "ref": "6ce9880f-9177-4593-802a-8a947d83b8cc",
       "rows": [
        [
         "0",
         "Male",
         "73.84701702",
         "241.8935632",
         "70"
        ],
        [
         "1",
         "Male",
         "68.78190405",
         "162.3104725",
         "70"
        ],
        [
         "2",
         "Male",
         "74.11010539",
         "212.7408556",
         "70"
        ],
        [
         "3",
         "Male",
         "71.7309784",
         "220.0424703",
         "70"
        ],
        [
         "4",
         "Male",
         "69.88179586",
         "206.3498006",
         "70"
        ],
        [
         "5",
         "Male",
         "67.25301569",
         "152.2121558",
         "70"
        ],
        [
         "6",
         "Male",
         "68.78508125",
         "183.9278886",
         "70"
        ],
        [
         "7",
         "Male",
         "68.34851551",
         "167.9711105",
         "70"
        ],
        [
         "8",
         "Male",
         "67.01894966",
         "175.9294404",
         "70"
        ],
        [
         "9",
         "Male",
         "63.45649398",
         "156.3996764",
         "70"
        ],
        [
         "10",
         "Male",
         "71.19538228",
         "186.6049256",
         "70"
        ],
        [
         "11",
         "Male",
         "71.64080512",
         "213.7411695",
         "70"
        ],
        [
         "12",
         "Male",
         "64.76632913",
         "167.1274611",
         "70"
        ],
        [
         "13",
         "Male",
         "69.2830701",
         "189.4461814",
         "70"
        ],
        [
         "14",
         "Male",
         "69.24373223",
         "186.434168",
         "70"
        ],
        [
         "15",
         "Male",
         "67.6456197",
         "172.1869301",
         "70"
        ],
        [
         "16",
         "Male",
         "72.41831663",
         "196.0285063",
         "70"
        ],
        [
         "17",
         "Male",
         "63.97432572",
         "172.8834702",
         "70"
        ],
        [
         "18",
         "Male",
         "69.6400599",
         "185.9839576",
         "70"
        ],
        [
         "19",
         "Male",
         "67.93600485",
         "182.426648",
         "70"
        ],
        [
         "20",
         "Male",
         "67.91505019",
         "174.1159291",
         "70"
        ],
        [
         "21",
         "Male",
         "69.43943987",
         "197.7314216",
         "70"
        ],
        [
         "22",
         "Male",
         "66.14913196",
         "149.173566",
         "70"
        ],
        [
         "23",
         "Male",
         "75.20597361",
         "228.7617806",
         "70"
        ],
        [
         "24",
         "Male",
         "67.89319634",
         "162.0066518",
         "70"
        ],
        [
         "25",
         "Male",
         "68.1440328",
         "192.3439766",
         "70"
        ],
        [
         "26",
         "Male",
         "69.08963143",
         "184.4351744",
         "70"
        ],
        [
         "27",
         "Male",
         "72.80084352",
         "206.8281894",
         "70"
        ],
        [
         "28",
         "Male",
         "67.42124228",
         "175.2139224",
         "70"
        ],
        [
         "29",
         "Male",
         "68.49641536",
         "154.3426389",
         "70"
        ],
        [
         "30",
         "Male",
         "68.61811055",
         "187.5068432",
         "70"
        ],
        [
         "31",
         "Male",
         "74.03380762",
         "212.9102253",
         "70"
        ],
        [
         "32",
         "Male",
         "71.52821604",
         "195.0322432",
         "70"
        ],
        [
         "33",
         "Male",
         "69.1801611",
         "205.1836213",
         "70"
        ],
        [
         "34",
         "Male",
         "69.57720237",
         "204.1641255",
         "70"
        ],
        [
         "35",
         "Male",
         "70.40092889",
         "192.9035151",
         "70"
        ],
        [
         "36",
         "Male",
         "69.07617117",
         "197.4882426",
         "70"
        ],
        [
         "37",
         "Male",
         "67.19352328",
         "183.8109732",
         "70"
        ],
        [
         "38",
         "Male",
         "65.80731565",
         "163.8518249",
         "70"
        ],
        [
         "39",
         "Male",
         "64.30418789",
         "163.1080171",
         "70"
        ],
        [
         "40",
         "Male",
         "67.97433623",
         "172.1355974",
         "70"
        ],
        [
         "41",
         "Male",
         "72.18942596",
         "194.0454049",
         "70"
        ],
        [
         "42",
         "Male",
         "65.27034552",
         "168.6177462",
         "70"
        ],
        [
         "43",
         "Male",
         "66.09017738",
         "161.1934326",
         "70"
        ],
        [
         "44",
         "Male",
         "67.51032152",
         "164.6602773",
         "70"
        ],
        [
         "45",
         "Male",
         "70.10478626",
         "188.9223032",
         "70"
        ],
        [
         "46",
         "Male",
         "68.25183644",
         "187.0605522",
         "70"
        ],
        [
         "47",
         "Male",
         "72.17270912",
         "209.0708634",
         "70"
        ],
        [
         "48",
         "Male",
         "69.17985762",
         "192.0143354",
         "70"
        ],
        [
         "49",
         "Male",
         "72.87036015",
         "211.3424968",
         "70"
        ]
       ],
       "shape": {
        "columns": 4,
        "rows": 10000
       }
      },
      "text/html": [
       "<div>\n",
       "<style scoped>\n",
       "    .dataframe tbody tr th:only-of-type {\n",
       "        vertical-align: middle;\n",
       "    }\n",
       "\n",
       "    .dataframe tbody tr th {\n",
       "        vertical-align: top;\n",
       "    }\n",
       "\n",
       "    .dataframe thead th {\n",
       "        text-align: right;\n",
       "    }\n",
       "</style>\n",
       "<table border=\"1\" class=\"dataframe\">\n",
       "  <thead>\n",
       "    <tr style=\"text-align: right;\">\n",
       "      <th></th>\n",
       "      <th>Gender</th>\n",
       "      <th>Height</th>\n",
       "      <th>Weight</th>\n",
       "      <th>Age</th>\n",
       "    </tr>\n",
       "  </thead>\n",
       "  <tbody>\n",
       "    <tr>\n",
       "      <th>0</th>\n",
       "      <td>Male</td>\n",
       "      <td>73.847017</td>\n",
       "      <td>241.893563</td>\n",
       "      <td>70</td>\n",
       "    </tr>\n",
       "    <tr>\n",
       "      <th>1</th>\n",
       "      <td>Male</td>\n",
       "      <td>68.781904</td>\n",
       "      <td>162.310473</td>\n",
       "      <td>70</td>\n",
       "    </tr>\n",
       "    <tr>\n",
       "      <th>2</th>\n",
       "      <td>Male</td>\n",
       "      <td>74.110105</td>\n",
       "      <td>212.740856</td>\n",
       "      <td>70</td>\n",
       "    </tr>\n",
       "    <tr>\n",
       "      <th>3</th>\n",
       "      <td>Male</td>\n",
       "      <td>71.730978</td>\n",
       "      <td>220.042470</td>\n",
       "      <td>70</td>\n",
       "    </tr>\n",
       "    <tr>\n",
       "      <th>4</th>\n",
       "      <td>Male</td>\n",
       "      <td>69.881796</td>\n",
       "      <td>206.349801</td>\n",
       "      <td>70</td>\n",
       "    </tr>\n",
       "    <tr>\n",
       "      <th>...</th>\n",
       "      <td>...</td>\n",
       "      <td>...</td>\n",
       "      <td>...</td>\n",
       "      <td>...</td>\n",
       "    </tr>\n",
       "    <tr>\n",
       "      <th>9995</th>\n",
       "      <td>Female</td>\n",
       "      <td>66.172652</td>\n",
       "      <td>136.777454</td>\n",
       "      <td>70</td>\n",
       "    </tr>\n",
       "    <tr>\n",
       "      <th>9996</th>\n",
       "      <td>Female</td>\n",
       "      <td>67.067155</td>\n",
       "      <td>170.867906</td>\n",
       "      <td>70</td>\n",
       "    </tr>\n",
       "    <tr>\n",
       "      <th>9997</th>\n",
       "      <td>Female</td>\n",
       "      <td>63.867992</td>\n",
       "      <td>128.475319</td>\n",
       "      <td>70</td>\n",
       "    </tr>\n",
       "    <tr>\n",
       "      <th>9998</th>\n",
       "      <td>Female</td>\n",
       "      <td>69.034243</td>\n",
       "      <td>163.852461</td>\n",
       "      <td>70</td>\n",
       "    </tr>\n",
       "    <tr>\n",
       "      <th>9999</th>\n",
       "      <td>Female</td>\n",
       "      <td>61.944246</td>\n",
       "      <td>113.649103</td>\n",
       "      <td>70</td>\n",
       "    </tr>\n",
       "  </tbody>\n",
       "</table>\n",
       "<p>10000 rows × 4 columns</p>\n",
       "</div>"
      ],
      "text/plain": [
       "      Gender     Height      Weight  Age\n",
       "0       Male  73.847017  241.893563   70\n",
       "1       Male  68.781904  162.310473   70\n",
       "2       Male  74.110105  212.740856   70\n",
       "3       Male  71.730978  220.042470   70\n",
       "4       Male  69.881796  206.349801   70\n",
       "...      ...        ...         ...  ...\n",
       "9995  Female  66.172652  136.777454   70\n",
       "9996  Female  67.067155  170.867906   70\n",
       "9997  Female  63.867992  128.475319   70\n",
       "9998  Female  69.034243  163.852461   70\n",
       "9999  Female  61.944246  113.649103   70\n",
       "\n",
       "[10000 rows x 4 columns]"
      ]
     },
     "execution_count": 32,
     "metadata": {},
     "output_type": "execute_result"
    }
   ],
   "source": [
    "df_bmi"
   ]
  },
  {
   "cell_type": "markdown",
   "id": "3b5d152f",
   "metadata": {},
   "source": [
    "# adding a new column with an array "
   ]
  },
  {
   "cell_type": "code",
   "execution_count": 33,
   "id": "bd45afe2",
   "metadata": {},
   "outputs": [
    {
     "data": {
      "text/plain": [
       "array([  0,   1,   2,   3,   4,   5,   6,   7,   8,   9,  10,  11,  12,\n",
       "        13,  14,  15,  16,  17,  18,  19,  20,  21,  22,  23,  24,  25,\n",
       "        26,  27,  28,  29,  30,  31,  32,  33,  34,  35,  36,  37,  38,\n",
       "        39,  40,  41,  42,  43,  44,  45,  46,  47,  48,  49,  50,  51,\n",
       "        52,  53,  54,  55,  56,  57,  58,  59,  60,  61,  62,  63,  64,\n",
       "        65,  66,  67,  68,  69,  70,  71,  72,  73,  74,  75,  76,  77,\n",
       "        78,  79,  80,  81,  82,  83,  84,  85,  86,  87,  88,  89,  90,\n",
       "        91,  92,  93,  94,  95,  96,  97,  98,  99, 100, 101, 102, 103,\n",
       "       104, 105, 106, 107, 108, 109, 110, 111, 112, 113, 114, 115, 116,\n",
       "       117, 118, 119, 120, 121, 122, 123, 124, 125, 126, 127, 128, 129,\n",
       "       130, 131, 132, 133, 134, 135, 136, 137, 138, 139, 140, 141, 142,\n",
       "       143, 144, 145, 146, 147, 148, 149, 150, 151, 152, 153, 154, 155,\n",
       "       156, 157, 158, 159, 160, 161, 162, 163, 164, 165, 166, 167, 168,\n",
       "       169, 170, 171, 172, 173, 174, 175, 176, 177, 178, 179, 180, 181,\n",
       "       182, 183, 184, 185, 186, 187, 188, 189, 190, 191, 192, 193, 194,\n",
       "       195, 196, 197, 198, 199, 200, 201, 202, 203, 204, 205, 206, 207,\n",
       "       208, 209, 210, 211, 212, 213, 214, 215, 216, 217, 218, 219, 220,\n",
       "       221, 222, 223, 224, 225, 226, 227, 228, 229, 230, 231, 232, 233,\n",
       "       234, 235, 236, 237, 238, 239, 240, 241, 242, 243, 244, 245, 246,\n",
       "       247, 248, 249, 250, 251, 252, 253, 254, 255, 256, 257, 258, 259,\n",
       "       260, 261, 262, 263, 264, 265, 266, 267, 268, 269, 270, 271, 272,\n",
       "       273, 274, 275, 276, 277, 278, 279, 280, 281, 282, 283, 284, 285,\n",
       "       286, 287, 288, 289, 290, 291, 292, 293, 294, 295, 296, 297, 298,\n",
       "       299, 300, 301, 302, 303, 304, 305, 306, 307, 308, 309, 310, 311,\n",
       "       312, 313, 314, 315, 316, 317, 318, 319, 320, 321, 322, 323, 324,\n",
       "       325, 326, 327, 328, 329, 330, 331, 332, 333, 334, 335, 336, 337,\n",
       "       338, 339, 340, 341, 342, 343, 344, 345, 346, 347, 348, 349, 350,\n",
       "       351, 352, 353, 354, 355, 356, 357, 358, 359, 360, 361, 362, 363,\n",
       "       364, 365, 366, 367, 368, 369, 370, 371, 372, 373, 374, 375, 376,\n",
       "       377, 378, 379, 380, 381, 382, 383, 384, 385, 386, 387, 388, 389,\n",
       "       390, 391, 392, 393, 394, 395, 396, 397, 398, 399, 400, 401, 402,\n",
       "       403, 404, 405, 406, 407, 408, 409, 410, 411, 412, 413, 414, 415,\n",
       "       416, 417, 418, 419, 420, 421, 422, 423, 424, 425, 426, 427, 428,\n",
       "       429, 430, 431, 432, 433, 434, 435, 436, 437, 438, 439, 440, 441,\n",
       "       442, 443, 444, 445, 446, 447, 448, 449, 450, 451, 452, 453, 454,\n",
       "       455, 456, 457, 458, 459, 460, 461, 462, 463, 464, 465, 466, 467,\n",
       "       468, 469, 470, 471, 472, 473, 474, 475, 476, 477, 478, 479, 480,\n",
       "       481, 482, 483, 484, 485, 486, 487, 488, 489, 490, 491, 492, 493,\n",
       "       494, 495, 496, 497, 498, 499, 500, 501, 502, 503, 504, 505, 506,\n",
       "       507, 508, 509, 510, 511, 512, 513, 514, 515, 516, 517, 518, 519,\n",
       "       520, 521, 522, 523, 524, 525, 526, 527, 528, 529, 530, 531, 532,\n",
       "       533, 534, 535, 536, 537, 538, 539, 540, 541, 542, 543, 544, 545,\n",
       "       546, 547, 548, 549, 550, 551, 552, 553, 554, 555, 556, 557, 558,\n",
       "       559, 560, 561, 562, 563, 564, 565, 566, 567, 568, 569, 570, 571,\n",
       "       572, 573, 574, 575, 576, 577, 578, 579, 580, 581, 582, 583, 584,\n",
       "       585, 586, 587, 588, 589, 590, 591, 592, 593, 594, 595, 596, 597,\n",
       "       598, 599, 600, 601, 602, 603, 604, 605, 606, 607, 608, 609, 610,\n",
       "       611, 612, 613, 614, 615, 616, 617, 618, 619, 620, 621, 622, 623,\n",
       "       624, 625, 626, 627, 628, 629, 630, 631, 632, 633, 634, 635, 636,\n",
       "       637, 638, 639, 640, 641, 642, 643, 644, 645, 646, 647, 648, 649,\n",
       "       650, 651, 652, 653, 654, 655, 656, 657, 658, 659, 660, 661, 662,\n",
       "       663, 664, 665, 666, 667, 668, 669, 670, 671, 672, 673, 674, 675,\n",
       "       676, 677, 678, 679, 680, 681, 682, 683, 684, 685, 686, 687, 688,\n",
       "       689, 690, 691, 692, 693, 694, 695, 696, 697, 698, 699, 700, 701,\n",
       "       702, 703, 704, 705, 706, 707, 708, 709, 710, 711, 712, 713, 714,\n",
       "       715, 716, 717, 718, 719, 720, 721, 722, 723, 724, 725, 726, 727,\n",
       "       728, 729, 730, 731, 732, 733, 734, 735, 736, 737, 738, 739, 740,\n",
       "       741, 742, 743, 744, 745, 746, 747, 748, 749, 750, 751, 752, 753,\n",
       "       754, 755, 756, 757, 758, 759, 760, 761, 762, 763, 764, 765, 766,\n",
       "       767, 768, 769, 770, 771, 772, 773, 774, 775, 776, 777, 778, 779,\n",
       "       780, 781, 782, 783, 784, 785, 786, 787, 788, 789, 790, 791, 792,\n",
       "       793, 794, 795, 796, 797, 798, 799, 800, 801, 802, 803, 804, 805,\n",
       "       806, 807, 808, 809, 810, 811, 812, 813, 814, 815, 816, 817, 818,\n",
       "       819, 820, 821, 822, 823, 824, 825, 826, 827, 828, 829, 830, 831,\n",
       "       832, 833, 834, 835, 836, 837, 838, 839, 840, 841, 842, 843, 844,\n",
       "       845, 846, 847, 848, 849, 850, 851, 852, 853, 854, 855, 856, 857,\n",
       "       858, 859, 860, 861, 862, 863, 864, 865, 866, 867, 868, 869, 870,\n",
       "       871, 872, 873, 874, 875, 876, 877, 878, 879, 880, 881, 882, 883,\n",
       "       884, 885, 886, 887, 888, 889, 890, 891, 892, 893, 894, 895, 896,\n",
       "       897, 898, 899, 900, 901, 902, 903, 904, 905, 906, 907, 908, 909,\n",
       "       910, 911, 912, 913, 914, 915, 916, 917, 918, 919, 920, 921, 922,\n",
       "       923, 924, 925, 926, 927, 928, 929, 930, 931, 932, 933, 934, 935,\n",
       "       936, 937, 938, 939, 940, 941, 942, 943, 944, 945, 946, 947, 948,\n",
       "       949, 950, 951, 952, 953, 954, 955, 956, 957, 958, 959, 960, 961,\n",
       "       962, 963, 964, 965, 966, 967, 968, 969, 970, 971, 972, 973, 974,\n",
       "       975, 976, 977, 978, 979, 980, 981, 982, 983, 984, 985, 986, 987,\n",
       "       988, 989, 990, 991, 992, 993, 994, 995, 996, 997, 998, 999])"
      ]
     },
     "execution_count": 33,
     "metadata": {},
     "output_type": "execute_result"
    }
   ],
   "source": [
    "# create an array of 1000 elements \n",
    "np.arange(0,1000)"
   ]
  },
  {
   "cell_type": "code",
   "execution_count": 34,
   "id": "35448da0",
   "metadata": {},
   "outputs": [
    {
     "data": {
      "text/plain": [
       "array([ 4.84146583, 86.09504079, 64.52347045,  5.02350403,  6.79698897,\n",
       "       75.51898055, 84.41336024, 73.28013258, 86.8826279 , 17.49842684,\n",
       "       13.40783599, 41.08453289, 80.29073709,  6.24912825, 90.582134  ,\n",
       "       29.38948668, 98.6142163 , 58.35568352, 80.51375675, 70.94993367,\n",
       "       96.60453624,  1.94273235, 64.89118698, 46.92301947, 13.1029758 ,\n",
       "       44.69590686, 16.50400207, 67.95715134, 45.07509745, 89.31133352,\n",
       "       82.01300465, 87.3588856 , 38.57972806, 79.2115294 ,  5.14137689,\n",
       "       73.02355845, 37.09920831, 17.99432928, 63.40790833,  3.74956088,\n",
       "       77.01421854, 76.09674869, 33.00445236, 48.38289818, 91.55363418,\n",
       "       77.99364597, 78.61471573,  5.71782942, 75.07058852, 83.10883127,\n",
       "       18.92956921,  3.67775455, 75.90691745, 78.49087261,  2.07852858,\n",
       "       84.98179877, 24.30690371,  1.5112981 , 22.31425783, 87.97378991,\n",
       "       25.70251342, 63.72637902,  4.28939274, 67.7908619 , 34.24540126,\n",
       "       12.43569388, 55.55284804, 54.15538416, 54.75727797, 28.59315343,\n",
       "       52.3884575 , 24.24528881, 54.57769319, 71.8032483 , 81.60764455,\n",
       "       51.44520872,  6.21489606,  8.60896564, 52.94611435, 17.91069177,\n",
       "       74.60948845, 89.28359073, 60.19442418, 15.63447717, 37.81001321,\n",
       "       88.69581474, 41.87073501, 51.34621801, 81.35370629, 64.18044315,\n",
       "        8.8359058 , 48.43028825, 96.53998718,  7.25926472, 79.31961032,\n",
       "       40.60739505, 35.66303215, 89.64974772, 97.49857053, 70.67345916])"
      ]
     },
     "execution_count": 34,
     "metadata": {},
     "output_type": "execute_result"
    }
   ],
   "source": [
    "np.random.uniform(1,100, size=100)"
   ]
  },
  {
   "cell_type": "code",
   "execution_count": 35,
   "id": "06499100",
   "metadata": {},
   "outputs": [],
   "source": [
    "# create random numbers for the  new score columns \n",
    "score1 = np.random.randint(0, 100, 1000)\n",
    "score2 = np.random.randint(0, 100, 1000)"
   ]
  },
  {
   "cell_type": "code",
   "execution_count": 36,
   "id": "4f8a0f3d",
   "metadata": {},
   "outputs": [
    {
     "data": {
      "text/plain": [
       "array([87, 80, 97, 16, 79, 97, 83, 42, 37, 21, 17, 60, 68, 72, 15, 37, 74,\n",
       "       39,  2,  8, 55, 72, 29, 56, 12, 81, 96, 59,  9, 87, 26,  7, 56,  4,\n",
       "        6, 15,  8, 68, 91, 56, 71, 44,  2,  0, 63, 26, 10, 94, 47, 59, 12,\n",
       "       79, 68, 50, 43, 90, 48, 38, 72, 45, 28, 64, 80, 35,  6, 90, 36, 35,\n",
       "       85, 11, 63, 35, 24, 54, 64, 55, 19, 50, 69, 62, 30, 30, 53,  1, 17,\n",
       "       34, 89, 44, 97, 95, 19, 32, 56, 99, 51,  5, 90, 69, 14,  9, 27,  0,\n",
       "       43, 62, 99, 53, 51, 49, 84, 41, 31, 86, 34, 63, 35,  1,  1, 73, 48,\n",
       "       76, 61, 84, 89, 93, 46,  6, 78,  9, 27, 44, 71, 61, 74,  5, 26, 60,\n",
       "       30, 41,  9, 94, 37, 93, 95, 52, 82, 91, 53, 65, 54, 73, 45,  8, 57,\n",
       "       78, 10, 88, 17, 99, 71, 57, 86, 18, 42, 78, 77, 97,  7,  0, 28,  0,\n",
       "       31, 14, 20, 31, 71, 74,  9, 71,  1, 13, 88, 39, 10, 61, 10, 60,  3,\n",
       "       74, 30, 36, 93, 21,  5, 16, 13, 61, 27, 51, 81, 16, 10, 86,  0, 97,\n",
       "       59, 20, 92, 93, 73, 71, 18, 36, 26, 25, 49, 35, 40, 37, 77, 96,  0,\n",
       "       97, 66, 84, 29, 58, 70, 71,  9, 10, 28, 63, 23, 84, 63, 41, 67,  6,\n",
       "       89, 77, 79, 64, 20, 79, 48, 89, 63, 81, 72, 86, 10, 19,  1, 52, 13,\n",
       "       41, 35, 14, 40, 26, 28, 60, 22, 74, 95, 35, 68, 77, 17, 95, 74, 99,\n",
       "       44, 15, 35, 93, 27, 10, 15, 44, 71, 31, 49, 98, 72, 56, 10, 89, 21,\n",
       "       17, 63, 15, 44, 37, 74, 70, 83, 36, 37, 58, 95,  4, 44, 76, 16, 41,\n",
       "       86, 75, 45, 85, 31, 67, 82, 78, 22,  2, 90, 93, 85, 40, 22, 87, 38,\n",
       "       76, 33, 90, 76, 17, 43, 22, 40,  2, 13, 92, 71, 53, 92, 33, 24, 45,\n",
       "       25, 14, 85, 76, 24, 90, 23, 46, 73, 73, 44, 88, 10, 82, 69, 63, 62,\n",
       "       52, 54, 20, 73, 98, 73, 34, 31, 80, 42, 56, 71, 77, 88, 74, 52, 43,\n",
       "       85,  5, 29, 83, 85, 19, 91, 72,  9, 15, 33, 27, 95, 60, 61, 53, 61,\n",
       "       18, 75, 44, 87, 38,  0,  3, 65, 30, 60, 54, 28, 33, 15, 65, 80, 48,\n",
       "       33, 74, 98, 87, 75, 44, 39, 23, 11, 39, 57, 46, 50, 40, 45, 54, 93,\n",
       "       55, 86, 44, 22, 76, 11, 93, 68, 71, 43, 95, 72, 32,  6, 48, 44, 51,\n",
       "       84,  0, 32, 14, 29, 91, 11, 72, 26, 72, 21, 69, 42, 63, 58, 25, 89,\n",
       "       31, 86, 91, 59, 42, 48, 98, 67, 89, 74, 57,  7, 94, 21, 29, 30, 84,\n",
       "       23, 26, 42, 95, 30, 26, 35,  1, 29, 29, 64, 51, 35, 41, 13, 15, 57,\n",
       "        4, 95, 70, 86, 28, 17, 94, 55, 70, 11, 34, 97, 26, 22,  3, 44, 45,\n",
       "       89, 12, 50, 95, 74, 71, 60,  3, 26, 44, 39, 29, 29, 99, 76,  4, 64,\n",
       "       55, 19, 99, 64, 19, 68, 40, 10, 20, 48, 72, 35, 55, 39, 54, 69, 12,\n",
       "       64, 91, 40, 38, 22, 24, 43, 45, 83, 58, 82, 31, 10, 19, 80, 39, 59,\n",
       "       87, 54, 22, 97, 89, 95, 33, 28, 63, 35, 41, 61, 25, 84, 93, 30, 49,\n",
       "       99, 74, 17,  8,  3, 97, 16, 57, 92, 84, 81, 12, 26, 39, 46,  6, 30,\n",
       "       25, 34, 87, 40,  2, 15, 92, 56, 68, 17, 61, 43, 39, 74, 55, 55, 17,\n",
       "       20,  6, 34, 46, 79, 54, 45, 41, 53,  3, 36, 94, 36, 13, 20, 68, 78,\n",
       "       11, 67, 33, 38, 36, 50, 63, 34, 18, 45,  6,  9, 93, 78, 37, 61, 52,\n",
       "       58, 99, 20, 31, 17, 45,  9, 65, 11, 14, 56, 59, 99, 85,  1, 98, 23,\n",
       "       58,  1, 98, 75,  6, 62, 23, 99, 17, 98, 70, 50, 35, 52, 80, 23, 42,\n",
       "        2, 24, 30, 49, 73, 73, 10, 24, 38, 98, 79, 29, 44, 87, 74,  1, 57,\n",
       "       68, 93,  2, 51, 75, 33, 31, 24, 96, 72, 22, 18, 20, 64, 83, 58, 36,\n",
       "       62, 73, 48,  2, 39, 38, 50,  6,  9, 35, 61, 89, 87, 63, 56, 18, 19,\n",
       "       60, 16, 20, 99, 91,  2, 73, 18, 39, 25, 33, 61, 42, 74, 65, 52,  8,\n",
       "       19,  8, 78, 94,  3,  1, 67, 63,  8, 57, 11, 26, 91, 93, 35, 28, 33,\n",
       "       47, 61, 95, 32, 24, 64, 59, 99, 55, 48,  1, 12, 27, 73,  9, 38, 38,\n",
       "       67, 61, 84, 86, 16, 89, 18,  9, 58, 95, 39, 14, 86, 93, 68, 58,  4,\n",
       "       95, 79, 86, 57, 51, 50, 79, 90,  7, 53, 58, 82, 64, 28, 83, 98, 11,\n",
       "       85, 76, 98, 65, 42, 70,  1, 67, 15, 87, 14, 11, 48, 72, 25, 25, 71,\n",
       "       39, 57, 99, 38, 61, 84,  1, 24, 20, 95, 12, 27, 34, 49, 61, 18, 42,\n",
       "       14, 60, 77, 69, 13, 36, 77, 51, 49,  2, 72, 44, 39, 60,  4, 62,  9,\n",
       "       96, 28, 39, 96, 39, 52,  4,  7, 31, 84, 78, 28, 30, 12, 73, 90,  8,\n",
       "       21, 32, 48,  7, 96, 92,  1, 28,  9, 41, 74, 36, 29, 18, 57, 26, 66,\n",
       "       58, 58, 36,  7, 95, 15, 25, 12, 14, 88, 14, 92,  0, 54, 70, 54, 41,\n",
       "       16, 50, 28, 71, 35, 65, 61, 27, 20, 29,  0, 84, 17, 61, 67, 44, 20,\n",
       "       66, 30, 95, 65, 27, 66, 87, 17, 78,  5, 68, 25, 65, 78, 49, 28, 79,\n",
       "        7, 99,  6,  0, 49, 80, 53, 10, 28, 56, 76, 95,  3, 21, 66,  6, 57,\n",
       "       94,  8, 93, 78, 86, 81, 34, 21, 51, 81, 13, 96, 62, 15, 88, 95, 53,\n",
       "       67, 41, 83, 73, 77, 96, 22, 49, 42, 58, 29, 74, 14,  2])"
      ]
     },
     "execution_count": 36,
     "metadata": {},
     "output_type": "execute_result"
    }
   ],
   "source": [
    "score1"
   ]
  },
  {
   "cell_type": "code",
   "execution_count": 37,
   "id": "0e9d23a2",
   "metadata": {},
   "outputs": [
    {
     "data": {
      "application/vnd.microsoft.datawrangler.viewer.v0+json": {
       "columns": [
        {
         "name": "index",
         "rawType": "int64",
         "type": "integer"
        },
        {
         "name": "Gender",
         "rawType": "object",
         "type": "string"
        },
        {
         "name": "Height",
         "rawType": "float64",
         "type": "float"
        },
        {
         "name": "Weight",
         "rawType": "float64",
         "type": "float"
        },
        {
         "name": "Age",
         "rawType": "int64",
         "type": "integer"
        }
       ],
       "ref": "6dba6f3b-f4a0-43d2-874e-f8e5154c96ad",
       "rows": [
        [
         "0",
         "Male",
         "73.84701702",
         "241.8935632",
         "70"
        ],
        [
         "1",
         "Male",
         "68.78190405",
         "162.3104725",
         "70"
        ],
        [
         "2",
         "Male",
         "74.11010539",
         "212.7408556",
         "70"
        ],
        [
         "3",
         "Male",
         "71.7309784",
         "220.0424703",
         "70"
        ],
        [
         "4",
         "Male",
         "69.88179586",
         "206.3498006",
         "70"
        ],
        [
         "5",
         "Male",
         "67.25301569",
         "152.2121558",
         "70"
        ],
        [
         "6",
         "Male",
         "68.78508125",
         "183.9278886",
         "70"
        ],
        [
         "7",
         "Male",
         "68.34851551",
         "167.9711105",
         "70"
        ],
        [
         "8",
         "Male",
         "67.01894966",
         "175.9294404",
         "70"
        ],
        [
         "9",
         "Male",
         "63.45649398",
         "156.3996764",
         "70"
        ],
        [
         "10",
         "Male",
         "71.19538228",
         "186.6049256",
         "70"
        ],
        [
         "11",
         "Male",
         "71.64080512",
         "213.7411695",
         "70"
        ],
        [
         "12",
         "Male",
         "64.76632913",
         "167.1274611",
         "70"
        ],
        [
         "13",
         "Male",
         "69.2830701",
         "189.4461814",
         "70"
        ],
        [
         "14",
         "Male",
         "69.24373223",
         "186.434168",
         "70"
        ],
        [
         "15",
         "Male",
         "67.6456197",
         "172.1869301",
         "70"
        ],
        [
         "16",
         "Male",
         "72.41831663",
         "196.0285063",
         "70"
        ],
        [
         "17",
         "Male",
         "63.97432572",
         "172.8834702",
         "70"
        ],
        [
         "18",
         "Male",
         "69.6400599",
         "185.9839576",
         "70"
        ],
        [
         "19",
         "Male",
         "67.93600485",
         "182.426648",
         "70"
        ],
        [
         "20",
         "Male",
         "67.91505019",
         "174.1159291",
         "70"
        ],
        [
         "21",
         "Male",
         "69.43943987",
         "197.7314216",
         "70"
        ],
        [
         "22",
         "Male",
         "66.14913196",
         "149.173566",
         "70"
        ],
        [
         "23",
         "Male",
         "75.20597361",
         "228.7617806",
         "70"
        ],
        [
         "24",
         "Male",
         "67.89319634",
         "162.0066518",
         "70"
        ],
        [
         "25",
         "Male",
         "68.1440328",
         "192.3439766",
         "70"
        ],
        [
         "26",
         "Male",
         "69.08963143",
         "184.4351744",
         "70"
        ],
        [
         "27",
         "Male",
         "72.80084352",
         "206.8281894",
         "70"
        ],
        [
         "28",
         "Male",
         "67.42124228",
         "175.2139224",
         "70"
        ],
        [
         "29",
         "Male",
         "68.49641536",
         "154.3426389",
         "70"
        ],
        [
         "30",
         "Male",
         "68.61811055",
         "187.5068432",
         "70"
        ],
        [
         "31",
         "Male",
         "74.03380762",
         "212.9102253",
         "70"
        ],
        [
         "32",
         "Male",
         "71.52821604",
         "195.0322432",
         "70"
        ],
        [
         "33",
         "Male",
         "69.1801611",
         "205.1836213",
         "70"
        ],
        [
         "34",
         "Male",
         "69.57720237",
         "204.1641255",
         "70"
        ],
        [
         "35",
         "Male",
         "70.40092889",
         "192.9035151",
         "70"
        ],
        [
         "36",
         "Male",
         "69.07617117",
         "197.4882426",
         "70"
        ],
        [
         "37",
         "Male",
         "67.19352328",
         "183.8109732",
         "70"
        ],
        [
         "38",
         "Male",
         "65.80731565",
         "163.8518249",
         "70"
        ],
        [
         "39",
         "Male",
         "64.30418789",
         "163.1080171",
         "70"
        ],
        [
         "40",
         "Male",
         "67.97433623",
         "172.1355974",
         "70"
        ],
        [
         "41",
         "Male",
         "72.18942596",
         "194.0454049",
         "70"
        ],
        [
         "42",
         "Male",
         "65.27034552",
         "168.6177462",
         "70"
        ],
        [
         "43",
         "Male",
         "66.09017738",
         "161.1934326",
         "70"
        ],
        [
         "44",
         "Male",
         "67.51032152",
         "164.6602773",
         "70"
        ],
        [
         "45",
         "Male",
         "70.10478626",
         "188.9223032",
         "70"
        ],
        [
         "46",
         "Male",
         "68.25183644",
         "187.0605522",
         "70"
        ],
        [
         "47",
         "Male",
         "72.17270912",
         "209.0708634",
         "70"
        ],
        [
         "48",
         "Male",
         "69.17985762",
         "192.0143354",
         "70"
        ],
        [
         "49",
         "Male",
         "72.87036015",
         "211.3424968",
         "70"
        ]
       ],
       "shape": {
        "columns": 4,
        "rows": 10000
       }
      },
      "text/html": [
       "<div>\n",
       "<style scoped>\n",
       "    .dataframe tbody tr th:only-of-type {\n",
       "        vertical-align: middle;\n",
       "    }\n",
       "\n",
       "    .dataframe tbody tr th {\n",
       "        vertical-align: top;\n",
       "    }\n",
       "\n",
       "    .dataframe thead th {\n",
       "        text-align: right;\n",
       "    }\n",
       "</style>\n",
       "<table border=\"1\" class=\"dataframe\">\n",
       "  <thead>\n",
       "    <tr style=\"text-align: right;\">\n",
       "      <th></th>\n",
       "      <th>Gender</th>\n",
       "      <th>Height</th>\n",
       "      <th>Weight</th>\n",
       "      <th>Age</th>\n",
       "    </tr>\n",
       "  </thead>\n",
       "  <tbody>\n",
       "    <tr>\n",
       "      <th>0</th>\n",
       "      <td>Male</td>\n",
       "      <td>73.847017</td>\n",
       "      <td>241.893563</td>\n",
       "      <td>70</td>\n",
       "    </tr>\n",
       "    <tr>\n",
       "      <th>1</th>\n",
       "      <td>Male</td>\n",
       "      <td>68.781904</td>\n",
       "      <td>162.310473</td>\n",
       "      <td>70</td>\n",
       "    </tr>\n",
       "    <tr>\n",
       "      <th>2</th>\n",
       "      <td>Male</td>\n",
       "      <td>74.110105</td>\n",
       "      <td>212.740856</td>\n",
       "      <td>70</td>\n",
       "    </tr>\n",
       "    <tr>\n",
       "      <th>3</th>\n",
       "      <td>Male</td>\n",
       "      <td>71.730978</td>\n",
       "      <td>220.042470</td>\n",
       "      <td>70</td>\n",
       "    </tr>\n",
       "    <tr>\n",
       "      <th>4</th>\n",
       "      <td>Male</td>\n",
       "      <td>69.881796</td>\n",
       "      <td>206.349801</td>\n",
       "      <td>70</td>\n",
       "    </tr>\n",
       "    <tr>\n",
       "      <th>...</th>\n",
       "      <td>...</td>\n",
       "      <td>...</td>\n",
       "      <td>...</td>\n",
       "      <td>...</td>\n",
       "    </tr>\n",
       "    <tr>\n",
       "      <th>9995</th>\n",
       "      <td>Female</td>\n",
       "      <td>66.172652</td>\n",
       "      <td>136.777454</td>\n",
       "      <td>70</td>\n",
       "    </tr>\n",
       "    <tr>\n",
       "      <th>9996</th>\n",
       "      <td>Female</td>\n",
       "      <td>67.067155</td>\n",
       "      <td>170.867906</td>\n",
       "      <td>70</td>\n",
       "    </tr>\n",
       "    <tr>\n",
       "      <th>9997</th>\n",
       "      <td>Female</td>\n",
       "      <td>63.867992</td>\n",
       "      <td>128.475319</td>\n",
       "      <td>70</td>\n",
       "    </tr>\n",
       "    <tr>\n",
       "      <th>9998</th>\n",
       "      <td>Female</td>\n",
       "      <td>69.034243</td>\n",
       "      <td>163.852461</td>\n",
       "      <td>70</td>\n",
       "    </tr>\n",
       "    <tr>\n",
       "      <th>9999</th>\n",
       "      <td>Female</td>\n",
       "      <td>61.944246</td>\n",
       "      <td>113.649103</td>\n",
       "      <td>70</td>\n",
       "    </tr>\n",
       "  </tbody>\n",
       "</table>\n",
       "<p>10000 rows × 4 columns</p>\n",
       "</div>"
      ],
      "text/plain": [
       "      Gender     Height      Weight  Age\n",
       "0       Male  73.847017  241.893563   70\n",
       "1       Male  68.781904  162.310473   70\n",
       "2       Male  74.110105  212.740856   70\n",
       "3       Male  71.730978  220.042470   70\n",
       "4       Male  69.881796  206.349801   70\n",
       "...      ...        ...         ...  ...\n",
       "9995  Female  66.172652  136.777454   70\n",
       "9996  Female  67.067155  170.867906   70\n",
       "9997  Female  63.867992  128.475319   70\n",
       "9998  Female  69.034243  163.852461   70\n",
       "9999  Female  61.944246  113.649103   70\n",
       "\n",
       "[10000 rows x 4 columns]"
      ]
     },
     "execution_count": 37,
     "metadata": {},
     "output_type": "execute_result"
    }
   ],
   "source": [
    "df_bmi"
   ]
  },
  {
   "cell_type": "code",
   "execution_count": 38,
   "id": "04b75bc1",
   "metadata": {},
   "outputs": [
    {
     "data": {
      "text/plain": [
       "700000"
      ]
     },
     "execution_count": 38,
     "metadata": {},
     "output_type": "execute_result"
    }
   ],
   "source": [
    "df_bmi['Age'].sum()"
   ]
  },
  {
   "cell_type": "code",
   "execution_count": 39,
   "id": "9417d84c",
   "metadata": {},
   "outputs": [
    {
     "data": {
      "text/plain": [
       "10000"
      ]
     },
     "execution_count": 39,
     "metadata": {},
     "output_type": "execute_result"
    }
   ],
   "source": [
    "df_bmi['Age'].count()"
   ]
  },
  {
   "cell_type": "code",
   "execution_count": 43,
   "id": "b22cd062",
   "metadata": {},
   "outputs": [],
   "source": [
    "int_lang_score = np.random.randint(1,100,1000)"
   ]
  },
  {
   "cell_type": "code",
   "execution_count": 44,
   "id": "064c1de1",
   "metadata": {},
   "outputs": [
    {
     "data": {
      "text/plain": [
       "99"
      ]
     },
     "execution_count": 44,
     "metadata": {},
     "output_type": "execute_result"
    }
   ],
   "source": [
    "min(int_lang_score)\n",
    "max(int_lang_score)"
   ]
  },
  {
   "cell_type": "code",
   "execution_count": 46,
   "id": "c01f7879",
   "metadata": {},
   "outputs": [
    {
     "data": {
      "text/plain": [
       "array([67.45465073, 92.9410079 ,  8.776929  , 79.63939177, 39.38130947,\n",
       "       77.65270093, 27.34025036, 92.9537767 ,  9.48630852, 71.64965235,\n",
       "        6.7521439 , 26.32466636, 21.45699283, 42.47735324, 96.39142222,\n",
       "       46.73082049, 98.60840072, 93.56021266, 82.10818625, 11.63655109,\n",
       "        1.9876149 , 84.17690149, 63.2138216 , 49.67680364, 76.74740612,\n",
       "       94.27269639, 93.44656863, 15.45700922, 74.44455015, 54.28423858,\n",
       "       45.01869234, 19.12355121, 88.46885576, 56.92319723, 22.63384206,\n",
       "       19.57533171, 19.02098634, 91.69302392, 59.1020309 , 75.98180113,\n",
       "       42.06482562, 20.57062459, 47.90244591, 59.99071401, 83.67663404,\n",
       "       16.87174754, 90.64810732, 22.24295631, 40.88329219, 99.57880324,\n",
       "       58.27815344, 39.80917628, 61.06910539, 34.70414553, 21.10891015,\n",
       "       30.36898033,  4.61023653, 65.02094991, 75.0072665 , 12.32097161,\n",
       "       70.27708012, 98.62506117, 38.29383053, 20.03694706, 81.35734031,\n",
       "       95.29340958, 51.11845941, 88.00085265,  9.50344313, 48.71010868,\n",
       "       94.86117017, 15.40997465, 28.76782174, 74.32806624, 31.32394946,\n",
       "       83.20356986, 16.64959106, 54.35004336, 99.58065593, 77.50067921,\n",
       "        7.79190073, 63.83431484, 54.38331119, 38.99874817,  2.69031434,\n",
       "       88.96692632, 83.74454136, 72.43993644, 48.83127923, 71.69218672,\n",
       "       85.94178364, 58.71955676, 96.91849494, 42.60474965, 21.37302194,\n",
       "       10.66848773, 25.47502095, 36.56198461, 62.92296035, 94.59235913])"
      ]
     },
     "execution_count": 46,
     "metadata": {},
     "output_type": "execute_result"
    }
   ],
   "source": [
    "# create random float number \\\n",
    "np.random.uniform(1,100,100)"
   ]
  },
  {
   "cell_type": "code",
   "execution_count": 49,
   "id": "836f1b47",
   "metadata": {},
   "outputs": [],
   "source": [
    "# creating non repetitive values for the index \n",
    "new_index =np.arange(0,1000)"
   ]
  },
  {
   "cell_type": "code",
   "execution_count": 55,
   "id": "7f802696",
   "metadata": {},
   "outputs": [
    {
     "data": {
      "text/plain": [
       "array([174, 825, 233, 774,  77, 510, 932, 663, 946, 121, 832, 943, 204,\n",
       "       229,  27, 822, 864, 518, 493, 381, 122, 243, 850, 937, 983, 182,\n",
       "        71, 884, 603, 785, 349, 959, 100,  73, 880, 712, 625, 564,  91,\n",
       "       385, 878,  98, 255, 380, 802, 681, 618, 478, 156, 662, 687, 436,\n",
       "       355, 107, 172, 475, 749, 347, 273, 700,  31,  69, 168, 101, 350,\n",
       "       810, 487, 666, 378, 907, 209, 362, 836, 483, 292, 207, 300, 930,\n",
       "       630, 985, 950, 918, 592, 159, 966, 570, 960, 348, 973,  47, 261,\n",
       "       678,  16, 458, 165, 143, 833, 544, 892, 173,   2, 853, 926, 587,\n",
       "       580, 353, 286, 569, 791, 844, 531, 757, 642,  67, 639, 951, 244,\n",
       "       653, 726, 117, 486,  84, 870, 713, 306, 779,  54, 432, 619, 452,\n",
       "       866, 981, 230, 835, 982, 496, 139,   1, 957, 274, 106, 858,  26,\n",
       "       685, 923, 997, 473, 307, 585, 281,  50,  89, 599, 402, 418, 264,\n",
       "       538, 572, 319, 368, 901, 133, 940, 448, 484,  75, 329, 814,  87,\n",
       "       342, 978, 311, 272,  43, 608, 931, 508, 500, 359, 958, 828, 338,\n",
       "       543, 689, 256, 304, 294, 523, 480, 706,  72, 527, 789, 670, 390,\n",
       "       792, 425, 375, 277, 352,  55, 387, 377, 495, 351, 454, 817, 410,\n",
       "       405, 332, 130, 877, 773, 579, 679, 597, 517, 875, 341, 467, 851,\n",
       "       944, 933,  40, 325, 203, 804,  24, 863, 859, 398, 698, 781, 857,\n",
       "        64, 260, 723, 399, 421, 388, 288, 403, 827, 976, 848, 881, 721,\n",
       "       872, 626, 657, 208, 200, 236, 248, 722, 136, 389, 770, 540,  11,\n",
       "       962, 501, 461, 821, 934, 936, 911, 177, 126,  61, 769, 548, 607,\n",
       "       258, 972, 235, 471, 910, 371, 963, 137,   6, 714, 912, 908, 636,\n",
       "       451, 953, 999, 164, 780, 693, 439,  14, 469, 153, 113,  62, 745,\n",
       "       337, 897, 935, 567, 462, 194, 740, 186,  90, 948, 372, 257, 735,\n",
       "       751, 644, 556, 502, 534, 211,  96, 437, 328, 633, 404, 664, 158,\n",
       "       442, 551,  82, 840, 974, 376, 876,  45, 152,  38, 993, 797, 150,\n",
       "       225, 227, 742, 303, 869, 991, 645, 394,  41, 710, 787,  92, 813,\n",
       "       841,  17, 276, 921, 541, 532, 123, 279, 457, 793, 667,  88, 994,\n",
       "       820, 733, 533,   7, 171, 202, 849, 336, 170, 271, 909, 590, 803,\n",
       "         3, 330, 132, 295, 559, 834, 509, 188, 215, 823, 682, 335, 382,\n",
       "       472, 314, 917, 408, 575, 102, 624, 449, 412, 181, 434,  81, 659,\n",
       "       672, 407, 758, 245, 613, 239, 507, 854, 589, 987, 360,   5, 157,\n",
       "       573, 494, 549, 846, 148, 904, 696, 185, 140, 584, 765, 725, 393,\n",
       "       704, 280, 690, 184, 961, 562, 283, 400, 861, 799, 591, 345, 161,\n",
       "       516,  30,  74, 905, 367, 684, 655, 641, 151, 546, 242, 296, 616,\n",
       "       105, 433,  48, 308, 602, 695, 885,  18, 411, 571, 166, 189, 574,\n",
       "        93, 984, 539, 118, 441, 115, 843, 383,  33,  25, 648, 476, 969,\n",
       "       925,  39, 631, 528, 435, 894, 110, 219, 267, 954, 142, 615,  99,\n",
       "       417,  52, 610, 601,  28, 811, 241,  79, 262, 266, 577, 605, 568,\n",
       "       554, 479, 231,  58, 691, 650, 263, 249, 898, 947, 862,  65, 446,\n",
       "       576, 732, 317, 906, 111, 275, 824, 560, 278, 212, 401, 588, 582,\n",
       "       119, 103, 154, 674, 913, 596, 197, 744, 343, 456, 748, 638, 396,\n",
       "        57, 873, 801, 992, 175, 753, 612, 346, 324,  12, 180, 422,  44,\n",
       "       334, 970, 220, 430, 826, 344, 842, 557, 179, 790,  70, 766, 692,\n",
       "       477, 112, 555, 977, 798, 214,  23, 131, 919,  29, 847, 305, 754,\n",
       "       504, 254, 240, 163, 637, 104, 975, 778, 365, 708, 889, 459, 291,\n",
       "       707,  49, 938, 384, 581, 783,  32, 192, 621, 719, 138, 419, 108,\n",
       "       759, 623, 363, 198, 852, 221, 665, 333,  56,  21, 640, 634, 703,\n",
       "       366, 191, 668, 614, 490, 535, 147, 120, 289, 427, 788, 989, 796,\n",
       "        37, 529, 489,  15, 547, 683, 453, 955,   8, 583, 762, 775, 920,\n",
       "       416, 293, 468, 409, 129, 629, 485, 237, 536, 739, 284, 413, 169,\n",
       "       356,  76, 891, 816, 155, 125, 652, 874, 217, 604, 887, 979, 505,\n",
       "       443, 322, 705, 537, 903, 730, 315, 830, 499, 145, 883, 444, 124,\n",
       "         9, 746, 632,   0, 980, 364, 135, 361, 162, 871, 269,  36, 724,\n",
       "       201, 506, 927, 373, 620, 253, 116, 675, 488, 128,  20, 498, 941,\n",
       "       808, 374, 990, 357, 882, 764, 512,  53, 213, 915, 354, 114, 178,\n",
       "       299, 838, 686,  78, 763, 995, 809, 321, 463, 731, 190, 497, 431,\n",
       "       481, 424, 199, 109, 747, 265, 715, 522, 890, 711, 968, 760, 794,\n",
       "       755, 865, 563, 734, 282, 680, 818, 327, 312,  63, 628, 741, 598,\n",
       "       259, 924, 646, 503, 339, 187, 945, 285, 815, 238, 895, 658, 718,\n",
       "       996, 195, 491, 552, 247, 736, 622, 440, 287, 519, 558, 358, 320,\n",
       "       447, 965, 429, 550, 896, 967, 867, 521, 127, 627, 837, 845, 206,\n",
       "       520, 482,  22, 309,  60,  35, 784, 183, 513, 709, 369, 902, 397,\n",
       "       916, 868, 586, 635, 205, 223,  42, 776, 470, 530, 697, 661, 406,\n",
       "       474, 226, 460, 699, 676, 956, 998, 492, 855, 514, 149, 656, 553,\n",
       "       767, 423, 795, 807, 313, 860, 297, 879, 222, 438,  97, 526, 511,\n",
       "       654, 782, 566, 466, 445, 141, 756, 812,  19, 829, 786,  68, 649,\n",
       "       167, 310, 160,  86,  13, 694, 301, 677, 728, 669, 395, 729, 716,\n",
       "       392, 323, 939, 839, 290, 210, 270, 611, 771, 134, 268, 146, 318,\n",
       "       450, 900,  10, 660, 928, 326, 888, 750, 942, 949, 234, 415, 988,\n",
       "       800, 727, 986, 232, 971, 593, 856,  59, 565, 251, 831,  83, 651,\n",
       "       465, 600, 370, 595, 542, 224, 316, 561, 525, 929, 886, 218, 717,\n",
       "       761, 594, 606, 819,  85, 420, 671, 688, 914, 515, 609, 738,  94,\n",
       "       772, 391, 414, 331,  46, 899, 617, 752, 144, 196,  34, 250,   4,\n",
       "       428, 743, 302, 176,  51, 952, 228,  80, 193, 386, 702, 455,  95,\n",
       "       964, 720, 340, 426, 922, 643, 806, 246, 379, 647, 673, 701, 216,\n",
       "       464, 524, 805, 578, 545, 777, 893,  66, 298, 737, 252, 768])"
      ]
     },
     "execution_count": 55,
     "metadata": {},
     "output_type": "execute_result"
    }
   ],
   "source": [
    "# shuffling the indexes \n",
    "random.shuffle(new_index)\n",
    "new_index"
   ]
  },
  {
   "cell_type": "code",
   "execution_count": null,
   "id": "d49d464b",
   "metadata": {},
   "outputs": [],
   "source": [
    "# create a new column with new index\n",
    "\n"
   ]
  },
  {
   "cell_type": "code",
   "execution_count": null,
   "id": "a7801b49",
   "metadata": {},
   "outputs": [],
   "source": []
  }
 ],
 "metadata": {
  "kernelspec": {
   "display_name": "base",
   "language": "python",
   "name": "python3"
  },
  "language_info": {
   "codemirror_mode": {
    "name": "ipython",
    "version": 3
   },
   "file_extension": ".py",
   "mimetype": "text/x-python",
   "name": "python",
   "nbconvert_exporter": "python",
   "pygments_lexer": "ipython3",
   "version": "3.12.7"
  }
 },
 "nbformat": 4,
 "nbformat_minor": 5
}
