{
 "cells": [
  {
   "cell_type": "code",
   "execution_count": 49,
   "id": "92d33f66",
   "metadata": {},
   "outputs": [
    {
     "data": {
      "text/plain": [
       "25"
      ]
     },
     "execution_count": 49,
     "metadata": {},
     "output_type": "execute_result"
    }
   ],
   "source": [
    "def add(*args):\n",
    "    sum = 0\n",
    "    for i in range(len(args)):\n",
    "        sum += args[i]\n",
    "    return sum    \n",
    "add(3,4,5,6,7)        \n",
    "\n"
   ]
  },
  {
   "cell_type": "code",
   "execution_count": 50,
   "id": "bbb1141c",
   "metadata": {},
   "outputs": [],
   "source": [
    "def r():\n",
    "    a = 5\n",
    "    b = 7\n",
    "    d = \"something else \"\n",
    "    return a,b,d"
   ]
  },
  {
   "cell_type": "code",
   "execution_count": 51,
   "id": "19f2302b",
   "metadata": {},
   "outputs": [
    {
     "name": "stdout",
     "output_type": "stream",
     "text": [
      "5 7 something else \n"
     ]
    }
   ],
   "source": [
    "x,y,z = r()\n",
    "print(x,y,z)"
   ]
  },
  {
   "cell_type": "code",
   "execution_count": 52,
   "id": "c07a90c6",
   "metadata": {},
   "outputs": [],
   "source": [
    "def myAddUniversal(*args):\n",
    "    s = 0 \n",
    "    for i in range(len(args)):\n",
    "        s += args[i]\n",
    "        return s\n",
    "    \n",
    "        "
   ]
  },
  {
   "cell_type": "code",
   "execution_count": 53,
   "id": "9455116e",
   "metadata": {},
   "outputs": [
    {
     "name": "stdout",
     "output_type": "stream",
     "text": [
      "2\n"
     ]
    }
   ],
   "source": [
    "print(myAddUniversal(2,4,5))"
   ]
  },
  {
   "cell_type": "code",
   "execution_count": 54,
   "id": "5bdd8da6",
   "metadata": {},
   "outputs": [
    {
     "name": "stdout",
     "output_type": "stream",
     "text": [
      "c1 A\n",
      "c2 B\n",
      "c3 C\n"
     ]
    }
   ],
   "source": [
    "def f(**c):\n",
    "    for x in c:\n",
    "        print(x,c[x])\n",
    "        \n",
    "f(c1 = \"A\", c2 = \"B\", c3 = \"C\")  # Output: A ca B cb C cc"
   ]
  },
  {
   "cell_type": "code",
   "execution_count": 55,
   "id": "de60ed8d",
   "metadata": {},
   "outputs": [],
   "source": [
    "def printAllVariableNamesAndValues(**args):\n",
    "    for arg in args:\n",
    "        print(\"Variable name is :\",arg, \"and its value is:\", args[arg])"
   ]
  },
  {
   "cell_type": "code",
   "execution_count": 56,
   "id": "89092f91",
   "metadata": {},
   "outputs": [
    {
     "name": "stdout",
     "output_type": "stream",
     "text": [
      "Variable name is : a and its value is: 3\n",
      "Variable name is : b and its value is: B\n",
      "Variable name is : c and its value is: CCC\n",
      "Variable name is : y and its value is: 6.7\n"
     ]
    }
   ],
   "source": [
    "printAllVariableNamesAndValues(a = 3, b = \"B\", c =\"CCC\", y=6.7)"
   ]
  },
  {
   "cell_type": "code",
   "execution_count": 58,
   "id": "a65482ec",
   "metadata": {},
   "outputs": [],
   "source": [
    "def f(sum = 0):\n",
    "    print(sum)"
   ]
  },
  {
   "cell_type": "code",
   "execution_count": 59,
   "id": "ff2338c9",
   "metadata": {},
   "outputs": [],
   "source": [
    "def gg(s=4):\n",
    "    print(s)"
   ]
  },
  {
   "cell_type": "code",
   "execution_count": 60,
   "id": "49ed0a00",
   "metadata": {},
   "outputs": [
    {
     "name": "stdout",
     "output_type": "stream",
     "text": [
      "4\n"
     ]
    }
   ],
   "source": [
    "gg()"
   ]
  },
  {
   "cell_type": "code",
   "execution_count": 61,
   "id": "c2b58af8",
   "metadata": {},
   "outputs": [
    {
     "name": "stdout",
     "output_type": "stream",
     "text": [
      "54\n"
     ]
    }
   ],
   "source": [
    "gg(54)"
   ]
  },
  {
   "cell_type": "code",
   "execution_count": 62,
   "id": "4c523865",
   "metadata": {},
   "outputs": [
    {
     "name": "stdout",
     "output_type": "stream",
     "text": [
      "[-9, 2, 3]\n"
     ]
    }
   ],
   "source": [
    "L = [1,2,3]\n",
    "L2 = L \n",
    "L2[0] = -9\n",
    "print(L)"
   ]
  },
  {
   "cell_type": "code",
   "execution_count": 63,
   "id": "9ced9305",
   "metadata": {},
   "outputs": [],
   "source": [
    "L2 = [12,8,7]"
   ]
  }
 ],
 "metadata": {
  "kernelspec": {
   "display_name": "base",
   "language": "python",
   "name": "python3"
  },
  "language_info": {
   "codemirror_mode": {
    "name": "ipython",
    "version": 3
   },
   "file_extension": ".py",
   "mimetype": "text/x-python",
   "name": "python",
   "nbconvert_exporter": "python",
   "pygments_lexer": "ipython3",
   "version": "3.12.7"
  }
 },
 "nbformat": 4,
 "nbformat_minor": 5
}
