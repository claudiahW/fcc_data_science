{
 "cells": [
  {
   "cell_type": "code",
   "execution_count": 14,
   "id": "9eda2984",
   "metadata": {},
   "outputs": [],
   "source": [
    "# load all necesarry imports and packages\n",
    " \n",
    "import numpy as np, random, pandas as pd, matplotlib.pyplot as plt, seaborn as sns,scipy as sp, scipy.stats as stats\n"
   ]
  },
  {
   "cell_type": "code",
   "execution_count": 15,
   "id": "3d44f85a",
   "metadata": {},
   "outputs": [],
   "source": [
    "# plot styles \n",
    "plt.style.use('fivethirtyeight')\n",
    "plt.style.use('ggplot')"
   ]
  },
  {
   "cell_type": "code",
   "execution_count": 16,
   "id": "70323365",
   "metadata": {},
   "outputs": [],
   "source": [
    "# generate a random sample of 1000 observations from the distribution\n",
    "np.random.seed(15)\n",
    "population_ages1 = stats.poisson.rvs(loc=18, mu=35, size=150000)\n",
    "population_ages2 = stats.poisson.rvs(loc=18, mu=10, size=150000)\n",
    "population_ages = np.concatenate((population_ages1,population_ages2))\n"
   ]
  },
  {
   "cell_type": "code",
   "execution_count": 17,
   "id": "50de6a54",
   "metadata": {},
   "outputs": [],
   "source": [
    "# Convert the population into a pandas dataframe pop_ages\n",
    "pop_ages = pd.DataFrame(population_ages)\n"
   ]
  },
  {
   "cell_type": "code",
   "execution_count": 18,
   "id": "800442ec",
   "metadata": {},
   "outputs": [
    {
     "name": "stdout",
     "output_type": "stream",
     "text": [
      "                   0\n",
      "count  300000.000000\n",
      "mean       40.490483\n",
      "std        13.351487\n",
      "min        18.000000\n",
      "25%        28.000000\n",
      "50%        38.000000\n",
      "75%        53.000000\n",
      "max        84.000000\n"
     ]
    }
   ],
   "source": [
    "# display the populations descriptive statistics \n",
    "print(pop_ages.describe())"
   ]
  },
  {
   "cell_type": "code",
   "execution_count": 19,
   "id": "260b708c",
   "metadata": {},
   "outputs": [
    {
     "data": {
      "image/png": "[encoded data removed]",
      "text/plain": [
       "<Figure size 640x480 with 1 Axes>"
      ]
     },
     "metadata": {},
     "output_type": "display_data"
    }
   ],
   "source": [
    "# create the histogram \n",
    "\n",
    "plt.hist(pop_ages, bins=5, edgecolor='black', color='skyblue')\n",
    "\n",
    "# add labels and title to the histogram \n",
    "plt.title(\"histogram of Population Ages\")\n",
    "plt.xlabel('Age')\n",
    "plt.ylabel('Frequency')\n",
    "\n",
    "plt.show()"
   ]
  },
  {
   "cell_type": "code",
   "execution_count": 20,
   "id": "03634812",
   "metadata": {},
   "outputs": [],
   "source": [
    "sample_chol_levels = [66.0, 36.0, 73.0, 48.0, 81.0, 69.0, 75.0, 81.0, 73.0,\n",
    "                      69.0, 101.0, 70.0, 50.0, 42.0, 36.0, 71.0, 65.0, 43.0, 76.0, 24.0]"
   ]
  },
  {
   "cell_type": "code",
   "execution_count": 21,
   "id": "830cd814",
   "metadata": {},
   "outputs": [
    {
     "name": "stdout",
     "output_type": "stream",
     "text": [
      "62.45 19.209304214912432 4.295331002501743\n"
     ]
    }
   ],
   "source": [
    "# calculate sample mean \n",
    "x_bar = np.mean(sample_chol_levels)\n",
    "s = np.std(sample_chol_levels, ddof = 1)\n",
    "se = s/np.sqrt(len(sample_chol_levels))\n",
    "print(x_bar, s, se)\n"
   ]
  },
  {
   "cell_type": "code",
   "execution_count": 22,
   "id": "fabeb7ac",
   "metadata": {},
   "outputs": [
    {
     "data": {
      "text/plain": [
       "(53.4597688901183, 71.44023110988171)"
      ]
     },
     "execution_count": 22,
     "metadata": {},
     "output_type": "execute_result"
    }
   ],
   "source": [
    "# calculate the interval estimate \n",
    "\n",
    "stats.t.interval(confidence = 0.95,                         # Confidence level\n",
    "                 df= len(sample_chol_levels)-1,             # Degrees of freedom\n",
    "                 loc = x_bar,                               # Sample mean\n",
    "                 scale = se)                                # Estimated standard error of the mean\n"
   ]
  },
  {
   "cell_type": "code",
   "execution_count": 23,
   "id": "e98bdcc3",
   "metadata": {},
   "outputs": [],
   "source": [
    "sample_chol_levels = np.random.normal(loc=54, scale=17, size=1000)"
   ]
  },
  {
   "cell_type": "code",
   "execution_count": 24,
   "id": "1d7c3e82",
   "metadata": {},
   "outputs": [
    {
     "name": "stdout",
     "output_type": "stream",
     "text": [
      "Sample mean: 54.576074205519895\n",
      "Sample standard deviation: 17.46874709547749\n",
      "Estimated standard error: 0.5524102869115973\n"
     ]
    }
   ],
   "source": [
    "# With the randomized sample, the code is the same as above, but the output will be different.\n",
    "x_bar = np.mean(sample_chol_levels)\n",
    "s = np.std(sample_chol_levels, ddof = 1)\n",
    "se = s/np.sqrt(len(sample_chol_levels))\n",
    "print('Sample mean:', x_bar)\n",
    "print('Sample standard deviation:', s)\n",
    "print('Estimated standard error:', se)"
   ]
  },
  {
   "cell_type": "code",
   "execution_count": 25,
   "id": "bd0d0ba6",
   "metadata": {},
   "outputs": [
    {
     "data": {
      "text/plain": [
       "(53.49205659595664, 55.66009181508315)"
      ]
     },
     "execution_count": 25,
     "metadata": {},
     "output_type": "execute_result"
    }
   ],
   "source": [
    "# doing the same with the min and max confidence interval\n",
    "\n",
    "stats.t.interval(confidence = 0.95,                              \n",
    "                 df= len(sample_chol_levels)-1,             \n",
    "                 loc = x_bar,                               \n",
    "                 scale = se)    \n",
    "\n"
   ]
  },
  {
   "cell_type": "code",
   "execution_count": 26,
   "id": "584ae5cf",
   "metadata": {},
   "outputs": [],
   "source": [
    "\n",
    "sample = np.array([15.46097664, 15.5930238 , 19.55426936, 16.54231132, 18.40712804,\n",
    "                   13.33092129, 13.79141786, 12.44315636, 15.70385525, 12.48722755,\n",
    "                   11.81594655, 15.22694063, 18.25064431, 15.93900563, 17.38471543,\n",
    "                   15.02334988, 14.55826229, 16.64212199, 16.50657618, 13.44759329,\n",
    "                   13.05467437, 14.151049  , 13.55036322, 13.37386788, 10.25090132,\n",
    "                   16.45380807, 12.63016764, 11.90102614, 15.34426397, 15.2048003 ,\n",
    "                   11.60623705, 16.10720081, 16.42266283, 13.74686281, 14.51850311,\n",
    "                   15.59951107, 18.03269318, 14.35882143, 17.95626942, 14.06849303,\n",
    "                   14.4507767 , 17.27149508, 15.06747021, 13.82402614, 12.40651465,\n",
    "                   15.94104138, 16.8003216 , 18.45973001, 14.24757027, 14.06031845])"
   ]
  },
  {
   "cell_type": "code",
   "execution_count": 27,
   "id": "192ac569",
   "metadata": {},
   "outputs": [
    {
     "data": {
      "text/plain": [
       "14.9794176958"
      ]
     },
     "execution_count": 27,
     "metadata": {},
     "output_type": "execute_result"
    }
   ],
   "source": [
    "# find their average (point estimate)\n",
    "sample_mean = sample.mean()\n",
    "sample_mean"
   ]
  },
  {
   "cell_type": "code",
   "execution_count": 28,
   "id": "88c43dda",
   "metadata": {},
   "outputs": [
    {
     "data": {
      "image/png": "[encoded data removed]",
      "text/plain": [
       "<Figure size 640x480 with 1 Axes>"
      ]
     },
     "metadata": {},
     "output_type": "display_data"
    }
   ],
   "source": [
    "# plot the sample \n",
    "fig, ax = plt.subplots()\n",
    "ax = sns.kdeplot(sample, ax=ax, label='Sample PDF')\n",
    "ax.axvline(sample_mean, color=\"red\", label=r'$\\bar{x}$')\n",
    "ax.legend();\n"
   ]
  },
  {
   "cell_type": "code",
   "execution_count": 29,
   "id": "4c0a52b5",
   "metadata": {},
   "outputs": [
    {
     "data": {
      "text/plain": [
       "(11.408292570256707, inf)"
      ]
     },
     "execution_count": 29,
     "metadata": {},
     "output_type": "execute_result"
    }
   ],
   "source": [
    "# an absurd example\n",
    "\n",
    "stats.t.interval(\n",
    "    confidence=0.9999999999999999,\n",
    "    df=len(sample)-1,\n",
    "    loc=sample_mean,\n",
    "    scale=stats.sem(sample)\n",
    ")"
   ]
  },
  {
   "cell_type": "code",
   "execution_count": 30,
   "id": "8a757c00",
   "metadata": {},
   "outputs": [
    {
     "data": {
      "text/plain": [
       "(13.968533495692206, 15.990301895907805)"
      ]
     },
     "execution_count": 30,
     "metadata": {},
     "output_type": "execute_result"
    }
   ],
   "source": [
    "stats.t.interval(\n",
    "    confidence=0.999,\n",
    "    df=len(sample)-1,\n",
    "    loc=sample_mean,\n",
    "    scale=stats.sem(sample)\n",
    ")"
   ]
  },
  {
   "cell_type": "code",
   "execution_count": null,
   "id": "b53269b2",
   "metadata": {},
   "outputs": [],
   "source": []
  },
  {
   "cell_type": "markdown",
   "id": "3c7efe65",
   "metadata": {},
   "source": [
    "# one hash is for title\n"
   ]
  },
  {
   "cell_type": "code",
   "execution_count": 31,
   "id": "82eabee5",
   "metadata": {},
   "outputs": [
    {
     "name": "stdout",
     "output_type": "stream",
     "text": [
      "Hello world!\n"
     ]
    }
   ],
   "source": [
    "print(\"Hello world!\")"
   ]
  },
  {
   "cell_type": "code",
   "execution_count": 32,
   "id": "267470ae",
   "metadata": {},
   "outputs": [
    {
     "name": "stdout",
     "output_type": "stream",
     "text": [
      "Hello Frankline Njoroge\n"
     ]
    }
   ],
   "source": [
    "print(\"Hello Frankline Njoroge\")\n"
   ]
  },
  {
   "cell_type": "code",
   "execution_count": 33,
   "id": "332c63db",
   "metadata": {},
   "outputs": [
    {
     "data": {
      "text/plain": [
       "bool"
      ]
     },
     "execution_count": 33,
     "metadata": {},
     "output_type": "execute_result"
    }
   ],
   "source": [
    "type(True)"
   ]
  },
  {
   "cell_type": "code",
   "execution_count": 34,
   "id": "24ebf11f",
   "metadata": {},
   "outputs": [
    {
     "data": {
      "text/plain": [
       "'HELLO WORLD'"
      ]
     },
     "execution_count": 34,
     "metadata": {},
     "output_type": "execute_result"
    }
   ],
   "source": [
    "\"Hello World\".upper()"
   ]
  },
  {
   "cell_type": "code",
   "execution_count": 35,
   "metadata": {},
   "outputs": [
    {
     "data": {
      "text/plain": [
       "'hello world'"
      ]
     },
     "execution_count": 35,
     "metadata": {},
     "output_type": "execute_result"
    }
   ],
   "source": [
    "\"Hello World\".lower()"
   ]
  },
  {
   "cell_type": "code",
   "execution_count": 36,
   "id": "038238b5",
   "metadata": {},
   "outputs": [
    {
     "data": {
      "text/plain": [
       "'Hello World'"
      ]
     },
     "execution_count": 36,
     "metadata": {},
     "output_type": "execute_result"
    }
   ],
   "source": [
    "\"hello world\".title()"
   ]
  },
  {
   "cell_type": "code",
   "execution_count": 37,
   "id": "522bc8b5",
   "metadata": {},
   "outputs": [
    {
     "data": {
      "text/plain": [
       "3"
      ]
     },
     "execution_count": 37,
     "metadata": {},
     "output_type": "execute_result"
    }
   ],
   "source": [
    "\"Hello World\".count('l')"
   ]
  },
  {
   "cell_type": "code",
   "execution_count": 38,
   "id": "929a4ae5",
   "metadata": {},
   "outputs": [
    {
     "data": {
      "text/plain": [
       "'I am learning to code'"
      ]
     },
     "execution_count": 38,
     "metadata": {},
     "output_type": "execute_result"
    }
   ],
   "source": [
    "messsage_1 = \"I am learning to code\"\n",
    "\n",
    "messsage_1\n"
   ]
  },
  {
   "cell_type": "code",
   "execution_count": 39,
   "id": "9abc1c9d",
   "metadata": {},
   "outputs": [
    {
     "data": {
      "text/plain": [
       "'I like it though it is so much to cover'"
      ]
     },
     "execution_count": 39,
     "metadata": {},
     "output_type": "execute_result"
    }
   ],
   "source": [
    "message_2 = \"I like it though it is so much to cover\"\n",
    "message_2"
   ]
  },
  {
   "cell_type": "code",
   "execution_count": null,
   "id": "dfd29c2b",
   "metadata": {},
   "outputs": [],
   "source": []
  },
  {
   "cell_type": "code",
   "execution_count": null,
   "metadata": {},
   "outputs": [],
   "source": []
  }
 ],
 "metadata": {
  "kernelspec": {
   "display_name": "base",
   "language": "python",
   "name": "python3"
  },
  "language_info": {
   "codemirror_mode": {
    "name": "ipython",
    "version": 3
   },
   "file_extension": ".py",
   "mimetype": "text/x-python",
   "name": "python",
   "nbconvert_exporter": "python",
   "pygments_lexer": "ipython3",
   "version": "3.12.7"
  }
 },
 "nbformat": 4,
 "nbformat_minor": 5
}
