{
 "cells": [
  {
   "cell_type": "code",
   "execution_count": null,
   "id": "d6d21f45",
   "metadata": {},
   "outputs": [],
   "source": []
  },
  {
   "cell_type": "markdown",
   "id": "e0ec0ddf",
   "metadata": {},
   "source": [
    "# introduction to data  structures \n"
   ]
  },
  {
   "cell_type": "markdown",
   "id": "a7abe6d3",
   "metadata": {},
   "source": []
  },
  {
   "cell_type": "code",
   "execution_count": 47,
   "id": "ec350a6a",
   "metadata": {},
   "outputs": [
    {
     "name": "stdout",
     "output_type": "stream",
     "text": [
      "we are learning python here\n"
     ]
    }
   ],
   "source": [
    "# strings \n",
    "s = \"we are learning python here\"\n",
    "t = \"it is quite interesting\"\n",
    "\n",
    "type(s)\n",
    "print(s)"
   ]
  },
  {
   "cell_type": "code",
   "execution_count": 48,
   "id": "0ac467d2",
   "metadata": {},
   "outputs": [
    {
     "name": "stdout",
     "output_type": "stream",
     "text": [
      "hello girl Do you trust me?\n"
     ]
    }
   ],
   "source": [
    "print(\"hello girl\", \"Do you trust me?\")"
   ]
  },
  {
   "cell_type": "code",
   "execution_count": 49,
   "id": "fb5100f7",
   "metadata": {},
   "outputs": [
    {
     "name": "stdout",
     "output_type": "stream",
     "text": [
      "The price of this textbook is: 12\n"
     ]
    }
   ],
   "source": [
    "price = 12 \n",
    "s = \"The price of this textbook is: \"\n",
    "print(s + str(price))  # Output: The price of this textbook is: 12"
   ]
  },
  {
   "cell_type": "code",
   "execution_count": 50,
   "id": "f1b13834",
   "metadata": {},
   "outputs": [
    {
     "name": "stdout",
     "output_type": "stream",
     "text": [
      " this is line one \n",
      "this is two \n",
      "anddd this is 3\n"
     ]
    }
   ],
   "source": [
    "a = \"\"\" this is line one \n",
    "this is two \n",
    "anddd this is 3\"\"\"\n",
    "\n",
    "print(a)"
   ]
  },
  {
   "cell_type": "code",
   "execution_count": 51,
   "id": "ca3a27f4",
   "metadata": {},
   "outputs": [
    {
     "name": "stdout",
     "output_type": "stream",
     "text": [
      "eof p\n",
      "gramm\n",
      "18\n",
      "5\n"
     ]
    }
   ],
   "source": [
    "a = \"Gameof programming\"\n",
    "print(a[3:8])\n",
    "print(a[-8:-3])\n",
    "\n",
    "print(len(a))\n",
    "print(len(a[3:8]))"
   ]
  },
  {
   "cell_type": "code",
   "execution_count": 52,
   "id": "817cc9ce",
   "metadata": {},
   "outputs": [
    {
     "name": "stdout",
     "output_type": "stream",
     "text": [
      "a lot of spacex       at the beginning of my sentense\n",
      "A LOT OF SPACEX       AT THE BEGINNING OF MY SENTENSE\n",
      ",,,,,,,A,lot,OF,sPacEx,,,,,,,at,the,beginNing,of,my,sentense\n"
     ]
    },
    {
     "data": {
      "text/plain": [
       "['game', 'and', 'no']"
      ]
     },
     "execution_count": 52,
     "metadata": {},
     "output_type": "execute_result"
    }
   ],
   "source": [
    "a = \"       A lot OF sPacEx       at the beginNing of my sentense\"\n",
    "b = a.strip()\n",
    "print(b.lower())\n",
    "print(b.upper())\n",
    "print(a.replace(\" \", \",\"))\n",
    "L = \"game,and,no\".split(\",\")\n",
    "L"
   ]
  },
  {
   "cell_type": "code",
   "execution_count": 53,
   "id": "2640ee63",
   "metadata": {},
   "outputs": [
    {
     "data": {
      "text/plain": [
       "True"
      ]
     },
     "execution_count": 53,
     "metadata": {},
     "output_type": "execute_result"
    }
   ],
   "source": [
    "\"abc\" in \"adedfgekeywiodfnfdlspspsdyccn kxxlzzxfxfccabccba\""
   ]
  },
  {
   "cell_type": "code",
   "execution_count": 54,
   "id": "595750bb",
   "metadata": {},
   "outputs": [
    {
     "data": {
      "text/plain": [
       "True"
      ]
     },
     "execution_count": 54,
     "metadata": {},
     "output_type": "execute_result"
    }
   ],
   "source": [
    "\"abc\" == \"abc\""
   ]
  },
  {
   "cell_type": "markdown",
   "id": "105556f9",
   "metadata": {},
   "source": [
    "## Data Structures"
   ]
  },
  {
   "cell_type": "code",
   "execution_count": 55,
   "id": "00896453",
   "metadata": {},
   "outputs": [],
   "source": [
    "L  = [1,3,4.9,\"boy\",\"flower\",3.5]\n",
    "T  = (1,3,4.9,\"boy\",899,3.5)\n",
    "S  = {1,3,4.9,\"boy\",\"flows\",3755}\n",
    "D  = {23:\"twothree\",\"B\":\"boy\"}"
   ]
  },
  {
   "cell_type": "code",
   "execution_count": 56,
   "id": "261178e1",
   "metadata": {},
   "outputs": [
    {
     "name": "stdout",
     "output_type": "stream",
     "text": [
      "The type of L is  <class 'list'>\n",
      "The type of T is  <class 'tuple'>\n",
      "The type of S is  <class 'set'>\n",
      "The type of D is  <class 'dict'>\n"
     ]
    }
   ],
   "source": [
    "print(\"The type of L is \", type(L))\n",
    "print(\"The type of T is \", type(T))\n",
    "print(\"The type of S is \", type(S))\n",
    "print(\"The type of D is \", type(D))"
   ]
  },
  {
   "cell_type": "code",
   "execution_count": 57,
   "id": "d7f1a0fd",
   "metadata": {},
   "outputs": [
    {
     "data": {
      "text/plain": [
       "[1, 3, 4.9, 'boy', 'flower']"
      ]
     },
     "execution_count": 57,
     "metadata": {},
     "output_type": "execute_result"
    }
   ],
   "source": [
    "L[:-1]"
   ]
  },
  {
   "cell_type": "code",
   "execution_count": 58,
   "id": "9d9970c8",
   "metadata": {},
   "outputs": [],
   "source": [
    "L = L + [\"How\", \"are\", \"the\", 6, \"of\", \"you\"]"
   ]
  },
  {
   "cell_type": "code",
   "execution_count": 59,
   "id": "5ede5a08",
   "metadata": {},
   "outputs": [
    {
     "data": {
      "text/plain": [
       "[1, 3, 4.9, 'boy', 'flower', 3.5, 'How', 'are', 'the', 6, 'of', 'you']"
      ]
     },
     "execution_count": 59,
     "metadata": {},
     "output_type": "execute_result"
    }
   ],
   "source": [
    "L"
   ]
  },
  {
   "cell_type": "code",
   "execution_count": 60,
   "id": "9fe81fad",
   "metadata": {},
   "outputs": [],
   "source": [
    "L.append(22)"
   ]
  },
  {
   "cell_type": "code",
   "execution_count": 61,
   "id": "b4b20cf5",
   "metadata": {},
   "outputs": [
    {
     "data": {
      "text/plain": [
       "[1, 3, 4.9, 'boy', 'flower', 3.5, 'How', 'are', 'the', 6, 'of', 'you', 22]"
      ]
     },
     "execution_count": 61,
     "metadata": {},
     "output_type": "execute_result"
    }
   ],
   "source": [
    "L"
   ]
  },
  {
   "cell_type": "code",
   "execution_count": 62,
   "id": "a128d395",
   "metadata": {},
   "outputs": [
    {
     "data": {
      "text/plain": [
       "<function list.copy()>"
      ]
     },
     "execution_count": 62,
     "metadata": {},
     "output_type": "execute_result"
    }
   ],
   "source": [
    "L2 = L.copy\n",
    "L2"
   ]
  },
  {
   "cell_type": "code",
   "execution_count": null,
   "id": "a3f33cfe",
   "metadata": {},
   "outputs": [],
   "source": []
  },
  {
   "cell_type": "code",
   "execution_count": 63,
   "id": "165c5a6d",
   "metadata": {},
   "outputs": [],
   "source": [
    "def getDataFromUser():\n",
    "    D = {}\n",
    "    while True:\n",
    "        studentId = input(\"Enter student ID: \")\n",
    "        marksList = input(\"Enter the grades by comma separated values: \")\n",
    "        moreStudents = input(\"Enter no to quit adding more students: \")\n",
    "        if studentId in D:\n",
    "            print(\"Student ID already exists. Please enter a new ID.\")\n",
    "        else:\n",
    "            D[studentId] = marksList.split(\",\")\n",
    "        if moreStudents.lower() == \"no\":  \n",
    "            return D  \n",
    "        "
   ]
  },
  {
   "cell_type": "code",
   "execution_count": 64,
   "id": "7333f182",
   "metadata": {},
   "outputs": [
    {
     "name": "stdout",
     "output_type": "stream",
     "text": [
      "Student ID already exists. Please enter a new ID.\n",
      "Student ID already exists. Please enter a new ID.\n"
     ]
    }
   ],
   "source": [
    "studentData = getDataFromUser()"
   ]
  },
  {
   "cell_type": "code",
   "execution_count": 1,
   "id": "2ce4a868",
   "metadata": {},
   "outputs": [],
   "source": [
    "countries = ['Argentina','Baroda','Chile','Djibouti','Egypt','Finland']"
   ]
  },
  {
   "cell_type": "code",
   "execution_count": 2,
   "id": "2fe13c4f",
   "metadata": {},
   "outputs": [
    {
     "data": {
      "text/plain": [
       "['Argentina', 'Baroda', 'Chile', 'Djibouti', 'Egypt', 'Finland']"
      ]
     },
     "execution_count": 2,
     "metadata": {},
     "output_type": "execute_result"
    }
   ],
   "source": [
    "countries"
   ]
  },
  {
   "cell_type": "code",
   "execution_count": 5,
   "metadata": {},
   "outputs": [
    {
     "data": {
      "text/plain": [
       "['Argentina', 'Baroda', 'Chile', 'Djibouti', 'Egypt', 'Finland']"
      ]
     },
     "execution_count": 5,
     "metadata": {},
     "output_type": "execute_result"
    }
   ],
   "source": [
    "countries"
   ]
  },
  {
   "cell_type": "code",
   "execution_count": 6,
   "metadata": {},
   "outputs": [
    {
     "data": {
      "text/plain": [
       "'Finland'"
      ]
     },
     "execution_count": 6,
     "metadata": {},
     "output_type": "execute_result"
    }
   ],
   "source": [
    "countries[-1]"
   ]
  },
  {
   "cell_type": "code",
   "execution_count": 10,
   "id": "9b672d5b",
   "metadata": {},
   "outputs": [
    {
     "data": {
      "text/plain": [
       "['Egypt', 'Finland']"
      ]
     },
     "execution_count": 10,
     "metadata": {},
     "output_type": "execute_result"
    }
   ],
   "source": [
    "countries[4:]"
   ]
  },
  {
   "cell_type": "code",
   "execution_count": 12,
   "metadata": {},
   "outputs": [],
   "source": [
    "countries_2 = ['Guinea Bissau', 'Holand', 'India','Japan','Kenya','Libya']"
   ]
  },
  {
   "cell_type": "code",
   "execution_count": 13,
   "metadata": {},
   "outputs": [
    {
     "data": {
      "text/plain": [
       "['Guinea Bissau', 'Holand', 'India', 'Japan', 'Kenya', 'Libya']"
      ]
     },
     "execution_count": 13,
     "metadata": {},
     "output_type": "execute_result"
    }
   ],
   "source": [
    "countries_2"
   ]
  },
  {
   "cell_type": "code",
   "execution_count": 15,
   "id": "b4cf0573",
   "metadata": {},
   "outputs": [],
   "source": [
    "countries = countries + countries_2"
   ]
  },
  {
   "cell_type": "code",
   "execution_count": 16,
   "id": "cad433b2",
   "metadata": {},
   "outputs": [
    {
     "data": {
      "text/plain": [
       "['Argentina',\n",
       " 'Baroda',\n",
       " 'Chile',\n",
       " 'Djibouti',\n",
       " 'Egypt',\n",
       " 'Finland',\n",
       " 'Guinea Bissau',\n",
       " 'Holand',\n",
       " 'India',\n",
       " 'Japan',\n",
       " 'Kenya',\n",
       " 'Libya']"
      ]
     },
     "execution_count": 16,
     "metadata": {},
     "output_type": "execute_result"
    }
   ],
   "source": [
    "countries"
   ]
  },
  {
   "cell_type": "code",
   "execution_count": 17,
   "id": "82a58b79",
   "metadata": {},
   "outputs": [
    {
     "data": {
      "text/plain": [
       "'Libya'"
      ]
     },
     "execution_count": 17,
     "metadata": {},
     "output_type": "execute_result"
    }
   ],
   "source": [
    "countries.pop(-1)"
   ]
  },
  {
   "cell_type": "code",
   "execution_count": 18,
   "id": "72974fcf",
   "metadata": {},
   "outputs": [
    {
     "data": {
      "text/plain": [
       "['Argentina',\n",
       " 'Baroda',\n",
       " 'Chile',\n",
       " 'Djibouti',\n",
       " 'Egypt',\n",
       " 'Finland',\n",
       " 'Guinea Bissau',\n",
       " 'Holand',\n",
       " 'India',\n",
       " 'Japan',\n",
       " 'Kenya']"
      ]
     },
     "execution_count": 18,
     "metadata": {},
     "output_type": "execute_result"
    }
   ],
   "source": [
    "countries"
   ]
  },
  {
   "cell_type": "code",
   "execution_count": 21,
   "metadata": {},
   "outputs": [
    {
     "data": {
      "text/plain": [
       "['Baroda',\n",
       " 'Chile',\n",
       " 'Djibouti',\n",
       " 'Egypt',\n",
       " 'Finland',\n",
       " 'Guinea Bissau',\n",
       " 'Holand',\n",
       " 'India',\n",
       " 'Japan',\n",
       " 'Kenya']"
      ]
     },
     "execution_count": 21,
     "metadata": {},
     "output_type": "execute_result"
    }
   ],
   "source": [
    "countries"
   ]
  },
  {
   "cell_type": "code",
   "execution_count": 22,
   "id": "52426cca",
   "metadata": {},
   "outputs": [],
   "source": [
    "countries.sort()"
   ]
  },
  {
   "cell_type": "code",
   "execution_count": 23,
   "id": "4a108abd",
   "metadata": {},
   "outputs": [
    {
     "data": {
      "text/plain": [
       "['Baroda',\n",
       " 'Chile',\n",
       " 'Djibouti',\n",
       " 'Egypt',\n",
       " 'Finland',\n",
       " 'Guinea Bissau',\n",
       " 'Holand',\n",
       " 'India',\n",
       " 'Japan',\n",
       " 'Kenya']"
      ]
     },
     "execution_count": 23,
     "metadata": {},
     "output_type": "execute_result"
    }
   ],
   "source": [
    "countries"
   ]
  },
  {
   "cell_type": "code",
   "execution_count": 25,
   "id": "5661aa71",
   "metadata": {},
   "outputs": [],
   "source": [
    "numbers = [1,3,5,7,3,6,8,5,7,4,7,3,1,5]"
   ]
  },
  {
   "cell_type": "code",
   "execution_count": 27,
   "id": "0c19c2fc",
   "metadata": {},
   "outputs": [
    {
     "data": {
      "text/plain": [
       "[1, 1, 3, 3, 3, 4, 5, 5, 5, 6, 7, 7, 7, 8]"
      ]
     },
     "execution_count": 27,
     "metadata": {},
     "output_type": "execute_result"
    }
   ],
   "source": [
    "numbers.sort()\n",
    "\n",
    "numbers"
   ]
  },
  {
   "cell_type": "code",
   "execution_count": 28,
   "id": "2cd82f0e",
   "metadata": {},
   "outputs": [],
   "source": [
    "numbers[0] = 1000"
   ]
  },
  {
   "cell_type": "code",
   "execution_count": 29,
   "id": "1fc437ef",
   "metadata": {},
   "outputs": [
    {
     "data": {
      "text/plain": [
       "['Baroda',\n",
       " 'Chile',\n",
       " 'Djibouti',\n",
       " 'Egypt',\n",
       " 'Finland',\n",
       " 'Guinea Bissau',\n",
       " 'Holand',\n",
       " 'India',\n",
       " 'Japan',\n",
       " 'Kenya']"
      ]
     },
     "execution_count": 29,
     "metadata": {},
     "output_type": "execute_result"
    }
   ],
   "source": [
    "countries[:]"
   ]
  },
  {
   "cell_type": "code",
   "execution_count": 30,
   "id": "88b56622",
   "metadata": {},
   "outputs": [
    {
     "data": {
      "text/plain": [
       "{1: 'a', 2: 'b', 3: 'c'}"
      ]
     },
     "execution_count": 30,
     "metadata": {},
     "output_type": "execute_result"
    }
   ],
   "source": [
    "my_dict = { 1: 'a', 2: 'b', 3: 'c'}\n",
    "\n",
    "my_dict"
   ]
  },
  {
   "cell_type": "code",
   "execution_count": 34,
   "id": "f6137f6d",
   "metadata": {},
   "outputs": [
    {
     "data": {
      "text/plain": [
       "{'name': 'Hayley', 'Class': 'PP2', 'Age': 12, 'house': 'green'}"
      ]
     },
     "execution_count": 34,
     "metadata": {},
     "output_type": "execute_result"
    }
   ],
   "source": [
    "student_data = {'name': 'Hayley', 'Class': 'PP2', 'Age': 12, 'house': 'green'}\n",
    "student_data"
   ]
  },
  {
   "cell_type": "code",
   "execution_count": 35,
   "id": "7280fa96",
   "metadata": {},
   "outputs": [
    {
     "data": {
      "text/plain": [
       "dict_keys(['name', 'Class', 'Age', 'house'])"
      ]
     },
     "execution_count": 35,
     "metadata": {},
     "output_type": "execute_result"
    }
   ],
   "source": [
    "student_data.keys()"
   ]
  },
  {
   "cell_type": "code",
   "execution_count": 36,
   "id": "ee69ea81",
   "metadata": {},
   "outputs": [
    {
     "data": {
      "text/plain": [
       "dict_values(['Hayley', 'PP2', 12, 'green'])"
      ]
     },
     "execution_count": 36,
     "metadata": {},
     "output_type": "execute_result"
    }
   ],
   "source": [
    "student_data.values()"
   ]
  },
  {
   "cell_type": "code",
   "execution_count": null,
   "id": "19888eac",
   "metadata": {},
   "outputs": [],
   "source": [
    "student_data.items()"
   ]
  },
  {
   "cell_type": "code",
   "execution_count": 37,
   "id": "4a307ee5",
   "metadata": {},
   "outputs": [],
   "source": [
    "student_data['height'] = 1.7"
   ]
  },
  {
   "cell_type": "code",
   "execution_count": 38,
   "id": "363d40d5",
   "metadata": {},
   "outputs": [
    {
     "data": {
      "text/plain": [
       "{'name': 'Hayley', 'Class': 'PP2', 'Age': 12, 'house': 'green', 'height': 1.7}"
      ]
     },
     "execution_count": 38,
     "metadata": {},
     "output_type": "execute_result"
    }
   ],
   "source": [
    "student_data"
   ]
  },
  {
   "cell_type": "code",
   "execution_count": 39,
   "id": "dabaefaa",
   "metadata": {},
   "outputs": [],
   "source": [
    "new_data = student_data.copy()"
   ]
  },
  {
   "cell_type": "code",
   "execution_count": 40,
   "id": "74c3fdf6",
   "metadata": {},
   "outputs": [
    {
     "data": {
      "text/plain": [
       "{'name': 'Hayley', 'Class': 'PP2', 'Age': 12, 'house': 'green', 'height': 1.7}"
      ]
     },
     "execution_count": 40,
     "metadata": {},
     "output_type": "execute_result"
    }
   ],
   "source": [
    "new_data"
   ]
  },
  {
   "cell_type": "code",
   "execution_count": 42,
   "id": "12497375",
   "metadata": {},
   "outputs": [
    {
     "data": {
      "text/plain": [
       "'Hayley'"
      ]
     },
     "execution_count": 42,
     "metadata": {},
     "output_type": "execute_result"
    }
   ],
   "source": [
    "student_data.pop('name')"
   ]
  },
  {
   "cell_type": "code",
   "execution_count": 65,
   "id": "e64fe1d9",
   "metadata": {},
   "outputs": [
    {
     "name": "stdout",
     "output_type": "stream",
     "text": [
      "You are an adult\n"
     ]
    }
   ],
   "source": [
    "age = 13\n",
    "\n",
    "if age >= 40: \n",
    "    print('You are an oldie booboo')\n",
    "elif age >= 18 & age <= 39:\n",
    "    print('You are an adult')\n",
    "elif age >=13 & age <= 19:\n",
    "    print('You are a teenager')\n",
    "\n",
    "else:\n",
    "    print('You are a kid')\n",
    "    \n"
   ]
  },
  {
   "cell_type": "code",
   "execution_count": 67,
   "id": "32c52759",
   "metadata": {},
   "outputs": [
    {
     "name": "stdout",
     "output_type": "stream",
     "text": [
      "Baroda\n",
      "Chile\n",
      "Djibouti\n",
      "Egypt\n",
      "Finland\n",
      "Guinea Bissau\n",
      "Holand\n",
      "India\n",
      "Japan\n",
      "Kenya\n"
     ]
    }
   ],
   "source": [
    "for country in countries:\n",
    "    print(country)"
   ]
  },
  {
   "cell_type": "code",
   "execution_count": 70,
   "id": "9d360d52",
   "metadata": {},
   "outputs": [
    {
     "name": "stdout",
     "output_type": "stream",
     "text": [
      "Class\n",
      "PP2\n",
      "Age\n",
      "12\n",
      "house\n",
      "green\n",
      "height\n",
      "1.7\n"
     ]
    }
   ],
   "source": [
    "for key, value  in student_data.items():\n",
    "    print(key)\n",
    "    print(value)"
   ]
  },
  {
   "cell_type": "code",
   "execution_count": 71,
   "id": "7edc1370",
   "metadata": {},
   "outputs": [],
   "source": [
    "# basic function to find the maximum of two numbers\n",
    "def sum_numbers(a,b):\n",
    "    ans = a + b\n",
    "    return ans"
   ]
  },
  {
   "cell_type": "code",
   "execution_count": 74,
   "id": "722795b5",
   "metadata": {},
   "outputs": [
    {
     "data": {
      "text/plain": [
       "14"
      ]
     },
     "execution_count": 74,
     "metadata": {},
     "output_type": "execute_result"
    }
   ],
   "source": [
    "sum_numbers(9,5)\n"
   ]
  },
  {
   "cell_type": "code",
   "execution_count": 75,
   "metadata": {},
   "outputs": [
    {
     "data": {
      "text/plain": [
       "10"
      ]
     },
     "execution_count": 75,
     "metadata": {},
     "output_type": "execute_result"
    }
   ],
   "source": [
    "len(countries)"
   ]
  },
  {
   "cell_type": "code",
   "execution_count": 79,
   "id": "46849ac2",
   "metadata": {},
   "outputs": [
    {
     "data": {
      "text/plain": [
       "-99"
      ]
     },
     "execution_count": 79,
     "metadata": {},
     "output_type": "execute_result"
    }
   ],
   "source": [
    "min([10,63,81,1,-99])"
   ]
  },
  {
   "cell_type": "code",
   "execution_count": 82,
   "metadata": {},
   "outputs": [
    {
     "name": "stdout",
     "output_type": "stream",
     "text": [
      "0\n",
      "1\n",
      "2\n",
      "3\n",
      "4\n",
      "5\n",
      "6\n",
      "7\n",
      "8\n",
      "9\n"
     ]
    }
   ],
   "source": [
    "for i in range(0,10):\n",
    "    print(i)"
   ]
  },
  {
   "cell_type": "code",
   "execution_count": 84,
   "id": "dfb36328",
   "metadata": {},
   "outputs": [],
   "source": [
    "# MODULES \n",
    "import os "
   ]
  },
  {
   "cell_type": "code",
   "execution_count": 85,
   "metadata": {},
   "outputs": [
    {
     "data": {
      "text/plain": [
       "['.git',\n",
       " 'clts.ipynb',\n",
       " 'data_types.ipynb',\n",
       " 'intermediary.ipynb',\n",
       " 'intro.ipynb',\n",
       " 'my_universal_functions.ipynb',\n",
       " 'numpynotes.ipynb']"
      ]
     },
     "execution_count": 85,
     "metadata": {},
     "output_type": "execute_result"
    }
   ],
   "source": [
    "os.listdir()\n"
   ]
  },
  {
   "cell_type": "code",
   "execution_count": 86,
   "id": "3251c285",
   "metadata": {},
   "outputs": [
    {
     "data": {
      "text/plain": [
       "'c:\\\\Users\\\\user\\\\Documents\\\\Fcc_Python'"
      ]
     },
     "execution_count": 86,
     "metadata": {},
     "output_type": "execute_result"
    }
   ],
   "source": [
    "os.getcwd()"
   ]
  },
  {
   "cell_type": "code",
   "execution_count": 87,
   "id": "7639034c",
   "metadata": {},
   "outputs": [],
   "source": [
    "os.makedirs('New Folder')"
   ]
  },
  {
   "cell_type": "code",
   "execution_count": 88,
   "id": "9d969ecd",
   "metadata": {},
   "outputs": [
    {
     "data": {
      "text/plain": [
       "['.git',\n",
       " 'clts.ipynb',\n",
       " 'data_types.ipynb',\n",
       " 'intermediary.ipynb',\n",
       " 'intro.ipynb',\n",
       " 'my_universal_functions.ipynb',\n",
       " 'New Folder',\n",
       " 'numpynotes.ipynb']"
      ]
     },
     "execution_count": 88,
     "metadata": {},
     "output_type": "execute_result"
    }
   ],
   "source": [
    "os.listdir()"
   ]
  },
  {
   "cell_type": "code",
   "execution_count": 91,
   "id": "fed1d852",
   "metadata": {},
   "outputs": [],
   "source": [
    "import os\n",
    "\n",
    "# Create folder if needed\n",
    "os.makedirs('some_folder', exist_ok=True)\n",
    "\n",
    "# Create file inside the folder\n",
    "with open('New Folder/new_file.txt', 'w') as f:\n",
    "    f.write('File inside folder.')\n"
   ]
  },
  {
   "cell_type": "code",
   "execution_count": 92,
   "metadata": {},
   "outputs": [
    {
     "data": {
      "text/plain": [
       "['.git',\n",
       " 'clts.ipynb',\n",
       " 'data_types.ipynb',\n",
       " 'intermediary.ipynb',\n",
       " 'intro.ipynb',\n",
       " 'my_universal_functions.ipynb',\n",
       " 'New Folder',\n",
       " 'numpynotes.ipynb',\n",
       " 'some_folder']"
      ]
     },
     "execution_count": 92,
     "metadata": {},
     "output_type": "execute_result"
    }
   ],
   "source": [
    "os.listdir()"
   ]
  },
  {
   "cell_type": "code",
   "execution_count": 93,
   "id": "06c188bd",
   "metadata": {},
   "outputs": [
    {
     "data": {
      "text/plain": [
       "'c:\\\\Users\\\\user\\\\Documents\\\\Fcc_Python'"
      ]
     },
     "execution_count": 93,
     "metadata": {},
     "output_type": "execute_result"
    }
   ],
   "source": [
    "os.getcwd()"
   ]
  },
  {
   "cell_type": "code",
   "execution_count": 95,
   "id": "5db926d3",
   "metadata": {},
   "outputs": [],
   "source": [
    "os.makedirs('another_folder', exist_ok=True)"
   ]
  },
  {
   "cell_type": "code",
   "execution_count": null,
   "id": "9af2bc0c",
   "metadata": {},
   "outputs": [],
   "source": []
  },
  {
   "cell_type": "code",
   "execution_count": null,
   "id": "4dc44623",
   "metadata": {},
   "outputs": [],
   "source": []
  },
  {
   "cell_type": "code",
   "execution_count": null,
   "id": "0901b029",
   "metadata": {},
   "outputs": [],
   "source": []
  },
  {
   "cell_type": "code",
   "execution_count": null,
   "id": "8b68f4f7",
   "metadata": {},
   "outputs": [],
   "source": []
  }
 ],
 "metadata": {
  "kernelspec": {
   "display_name": "base",
   "language": "python",
   "name": "python3"
  },
  "language_info": {
   "codemirror_mode": {
    "name": "ipython",
    "version": 3
   },
   "file_extension": ".py",
   "mimetype": "text/x-python",
   "name": "python",
   "nbconvert_exporter": "python",
   "pygments_lexer": "ipython3",
   "version": "3.12.7"
  }
 },
 "nbformat": 4,
 "nbformat_minor": 5
}
