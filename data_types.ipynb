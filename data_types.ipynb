{
 "cells": [
  {
   "cell_type": "code",
   "execution_count": null,
   "id": "d6d21f45",
   "metadata": {},
   "outputs": [],
   "source": []
  },
  {
   "cell_type": "markdown",
   "id": "e0ec0ddf",
   "metadata": {},
   "source": [
    "# introduction to data  structures \n"
   ]
  },
  {
   "cell_type": "markdown",
   "id": "a7abe6d3",
   "metadata": {},
   "source": []
  },
  {
   "cell_type": "code",
   "execution_count": 18,
   "id": "ec350a6a",
   "metadata": {},
   "outputs": [
    {
     "name": "stdout",
     "output_type": "stream",
     "text": [
      "we are learning python here\n"
     ]
    }
   ],
   "source": [
    "# strings \n",
    "s = \"we are learning python here\"\n",
    "t = \"it is quite interesting\"\n",
    "\n",
    "type(s)\n",
    "print(s)"
   ]
  },
  {
   "cell_type": "code",
   "execution_count": 19,
   "id": "0ac467d2",
   "metadata": {},
   "outputs": [
    {
     "name": "stdout",
     "output_type": "stream",
     "text": [
      "hello girl Do you trust me?\n"
     ]
    }
   ],
   "source": [
    "print(\"hello girl\", \"Do you trust me?\")"
   ]
  },
  {
   "cell_type": "code",
   "execution_count": 20,
   "id": "fb5100f7",
   "metadata": {},
   "outputs": [
    {
     "name": "stdout",
     "output_type": "stream",
     "text": [
      "The price of this textbook is: 12\n"
     ]
    }
   ],
   "source": [
    "price = 12 \n",
    "s = \"The price of this textbook is: \"\n",
    "print(s + str(price))  # Output: The price of this textbook is: 12"
   ]
  },
  {
   "cell_type": "code",
   "execution_count": 21,
   "id": "f1b13834",
   "metadata": {},
   "outputs": [
    {
     "name": "stdout",
     "output_type": "stream",
     "text": [
      " this is line one \n",
      "this is two \n",
      "anddd this is 3\n"
     ]
    }
   ],
   "source": [
    "a = \"\"\" this is line one \n",
    "this is two \n",
    "anddd this is 3\"\"\"\n",
    "\n",
    "print(a)"
   ]
  },
  {
   "cell_type": "code",
   "execution_count": 22,
   "id": "ca3a27f4",
   "metadata": {},
   "outputs": [
    {
     "name": "stdout",
     "output_type": "stream",
     "text": [
      "eof p\n",
      "gramm\n",
      "18\n",
      "5\n"
     ]
    }
   ],
   "source": [
    "a = \"Gameof programming\"\n",
    "print(a[3:8])\n",
    "print(a[-8:-3])\n",
    "\n",
    "print(len(a))\n",
    "print(len(a[3:8]))"
   ]
  },
  {
   "cell_type": "code",
   "execution_count": 23,
   "id": "817cc9ce",
   "metadata": {},
   "outputs": [
    {
     "name": "stdout",
     "output_type": "stream",
     "text": [
      "a lot of spacex       at the beginning of my sentense\n",
      "A LOT OF SPACEX       AT THE BEGINNING OF MY SENTENSE\n",
      ",,,,,,,A,lot,OF,sPacEx,,,,,,,at,the,beginNing,of,my,sentense\n"
     ]
    },
    {
     "data": {
      "text/plain": [
       "['game', 'and', 'no']"
      ]
     },
     "execution_count": 23,
     "metadata": {},
     "output_type": "execute_result"
    }
   ],
   "source": [
    "a = \"       A lot OF sPacEx       at the beginNing of my sentense\"\n",
    "b = a.strip()\n",
    "print(b.lower())\n",
    "print(b.upper())\n",
    "print(a.replace(\" \", \",\"))\n",
    "L = \"game,and,no\".split(\",\")\n",
    "L"
   ]
  },
  {
   "cell_type": "code",
   "execution_count": 24,
   "id": "2640ee63",
   "metadata": {},
   "outputs": [
    {
     "data": {
      "text/plain": [
       "True"
      ]
     },
     "execution_count": 24,
     "metadata": {},
     "output_type": "execute_result"
    }
   ],
   "source": [
    "\"abc\" in \"adedfgekeywiodfnfdlspspsdyccn kxxlzzxfxfccabccba\""
   ]
  },
  {
   "cell_type": "code",
   "execution_count": 25,
   "id": "595750bb",
   "metadata": {},
   "outputs": [
    {
     "data": {
      "text/plain": [
       "True"
      ]
     },
     "execution_count": 25,
     "metadata": {},
     "output_type": "execute_result"
    }
   ],
   "source": [
    "\"abc\" == \"abc\""
   ]
  },
  {
   "cell_type": "markdown",
   "id": "105556f9",
   "metadata": {},
   "source": [
    "## Data Structures"
   ]
  },
  {
   "cell_type": "code",
   "execution_count": 27,
   "id": "00896453",
   "metadata": {},
   "outputs": [],
   "source": [
    "L  = [1,3,4.9,\"boy\",\"flower\",3.5]\n",
    "T  = (1,3,4.9,\"boy\",899,3.5)\n",
    "S  = {1,3,4.9,\"boy\",\"flows\",3755}\n",
    "D  = {23:\"twothree\",\"B\":\"boy\"}"
   ]
  },
  {
   "cell_type": "code",
   "execution_count": 29,
   "id": "261178e1",
   "metadata": {},
   "outputs": [
    {
     "name": "stdout",
     "output_type": "stream",
     "text": [
      "The type of L is  <class 'list'>\n",
      "The type of T is  <class 'tuple'>\n",
      "The type of S is  <class 'set'>\n",
      "The type of D is  <class 'dict'>\n"
     ]
    }
   ],
   "source": [
    "print(\"The type of L is \", type(L))\n",
    "print(\"The type of T is \", type(T))\n",
    "print(\"The type of S is \", type(S))\n",
    "print(\"The type of D is \", type(D))"
   ]
  },
  {
   "cell_type": "code",
   "execution_count": 33,
   "id": "d7f1a0fd",
   "metadata": {},
   "outputs": [
    {
     "data": {
      "text/plain": [
       "[1, 3, 4.9, 'boy', 'flower']"
      ]
     },
     "execution_count": 33,
     "metadata": {},
     "output_type": "execute_result"
    }
   ],
   "source": [
    "L[:-1]"
   ]
  },
  {
   "cell_type": "code",
   "execution_count": 34,
   "id": "9d9970c8",
   "metadata": {},
   "outputs": [],
   "source": [
    "L = L + [\"How\", \"are\", \"the\", 6, \"of\", \"you\"]"
   ]
  },
  {
   "cell_type": "code",
   "execution_count": 35,
   "id": "5ede5a08",
   "metadata": {},
   "outputs": [
    {
     "data": {
      "text/plain": [
       "[1, 3, 4.9, 'boy', 'flower', 3.5, 'How', 'are', 'the', 6, 'of', 'you']"
      ]
     },
     "execution_count": 35,
     "metadata": {},
     "output_type": "execute_result"
    }
   ],
   "source": [
    "L"
   ]
  },
  {
   "cell_type": "code",
   "execution_count": 36,
   "id": "9fe81fad",
   "metadata": {},
   "outputs": [],
   "source": [
    "L.append(22)"
   ]
  },
  {
   "cell_type": "code",
   "execution_count": 37,
   "id": "b4b20cf5",
   "metadata": {},
   "outputs": [
    {
     "data": {
      "text/plain": [
       "[1, 3, 4.9, 'boy', 'flower', 3.5, 'How', 'are', 'the', 6, 'of', 'you', 22]"
      ]
     },
     "execution_count": 37,
     "metadata": {},
     "output_type": "execute_result"
    }
   ],
   "source": [
    "L"
   ]
  },
  {
   "cell_type": "code",
   "execution_count": 39,
   "id": "a128d395",
   "metadata": {},
   "outputs": [
    {
     "data": {
      "text/plain": [
       "<function list.copy()>"
      ]
     },
     "execution_count": 39,
     "metadata": {},
     "output_type": "execute_result"
    }
   ],
   "source": [
    "L2 = L.copy\n",
    "L2"
   ]
  },
  {
   "cell_type": "code",
   "execution_count": null,
   "id": "a3f33cfe",
   "metadata": {},
   "outputs": [
    {
     "name": "stdout",
     "output_type": "stream",
     "text": [
      "\u001b[1;31mSignature:\u001b[0m \u001b[0mL\u001b[0m\u001b[1;33m.\u001b[0m\u001b[0mclear\u001b[0m\u001b[1;33m(\u001b[0m\u001b[1;33m)\u001b[0m\u001b[1;33m\u001b[0m\u001b[1;33m\u001b[0m\u001b[0m\n",
      "\u001b[1;31mDocstring:\u001b[0m Remove all items from list.\n",
      "\u001b[1;31mType:\u001b[0m      builtin_function_or_method"
     ]
    }
   ],
   "source": []
  },
  {
   "cell_type": "code",
   "execution_count": null,
   "id": "165c5a6d",
   "metadata": {},
   "outputs": [],
   "source": []
  }
 ],
 "metadata": {
  "kernelspec": {
   "display_name": "base",
   "language": "python",
   "name": "python3"
  },
  "language_info": {
   "codemirror_mode": {
    "name": "ipython",
    "version": 3
   },
   "file_extension": ".py",
   "mimetype": "text/x-python",
   "name": "python",
   "nbconvert_exporter": "python",
   "pygments_lexer": "ipython3",
   "version": "3.12.7"
  }
 },
 "nbformat": 4,
 "nbformat_minor": 5
}
