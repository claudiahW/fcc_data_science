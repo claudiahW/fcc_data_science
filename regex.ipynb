{
 "cells": [
  {
   "cell_type": "markdown",
   "id": "cbce60e5",
   "metadata": {},
   "source": [
    "# The re module "
   ]
  },
  {
   "cell_type": "code",
   "execution_count": 2,
   "id": "e089d922",
   "metadata": {},
   "outputs": [],
   "source": [
    "# load necessary packages and imports \n",
    "import re "
   ]
  },
  {
   "cell_type": "markdown",
   "id": "c9ba362a",
   "metadata": {},
   "source": [
    "# 1.1 re.search()"
   ]
  },
  {
   "cell_type": "code",
   "execution_count": 6,
   "id": "a32f6224",
   "metadata": {},
   "outputs": [],
   "source": [
    "text = \"\"\"Hello World.\n",
    "I love python!!!!!\n",
    "my first lucky number is 987-654-321\n",
    "my second lucky number is 876-543-210\n",
    "My third lucky number is 765-432-100\n",
    "My fourth lucky number is 123-456-123-123-456\n",
    "\"\"\""
   ]
  },
  {
   "cell_type": "code",
   "execution_count": 7,
   "id": "bd96b7fd",
   "metadata": {},
   "outputs": [
    {
     "data": {
      "text/plain": [
       "<re.Match object; span=(57, 58), match='9'>"
      ]
     },
     "execution_count": 7,
     "metadata": {},
     "output_type": "execute_result"
    }
   ],
   "source": [
    "# return the first match \n",
    "re.search(r'\\d', text)"
   ]
  },
  {
   "cell_type": "code",
   "execution_count": null,
   "id": "8c628299",
   "metadata": {},
   "outputs": [
    {
     "data": {
      "text/plain": [
       "<re.Match object; span=(0, 5), match='Hello'>"
      ]
     },
     "execution_count": 8,
     "metadata": {},
     "output_type": "execute_result"
    }
   ],
   "source": [
    "# flags \n",
    "re.search(r'^hello', text, flags=re.I) # i is for insensitive case"
   ]
  },
  {
   "cell_type": "markdown",
   "id": "20517b75",
   "metadata": {},
   "source": [
    "# 2 re.findall()"
   ]
  },
  {
   "cell_type": "code",
   "execution_count": 9,
   "id": "4305950d",
   "metadata": {},
   "outputs": [
    {
     "data": {
      "text/plain": [
       "['9',\n",
       " '8',\n",
       " '7',\n",
       " '6',\n",
       " '5',\n",
       " '4',\n",
       " '3',\n",
       " '2',\n",
       " '1',\n",
       " '8',\n",
       " '7',\n",
       " '6',\n",
       " '5',\n",
       " '4',\n",
       " '3',\n",
       " '2',\n",
       " '1',\n",
       " '0',\n",
       " '7',\n",
       " '6',\n",
       " '5',\n",
       " '4',\n",
       " '3',\n",
       " '2',\n",
       " '1',\n",
       " '0',\n",
       " '0',\n",
       " '1',\n",
       " '2',\n",
       " '3',\n",
       " '4',\n",
       " '5',\n",
       " '6',\n",
       " '1',\n",
       " '2',\n",
       " '3',\n",
       " '1',\n",
       " '2',\n",
       " '3',\n",
       " '4',\n",
       " '5',\n",
       " '6']"
      ]
     },
     "execution_count": 9,
     "metadata": {},
     "output_type": "execute_result"
    }
   ],
   "source": [
    "#return all the matches \n",
    "re.findall(r'\\d', text) "
   ]
  },
  {
   "cell_type": "markdown",
   "id": "4f5b6464",
   "metadata": {},
   "source": [
    "# 3 Exercises "
   ]
  },
  {
   "cell_type": "code",
   "execution_count": 15,
   "id": "1ce78c93",
   "metadata": {},
   "outputs": [
    {
     "data": {
      "text/plain": [
       "['.',\n",
       " '!',\n",
       " '!',\n",
       " '!',\n",
       " '!',\n",
       " '!',\n",
       " '-',\n",
       " '-',\n",
       " '-',\n",
       " '-',\n",
       " '-',\n",
       " '-',\n",
       " '-',\n",
       " '-',\n",
       " '-',\n",
       " '-']"
      ]
     },
     "execution_count": 15,
     "metadata": {},
     "output_type": "execute_result"
    }
   ],
   "source": [
    "# Match only punctuation \n",
    "text = \"\"\"Hello World.\n",
    "I love python!!!!!\n",
    "my first lucky number is 987-654-321\n",
    "my second lucky number is 876-543-210\n",
    "My third lucky number is 765-432-100\n",
    "My fourth lucky number is 123-456-123-123-456\n",
    "\"\"\"\n",
    "\n",
    "re.findall(r'[^\\w\\s]', text)"
   ]
  },
  {
   "cell_type": "code",
   "execution_count": 18,
   "id": "0ae48c16",
   "metadata": {},
   "outputs": [
    {
     "data": {
      "text/plain": [
       "['13-04-2021']"
      ]
     },
     "execution_count": 18,
     "metadata": {},
     "output_type": "execute_result"
    }
   ],
   "source": [
    "# match right date format (MM-DD-YYYY)\n",
    "text = '''\n",
    "13-04-2021\n",
    "2021-13-04\n",
    "2021-04-13\n",
    "'''\n",
    "\n",
    "re.findall(r'\\d{2}-\\d{2}-\\d{4}', text)"
   ]
  },
  {
   "cell_type": "code",
   "execution_count": 21,
   "id": "8e3b525e",
   "metadata": {},
   "outputs": [
    {
     "data": {
      "text/plain": [
       "['username10']"
      ]
     },
     "execution_count": 21,
     "metadata": {},
     "output_type": "execute_result"
    }
   ],
   "source": [
    "# match right username format (4-14 characters and only letters or digits )\n",
    "text = '''\n",
    "username10\n",
    "abc\n",
    "10\n",
    "'''\n",
    "re.findall(r'[A-Za-z0-9]{4,14}', text)"
   ]
  },
  {
   "cell_type": "code",
   "execution_count": null,
   "id": "e7bca969",
   "metadata": {},
   "outputs": [],
   "source": []
  }
 ],
 "metadata": {
  "kernelspec": {
   "display_name": "base",
   "language": "python",
   "name": "python3"
  },
  "language_info": {
   "codemirror_mode": {
    "name": "ipython",
    "version": 3
   },
   "file_extension": ".py",
   "mimetype": "text/x-python",
   "name": "python",
   "nbconvert_exporter": "python",
   "pygments_lexer": "ipython3",
   "version": "3.12.7"
  }
 },
 "nbformat": 4,
 "nbformat_minor": 5
}
